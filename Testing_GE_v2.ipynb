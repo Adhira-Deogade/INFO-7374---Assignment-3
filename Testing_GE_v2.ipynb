{
  "nbformat": 4,
  "nbformat_minor": 0,
  "metadata": {
    "colab": {
      "name": "Testing GE v2.ipynb",
      "version": "0.3.2",
      "provenance": [],
      "collapsed_sections": [],
      "include_colab_link": true
    },
    "kernelspec": {
      "name": "python3",
      "display_name": "Python 3"
    },
    "accelerator": "GPU"
  },
  "cells": [
    {
      "cell_type": "markdown",
      "metadata": {
        "id": "view-in-github",
        "colab_type": "text"
      },
      "source": [
        "<a href=\"https://colab.research.google.com/github/Adhira-Deogade/INFO-7374---Assignment-3/blob/master/Testing_GE_v2.ipynb\" target=\"_parent\"><img src=\"https://colab.research.google.com/assets/colab-badge.svg\" alt=\"Open In Colab\"/></a>"
      ]
    },
    {
      "metadata": {
        "id": "0Op5HjdIMwJf",
        "colab_type": "code",
        "colab": {}
      },
      "cell_type": "code",
      "source": [
        "from __future__ import division\n",
        "from __future__ import print_function"
      ],
      "execution_count": 0,
      "outputs": []
    },
    {
      "metadata": {
        "id": "wPw_64zZM7Qn",
        "colab_type": "code",
        "outputId": "8af51a93-527d-4c6c-fb52-68a80e290c57",
        "colab": {
          "base_uri": "https://localhost:8080/",
          "height": 51
        }
      },
      "cell_type": "code",
      "source": [
        "import itertools\n",
        "import os\n",
        "\n",
        "%matplotlib inline\n",
        "import matplotlib.pyplot as plt\n",
        "import numpy as np\n",
        "import pandas as pd\n",
        "import tensorflow as tf\n",
        "\n",
        "from sklearn.preprocessing import LabelBinarizer, LabelEncoder\n",
        "from sklearn.metrics import confusion_matrix\n",
        "\n",
        "from tensorflow import keras\n",
        "from keras.models import Sequential\n",
        "from keras.layers import Dense, Activation, Dropout\n",
        "from keras.preprocessing import text, sequence\n",
        "from keras import utils\n",
        "\n",
        "# This code was tested with TensorFlow v1.4\n",
        "print(\"You have TensorFlow version\", tf.__version__)"
      ],
      "execution_count": 2,
      "outputs": [
        {
          "output_type": "stream",
          "text": [
            "You have TensorFlow version 1.13.1\n"
          ],
          "name": "stdout"
        },
        {
          "output_type": "stream",
          "text": [
            "Using TensorFlow backend.\n"
          ],
          "name": "stderr"
        }
      ]
    },
    {
      "metadata": {
        "id": "O66kQ7PLNBV_",
        "colab_type": "code",
        "colab": {}
      },
      "cell_type": "code",
      "source": [
        "ls"
      ],
      "execution_count": 0,
      "outputs": []
    },
    {
      "metadata": {
        "id": "xQ09Ka6w1Qkx",
        "colab_type": "code",
        "colab": {}
      },
      "cell_type": "code",
      "source": [
        "from google.colab import files"
      ],
      "execution_count": 0,
      "outputs": []
    },
    {
      "metadata": {
        "id": "94HBiUhZ1kg2",
        "colab_type": "code",
        "colab": {}
      },
      "cell_type": "code",
      "source": [
        "upload = files.upload()"
      ],
      "execution_count": 0,
      "outputs": []
    },
    {
      "metadata": {
        "id": "i6GmYebdNEJM",
        "colab_type": "code",
        "colab": {}
      },
      "cell_type": "code",
      "source": [
        "## Our file is present, just import it"
      ],
      "execution_count": 0,
      "outputs": []
    },
    {
      "metadata": {
        "id": "epKvyu25NHdq",
        "colab_type": "code",
        "colab": {}
      },
      "cell_type": "code",
      "source": [
        "dataset = pd.read_csv(\"cleanedfinancial_data.csv\")"
      ],
      "execution_count": 0,
      "outputs": []
    },
    {
      "metadata": {
        "id": "3yNnGK_uNKan",
        "colab_type": "code",
        "colab": {
          "base_uri": "https://localhost:8080/",
          "height": 204
        },
        "outputId": "614721c7-9c49-411d-e6f1-e9c5623b023e"
      },
      "cell_type": "code",
      "source": [
        "dataset.head()"
      ],
      "execution_count": 4,
      "outputs": [
        {
          "output_type": "execute_result",
          "data": {
            "text/html": [
              "<div>\n",
              "<style scoped>\n",
              "    .dataframe tbody tr th:only-of-type {\n",
              "        vertical-align: middle;\n",
              "    }\n",
              "\n",
              "    .dataframe tbody tr th {\n",
              "        vertical-align: top;\n",
              "    }\n",
              "\n",
              "    .dataframe thead th {\n",
              "        text-align: right;\n",
              "    }\n",
              "</style>\n",
              "<table border=\"1\" class=\"dataframe\">\n",
              "  <thead>\n",
              "    <tr style=\"text-align: right;\">\n",
              "      <th></th>\n",
              "      <th>Unnamed: 0</th>\n",
              "      <th>sentiment</th>\n",
              "      <th>text</th>\n",
              "    </tr>\n",
              "  </thead>\n",
              "  <tbody>\n",
              "    <tr>\n",
              "      <th>0</th>\n",
              "      <td>0</td>\n",
              "      <td>neutral</td>\n",
              "      <td>Good day, ladies and gentlemen, and welcome to...</td>\n",
              "    </tr>\n",
              "    <tr>\n",
              "      <th>1</th>\n",
              "      <td>1</td>\n",
              "      <td>negative</td>\n",
              "      <td>I'm not sure. I think Model T was a little bit...</td>\n",
              "    </tr>\n",
              "    <tr>\n",
              "      <th>2</th>\n",
              "      <td>2</td>\n",
              "      <td>negative</td>\n",
              "      <td>Well, we need to bring the Shanghai factory on...</td>\n",
              "    </tr>\n",
              "    <tr>\n",
              "      <th>3</th>\n",
              "      <td>3</td>\n",
              "      <td>neutral</td>\n",
              "      <td>So it's - it is eligible for that. But it soun...</td>\n",
              "    </tr>\n",
              "    <tr>\n",
              "      <th>4</th>\n",
              "      <td>4</td>\n",
              "      <td>positive</td>\n",
              "      <td>The demand for - the demand for Model 3 is ins...</td>\n",
              "    </tr>\n",
              "  </tbody>\n",
              "</table>\n",
              "</div>"
            ],
            "text/plain": [
              "   Unnamed: 0 sentiment                                               text\n",
              "0           0   neutral  Good day, ladies and gentlemen, and welcome to...\n",
              "1           1  negative  I'm not sure. I think Model T was a little bit...\n",
              "2           2  negative  Well, we need to bring the Shanghai factory on...\n",
              "3           3   neutral  So it's - it is eligible for that. But it soun...\n",
              "4           4  positive  The demand for - the demand for Model 3 is ins..."
            ]
          },
          "metadata": {
            "tags": []
          },
          "execution_count": 4
        }
      ]
    },
    {
      "metadata": {
        "id": "vhaw0eV_NL0o",
        "colab_type": "code",
        "colab": {}
      },
      "cell_type": "code",
      "source": [
        "dataset.drop(columns=\"Unnamed: 0\", inplace=True)"
      ],
      "execution_count": 0,
      "outputs": []
    },
    {
      "metadata": {
        "id": "vMZHQNn4NZDu",
        "colab_type": "text"
      },
      "cell_type": "markdown",
      "source": [
        "Value counts"
      ]
    },
    {
      "metadata": {
        "id": "5KJtxd6NNPuX",
        "colab_type": "code",
        "colab": {
          "base_uri": "https://localhost:8080/",
          "height": 85
        },
        "outputId": "b1a6cfb1-6408-4cab-9f4b-c2383f36b9f8"
      },
      "cell_type": "code",
      "source": [
        "dataset.sentiment.value_counts()"
      ],
      "execution_count": 6,
      "outputs": [
        {
          "output_type": "execute_result",
          "data": {
            "text/plain": [
              "neutral     838\n",
              "positive    654\n",
              "negative    157\n",
              "Name: sentiment, dtype: int64"
            ]
          },
          "metadata": {
            "tags": []
          },
          "execution_count": 6
        }
      ]
    },
    {
      "metadata": {
        "id": "zIS9mJ_V1tAi",
        "colab_type": "text"
      },
      "cell_type": "markdown",
      "source": [
        "**Data is imbalanced, therefore, we first build a logistic regression model as our base model**"
      ]
    },
    {
      "metadata": {
        "id": "PyQ6YbYn18eu",
        "colab_type": "code",
        "colab": {}
      },
      "cell_type": "code",
      "source": [
        "from sklearn.linear_model import LogisticRegression\n",
        "from sklearn.feature_extraction.text import TfidfVectorizer"
      ],
      "execution_count": 0,
      "outputs": []
    },
    {
      "metadata": {
        "id": "MoASa35V18br",
        "colab_type": "code",
        "colab": {
          "base_uri": "https://localhost:8080/",
          "height": 34
        },
        "outputId": "6397ae38-a5c2-47df-af4e-efaddd2b1146"
      },
      "cell_type": "code",
      "source": [
        "dataset.shape[0]"
      ],
      "execution_count": 8,
      "outputs": [
        {
          "output_type": "execute_result",
          "data": {
            "text/plain": [
              "1649"
            ]
          },
          "metadata": {
            "tags": []
          },
          "execution_count": 8
        }
      ]
    },
    {
      "metadata": {
        "id": "Gn5YOgev18Zf",
        "colab_type": "code",
        "colab": {
          "base_uri": "https://localhost:8080/",
          "height": 54
        },
        "outputId": "203e4bdd-d9cb-4c85-d3a2-c1192ccd249a"
      },
      "cell_type": "code",
      "source": [
        "dataset.iloc[2,1]"
      ],
      "execution_count": 9,
      "outputs": [
        {
          "output_type": "execute_result",
          "data": {
            "text/plain": [
              "\"Well, we need to bring the Shanghai factory online. I think that's the biggest driver for getting to 500K plus a year. Our car is just very expensive going into China. We've got import duties. We've got transport costs. We've got higher-cost labor here. And we've never been eligible for any of the EV tax credits. A lot of people sort of dependent on incentives. In fact, we are [indiscernible] EVs, we have the least access to incentives. It's pretty crazy because there's so many companies that - countries that have put price caps on the EV incentive, which affects Tesla. And in China, which is the biggest market for EVs, we've never had any subsidies or tax incentives for vehicles.\""
            ]
          },
          "metadata": {
            "tags": []
          },
          "execution_count": 9
        }
      ]
    },
    {
      "metadata": {
        "id": "8gYCLu64UJKo",
        "colab_type": "code",
        "outputId": "93b343bd-8d11-439c-d35e-0b461143d923",
        "colab": {
          "base_uri": "https://localhost:8080/",
          "height": 85
        }
      },
      "cell_type": "code",
      "source": [
        "import re\n",
        "import nltk\n",
        "\n",
        "nltk.download('punkt')\n",
        "from nltk.tokenize import word_tokenize as wt \n",
        "\n",
        "nltk.download('stopwords')\n",
        "from nltk.corpus import stopwords\n",
        "\n",
        "from nltk.stem.porter import PorterStemmer\n",
        "stemmer = PorterStemmer()\n",
        "\n",
        "#spell correction\n",
        "# import autocorrect\n",
        "# from autocorrect. import spell"
      ],
      "execution_count": 10,
      "outputs": [
        {
          "output_type": "stream",
          "text": [
            "[nltk_data] Downloading package punkt to /root/nltk_data...\n",
            "[nltk_data]   Package punkt is already up-to-date!\n",
            "[nltk_data] Downloading package stopwords to /root/nltk_data...\n",
            "[nltk_data]   Package stopwords is already up-to-date!\n"
          ],
          "name": "stdout"
        }
      ]
    },
    {
      "metadata": {
        "id": "T18hqSxzV01k",
        "colab_type": "code",
        "outputId": "f0bb585b-d387-4652-dd25-91a1b7c26504",
        "colab": {
          "base_uri": "https://localhost:8080/",
          "height": 34
        }
      },
      "cell_type": "code",
      "source": [
        "dataset.shape"
      ],
      "execution_count": 11,
      "outputs": [
        {
          "output_type": "execute_result",
          "data": {
            "text/plain": [
              "(1649, 2)"
            ]
          },
          "metadata": {
            "tags": []
          },
          "execution_count": 11
        }
      ]
    },
    {
      "metadata": {
        "id": "b3UAT-t6T8jS",
        "colab_type": "code",
        "colab": {}
      },
      "cell_type": "code",
      "source": [
        "data = []"
      ],
      "execution_count": 0,
      "outputs": []
    },
    {
      "metadata": {
        "id": "kulPmt7E18Vf",
        "colab_type": "code",
        "colab": {}
      },
      "cell_type": "code",
      "source": [
        "for i in range(dataset.shape[0]):\n",
        "    sms = dataset.iloc[i, 1]\n",
        "\n",
        "    # remove non alphabatic characters\n",
        "    sms = re.sub('[^A-Za-z]', ' ', sms)\n",
        "\n",
        "    # make words lowercase, because Go and go will be considered as two words\n",
        "    sms = sms.lower()\n",
        "\n",
        "    # tokenising\n",
        "    tokenized_sms = wt(sms)\n",
        "\n",
        "    # remove stop words and stemming\n",
        " \n",
        "    sms_processed = []\n",
        "    for word in tokenized_sms:\n",
        "        if word not in set(stopwords.words('english')):\n",
        "            sms_processed.append(stemmer.stem(word))\n",
        "\n",
        "    sms_text = \" \".join(sms_processed)\n",
        "    data.append(sms_text)"
      ],
      "execution_count": 0,
      "outputs": []
    },
    {
      "metadata": {
        "id": "oD6g--TlViye",
        "colab_type": "code",
        "outputId": "3483aaf8-9b36-4c17-e005-e8ac02fe11ba",
        "colab": {
          "base_uri": "https://localhost:8080/",
          "height": 34
        }
      },
      "cell_type": "code",
      "source": [
        "len(data)"
      ],
      "execution_count": 14,
      "outputs": [
        {
          "output_type": "execute_result",
          "data": {
            "text/plain": [
              "1649"
            ]
          },
          "metadata": {
            "tags": []
          },
          "execution_count": 14
        }
      ]
    },
    {
      "metadata": {
        "id": "5l-Gom2p4wWa",
        "colab_type": "code",
        "colab": {
          "base_uri": "https://localhost:8080/",
          "height": 34
        },
        "outputId": "a879a53b-2a8e-4a42-b224-a766d5966c25"
      },
      "cell_type": "code",
      "source": [
        "dataset.iloc[1,1]"
      ],
      "execution_count": 17,
      "outputs": [
        {
          "output_type": "execute_result",
          "data": {
            "text/plain": [
              "\"I'm not sure. I think Model T was a little bit slower, but I'm not 100% sure.\""
            ]
          },
          "metadata": {
            "tags": []
          },
          "execution_count": 17
        }
      ]
    },
    {
      "metadata": {
        "id": "FRgaO2lu5EHJ",
        "colab_type": "code",
        "colab": {
          "base_uri": "https://localhost:8080/",
          "height": 17054
        },
        "outputId": "dcdb8c53-cf4a-4588-f9d4-438b8975e389"
      },
      "cell_type": "code",
      "source": [
        "data"
      ],
      "execution_count": 18,
      "outputs": [
        {
          "output_type": "execute_result",
          "data": {
            "text/plain": [
              "['good day ladi gentlemen welcom tesla inc q financi result q webcast time particip listen mode later conduct question answer session instruct follow time oper instruct remind confer record',\n",
              " 'sure think model littl bit slower sure',\n",
              " 'well need bring shanghai factori onlin think biggest driver get k plu year car expens go china got import duti got transport cost got higher cost labor never elig ev tax credit lot peopl sort depend incent fact indiscern ev least access incent pretti crazi mani compani countri put price cap ev incent affect tesla china biggest market ev never subsidi tax incent vehicl',\n",
              " 'elig sound like go reduc china come year realli bottom line need shanghai factori achiev k rate car afford',\n",
              " 'demand demand model insan high inhibitor afford like peopl liter money buy car got noth desir enough money bank account car made afford demand extraordinari',\n",
              " 'next question come pierr ferragu new street research',\n",
              " 'deepak wonder get concern potenti recess wonder think would tell us expect expect tesla react recess manag volum land manag price present cash manag capex thing turn south follow gross margin jerom',\n",
              " 'ye broad question realli answer think highest level way tri prepar kind conting continu focus cost theme convers reduc cost time run busi high level financi disciplin elon allud jerom jerom think believ even scenario lower volum price tight price good chanc good shot profit gener free cash flow best way manag busi frugal',\n",
              " 'ye want broken record cost cost cost reduc cost way make improv model want emphas product get better slight degre despit lower cost hundr small way actual notic explicitli would appreci subconsci get cost variabl cost fix cost allow us lower price financi sustain achiev mission environment sustain absolut clear question',\n",
              " 'aspect elon extrem well capit effici dramat cut back capit expens spend effici manner talk letter model gigafactori shanghai talk model mani learn incorpor want beat model kind spend return got',\n",
              " 'absolut mean confid capex per unit product shanghai factori model less half model intern think might quarter probabl good believ definit less half',\n",
              " 'next question come david tamberrino goldman sach',\n",
              " 'okay expect exponenti continu deliveri year even face global recess even global recess expect deliveri year higher last year could lot even tough econom time see growth pretti nutti',\n",
              " 'first thing want understand see european order china order far number get thrown around guy obvious take look order profil shape rel saw u launch',\n",
              " 'think seem good mean share actual europ china get car made boat reach custom end quarter massiv number car water biggest challeng demand get car fast enough',\n",
              " 'like order think seen like order level europ singl digit thousand china better elon',\n",
              " 'ye absolut mean even realli tri point guess factori like right make car china europ respect model whole focu okay get car made get ship fast possibl get ship fast possibl zeebrugg belgium get drammen norway get car custom fast possibl get china fast possibl',\n",
              " 'china also ye go happen trade negoti import get car especi china soon possibl hope trade negoti go well clear need get sort de facto sort truce tariff war demand gen realli one thing think',\n",
              " 'okay lastli demand thread custom deposit came million possibl give us updat know think realli relev number want know explain reserv count start deliv ask think tri understand much increment demand think base see lower price point say half peopl still wait k base model come would interest think see want confirm',\n",
              " 'deepak want',\n",
              " 'ye mean think reserv relev us realli focus order larg reserv backlog still tell us lot custom still wait car think appropri share reserv number',\n",
              " 'reserv like preorder like like video game come like preorder number like stop import start ship game product ye said earlier think guess demand somewher order strong economi order unit year model even recess probabl order million',\n",
              " 'next question come daniel ive wedbush secur',\n",
              " 'q achiev gaap profit second quarter first time compani histori increas cash hand million even pay debt emea ph total billion cash mean enough cash settl convert bond matur march',\n",
              " 'question around europ obvious deliveri come onboard first quarter mayb surpris term demand look strong term see region stronger expect certain countri think drive mayb talk opportun challeng europ especi deliveri logist perspect',\n",
              " 'well like said think demand almost zero right realli get product time ton car water quarter china get car potenti rise tariff realli put realli front mind cost reduct improv servic north america ye',\n",
              " 'mayb quick follow talk look gigafactori build china obvious import mayb fast forward let say month mean envis competit advantag versu mayb automak tri go track',\n",
              " 'think quit signific advantag realli good quit fundament futur tesla expect make sever trip china year work close team build factori liter get daili updat super big deal talk phase phase think gigafactori ultim major major major deal get lot support shanghai govern appreci nation govern',\n",
              " 'next question come toni sacconaghi bernstein',\n",
              " 'talk repeatedli need drive cost turn drive elast demand car wonder talk much price differenti model model structur mean powertrain cost ev structur higher intern combust engin car think differ today longer factor mayb said anoth way bigger driver get lower cost lower afford model realli around powertrain get pariti everyth els tesla effici manufactur caus higher price right follow pleas',\n",
              " 'vehicl powertrain split time half half gigafactori opportun ye',\n",
              " 'think bigger point ye cost reduct opportun bigger point cost higher ga power intern combust engin',\n",
              " 'think toni meant batteri pack batteri pack well powertrain togeth expens engin',\n",
              " 'true',\n",
              " 'addit oper margin remain strong oper margin fourth quarter usual lower automot industri case tesla',\n",
              " 'big think delta today think kind pack plu powertrain electr vehicl mayb intern combust engin car sort order magnitud see get much align sort given live think cell pack cost go',\n",
              " 'well biggest part bear mind electr quit bit less cost gasolin especi europ california china basic almost everywher except say middl unit state cost gasolin expens electr far cheaper factor cost ownership pretti significantli sort go order month depend upon much somebodi drive import thing consid electr car versu gasolin car said term initi cost acquisit think probabl top head calcul number probabl order k trend toward k k top head',\n",
              " 'okay think talk sort scenario demand plan roll intermedi rang ultim standard rang make trade volum profit cours year mean get volum need think deliv go lower margin vice versa trade unit produc import deliv gross margin import chanc deliv car standard edit gross margin end year will make trade',\n",
              " 'guess end sort togeth given amount free cash flow sort decid decid achiev smaller product smaller volum car higher margin larg volum car smaller margin think alreadi toward second go make car lower margin think less flat rate',\n",
              " 'next question come maynard um macquari',\n",
              " 'updat us batteri cost anticip year end tri gaug much factor lower cost sustain profit',\n",
              " 'highli proprietari number give like tell think best cost world best knowledg cost lower anyon els right improv',\n",
              " 'mayb talk expect panason toyota jv might impact someth made awar',\n",
              " 'spoke directli tsuga san head panason assur impact tesla',\n",
              " 'next question come dan galv wolf research',\n",
              " 'go amaz year tesla mention expect increas sale perhap could lot think reason number crazi growth automot industri',\n",
              " 'plan offer u leas product model u expect talk percentag x histor leas u',\n",
              " 'well reluct introduc leas model effect gaap financi worth note demand date zero leas obvious leas way improv demand make financi look wors want introduc right away mean introduc sometim later year probabl sure percentag leas x right',\n",
              " 'around low stay stabl level mani mani quarter seem like natur demand invent artifici bump',\n",
              " 'ye exactli leas legit usual expect small busi tax write import leas',\n",
              " 'okay like two quick housekeep question one restructur charg expect first quarter much includ expect small profit',\n",
              " 'ye includ difficult say exactli point let say roughli around million number vari slightli',\n",
              " 'okay last one',\n",
              " 'sorri go ahead',\n",
              " 'ye last one chang servic part structur make thing distribut rather part warehous would like meaning work capit drag cash impact',\n",
              " 'actual silli store part actual go chang sort work capit someth would even notic financi smarter send part directli servic center fact either directli factori supplier ship direct servic center right actual cost improv think actual quit lot persist actual quit kind persist quit bonehead actual speak self referenti stop foolish thing massiv improv servic cost massiv improv custom happi around world fundament better around mean pretti like super dumb thing done like went china last year alway ask okay wrong fix like china team great alway like well think could spare part made china sent directli china servic center current bunch part made china sent warehous new jersey sent back china liter happen super dumb stuff go get way better ye queer',\n",
              " 'want note one major prioriti quarter improv servic oper realli standpoint think prioriti quarter improv servic north america number one think excit indiscern go roll indiscern go get car china europ make sure good logist whole deliveri process factori gate custom',\n",
              " 'next question come ben kallo baird',\n",
              " 'one question got four part happi new year elon first part street number like consensu got everyth wrong six year seven year sinc went public earn talk us number two elon could talk us talk hear cut workforc spacex tesla feel worri global economi talk us feel guidanc order order talk mayb sort third thing jv one ever go talk stationari storag whole page pretti good speech focus add bottom line top next year',\n",
              " 'mean realli ben talk consensu mean think mayb better approach provid certain guidanc analyst need reflect model best indic compani project fair best way think answer question',\n",
              " 'ye j b anyth',\n",
              " 'mean think letter outlin predict growth batteri storag busi stationari storag busi pretti clearli includ project well mean excit say much detail',\n",
              " 'mean intern project stationari storag closer gigawatt hour kind lumpi may complet year would done stationari storag last year except strong vehicl product convert bunch stationari storag line batteri line vehicl batteri line otherwis would done quit bit stationari storag expect grow mean probabl twice fast automot short long time',\n",
              " 'continu set product record basic everi month grow',\n",
              " 'profit storag busi gross margin continu improv keep ramp product scale',\n",
              " 'go gigant busi road',\n",
              " 'last question economi global economi',\n",
              " 'obvious pretti far california get europ china make get car custom work everi aspect logist chain think think go good say point optimist profit q lot optimist profit q quarter go forward',\n",
              " 'sure mean think economi move cycl fairli signific risk recess next month confid tesla remain least slightli profit even even signific recess stronger recess relentless cost order make afford car go back headcount reduct ye ye think super hardcor way make afford car spacex side cost reduct differ reason unrel spacex realli spacex two absolut insan project would normal bankrupt compani starship starlink spacex incred spartan expenditur program reach fruition',\n",
              " 'okay great think time today thank much question elon would like close remark',\n",
              " 'okay great think time today thank much question elon would like close remark',\n",
              " '',\n",
              " 'ye tesla',\n",
              " 'ye',\n",
              " 'deepak think first start tesla year ago right',\n",
              " 'close ye',\n",
              " 'ye almost year thank tremend contribut tesla announc retir retir immedi deepak continu tesla month continu serv senior advis tesla probabl year come hope thought long hard right person take deepak zach zach tesla nine year',\n",
              " 'nine year',\n",
              " 'let see open new store servic locat bring total locat worldwid increas mobil servic fleet vehicl mobil servic fleet someth scale rapidli need brick mortar get vehicl hire peopl deploy rapidli',\n",
              " 'ye zach ph manag technolog wharton undergrad work tesla spent coupl year harvard busi school actual think necessari way',\n",
              " 'told came back',\n",
              " 'ye exactli zach incred talent made huge contribut tesla year obvious well known quantiti whole team respect whole team zach know like say word',\n",
              " 'ye',\n",
              " 'okay want deepak save',\n",
              " 'deepak',\n",
              " 'sure okay thank ye well first elon thank much opportun second time learn lot alway inspir also inspir team tesla incred brilliant passion amazingli persever best team could imagin thank everybodi good time make chang felt strongli good time new chapter new year tesla two great quarter profit cash flow realli solid foundat feel realli good zach take cfo proven mani year experi mani tough challeng work realli excit zach take role support make sure success compani',\n",
              " 'ye well thank deepak thank elon name zach kirkhorn brief background join tesla nine year ago super small compani lot potenti ahead us attract mission vision compani throughout time deep oper everi major program compani roadster model x model scale energi busi thing come talk call feel start strong financi foundat enough cash continu launch new program develop new technolog abl servic upcom debt oblig forecast cash flow focu alongsid talent amazingli passion team tesla ensur continu terrif momentum cost manag oper effici enabl us enabl access product around world key achiev mission compani person note deepak huge thank leadership mentorship support much look forward discuss progress futur earn call',\n",
              " 'great',\n",
              " 'great thank much speak three month',\n",
              " 'also actual result higher custom satisfact actual send one servic van work home fix car without bring servic center paperwork anyth like realli seamless invis custom love',\n",
              " 'thank guy',\n",
              " 'ladi gentlemen thank particip today confer conclud program may disconnect wonder day',\n",
              " 'also increas function tesla app servic instead make appoint call make appoint open tesla app say want make servic appoint top frequent request servic item coupl tap made appoint',\n",
              " 'would like introduc host today call mr martin viecha senior director investor relat mr viecha may begin',\n",
              " 'go make easier car pick drop well want prefer come servic center request car pick deliv someth alreadi go roll big improv custom satisfact roll two three week ago',\n",
              " 'next thing go add car detect someth wrong like flat tire drive unit failur car even come halt tow truck servic loader way',\n",
              " 'car alreadi notifi tesla emerg servic servic loader tow truck way car even come stop think immens improv custom happi',\n",
              " 'indiscern call tap center screen cancel cancel want like automat go happen press cancel',\n",
              " 'also improv part distribut think made strateg error past servic part locat servic center part distribut warehous basic meant imposs fast turnaround servic car car would come part request come servic center would basic even simpl repair could take day',\n",
              " 'go abl stock common part servic center possibl get car servic minut minut even simpl matter mean like eight minut whatev eight minut like lightn fast order part locat servic center',\n",
              " 'also go make sens servic center basic bodi work essenti replac front rear fascia make sens prestock front rear fascia common color unless unusu color liter replac fascia minut like week bodi shop stuff',\n",
              " 'term new product model complet ensur ensign model part indiscern product model three quarter model common model much lower capex per vehicl model risk also quit low',\n",
              " 'contrast model versu model x theori think model x sort model x like sort faberg egg car incred vehicl probabl one probabl noth like ever made mayb work art special work art',\n",
              " 'common model limit mayb common model wherea model think got common model like go put model product right next fact part main gigafactori nevada',\n",
              " 'thank sherri good afternoon everyon welcom tesla fourth quarter q webcast join today elon musk j b straubel deepak ahuja number execut q result announc p pacif time updat letter publish link webcast',\n",
              " 'right batteri powertrain come go straight vehicl also reduc risk execut reduc cost transfer part california nevada sure thing quit like default plan',\n",
              " 'would expect model probabl indiscern model mayb higher model could even doubl understand midsiz suv segment worldwid popular type vehicl probabl see higher volum',\n",
              " 'earlier month saw construct gigafactori shanghai end year expect produc model use complet vehicl product line bodi paint final assembl gener assembl modul product',\n",
              " 'basic would extrem fast get like daili updat progress shanghai gigafactori factori go go like lightn',\n",
              " 'feel quit confid point least factori control achiev volum product shanghai end year allow us get vehicl week rate close end year',\n",
              " 'ye think',\n",
              " 'okay great go take first question retail investor submit question say com question submit servic think alreadi spoke length let go second question',\n",
              " 'second question would feel demand right across product line unit asp still realist annual target model even consid model impact demand continu see x demand annual',\n",
              " 'mean best guess guess best guess demand model worldwid someth strong economi someth order unit year best guess demand model strong economi',\n",
              " 'economi goe recess think could someth less think even recess worldwid demand still someth order model',\n",
              " 'call discuss busi outlook make forward look statement comment base predict expect today actual event result could differ materi due number risk uncertainti includ mention recent file sec',\n",
              " 'x elimin indiscern x product model differenti rel come think could see slight declin total vehicl think net cash flow x like similar probabl major chang net cash flow x',\n",
              " 'okay next question alex pleas share updat full self drive tesla network develop custom start see full self drive featur best case time line tesla network go live',\n",
              " 'sure alreadi full self drive capabl highway highway ramp highway exit includ pass car go one highway interchang anoth full self drive capabl',\n",
              " 'week push updat allow option remov stock confirm market regul approv believ case u exampl time think probabl regul approv',\n",
              " 'kept talk make sure took care like strang corner case realli quit sublim stock confirm like car goe highway ramp pass slower car chang take interchang take exit come stop exit realli quit profound experi',\n",
              " 'next part full self drive realli traffic light hard stop street pretti easi essenti geocod recogn time',\n",
              " 'traffic light intersect next realli tricki one navig complex park lot like sort like underground mall park lot lot traffic pedestrian multipl level kind thing get tricki',\n",
              " 'releas enhanc advanc summon see first indic car abl navig complex park lot also come fairli soon probabl next month develop mode car thing mention develop mode recogn traffic light stop sign basic function develop mode realli question get reliabl recogn traffic light sever name',\n",
              " 'guess like know good right need like realli extrem reliabl capabl think safe full self drive probabl toward end year regul decid want approv',\n",
              " 'okay let go next question tesla switch model x batteri cell percent rang improv expect',\n",
              " 'jump q elon open remark elon',\n",
              " 'plan switch x comment huge product develop',\n",
              " 'okay mayb take last question retail investor tesla semi model produc share time line expect product ramp product',\n",
              " 'mention earlier model think like produc gigafactori unless encount obstacl default plan proceed toward fast low risk also low capex term mean probabl like initi product model low volum probabl next year',\n",
              " 'alway take time ramp product system difficult predict shape curv feel confid say product volum model end next year begin next year low volum alway start low growth exponenti begin last year end next year difficult break ramp expect semi know want comment jerom',\n",
              " 'want start next year well',\n",
              " 'ye',\n",
              " 'first unit jerom well first unit usag depend mani truck use usag move part vehicl differ locat start deliv outsid custom',\n",
              " 'ye good tesla pickup truck might readi unveil summer someth quit uniqu unlik anyth els',\n",
              " 'okay fantast oper start take question particip call',\n",
              " 'thank oper instruct first question come ryan brinkman jpmorgan',\n",
              " 'thank martin last year definit challeng year tesla histori also success thank incred work tesla team model becam best sell premium vehicl u',\n",
              " 'thank take question think amount spent land gigafactori shanghai classif oper cash flow guidanc provid us term think capex facil go forward discuss sourc fund project',\n",
              " 'think spoken past potenti rais local china still think kind term might abl rais capit',\n",
              " 'ye deepak right purchas land year leas govern china capex oper leas show cash flow oper howev capex invest equip fulli show capit expenditur',\n",
              " 'plan indic letter still get fund major capit spend local china bank expect pretti attract rate base dialogu lot interest hope final share detail point',\n",
              " 'ye mean ballpark figur probabl someth someth order billion capex get vehicl rate shanghai ballpark figur deepak say indiscern competit debt financ china realli extrem compel interest rate expect capit drain compani',\n",
              " 'ye biggest bank world million larg amount money scheme thing',\n",
              " 'thank next question come gene munster loup ventur',\n",
              " 'sorri perhap automot industri youll understand signific mayb obviou everyon tesla first wholli own manufactur facil china automot compani profound appreci chines govern allow us think symbol indiscern open market know indiscern like note appreci chines govern allow us signific thing',\n",
              " 'question relat waymo autonom drive opportun morgan stanley recent valu waymo billion question separ',\n",
              " 'separ import time tesla stori longer term nice realli ev renew energi autonomi kind one foundat part stori longer term',\n",
              " 'fact consid batteri electr vehicl tesla achiev market share u sale last year think point perhap well appreci electr vehicl combin sale u last year think bad',\n",
              " 'indiscern good tesla ye like tesla relev point tesla come two thing acceler sustain energi autonomi acceler sustain energi absolut fundament next potenti risk human',\n",
              " 'actual far away import thing also import autonomi potenti save million live ten million seriou public injuri give peopl time back drive road spend time thing enjoy instead terribl traffic',\n",
              " 'extrem import feel confid technic strategi think advantag one els point somewher order vehicl road degre camera sensor suit radar ultrason alway connect upload especi video clip custom submiss ph intervent effect massiv massiv train fleet',\n",
              " 'amount train add everyon els combin probabl gener mile tesla differ increas year probabl go certainli month probabl million vehicl road everi time custom drive car train system better sure anyon compet',\n",
              " 'thank next question',\n",
              " 'sorri follow question okay follow question okay let go next particip',\n",
              " 'thank next question colin rusch oppenheim',\n",
              " 'thank much talk littl bit geograph dispers guidanc expect model sell well model',\n",
              " 'well think actual ye clear letter',\n",
              " 'indic q start deliv model europ china also share chart show potenti market size midsiz premium sedan north america europ asia suggest market could even bigger think give good sens launch right hand drive version point go market',\n",
              " 'also deliv also made vehicl last year prior year combin tremend achiev tesla team track tesla vehicl product year year cumul sale deliveri year year cleanest exponenti ever seen',\n",
              " 'ye mayb order model someth like year',\n",
              " 'okay term cost reduct road map rework post factori talk littl bit expect reduc next coupl quarter order magnitud model intern',\n",
              " 'jerom want answer',\n",
              " 'jerom well manufactur improv quarter quarter actual week week take fewer hour fremont gigafactori assembl model x well track qualiti close',\n",
              " 'review care engin suppli chain manufactur team qualiti field number incid also improv week week everi week fewer fewer need car servic ye keep go end sight tri make sure car never break',\n",
              " 'ye think like confus rectif like said like us drive model come line happen like slight adjust drawer gap panel gap kind thing done noth',\n",
              " 'next question come colin langan ub',\n",
              " 'thank take question follow comment around said think normal demand mean color price expect think lot chatter demand alreadi weak midrang least alreadi januari know true well',\n",
              " 'ye mean multipl factor play first lot season automot purchas peopl buy new car middl blizzard januari februari tend season low pick significantli around earli mid march time frame u obvious pull forward demand tax credit',\n",
              " 'ye factor feel confid model demand custom happi level car incred think probabl highest car world right think tell like basic nobodi want sell car',\n",
              " 'basic almost doubl fleet everi year everi year make mani car prior year unusu thing see especi larg complex manufactur object think mayb fastest complex manufactur object like car grown histori least awar anyth faster martin',\n",
              " 'target price point think past mention mid think long term rang',\n",
              " 'ye realli guess like got huge crystal ball someth volum would expect total guess want clear probabl averag probabl volum level certain',\n",
              " 'follow comment expect china onlin end year lot articl batteri supplier look differ batteri supplier mean batteri supplier seem kind close product suppos start',\n",
              " 'well realli three thing cell modul pack make modul pack realli question cell suppli essenti use high densiti ph chemistri expect combin cell produc gigafactori nevada cell produc japan cell produc local china feel confid suffici suppli hit unit',\n",
              " 'next question come emmanuel rosner deutsch bank',\n",
              " 'first want ask short rang model latest thought term time introduct think point mind mayb first half year clarifi sort talk outlook number deliveri margin target model get assum introduc lower rang short rang model point year',\n",
              " 'well could call standard rang mayb short tesla standard long rang manufactur standard ye expect introduc standard rang model sometim probabl middl year rough rough guess work hard improv cost product overhead cost fix cost cost gener think past year extrem difficult driven us high level financi disciplin think way smarter spend money get better pass week ye',\n",
              " 'clear expect reach point year target point year gross margin model despit introduc lower end standard rang model correct',\n",
              " 'ye',\n",
              " 'okay guess follow would demand side talk increas year said time could higher think mention previou question understood well sort like drive cautiou outlook letter feel like basic four time fourth quarter run rate would impli sort full year realli lot growth versu accomplish guess think total demand especi introduc cheaper version',\n",
              " 'good morn welcom kroger compani fourth quarter earn confer call particip listen mode oper instruct today present opportun ask question oper instruct pleas note event record would like turn confer rebekah mani director investor relat pleas go ahead',\n",
              " 'thank laura good morn thank join us begin want remind today discuss includ forward look statement want caution statement predict actual event result differ materi detail discuss mani factor believ may materi effect busi ongo basi contain sec file kroger assum oblig updat inform',\n",
              " 'pleas growth digit sale kroger digit sale run rate billion go forward trend toward run rate approxim billion kroger also grew brand reach record unit share fourth quarter introduc new item help drive strong year year sale lift across portfolio brand',\n",
              " 'great thank follow food inflat mention basi point wonder much expect trend also abil pass amount even may greater term custom',\n",
              " 'yeah expect inflat rel benign would say way get pass depend lot inflat come categori specif price program want stay commit categori might littl easier pass other pass along well realli depend exactli wind see inflat whether get pass along quickli get pass along',\n",
              " 'right make sens know lot discuss press amazon open physic store would character level risk larger convent food retail move kind thing mayb embed term competit posit footprint would help offset',\n",
              " 'well coupl thing first know embark upon creat omnichannel experi custom almost five year ago look feedback custom give us increasingli abl help help custom make easier get want find custom engag digit still come physic store also spend us total team done great job abl creat make sure keep custom connect continu improv custom connect thing year associ everi day work hard serv custom qualiti fresh product continu get better better competit advantag take thing togeth lot great physic locat high qualiti site accumul sever year realli thing togeth term caus custom want come us partner us us abl give experi get somewher els excit gari mention prepar remark digit standpoint would expect becom tailwind',\n",
              " 'great thank',\n",
              " 'thank greg appreci alway thank everyon call mention begin understand acknowledg work cut us market show morn want emphas incred confid futur kroger especi restock kroger one excit thing earn call also mani associ listen better understand gain insight busi cours mani associ sharehold well',\n",
              " 'alway end today call like share comment direct toward mention earlier prepar remark kroger believ strengthen commun busi within suppli chain across commun store look far see much strength come women month excit recogn women across kroger enterpris work day day exemplifi purpos feed human spirit kroger employ women work store manufactur distribut plant offic grow number nearli women own busi u kroger supplier commit sourc food fair trade certifi part simpl truth product line proud support women own cooper busi intern includ women led tea farm rwanda kroger proud join today celebr intern women day light headquart build cincinnati tomorrow celebr',\n",
              " 'thank custom associ supplier make busi success everi year everi day everi day everi year also want one last thank mike call heck lot call mike great friend partner journey gari congratul incred look forward work abl build thing mike put place work team congratul complet call today thank join',\n",
              " 'confer conclud thank attend today present may disconnect',\n",
              " 'simpl truth continu lead way sale growth make billion brand kroger unveil sever transform partnership creat custom valu home chef continu grow shape today meal solut space februari announc home chef expans locat six new store divis pilot walgreen microsoft nuro continu gener great custom insight nuro pilot scottsdal nearli complet plan enter anoth market earli year',\n",
              " 'remain optimist way partnership ocado set kroger acceler growth futur februari announc florida mid atlant region plan build next two ocado shed addit first locat plan southwest ohio',\n",
              " 'acceler invest associ significantli improv employe retent one tightest labor market year thrill recogn fortun magazin chang world list use kroger scale good engag busi solv societi complex issu kroger zero hunger zero wast social impact plan groundwork posit us deliv restock kroger target includ financi transform compani long term growth',\n",
              " 'want take minut talk detail altern busi success long term busi constantli explor new direct adjac grow top bottom line februari announc appoint stuart aitken newli creat role senior vice presid altern busi new role stuart assum oversight kroger success exist altern profit busi includ kroger person financ stuart also lead develop full portfolio altern busi support transform kroger busi model better support custom supermarket busi',\n",
              " 'kroger person financ media beat oper profit target year encourag biggest line item altern profit busi use excess profit invest new altern profit stream begin seed margin rich asset light busi futur',\n",
              " 'expect profit growth altern busi also launch new busi symbiot core deliv high margin plainli state restock kroger transform growth model grow market share creat virtuou cycl built groceri busi core win combin unmatch local presenc coupl digit ecosystem enabl us offer custom anyth anytim anywher enhanc custom ecosystem partnership help us redefin custom experi build incred physic digit experi fantast offer unpreced conveni',\n",
              " 'constantli improv custom ecosystem gener traffic custom data insight fuel growth adjac altern profit stream see tremend potenti asset light margin rich busi built foundat omnichannel groceri experi profit gener busi creat sharehold valu gener cash invest kroger core redefin groceri custom experi kroger new growth model virtuou cycl',\n",
              " 'restock kroger posit kroger creat long term sharehold valu clear path achiev million increment fifo oper profit growth billion cumul restock cash flow end finish sale busi momentum expect earn growth improv supermarket busi mike share detail fourth quarter fiscal result mike',\n",
              " 'thank rodney good morn everyon reflect rodney comment start call kind surreal know th final earn call cfo thrill transit role gari terrif partner excel chief financi offic look result proud entir team kroger deliv key restock kroger commit made back octob plan first year three year plan alway toughest critic sinc everyth follow build foundat get built feel great foundat build set us creat sharehold valu continu make strateg invest grow busi',\n",
              " 'fourth quarter press releas prepar remark confer call avail websit ir kroger com prepar remark look forward take question order cover broad rang topic mani ask pleas limit one question one follow question necessari thank',\n",
              " 'varieti factor affect fourth quarter either og gross profit line result better retent higher averag hourli rate vacat accrual headwind quarter incent pay achiev id sale ep headwind affect og said incent plan primarili base grid ep id sale ep got closer top end rang incentiv continu make sustain invest busi grow sale invest suppli chain supermarket busi well kroger ship combin basi per share item affect gross profit add togeth headwind fourth quarter lot someth go abl build futur',\n",
              " 'cent per gallon fuel margin fourth quarter compar quarter last year averag retail price fuel versu quarter last year affect total revenu cent per gallon fuel margin compar year averag retail price fuel compar solid invest made help supermarket busi better overal howev expect fuel deliv lower oper profit margin compar',\n",
              " 'ident sale momentum continu fourth quarter id sale result basi point improv last year fourth quarter doubt weather event acceler snap disburs help id sale result fourth quarter difficult distinguish two occur essenti time combin snow snap help id sale basi point quarter continu feel good abil meaning connect custom reli snap supplement food purchas',\n",
              " 'space optim slight headwind versu slight tailwind expect saw strong progress store open week unaffect new competitor posit result quarter admittedli take longer origin expect pleas see resolv complet disrupt remodel go work target therefor less disrupt custom time space optim turn head',\n",
              " 'fifo oper profit fourth quarter million compar million period last year without rd week adjust item full year fifo oper profit billion compar billion period last year without rd week adjust item exclud conveni store goal year gari discuss minut expect grow remain commit reach restock kroger goal',\n",
              " 'kroger financi strategi use free cash flow drive growth also maintain current invest grade debt rate return capit sharehold compani activ balanc use cash achiev goal last four quarter kroger use cash invest combin million ocado secur home chef contribut million pretax compani sponsor pension plan repurchas million common share billion includ billion repurchas tax proce sale kroger conveni store busi acceler stock repurchas plan',\n",
              " 'paid million dividend invest billion capit exclud merger acquisit purchas leas facil remain commit gener billion restock cash flow part restock kroger deliv billion kroger net total debt adjust ebitda ratio week basi intend use free cash flow bring leverag ratio back target rang time compani intent buy stock back get rang third fourth quarter',\n",
              " 'invest increment million associ three year restock kroger happen varieti way includ invest wage train develop made signific invest wage use tax reform dollar invest educ system program feed futur also increas k match non union associ among benefit aim improv associ experi addit continu effort rebal pay benefit also focus certif perform incent clear opportun train averag hourli rate store associ per hour factor comprehens benefit mani competitor offer',\n",
              " 'look labor contract recent ratifi new labor agreement ufcw cover smith albuquerqu current negoti ufcw contract cover store associ king sooper denver fred meyer portland ralston southern california kroger memphi look ahead sever major negoti includ contract ufcw store associ seattl la vega indianapoli louisvil object everi negoti find fair reason balanc competit cost compens packag provid solid wage good qualiti afford healthcar retir benefit associ continu strive make overal benefit packag relev today associ financi result continu pressur ineffici healthcar pension cost competitor face continu commun local union intern union repres mani associ import grow busi profit way help us creat job career opportun enhanc job secur associ',\n",
              " 'hand want reiter first year three plan year three year plan difficult land first year step back review full year feel great deliv financi commit continu make invest posit kroger growth futur solid foundat set us transform kroger deliv turn gari discuss build momentum gari',\n",
              " 'turn call kroger chairman chief execut offic rodney mcmullen',\n",
              " 'thank mike good morn everyon pleasur join call today specif speak kroger upcom year commit align restock program ident sale growth exclud fuel target ident sale rang expect net earn rang per dilut share fifo oper profit rang billion billion low end rang current consensu estim',\n",
              " 'kroger ep growth expect come fifo oper profit growth posit us well deliv increment million fifo oper profit end restock program',\n",
              " 'like spend moment underscor kroger futur growth model clear path million increment fifo oper profit includ altern profit stream although high margin asset life busi go major impact top line near term play signific role help us achiev bottom line growth',\n",
              " 'made prioriti join mike rebekah alreadi sever investor meet investor relat team recogn appreci request better understand model altern profit stream go forward pleas know financ team spend time topic includ review industri best practic goal provid detail futur',\n",
              " 'sever restock kroger success creat tailwind believ help us continu grow sale achiev increment fifo oper profit pull forward price digit store invest part use tax reform dollar creat tailwind sale oper profit achiev signific cost save plan acceler momentum largest altern busi kroger person financ media beat oper profit target plan continu growth invest build seamless ecosystem remain headwind earn dynam begin shift',\n",
              " 'mike share comment earlier fuel expect headwind compar last year strength fuel margin help us make invest set supermarket busi well expect softer fuel result year',\n",
              " 'look cadenc ep throughout year expect first quarter compar first quarter second third quarter within annual guidanc rang fourth quarter guidanc rang allow full year align within rang anticip momentum build throughout year put kroger posit strength go laid foundat build deliv commit includ restock cash flow deliv expect set us meet billion cumul restock cash flow commit end expect capit invest exclud merger acquisit purchas leas facil rang billion billion number like grow futur year announc ocado share',\n",
              " 'mike also share earlier short term intent use free cash flow bring leverag ratio back target rang final anticip kroger tax rate approxim',\n",
              " 'turn back rodney let say incred grate mike put togeth thought week week transit plan realli best partner could ask transit role kroger futur cfo thank mike person energ sector transform quickli groceri retail way think fundament retail rapidli evolv make next year incred interest financi stakehold follow space turn back rodney',\n",
              " 'thank gari america grocer kroger win combin local presenc plu digit ecosystem enhanc strateg partnership enabl us offer custom anyth anytim anywher transform grocer growth compani deploy asset serv even custom creat margin rich altern profit stream well posit deliv restock kroger vision serv america food inspir uplift look forward question',\n",
              " 'thank rebekah good morn everyon get start want acknowledg team kroger realiz work cut us market point morn realiz busi transform hard want emphas track deliv restock kroger commit look forward time togeth take question tri better lay thing',\n",
              " 'oper instruct first question come karen short barclay',\n",
              " 'hey thank guess question know tri encourag us look busi term core fuel altern profit kind give us slide analyst day depict hard look busi way look full year tri break core busi actual declin fairli signific like kind back almost declin quarter guess help understand compon mayb transitori second part would ask obvious tri think way think mean growth compani need stabil core credit valuat growth compani mayb littl color attain guess stabil grow core',\n",
              " 'take one karen well obvious lot made lot invest affect wide varieti differ line difficult say obvious fuel good quarter good year look tri back core digit headwind continu invest digit back headwind put grow new busi categori ye would drive core way look digit invest made along invest made fourth quarter talk new warehous open support digit busi look core ye core declin go specif number realli slice dice said necessarili discourag look differ piec busi better job help understand explain altern profit stream go come affect top line profit tri transform compani first year plan take piec avail flow profit togeth decid invest busi',\n",
              " 'said gari mention definit better job help abl see insight certainli understand question make total sens',\n",
              " 'okay guess follow look billion mean look ebit growth someth ever seen grocer year anyth chang term stream versu analyst day term growth rate',\n",
              " 'hi gari think feel mention prepar comment feel good plan busi kind refer back question karen ask mike answer lot nois obvious go major year transit feel head second year plan piec come togeth tailwind invest made strong plan place feel go make differ way growth occur across organ see result report share prepar comment',\n",
              " 'think head build plan put place restock kroger expect see invest made start come sorri come clear plan expect benefit deliv think appreci rodney comment give clearer view piec fit togeth say anyth materi chang plan three year see piec come togeth larg way expect',\n",
              " 'karen one thing would add calcul declin may done would remind last year rd week need take obvious take compar think last year said extra week worth',\n",
              " 'yeah hi guy good morn first thing want mayb follow karen go mean million goal think start year one say track ebit fell million would epic fuel year biggest declin q even adjust extra week know reaffirm target look guidanc got million improv sound like big invest year sound like thing come back impli million improv progress guess given go lap give us comfort around see growth mean obvious stock quit bit today think market see progress market kind see opposit could help us extent think would good',\n",
              " 'ed coupl lot thought question know one one thing would point rel progress make gari said prepar comment look oper profit guidanc next year current consensu estim mind demonstr progress talk grow given invest made expect usual year fuel margin versu believ would prudent budget replic fuel core busi altern profit stream digit big invest fact littl bit tailwind look expect invest year year first overcom lower expect oper margin fuel grow built busi plan ebitda id sale still get us oper profit margin wall street look high end rang essenti right wall street would predict',\n",
              " 'join today call mike schlotman execut vice presid chief financi offic gari millerchip first time mike successor becom kroger cfo april previous announc mike continu serv evp member senior team end year say enough grate entir kroger team mike servic leadership stewardship compani last year especi last cfo also incred fortun gari whose deep financ busi background combin success track record creat sharehold valu member senior offic team make right person carri kroger forward especi true kroger transform grocer growth compani',\n",
              " 'ed mean clearli understand question answer littl bit mike gari talk digit expect turn tailwind versu headwind know acceler lot invest expect pay mike talk obvious space optim one continu make great progress take cost busi look togeth mike mention also expect fuel headwind look next year total total understand question look model piec think import note look fourth quarter increment charg mike talk reoccur next year spread throughout year versu one quarter',\n",
              " 'okay quick follow gross margin gross margin basi point certainli surpris mean sound like onetim thing give us littl bit detail happen mix way suppli chain think gross margin hard get ebit guidanc without think anyway flat posit fifo gross margin ex fuel',\n",
              " 'yeah look fourth quarter declin third mayb littl less third price invest kind experienc year long two third combin start cost new warehous neg affect warehous transport line expens line gross profit well continu growth primarili kroger specialti pharmaci team great year strong sale growth high growth busi compar core busi dramat lower gross margin rate price one prescript high gener strong oper profit dollar busi last two two third margin eros price third',\n",
              " 'think go give guidanc og gross profit next year look id sale look earn per share guidanc gave oper profit assumpt go make og gross profit go go next year rodney said invest made year dramat next year thing like digit headwind tailwind help margin well open new warehous like start cost cost us margin line',\n",
              " 'next question come john heinbockl guggenheim secur',\n",
              " 'let start think next coupl year altern profit stream impact margin rate ebit margin rate right greater impact go gross margin line expens ratio line guy talk ex fuel margin includ altern profit stream today futur break',\n",
              " 'first question allud lot work right realli decid best share stori think mention past altern busi talk grown littl bit legaci way would within kroger busi prior identifi big strateg growth area compani truli leverag data knowledg custom tri altern busi across kroger person financ media busi area share analyst meet right would report number differ area busi realli want make sure deliber identifi help provid clearer pictur could see clearli busi continu acceler growth',\n",
              " 'john look og margin rate exclud fuel would includ busi would realli long list thing pull way',\n",
              " 'alright follow possibl base said gari possibl altern profit stream segment get signific differ core busi make sens break separ combin revenu ebit someth think amen last thing think core busi comp think need actual grow ebit core busi given cost pressur higher think',\n",
              " 'yeah think first part question roll anyth right commit either answer would look like realli want make sure deliber think best approach make sure manag busi effect also clearli demonstr show stori valu drive bottom line certainli commit reach conclus clear think either',\n",
              " 'talk need retail compani constantli reinvent order remain relev constant reinvent take place least everi decad gari instrument help us think transform part restock kroger beyond uniqu posit kroger chief financi offic futur also help shape futur omnichannel experi report today call mike provid financi oper recap fourth quarter full year gari outlin kroger guidanc',\n",
              " 'certainli look longer term model would certainli agre would see number next coupl year might littl low end drive earn growth overtim sustain model realli need ident think import note john look product gain year great year reduc turnov mean increas retent well oper effici insid store product pretti much offset higher invest made associ store',\n",
              " 'next question paul trussel deutsch bank',\n",
              " 'good morn want touch base top line id past year rang want mayb help us better understand expect see acceler busi kind mayb speak give littl bit color see store gone optim start follow thank',\n",
              " 'love question look last part question space optim mike mention prepar remark certainli think longer expect store open open remodel longer week final start see posit add ident slower expect nice final see obvious piec also expect continu see improv invest made look tonnag actual stronger ident sale growth would continu see peopl trade product size product well look matur remodel done continu improv way significantli improv stock core busi piec tie togeth invest made give us confid share',\n",
              " 'one thing add rodney look quarter date essenti right top fourth quarter split core supermarket busi altern busi similar fourth quarter end know lot rhetor pull forward snap mean start year slowli essenti right top fourth quarter end far first quarter week quarter long way go start help us feel good guidanc',\n",
              " 'mike point snap definit definit pull forward look snap first period year would headwind look piec',\n",
              " 'would headwind fill headwind sale supermarket',\n",
              " 'mayb one anoth piec color add think journey restock kroger lot initi land year creat nois mike refer realli start build tailwind rodney mention turn point profit impact digit continu grow digit sale rate see much bigger number continu bigger influenc head outer year restock kroger id sale perform busi work invest brand drive significantli high custom engag custom continu deepen relationship brand import piec think opportun see final merger home chef expand fresh food experi store meal kit opportun obvious came part way year repres anoth opportun see readi build momentum',\n",
              " 'thank help color somewhat relat curiou see past month forecast ahead inflat front could kind comment bit think price point given higher input cost see price point go higher also extent would describ kind price environ environ ration thank',\n",
              " 'know get environ ration irrat competit industri alway competit industri alway built busi plan assum go littl competit versu less competit get surpris competit wind help think inflat fourth quarter take pharmaci cost inflat less basi point ad pharmaci get kick basi point year actual without pharmaci slight deflat year cost basi may reconcil everyth hear cost increas come team done phenomen job go cost good save varieti way keep mind number talk pay product base mani unit year last year price year last year done great job abl offset cost increas hear',\n",
              " 'octob introduc restock kroger three year plan creat sharehold valu serv america food inspir uplift plan four main driver redefin groceri experi partner custom valu develop talent live purpos combin driver come togeth creat sharehold valu specif commit million increment fifo oper profit growth billion cumul restock cash flow end',\n",
              " 'yeah thing would add talk look compani rais price true cost realli help brand strong find somebodi end give market share give market share brand time make profit brand sell nation brand go alway give custom choic want earn whatev get somebodi push cost end give share',\n",
              " 'thank best luck',\n",
              " 'next question come chri mandevil jefferi',\n",
              " 'hey good morn start guidanc much million million ebit growth essenti go come core groceri versu altern revenu stream think fuel margin suppos mike certainli understand want go line line guidanc clearli market react neg basi point gross margin result mayb least could hold hand littl bit go first half year gross margin think altern revenu becom greater compon ebit',\n",
              " 'yeah understand request hold hand littl bit go stick guidanc given get specif gross margin thing like would say big chunk growth oper profit margin next year would come core busi id sale like talk expect said fuel pretti dramat headwind next year lead us bottom line result guidanc gari talk section',\n",
              " 'fuel would pretti close use three year averag margin term expect fuel skew littl bit recent time pretti close three year averag gross margin expect basi point reduct gross margin',\n",
              " 'agre look model overal know acceler lot invest thing show growth way account show term warehous transport cost type thing would expect headwind',\n",
              " 'okay suppos quick follow realli expect see far less basi point q base q comment clear long receiv type materi tailwind fuel unlik receiv q sequenti improv gross margin degrad correct',\n",
              " 'correct',\n",
              " 'okay follow would spent quit bit time vega last coupl day shop talk speak lot folk within micro fulfil rodney guess want get take relat relationship ocado help us think item think right technolog go forward spoken respect micro fulfil option call zoom mayb actual afford flexibl respect cfc dedic',\n",
              " 'pleas report kroger solidli deliv key year one restock kroger commit look full year deliv fifo oper profit restock cash flow goal set us reach target improv ident sale deliv ep near high end origin adjust guidanc rang give us busi momentum head especi proud achiev unpreced cost save billion process improv',\n",
              " 'term first somebodi ocado team kroger team would actual talk daili look broader strateg convers would happen probabl monthli type basi thing one reason incred excit partner ocado tim team continu push today continu get better continu look differ approach altern sign agreement one comment made sign base today sign base think go three five year talent drive keep get better thing draw board feel comfort model effici give custom want partnership ocado abl discov need well',\n",
              " 'thank',\n",
              " 'next question come scott mushkin wolf research',\n",
              " 'hey guy thank let ask question mike gosh year congratul believ go call',\n",
              " 'yeah th one said',\n",
              " 'yeah think done done congratul',\n",
              " 'day feel like done scott',\n",
              " 'market share guy usual ran market share fourth quarter wonder could give us thought happen market share year want follow',\n",
              " 'yeah think market share way tradit calcul market share grow year rodney talk tonnag actual better id sale invest price thing like distort top line move continu grow tonnag slightli improv year',\n",
              " 'market share',\n",
              " 'restock kroger fuel cost save invest associ custom infrastructur continu make signific invest build omnichannel platform deliv custom anyth anytim anywher end kroger household access pick deliveri end full integr kroger ship ecosystem reach america',\n",
              " 'ye',\n",
              " 'talk tonnag look id exclud basi point specialti pharma contribut correct',\n",
              " 'let understand understand question exactli',\n",
              " 'oh thought put specialti pharma comp forget quarter first quarter last year',\n",
              " 'start begin year yeah tonnag tri look absolut number unit flow store toilet paper counter one whether one pack club pack size look unit flow store tri track',\n",
              " 'perfect follow question know guy work altern revenu assum number chunk ebit altern revenu wonder could size big year year gain big altern revenu alreadi',\n",
              " 'think mention minut ago saw realli nice growth altern profit year year two biggest area know analyst meet media kruger person financ grew profit join kind refer earlier still realli want work best way abl give full pictur around altern profit go forward becom obvious bigger meaning part busi mike mention mike schlotman mention earlier fuel headwind expect tradit think core busi altern profit contribut improv fifo oper profit head win face fuel point realli take step back determin best way readi share altern profit stori meaning way make sure connect dot everybodi rememb back investor confer stuart aitken slide show slope growth altern profit admittedli dollar take look slide show expect continu build time momentum start see even growth futur',\n",
              " 'alright guy thank thank much',\n",
              " 'time one question',\n",
              " 'next question come gregori badishkanian citi',\n",
              " 'eric also think good data point around fact grow entertain busi idea good industri know good creativ commun know good fan know time grow big audienc film like box offic way exampl north american box offic grown fourth quarter fact record think excit time thought good idea give idea scale put context',\n",
              " 'ye ye',\n",
              " 'good afternoon welcom netflix q earn interview spencer wang vp ir corpor develop join today ceo reed hast new cfo spenc neumann chief content offic ted sarando chief product offic greg peter interview quarter eric sheridan ub remind make forward look statement actual result may vari',\n",
              " 'look chart put earn letter weekli growth rate see steadi continu work away thing alway done wonder internet entertain market grow continu fulfil need see',\n",
              " 'eric',\n",
              " 'want add anyth',\n",
              " 'eric could add littl bit color reed comment would say facet would highlight strength membership growth realli broad base geograph realli thrill progress see intern segment one one singl territori one singl countri realli broad base think reflect global natur secular driver adopt broadband global adopt demand entertain global',\n",
              " 'mayb follow anyth mayb combin reed ted anyth local languag front know piec talk prior earn video local languag content drive adopt product global scale anyth call saw quarter portend well',\n",
              " 'well say one thing quarter incred excit thing play see number see big number like bird box show play incred global interest thing tap global zeitgeist someth get excit potenti scale content busi world excit someth',\n",
              " 'mayb go back someth releas also talk press earlier week go rais price q u market alway curiou goe thought process around rais price servic confid custom readi absorb higher price servic look mayb reed could start perspect think price product marketplac mean subscrib momentum go forward',\n",
              " 'greg punt',\n",
              " 'sure think model got fairli simplist one think job effect invest money subscrib give us everi month give incred content better better product experi well creat valu subscrib occasion come ask littl bit money actual start next cycl invest',\n",
              " 'overarch framework look engag level bunch thing tri understand price gener seen pretti accur price chang done roll expect',\n",
              " 'let turn eric first question',\n",
              " 'well want follow greg look versu year ago tremend level push person side servic focu mobil product side look last month thing saw allow see either higher engag new use case emerg along subscrib base see product develop fed mayb price discuss',\n",
              " 'would say tie directli mean gener tri think everi way make product experi better member around world mobil chang give higher qualiti experi also thing like give preview abil sort like sampl content ahead time understand come servic well thing mention like increas well think like tell stori stori',\n",
              " 'new show come effect commun think go relev subscrib strong way get excit show well dimens realli mani mani other constantli invest realli think thing increas price within thing creat fun excit member great time abl invest content make product experi benefit',\n",
              " 'mayb one greg move one thing notic quarter netflix move app download chart respect mobil smartphon io world alway download app ipad front tablet front smart tv anyth guy term either pivot busi toward phone quarter start anyth product side want call seem like pretti pronounc chang data tri analyz',\n",
              " 'ye noth realli specif think realli speak gener relev applic see us sort acceler term subscrib addit member around world use servic member use mobil larg part well see increas rate download think happen',\n",
              " 'okay ted follow greg said price increas go jurisdict put price increas talk around similar framework margin free cash flow talk previous think natur conclus us increment invest dollar go content ted help us understand increment dollar gener busi go content side think content invest versu',\n",
              " 'think reed said right continu larger scale level invest origin film space definit chang econom term licens film later window versu produc film kind front load cash activ much better payback us someth like bird box abil invest next one greater think local languag content invest improv continu improv market emerg us market scale around everyon kind like thing market uniqu content tast like korea japan india abl much fine tune offer market well',\n",
              " 'eric add specif narrowli answer question content spend give individu expens item expens line item guidanc say billion content amort think obvious expect grow trajectori pretti similar thing bear mind also commit grow oper margin well basi point year year work togeth see improv margin also higher content spend well',\n",
              " 'see payback eric greg mention earlier increas engag continu virtuou cycl got invest put peopl find content love valu servic',\n",
              " 'well speak higher engag think read releas legitim stun viewership data releas see netflix releas guess obvious probabl lot content outperform mayb expect drove new sort qualit quantit commentari sharehold letter around engag viewership around key piec properti',\n",
              " 'thank much spencer sinc spenc new netflix earn call go turn first question first congratul role new cfo netflix mayb give us percept role intrigu term move netflix first percept thing plan make focu tenur cfo netflix',\n",
              " 'would look like less financi metric cultur metric mean million household watch bird box well cultur mean exactli thing million plu peopl buy movi ticket see million household watch tv show cultur meaning peopl talk tweet post challeng differ thing want peopl care realli import part netflix subscript zeitgeist get watch program rest world love time gave number give sens scale scope think import artist understand audienc also understand size reach work see us ramp littl bit give share littl inform',\n",
              " 'eric also includ analysi total tv entertain market unit state point larg market billion hour day enjoy televis game platform linear dvd netflix everyth run larg fragment market incred set broad use televis televis entertain time wherea mobil phone laptop percent entertain percent work commun activ set broad contest nation smaller percentag total tv view less penetr great mark us',\n",
              " 'neutral',\n",
              " 'neutral',\n",
              " 'doubt driven theatric revis roma',\n",
              " 'neutral',\n",
              " 'neutral',\n",
              " 'mayb go back product side greg hear engag see content success platform help us understand littl bit product might evolv mean think one uniqu thing quarter interact black mirror product would love talk product side within netflix content creation side ted talk content partner interact someth new interest might spur engag product develop content relationship',\n",
              " 'neutral',\n",
              " 'ye think great exampl us tri take technic capabl flexibl distribut platform tri figur use thing innov storytel storytel format super excit abl way point drive engag definit see black mirror bandersnatch also sort extend pallet portfolio toolset storytel go work year come tell stori compel way super excit anticip start explor format turn ted talk content perspect',\n",
              " 'ye would say fals start interact storytel last coupl decad would tell one got storytel saliv possibl talk lot folk tri figur mean novel fit perfectli black mirror world great indic got hunch work across kind storytel greatest storytel world excit dig give sens five hour content produc episod peopl choos path countless way could go end incred challeng usual excit thing differenti netflix creator',\n",
              " 'think challeng also opportun right opportun bring technolog bear creat toolset creator make process easier effect',\n",
              " 'right',\n",
              " 'sure thank eric well first super excit part attract netflix tri build alway attract high end product qualiti ambit netflix creat first impress day nine long tri realli immers busi lot listen learn realli plan probabl first day sure',\n",
              " 'eric one piec data make releas percentag peopl chose frosti versu sugar puff answer frosti',\n",
              " 'level data transpar seen content yet',\n",
              " 'critic data point quarter',\n",
              " 'complet anecdot sheridan hous pick frosti multipl time fed number wife let bring togeth talk littl bit price increas subscrib trend money get reinvest back content spenc love turn say think free cash flow profil busi commentari letter around improv free cash flow beyond think fund busi approach busi alway taken capit market perspect think might differ past think go steadi goe think sort fund capit structur side equat albeit new role',\n",
              " 'sure well first feel great content invest realli invest even talk view number characterist speak degre return content invest return capit feel realli good obvious move own content product pull forward spend rel former oper model predominantli licens model',\n",
              " 'put pressur cash flow busi cash need busi past year saw letter neg cash flow busi roughli billion predict sort similar level meaning improv trajectori go forward come drive subscrib busi drive revenu drive scale margin busi commit coupl year ago last year commit oper margin beyond',\n",
              " 'busi characterist certainli allow healthi oper margin go forward look almost benchmark compar type compani feel good oper leverag busi long term ultim turn much posit contributor convers cash flow ultim aspir self fund believ time content invest',\n",
              " 'interim continu need access market forese chang approach talk fact access debt market continu think optim cost financ fund date continu pursu path',\n",
              " 'great back price increas subscrib forecast q want make sure clarif point number one sharehold letter talk price increas go effect q q rememb correctli last time price increas went effect month period mayb understand littl bit mechan price increas peopl understand decis process behind mayb flow number first half',\n",
              " 'sure take eric respect price chang u new price goe effect new member exist member phase next sever month see impact cours year mean obvious impact rate net addit growth first half year commensur also see asp domest improv cours year think drive acceler revenu growth cours also believ drive oper margin higher sequenti cours year enabl us hit target full year',\n",
              " 'alreadi struck first level integr collabor across compani aspect compani combin speed decis make move forward realli uniqu see also realli impress team qualiti team direct team across board passion commit continu innov improv improv content offer elev level qualiti servic deliv member exist member new member realli drive posit flywheel member ultim busi',\n",
              " 'mayb one followup came investor think price increas report specul press last coupl day might inform forward subscrib guidanc look like talk u paid net addit pretti similar level q versu q yet put price increas place last time fair bit conservat forward guid reconcil mayb framework guidanc versu price increas go marketplac investor interpret',\n",
              " 'sure eric would say chang term guidanc philosophi write everi quarter approach strive accuraci guidanc forecast take account known variabl awar set guidanc realli best guess design tri overli conserv overli aggress realli tri accur color provid respect question',\n",
              " 'great talk last interview topic year year frame compani test learn market front possibl pivot away fewer subscrib acquisit pivot toward spend money market side brand individu piec content compani learn year went process way alloc market dollar global scale arriv optimum outcom subscrib addit promot brand promot content drive engag appli lesson think way market might sort trajectori beyond',\n",
              " 'almost invest promot incred new titl like bird box primari focu least paid market side earn media side broad straight acquisit target market also spend bulk around promot incred new titl get broadli launch',\n",
              " 'great greg mayb follow think market dollar also think distribut product broadli think year struck lot partnership help distribut front love start greg love anyon chime feel partnership brought platform think partnership set aid platform awar distribut beyond think scalabl partnership look next coupl year',\n",
              " 'sure think decad plu sort pull long thread increasingli use partner differ way promot servic make easier member member sign partner long long time sort march integr devic make point engag servic thing like bill behalf bill integr latest sort iter work bundl model right earli process would say quit excit result see think mostli believ allow us access segment consum big entertain fan mayb sort technolog forward earli adopt',\n",
              " 'sign us directli put netflix set top box use access bunch video content includ netflix subscript packag either mobil subscript pay tv subscript make super super simpl folk get know netflix enjoy kind big show see like bird box et cetera',\n",
              " 'would anticip roll sky free europ quarter got come also worth note go grow segment busi small term acquisit impact nice supplement channel smaller rel total organ subscrib acquisit',\n",
              " 'would anticip roll sky free europ quarter got come also worth note go grow segment busi small term acquisit impact nice supplement channel smaller rel total organ subscrib acquisit',\n",
              " 'could add back last question eric distribut partner turn great promot content brand well',\n",
              " 'realli great got lot learn want thank everyon folk around compani patient help onboard realli one quick special shout david well unbeliev graciou time insight sure alway netflix hope long time come friend colleagu resourc',\n",
              " 'mayb one followup partnership one avenu move needl anoth whether home broadband space partner infrastructur compani multipl telephoni front promot mobil usag mobil engag platform seen roughli similar result irrespect type partner',\n",
              " 'would say everi market differ everi partner differ term goal messag commun subscrib link messag netflix messag well noth stand themat sort gener trend would say one increment look kind',\n",
              " 'mayb go back sharehold letter one phrase sharehold letter ted want ask phrase less focus second run program think one big investor debat question around netflix becom happen licens content may come platform beyond plan content come platform mean invest mean engag mayb reflect upon statement sharehold letter inform mayb mix shift plan process content look beyond',\n",
              " 'well licens deal multiyear get get caught long term content commit part content rememb earli invest origin content six year ago bet would would come day studio network may opt licens us content favor mayb creat servic corner glad saw around year ago',\n",
              " 'today say vast major content watch netflix origin content brand licens lot second run content lot episod show like grey anatomi friend hundr episod lot hour watch stack view sort like top top watch show season seri domin primarili origin content brand still buyer second run market pre buyer buy show come sometim aftermarket buyer realli seller whether want continu sell',\n",
              " 'ad ted comment top brand origin like bird box phenomen unscript first categori major view brand origin categori climb yet major track',\n",
              " 'two year ago origin unscript content fast move take place',\n",
              " 'eric also said overli depend one singl piec content well view quit divers',\n",
              " 'next origin well',\n",
              " 'right ted mention licens deal stagger sort waterfal period time sort cliff',\n",
              " 'great mayb sinc end one year begin anoth love turn reed mayb reed ask set tabl big learn thing felt compani realli attack marketplac look beyond big opportun big challeng tri focu entir manag team around term execut plan look forward netflix',\n",
              " 'waterfal cliff right',\n",
              " 'roll',\n",
              " 'go ahead',\n",
              " 'mayb follow one piec content side one question came moder quarter coupl differ way think ownership content versu co product content right mix shift medium longer term pro con approach either co product versu outright ownership think develop next coupl year',\n",
              " 'well one thing main goal make best content said said previou quarter combin sever differ busi model depend own ip go make best show stuck busi model consum realli understand even want spend time think',\n",
              " 'way exampl last year differ show around world premier network somewher netflix everywher els world next year closer combin co produc local produc countri show air network countri premier netflix say co product mean come script stage come first money stage involv creativ product show',\n",
              " 'bodyguard good exampl produc itv bbc premier uk time releas netflix around world produc togeth script stage involv product show outsid uk netflix origin show uk follow broadcast window bbc great success show around world one addit data point million household watch bodyguard netflix first four week good exampl take show anywher world rest world one wherebi territori use tradit televis network would make one show take mace mace screen tri sell market market market less less case work produc network pre buy co produc rest world similar evolut old studio film busi studio use carri intern right sold frequent go intern co product',\n",
              " 'eric think time one question pleas',\n",
              " 'sure mayb turn back reed think one interest section sharehold letter reed talk competit landscap big question big debat get lot investor talk lot way ship rise talk littl bit landscap see landscap attract user retent user engag monet attract content creator think competit landscap evolv think navig longer term reed',\n",
              " 'ship rise littl pollyanna optimist think realli win time away entertain time activ instead xbox fortnit youtub hbo long list want win provid better experi advertis demand incred content think u term exampl billion hour televis content consum today win',\n",
              " 'year tri pleas member realli focu year year got way tri figur show work best product featur work best learn organ virtuou cycl improv servic member grow give us money invest thing alway greater scale',\n",
              " 'like disney great content excit launch mayb grow coupl year million hour day billion compet broadli differ provid one provid enter make differ margin get focus one competitor realli think best way win time best experi thing help us lot anoth thing help us lot david well cfo last year incred joyou partnership wrap call go turn david well come say goodby',\n",
              " 'surpris guest reed group great give sort last word thank giant thank investor nearli year quarter includ one cfo plu growth valu compani big part realli thank respect got super high confid spenc spent lot time togeth think go great next phase netflix growth realli thank thank investor thank',\n",
              " 'fair enough obvious think almost everi convers quarter start perform busi saw strong subscrib quarter strong comment way subscrib continu start year throw open broader team mayb start reed see subscrib landscap look way busi perform q kind confid give growth opportun look earli',\n",
              " 'goldman sach group inc nyse gs q earn confer call januari et',\n",
              " 'guy moszkowski autonom research',\n",
              " 'sure let make one sort open comment expens gener invest cogniz market volatil market like mind pace invest spend cadenc context market know prioriti lie extent market chang circumst chang know lever sort throttl back fact need whole invest cadenc remain agil mind look increas overal expens billion million relat compens billion relat noncomp noncomp half relat higher provis litig rev rec sort isol million increas spend relat invest view drive growth higher activ bc e invest spend differ project david talk whether marcu whether corpor cash manag whether build increment platform insid secur trade busi million said continu invest view rate growth expens grow rate growth less rate growth saw go continu look deploy exist oper leverag busi sourc invest spend busi overal',\n",
              " 'oper',\n",
              " 'next question line christian bolu bernstein',\n",
              " 'chinedu bolu',\n",
              " 'david mayb step back littl bit curiou think drive superior long term sharehold return think last two year firm actual execut pretti well deliv better peer revenu growth better peer core roe despit put side stock underperform even mdb issu chang go forward reason think market final start give stock credit revenu growth roe metric focus drive sharehold return',\n",
              " 'david solomon',\n",
              " 'sure appreci question obvious cogniz way market look busi mix also cogniz perform stock hard predict tri predict market recogn return progress job stay focus deliv return sharehold time confid balanc appropri way focus number year diversifi platform move forward want say put context highlight mayb differ way progress made mani obvious follow compani long time',\n",
              " 'year ago said one call would year ficc ic revenu less billion make signific invest build digit consum platform happen situat indiscern litig expens would deliv billion revenu return peopl would said possibl reason happen work number year broaden busi expand address wallet point time increas durabl revenu see slide put begin last x number year year move less fee base recur revenu today continu commit develop plan move forward see thing exist busi adjac build mention feel confid continu push return higher especi also continu focus run firm effici stephen state commit',\n",
              " 'think posit opportun continu path think one thing candidli need continu better hope see call commit need better job give inform explain think make progress think candidli work go continu remain focus hope time focu expand busi diversifi busi stay true excel thing alway core busi commun better ultim market follow go stick',\n",
              " 'chinedu bolu',\n",
              " 'matthew connor deutsch bank',\n",
              " 'appreci candor sens sens urgenc voic ficc talk optim busi help us level set kind margin roe busi today exactli help busi get roe closer firm wide roe ficc top line guess increas electron volum improv wallet share drive materi revenu growth materi revenu share growth think actual drive revenu share growth go forward',\n",
              " 'david solomon',\n",
              " 'okay go start christian make coupl comment stephen go think littl bit detail specif mention want start say realli like ficc busi realli big import busi confus fact avail wallet market intermedi larg institut materi declin cours last five year one thing interest last two year becam presid start spend time broader divers array client alway go last decad decad see invest bank client alway told extraordinari thought peopl way team work togeth way execut opportun last two year go spend lot time secur divis client client fix incom say exactli thing peopl realli differenti risk taker capabl realli differenti',\n",
              " 'execut realli differenti strong client franchis busi busi fundament chang wallet chang would highlight go back look wallet market share financi crisi wallet share rang look wallet share today wallet share around aberr kind period wallet share peak continu build franchis laser focus build one thing said comment want reiter accept size wallet share exist job run busi well base wallet share alloc capit time effici run busi effect way cost perspect continu continu invest client franchis stephen think make comment add specif detail part question',\n",
              " 'stephen scherr',\n",
              " 'christian pivot david comment mean think object identifi appropri tam mean address market play absolut right point increas market share david refer among institut client last coupl year demonstr revenu convers part move us direct expand corpor coverag corpor touch point relat ficc use channel exist relationship exist invest bank mention prepar remark seen modest improv particularli commod foreign exchang address market go take take part part front back u proper expens size wallet tam amount debt liquid need put busi amount risk need take context intermedi risk client ultim amount capit put someth david woken',\n",
              " 'fact look last sever year year lot work go insid busi reduc expens period reduc rwa period importantli activ engag move realloc capit around firm move away smaller busi ficc put invest bank busi around firm sort put much headlin lot activ perhap institut evolutionari process begun greater sens urgenc purpos context david describ think clear view along run busi get right place right size input alloc busi',\n",
              " 'oper',\n",
              " 'next question line guy moszkowski autonom research',\n",
              " 'guy moszkowski',\n",
              " 'michael carrier bank america merril lynch',\n",
              " 'first ask question want say think realli serv sharehold well new fulsom strateg review outlook want thank guess behalf everybodi use see',\n",
              " 'david solomon',\n",
              " 'thank guy appreci',\n",
              " 'stephen scherr',\n",
              " 'thank feedback',\n",
              " 'guy moszkowski',\n",
              " 'ye worri want follow christian question ficc hope mayb could quantifi us capit realloc expens realloc allud prepar remark also answer question',\n",
              " 'stephen scherr',\n",
              " 'ye mean think quantif give realli sort part respond term christian question last five year said taken expens rwa realloc capit think hope expect david back cours next sever month clear indic specif alloc resourc hesit part front back review engag right answer question ask understand address market includ expand set custom client focu quit clear take market input drive busi whether expens liquid capit otherwis expect back clear view take lift time',\n",
              " 'guy moszkowski',\n",
              " 'betsi graseck morgan stanley',\n",
              " 'okay help obvious look follow question differ direct follow comment made mdb situat litig reserv bill quantifi guess question would give us sens point much bigger reason reason possibl loss rpl see k',\n",
              " 'stephen scherr',\n",
              " 'sure sort clear folk said fourth quarter litig expens million full year took litig expens million sit comment rpl obvious disclos k premis know noth could chang base know rpl neighborhood billion independ reserv otherwis list',\n",
              " 'oper',\n",
              " 'next question line matt connor deutsch bank',\n",
              " 'matthew connor',\n",
              " 'wonder could talk bit think optim capit expect kind move one area anoth area firm hope mayb free capit sharehold buyback dividend thing like',\n",
              " 'stephen scherr',\n",
              " 'would say coupl variabl term deploy capit gener matter first obvious look opportun deploy capit accret opportun around growth initi continu effect redeploy capit busi show less promis term overal return opportun exist new growth busi show higher promis secondli tell limit obvious term share buyback virtu ccar continu prudent aggress term return capit within confin ccar obvious yet receiv scenario plan year factor best think way think deploy capit gener speak one intern realloc base growth second growth sens want invest area carri accret return sharehold grow ambit mo around',\n",
              " 'matthew connor',\n",
              " 'brennan hawken ub invest bank',\n",
              " 'mayb question david capit theme still clearli review busi look make revenu annuiti like someth think accomplish organ think mayb supplement deal obvious within deal done small bolt one continu question think among investor analyst need bigger deal help balanc busi mayb comment thought',\n",
              " 'david solomon',\n",
              " 'sure look would expect us look option grow franchis organ inorgan extrem focus organ opportun actual think plan develop organ plan drive meaning higher return time prefer would alway drive organ progress busi said mani meet individu say look inorgan opportun think continu see smaller add opportun across busi particularli look asset manag wealth manag bar signific inorgan move extrem high someon around signific portion career know bar extrem high job manag team well vers opportun think advanc return cost sharehold oper way move forward',\n",
              " 'oper',\n",
              " 'next question come line mike mayo well fargo secur',\n",
              " 'michael mayo',\n",
              " 'tri mdb question much relat u like secur secur u secur buyer u transact structur u reason ask help determin whether secur exchang act appli',\n",
              " 'stephen scherr',\n",
              " 'mike thank question secur reg secur sold non u buyer structur u reg destin sold u buyer',\n",
              " 'michael mayo',\n",
              " 'steven chubak wolf research',\n",
              " 'right help gener question mdb certainli news mani articl talk moral employe potenti impact custom spillov effect mdb custom employe busi way happen legal regulatori realm',\n",
              " 'david solomon',\n",
              " 'sure appreci question obvious think monitor care first talk employe first think moral firm employe high employe feel good perform firm like fact deal situat mdb certainli think peopl extrem angri upset fact partner firm involv signific fraud said remark someth enorm regret busi perform well think peopl recogn someth go delib process resolv peopl feel good firm client franchis work client way firm posit term client obvious extrem engag client talk client regular basi would say impact client franchis point across globe de minimi way shape form awar nois press articl read watch moment would say impact reput dent firm work said deal client stay focus client execut think also cogniz fact lot get press come motiv context resolut difficult process',\n",
              " 'oper',\n",
              " 'next question line betsi graseck morgan stanley',\n",
              " 'betsi graseck',\n",
              " 'question cash manag busi talk begin call david want understand much invest go technolog side invest plant equip term bank licens global need order type offer partner local bank follow relat think loan growth',\n",
              " 'stephen scherr',\n",
              " 'sure betsi stephen take context corpor cash manag rememb interest part view look sort signific relationship invest bank across corpor pay consider amount market almost equal pay market particip name advisori underwrit busi pay around treasuri servic corpor cash manag given histor kind problem lend bank fact pick lend credit sort gave us entri point convers also say perceiv pain point among corpor treasuri technolog platform work underwhelm look bank pay oper deposit de minimi perspect someth clean sheet paper build technolog design edg way address pain point',\n",
              " 'candidli competit point view oper deposit quit attract us even pay rate well paid bank context substitut wholesal fund look technolog build would say certain element synergist technolog build undertak includ marcu includ build strengthen legal equiti gs bank us exampl develop payment hub obvious central context marcu equal would term corpor cash manag busi develop last year term abil make use mani mani vendor build cloud integr vendor way would requir organ build insid organ way necessari think build grow go select thing peopl box select certain currenc among major currenc play interest vendor solut take secondari tertiari market necessarili need build correspond bank relationship prolifer basi year ago intend way think technolog hand right time think execut also point asid first custom platform fact goldman sach reduc cost oper deposit outsid bank think process de risk firm perspect',\n",
              " 'jame mitchel buckingham research group',\n",
              " 'betsi graseck',\n",
              " 'think get paid busi mean histor industri part come lend want confirm part expect get paid also think capit alloc loan book corpor consum awhil back commentari mayb marcu loan growth would slow touch also think balanc sheet util toward loan versu toward buyback',\n",
              " 'stephen scherr',\n",
              " 'sure want clear look p l prospect model return get return lend part look context corpor cash manag come back lend question context corpor cash manag basic compon okay one signific oper deposit use us probabl use substitut wholesal fund second tie back adjac secur busi captiv fx play context corpor cash manag gener third candidli probabl smallest three fee servic',\n",
              " 'refer lend point long long time busi sort exclus provinc lend institut corpor time grown corpor lend book reason obvious unrel corpor cash manag plan year ago part strateg grow develop term broader set product relationship corpor ongo continu go go attend risk issu like p l gener lend motiv factor point effect gate item way corpor cash manag thought lender prolif lender regard therefor think sort access right titl sort play compet busi',\n",
              " 'oper',\n",
              " 'next question line brennan hawken ub',\n",
              " 'brennan hawken',\n",
              " 'curiou marcu deposit heard last day bank comment likelihood could see retail deposit cost increas even see short term rate increas play could mayb let us know would think keep posit competit market upper end bound far payout goe would adjust think far market deposit go',\n",
              " 'stephen scherr',\n",
              " 'devin ryan jmp secur',\n",
              " 'sure think look histor time acquir ge deposit platform u would say beta lower go mean remain lower one rate environ littl way movement rate acceler rate context interest rate move object u alway alway top kind sort tabl rate paid would point particularli motiv pay need draw deposit obvious rate depend even level well beyond current pay remain accret sort fund firm rel fund like like durat wholesal market think diversif overal brought us retail deposit posit kind stori rate u k would say open perfectli candid much demand anticip think give us abil moder sort acceler rate think beneficiari sort hit nerv u k market pay high street bank deposit came way influx think give us maneuver rate side',\n",
              " 'brennan hawken',\n",
              " 'terrif appreci second question seen spread net back loan market recov clo lever loan becam big topic fourth quarter could mayb let us know manag risk warehous much warehous fund third parti equiti fulli fund third parti manag counterparti risk provid',\n",
              " 'stephen scherr',\n",
              " 'sure go number way start say clo exposur small neighborhood billion half fund look broadli risk exposur term leverag lend like remain small rel term look underwrit book underwrit book skew heavili toward invest grade look lbo risk singl digit term sit appreci lower certainli go back financi crisi feel good risk would say come other risk perspect look book feel comfort flex underwrit commit pleas sort underwrit concess see flow fund back bond fund loan fund took turn januari rel outflow saw decemb see invest grade deal move see cap term indic dashboard play favor seen past think comfort term overal risk',\n",
              " 'oper',\n",
              " 'next question line steven chubak wolf research',\n",
              " 'steven chubak',\n",
              " 'want start question effici commentari say quit encourag remark realli stephen david focus drive effici higher account individu team one interest thing big focu investor benchmark effici ratio peer realli focus busi compar effici ratio rang peer set look like shook somewher closer alreadi closer midpoint wonder whether give us insight think long term effici goal realli benchmark across peer continu drive focu effici across individu team',\n",
              " 'stephen scherr',\n",
              " 'gerard cassidi rbc capit market',\n",
              " 'sure thank question comment mean view effici ratio migrat need look across expens particularli build sort platform driven busi less compens expens intens oper intens obvious margin margin build scale around increas henc turn direct would point look effici ratio report number flat year year notwithstand growth expens equal litig reserv number took number direct would basi point lower term effici ratio report suggest report anyth correct give sens migrat hard know right give sens forward target would think time expect us base revenu durabl revenu david talk recur revenu basi platform extract greater effici busi busi skew direct run front back come month meet sit hope guid direct speak go downward trend one hope continu realiz',\n",
              " 'steven chubak',\n",
              " 'stephen insight quit help one follow relat comment margin margin improv know littl year ago initi laid growth target revenu side billion talk margin margin clearli requir frontload invest wonder half increment revenu growth still ahead us think increment margin next billion revenu growth technic difficulti',\n",
              " 'stephen scherr',\n",
              " 'technic difficulti exampl lend busi growth mode continu reserv build right point comfort steadi state start see margin increas think busi whether corpor cash manag marcu earli stage yet hit stride notwithstand expect hit target set target mean limit think take firm term overal growth trajectori gener would also say commentari effici higher margin margin limit exclus kind growth initi look ficc exampl ficc time david talk element platform electronif mean drive higher volum narrow bid offer spread think even progress initi build platform realiz greater margin incumb busi commentari limit growth side',\n",
              " 'oper',\n",
              " 'next question line jim mitchel buckingham research',\n",
              " 'jame mitchel',\n",
              " 'mayb strategi question retail alway think goldman core compet creat wealth manag kind led retail bank appreci comment start build digit wealth thought plan think also build complet brokerag platform well kind leverag gain throughput institut platform',\n",
              " 'david solomon',\n",
              " 'oper',\n",
              " 'talk think marcu think marcu start one plan one product plan alway build platform platform would digit would storefront could distribut multipl product product origin come platform product mayb distribut other alway focu fact massiv wealth manag busi high end alway shi away broaden footprint make retail anoth lack term way could previous basic big brokerag lot reason think us own big brokerag someth want thought strateg go forward firm would go digit platform opportun acquir client feed client platform much effect cost custom acquisit basi vision continu build platform add product connect wealth manag busi time',\n",
              " 'oper',\n",
              " 'next question line devin ryan jmp secur',\n",
              " 'devin ryan',\n",
              " 'great guess first question gave littl bit preview go ask anoth one front back review think larg view kind net cost cut capit reduct exercis side earli read specif exist busi look like might deserv invest capit mayb previous realiz know go come first quarter result expect',\n",
              " 'david solomon',\n",
              " 'sure first obvious want front back look busi element cost cut capit alloc real purpos look busi front back start fundament purpos understand address market opportun set resourc figur effect way deliv want clear new manag team would larg compani start path evolv strategi realli want look opportun busi abil deliv opportun high level purpos front back opportun also effici highlight stephen coupl comment respect kind detail',\n",
              " 'stephen scherr',\n",
              " 'well would point think go cascad organ mean ambit put cost direct control busi own front back effect ought pretax line mean own revenu line cost base point keep certain function core would expect us control risk point view element op element tech held core needless say second third line control remain core look sort put cost control hand busi drive busi greater effici proposit term conduct',\n",
              " 'oper',\n",
              " 'compani particip',\n",
              " 'good morn name denni confer facilit today would like welcom everyon goldman sach fourth quarter earn confer call call record today januari thank',\n",
              " 'next question come line gerard cassidi rbc',\n",
              " 'gerard cassidi',\n",
              " 'guy share us apolog address impact think mifid chang equiti busi obvious good number quarter year year growth larg larg competitor give us color month guy seen chang mifid ii',\n",
              " 'stephen scherr',\n",
              " 'sure seen mifid ii realli market share consolid play one level geographi anoth level term individu firm seen share consolid consolid share move certain european bank u bank term share equiti within becom kind tight game needless say major player expect go continu see consolid hope continu benefit share consolid think part develop mani year continu research platform high valu content play share come back us consequ',\n",
              " 'oper',\n",
              " 'time question pleas continu close remark',\n",
              " 'stephen scherr',\n",
              " 'okay sinc question would like take moment thank everybodi join call behalf senior manag team hope see mani come month addit question aris meantim pleas hesit reach heather otherwis enjoy rest day look forward speak first quarter call april thank',\n",
              " 'oper',\n",
              " 'ms miner may begin confer',\n",
              " 'ladi gentlemen conclud goldman sach fourth quarter earn confer call thank particip may disconnect',\n",
              " 'heather miner',\n",
              " 'good morn heather miner head investor relat goldman sach welcom fourth quarter earn confer call today use new earn present found investor relat page websit www gs com inform forward look statement non gaap measur appear earn releas present technic difficulti reproduc rebroadcast without consent',\n",
              " 'today call join chairman chief execut offic david solomon chief financi offic stephen scherr note agenda page present david provid introductori remark strateg prioriti perspect macro environ updat mdb stephen walk financi perform happi take question',\n",
              " 'pass call david david',\n",
              " 'david solomon',\n",
              " 'thank heather thank everyon join us morn happi look forward join call regular basi go start morn reiter fulli commit activ ongo dialogu sharehold broader stakehold excit new call format present initi step continu enhanc engag disclosur',\n",
              " 'shown page import underscor overarch prioriti execut core mission serv divers client franchis includ corpor govern institut individu execut client centric model drive long term sustain valu creation sharehold remain commit deliv full rang servic client includ advic market liquid invest manag financ mani know john stephen conduct comprehens front back review across busi includ year forward plan identifi opportun strengthen expand client footprint oper effici also pursu new way deepen exist relationship expand client footprint develop new product busi platform',\n",
              " 'strateg busi review progress let highlight earli find shown right side page start market make busi ficc equiti spent signific amount time evalu aspect busi includ deliveri model focu provid best class client experi execut achiev continu invest autom platform enhanc also activ engag pursu opportun grow address market broaden client relationship improv mix product servic particularli corpor',\n",
              " 'heather miner head ir',\n",
              " 'specif relat ficc lead institut market make franchis client tell differenti peopl capabl particularli intermedi larg complex risk let direct fulli cogniz reduct industri wallet past decad stephen mention bank america merril confer complac wait market return run busi clear perspect revenu potenti',\n",
              " 'recent year made signific progress improv capit util realloc capit away ficc commensur potenti order grow strateg import higher return busi continu optim capit busi also see opportun reduc expens invest autom expect mani busi within ficc evolv similarli equiti effort posit franchis remain provid choic improv return sharehold',\n",
              " 'secondli world class altern invest franchis gener strong return decad one uniqu sourc platform given global footprint broad network franchis present us extraordinari opportun partner client invest capit alongsid base track record opportun rais addit third parti fund across equiti credit real estat therebi augment fee incom simultan continu monet balanc sheet invest optim capit consumpt',\n",
              " 'next cash manag evalu opportun improv servic client expand franchis cash manag present illog area us given breadth corpor relationship size wallet addit pace technolog chang payment space give us confid appropri time us address opportun month year build firm first use cash manag platform later addit valid product oper payment flow reduc cost oper risk among assum progress plan expect launch product client',\n",
              " 'lastli bring market busi invest manag closer continu evolv market singl product multiproduct platform serv million custom lend save product clariti money plan enhanc platform includ multiti mass affluent digit wealth offer current develop confid collabor catalyst success execut strategi time',\n",
              " 'across invest growth combin signific focu oper effici begin deliv commit enhanc durabl revenu earn continu review strateg prioriti board plan commun comprehens updat market come month addit later year plan share specif metric financi target use hold account ultim oper firm drive lead sharehold return cycl',\n",
              " 'discuss result make observ oper environ highlight page recent quit disconnect weak market sentiment optim continu see corpor board room fourth quarter particularli decemb character declin investor sentiment respect global growth outlook concern central bank would continu tighten slow growth environ caus weak equiti credit market result increas volatil mani macro asset creat challeng mani institut invest client also drive potenti futur opportun activ manag add valu',\n",
              " 'addit absolut level activ real economi remain fairli robust reflect broad ceo sentiment invest bank transact backlog despit global uncertainti includ u china trade polici brexit plan remov monetari polici stimulu europ recent yield curv flatten economi still see global growth next year includ u euro zone china acceler latin america notwithstand mix market macro backdrop remain activ engag client across franchis corpor continu seek advic strateg transact need equiti debt financ financi market open investor continu need execut servic intellectu capit hedg liquid solut client continu need comprehens asset wealth manag advic individu need simpl transpar financi servic add valu',\n",
              " 'next like take moment address ongo investig relat matter malaysian sovereign develop fund mdb want proactiv address question know mind stakehold',\n",
              " 'first cooper depart justic regul focus time delib process believ establish import fact review matter last year cours would like provid inform still open investig natur respect process',\n",
              " 'david solomon chairman ceo',\n",
              " 'clear peopl malaysia defraud mani individu includ highest member prior govern tim leissner partner firm admiss one peopl leissner role fraud apolog malaysian peopl would expect look back continu look back see anyth firm could done better time want know transact consider due dilig conduct control function firm ask transact whether intermediari involv told tim leissner said intermediari involv transact detail govern charg document leissner purpos conceal firm scheme malaysian govern offici ipic offici mdb jho low',\n",
              " 'significantli part due dilig effort time sought receiv written assur mdb ipic intermediari involv first transact final offer govern malaysia mdb repres intermediari involv offer represent goldman sach proven fals also period mdb outsid auditor access book record issu clean audit opinion',\n",
              " 'addit want address issu jho low view transact declin jho low request open privat wealth account could verifi sourc wealth prudenc also declin advis repres low opportun present us said period time jho low involv number transact unrel mdb well known number financi institut includ us',\n",
              " 'fact mdb transact low engag major compani investor financi institut acquir highli visibl asset media real estat clearli lot known jho low today time difficult time proud firm remain focus client client franchis includ asia remain extrem strong alway import lesson learn difficult situat prioriti self critic reflect ensur cultur integr collabor escal improv experi pleas appreci tri forthcom possibl comment mdb know mani addit question sure understand say much',\n",
              " 'let switch gear review perform highlight page full year firm report solid result gener firm wide net revenu billion highest year deliv return equiti return tangibl equiti importantli make signific invest expand client franchis grow revenu enhanc long term earn profil firm cost fund embed oper leverag busi',\n",
              " 'summari extrem pleas perform deliv solid year result leav us strong foot pursu strateg object beyond team assembl execut prioriti includ john stephen increas sens urgenc disciplin help move busi forward',\n",
              " 'turn call stephen walk us detail financi perform stephen',\n",
              " 'stephen scherr',\n",
              " 'thank david let begin overview financi result page present firm report fourth quarter net revenu billion result billion full year net earn billion quarter billion full year earn per share quarter result full year',\n",
              " 'begin detail discuss result want cover adjust financi first increas transpar make result consist competit set present net revenu credit provis ad credit provis line incom statement prior period reclassifi conform current present impact bottom line result give basi clear comparison',\n",
              " 'stephen scherr cfo evp',\n",
              " 'second expens relat consult temporari staff previous report compens benefit expens report profession fee also impact bottom line result million transfer line item full year chang also reduc headcount approxim',\n",
              " 'addit chang present financi statement would call follow item first fourth quarter result includ net provis litig regulatori matter million total provis litig regulatori matter amount million obvious elev oper expens line year',\n",
              " 'second tax rate rate includ million discret benefit true prior estim impact tax legisl benefit reflect impact updat inform includ subsequ guidanc issu treasuri rate also includ million benefit relat equiti base compens year item tax true equiti base compens account approxim percentag point decreas tax rate project normal rate approxim import highlight pretax earn increas billion equat increas approxim basi point return common equiti normal tax year year improv oper perform despit materi higher litig expens',\n",
              " 'let turn result overal david mention environ turn mix first quarter demonstr continu strength global equiti credit market despit geopolit uncertainti fourth quarter wit higher level market volatil increas client engag neg perform across virtual asset class evolv backdrop concentr serv client invest drive busi forward',\n",
              " 'overal perform demonstr valu diversifi busi model strength client franchis reflect balanc revenu contribut across busi shown pie chart page present net revenu gener fee base recur sourc versu year ago',\n",
              " 'turn page individu segment invest bank outstand perform produc near record result fourth quarter busi produc net revenu billion versu third quarter signific pickup complet help offset declin underwrit revenu difficult market backdrop slow issuanc volum global advisori revenu billion rel third quarter reflect growth complet transact rank announc complet global fourth quarter full year advis nearli transact close year repres approxim trillion deal volum also particip announc transact total nearli trillion includ billion transact billion deal valu reflect progress broaden client coverag',\n",
              " 'move underwrit market volatil declin equiti price wider credit spread weigh issuer sentiment net revenu sequenti fourth quarter million full year invest bank net revenu billion increas financi advisori underwrit addit lead advisori posit held posit equiti underwrit global high yield invest grade reflect multiyear commit build debt underwrit franchis',\n",
              " 'invest bank franchis overal remain well posit continu grow strong perform reflect continu focu build long term client relationship ongo invest talent capabl end invest bank backlog meaning higher finish notwithstand declin versu last quarter increas come despit robust revenu product',\n",
              " 'turn institut client servic page net revenu billion fourth quarter compar fourth quarter last year despit higher volatil difficult market backdrop particularli ficc full year ic gener billion net revenu compar driven healthier volum better wallet share improv execut certain busi notabl commod ficc client execut net revenu million fourth quarter versu amid challeng market condit particularli credit lesser extent rate credit account roughli year year declin result impact deterior environ high yield distress credit spread widen lower level liquid exacerb challeng would also note one particular posit call materi effect',\n",
              " 'remain decreas reflect lower result rate ficc busi rel consist last year perform fourth quarter challeng due market environ overal busi improv full year ficc net revenu billion repres year year growth importantli continu seek improv ficc perform strateg initi',\n",
              " 'confer call particip',\n",
              " 'first success increas wallet share basi point sinc institut client base per coalit howev provid minim top line benefit far given market backdrop nevertheless continu broaden client product footprint deepen relationship drive higher rank market share',\n",
              " 'second remain focus leverag best class invest bank relationship better serv corpor client effort begin yield result commod foreign exchang import reli market turn yield better result look expand client footprint',\n",
              " 'lastli remain focus continu invest engin electronif enhanc platform process allow us better serv client streamlin expens capit new platform enabl us innov faster pace scale busi deliv differenti client centric solut institut corpor client demonstr momentum see revenu ficc electron busi last year',\n",
              " 'move page equiti relat fourth quarter stori better one net revenu billion year year equiti client execut net revenu significantli versu challeng fourth quarter better perform cash commiss fee higher attribut increas client activ follow signific uptick volatil particularli low touch continu gain market share secur servic net revenu decreas slightli reflect lower averag custom balanc',\n",
              " 'equiti produc net revenu billion year year year continu benefit industri consolid ongo effort increas client connect share global equiti market volum increas basi point versu includ growth across region reflect multiyear posit trend optimist theme consolid scale provid continu mifid ii went live month ago',\n",
              " 'move equiti invest lend page equiti secur gener net revenu billion quarter reflect continu strong result privat equiti invest approxim net revenu gener real estat primarili reflect gain sale full year equiti invest lend gener net revenu billion global privat public equiti portfolio consist differ invest remain diversifi across geographi invest vintag seen slide continu reinvest drive futur long term perform invest portfolio made last year equiti balanc sheet end quarter billion includ public portfolio billion billion privat equiti revenu equiti l also gener cie invest billion substanti real estat',\n",
              " 'move debt invest lend page fourth quarter net revenu debt secur loan million larg driven net interest incom roughli million full year debt invest lend gener billion net revenu includ net interest incom approxim billion would point account futur growth begin annual net interest incom run rate billion debt invest lend balanc sheet shown lower left page end quarter billion includ billion loan billion debt secur lend franchis adjac continu remain conserv approxim loan portfolio secur year end quarter took provis loan loss million reflect loan growth',\n",
              " 'turn invest manag page busi produc net revenu billion fourth quarter flat sequenti manag fee billion incent fee million transact revenu million full year invest manag net revenu record billion year year larg driven growth incent fee manag fee asset supervis finish trillion full year asset supervis increas billion result billion long term net inflow primarili fix incom equiti asset billion net inflow liquid product offset net market depreci billion primarili equiti trail year attract total cumul organ long term net inflow approxim billion busi remain well posit growth continu invest peopl make bolt acquisit enhanc product offer better serv client',\n",
              " 'let turn page expens continu invest busi lose focu expens disciplin remain prioriti david john go detail reiter undertak full review firm wide expens base relatedli part front back review hold busi higher level account focu oper effici oper expens billion nonetheless maintain stabl effici ratio approxim revenu growth fund invest busi',\n",
              " 'let take compon oper expens compens benefit expens amount half rate growth revenu translat compens net revenu ratio basi point versu like like basi compens ratio declin approxim basi point year year',\n",
              " 'glenn schorr evercor isi',\n",
              " 'fourth quarter oper expens billion mention earlier includ litig expens million well donat million goldman sach give donor advis charit fund full year oper expens rose roughli half increas relat client activ invest growth includ increas million provis relat litig regulatori proceed approxim million higher expens relat account chang due revenu recognit standard substanti remain increas million invest drive growth higher activ reflect brokerag clear exchang fee',\n",
              " 'move tax mention earlier tax rate base current interpret rule legisl guidanc date expect tax rate exclud impact equiti base compens',\n",
              " 'turn page capit common equiti tier ratio use standard approach advanc approach basi point basi point respect versu third quarter improv advanc ratio reflect basi point relat lower credit risk weight asset due inclus firm default experi determin probabl default calcul supplement leverag ratio finish',\n",
              " 'full year repurchas million share common stock worth billion contribut reduct basic share count million share year reach record new low addit paid approxim billion common dividend cours year total return billion capit sharehold',\n",
              " 'turn balanc sheet liquid page global core liquid asset averag billion fourth quarter balanc sheet billion versu last quarter continu shift fund mix unsecur long term debt deposit consum deposit busi rais billion includ nearli billion u k rais increment consum deposit continu benefit firm increas fund diversif lower financ cost capac increas busi bank subsidiari exampl addit carri vast major firm lend busi gs bank usa conduct rate increas compon fx busi',\n",
              " 'take question close thought enter well posit despit recent market volatil remain commit serv grow global client franchis build progress made expand address market beyond achiev continu invest franchis broaden improv client capabl technolog talent engag new disrupt activ',\n",
              " 'lastli manag team motiv initi learn front back review earli work indic need certain chang also reinforc strength breadth franchis share come month continu push evolv busi enabl us grow deliv attract long term return sharehold',\n",
              " 'thank dial open line question',\n",
              " 'question answer session',\n",
              " 'oper',\n",
              " 'michael mayo well fargo secur',\n",
              " 'oper instruct first question line glenn schorr evercor',\n",
              " 'glenn schorr',\n",
              " 'want talk l combo equiti heard comment public piec small piec heard comment realiz half real estat half real estat realiz curiou remind us market work privat piec obvious public market lot much use dcf cash flow ebitda growth versu public comp',\n",
              " 'stephen scherr',\n",
              " 'sure thank glenn appreci question l space focu equiti side question privat portfolio obvious much larger compon whole rel public secur look valuat privat portfolio would tell revenu basi privat portfolio revenu come event relat underli compani relat oper progress particular busi give coupl exampl give sens look cours privat portfolio saw sale across number differ name hearthsid food ipreo psav paycor centaur game either sale partial sale',\n",
              " 'togeth five name contribut million revenu overal result firm also point context event play obvious sale partial sale situat increment round equiti come particular name financ goe around name two name point signific contributor p l l side equiti woowa korean invest name doubt know uber transact tender softbank other particip contribut uplift p l relat name point want convey much happen context p l privat portfolio relat model per se rather gener event observ event goe half relat gener perform busi could imagin deploy number differ metric term arriv valuat think import element convey side long histori invest side particularli equiti sourc interest sometim uniqu opportun busi demonstr stabil growth trajectori perform feed methodolog deploy privat portfolio independ event driven situat',\n",
              " 'glenn schorr',\n",
              " 'okay help set follow love idea open l curiou vintag disclosur hard tell done big rais prime fund last year importantli process word love concept hous perform need add staff need build distribut simpl get doc order put new fund',\n",
              " 'david solomon',\n",
              " 'start glenn comment obvious busi long time know appreci evolv multipl busi also evolv regulatori front let us certain path respect busi rais fund gone back exampl tradit merchant bank privat equiti busi rais fund last month rais billion billion fund call goldman sach capit partner vii pretti much client money plan current plan rais number fundrais cours next coupl year exist plan someth identifi think real opportun given scope magnitud platform firm add resourc broaden plan rais money capit given uniqu platform uniqu sourc capabl look opportun compar would signific growth us compar peopl busi given platform invest resourc capabl manag money institut individu client meaning growth without set overli ambiti target process outlin much clear way hire addit resourc need ad signific build fundament invest platform exist opportun leverag',\n",
              " 'chinedu bolu sanford c bernstein co',\n",
              " 'oper',\n",
              " 'next question line michael carrier bank america merril lynch',\n",
              " 'michael carrier',\n",
              " 'stephen mayb one l busi obvious one tough predict think sale mention drove benefit quarter give us kind color indic mayb valu portfolio versu like cost base get sens mayb potenti like realiz sale next year could potenti',\n",
              " 'stephen scherr',\n",
              " 'sure thank question think difficult give sens delta technic difficulti rel carri would ask sort reli progress stabil sustain busi term produc mani mani quarter sever year context invest think strength franchis strength invest sort adjac thread run across whole firm invest bank franchis extraordinari sourc engin look make invest tri find opportun consider opportun growth sens question sort distinct realiz unreal gain part want point answer prior question good deal realiz gain book continu veloc turn portfolio sale partial sale sort one part look perform busi quit anoth david commit said sever time ambit put light l segment given produc major compon piec know ask equiti side let spend second debt side l think even greater durabl predict make debt invest expand credit around adjac firm whether corpor other client firm high capit structur develop portfolio secur',\n",
              " 'thrown said comment billion net interest incom run rate exit q million quarter think part durabl visibl recur set revenu part overal l pictur',\n",
              " 'michael carrier',\n",
              " 'okay follow expens side obvious think got move piec legal think invest guy make new growth initi technolog side think run rate go environ obvious market bit volatil recent',\n",
              " 'stephen scherr',\n",
              " 'thank ellen strong total revenu billion reflect benefit ongo invest deliv except experi user compel return advertis partner enterpris custom',\n",
              " 'stock base compens total billion headcount end quarter last quarter consist prior quarter major new hire engin product manag term product area sizabl head count increas cloud technic sale role',\n",
              " 'oper incom billion versu last year oper margin incom expens billion includ billion unreal gain relat non market debt secur invest provid detail line item within oi e earn press releas',\n",
              " 'effect tax rate fourth quarter reflect discret benefit due revers accrual made result updat guidanc associ u tax act net incom billion earn per dilut share',\n",
              " 'turn capex oper cash flow cash capex quarter billion discuss googl segment result oper cash flow billion free cash flow billion end quarter cash market secur approxim billion',\n",
              " 'let turn segment financi result start googl segment revenu billion year year term revenu detail googl site revenu billion quarter year year term dollar growth result led mobil search strong contribut youtub follow desktop search network revenu billion year year reflect ongo momentum admob googl ad manag',\n",
              " 'revenu googl billion year year fuel cloud hardwar play continu provid monet metric earn press releas give sens price volum dynam advertis busi',\n",
              " 'total traffic acquisit cost billion total advertis revenu year year total tac percentag total advertis revenu year year primarili reflect favor revenu mix shift network site increas site tac rate year year driven ongo shift mobil carri higher tac follow chang partner agreement offset season higher proport youtub advertis revenu fourth quarter',\n",
              " 'q network tac rate declin year year primarili due revenu mix shift within programmat busi googl stock base compens total billion quarter year year oper incom billion versu last year oper margin accru capex quarter billion reflect invest offic facil datacent server',\n",
              " 'let turn talk bet cover result full year remain instruct look financi bet longer term horizon discuss prior call result quarter earn releas',\n",
              " 'full year bet revenu million versu primarili gener fiber verili oper loss bet billion full year versu oper loss billion bet accru capex million million primarili reflect invest fiber',\n",
              " 'fourth quarter revenu billion year year constant currenc continu benefit ongo strength mobil search import contribut youtub cloud desktop search',\n",
              " 'key recent accomplish includ decemb waymo launch waymo one enabl particip use app hail pay ride also verili recent announc billion invest round led silver lake advanc plan complementari addit current life scienc portfolio invest cours addit million rais temasek previous',\n",
              " 'let close observ prioriti longer term outlook first respect revenu revenu growth power particular ongo benefit innov site busi eight product billion user peopl come onlin everi day remain excit opportun continu creat valuabl experi user around globe',\n",
              " 'particular see signific ongo potenti appli machin learn capabl across busi advertis busi machin learn enabl innov advertis abil match consum intent bit effect improv roi also enhanc abil smaller busi benefit advertis platform',\n",
              " 'machin learn also drive differenti newer googl busi like cloud hardwar well central number bet notabl waymo verili look ahead coupl thing note first said mani time continu work enhanc user advertis experi make chang focu best interest user advertis long term time introduct new experi particularli search advertis vari result impact quarterli year year growth',\n",
              " 'second fx tailwind first half year turn headwind third fourth quarter line strengthen u dollar base continu strengthen u dollar expect headwind report versu fix fx result first quarter contrast favor impact fx first quarter',\n",
              " 'turn invest profit term gross margin biggest compon within cost revenu remain traffic acquisit cost reflect strong revenu growth mobil search fact mobil search carri higher tac desktop busi discuss prior call pace year year growth site tac percentag site revenu slow first quarter expect site tac rate continu increas year year reflect ongo strength mobil search',\n",
              " 'within opex remain focus priorit order optim resourc longer term growth sizabl market see us continu support prioriti area increas headcount remain concentr r although expect growth rate moder also saw continu progress goal nurtur new busi outsid googl bet model independ',\n",
              " 'said previous monolith approach bet execut opportun share principl align employe interest long term valu creation compani sinc incept import part approach googl stock grant compris meaning compon overal compens across employe day',\n",
              " 'increasingli follow approach bet compens program align employe compani interest seen impact program fourth quarter accru compens expens reflect increas valuat equiti certain bet expens recur time evalu event unpredict vari debt affect quarterli comparison',\n",
              " 'final capit alloc primari use continu support organ growth busi follow retain flexibl acquisit take need account board author repurchas addit billion class c capit stock',\n",
              " 'today call begin review result quarter consolid basi alphabet focus year year chang review result googl follow bet conclud outlook sundar discuss busi product highlight take question',\n",
              " 'respect capex continu invest comput requir offic facil although expect capex growth rate moder quit significantli conclus anoth great year tremend ongo opportun ahead us',\n",
              " 'thank ruth last year set bring benefit ai everyon product proud tremend progress made toward goal smart compos gmail new googl news experi call screen pixel improv overal safeti product ai help peopl get thing done everi day beyond product ai also help us drive mission forward scale imagin year ago',\n",
              " 'googl al lead jeff dean recap result effort great post ai block accus ai better deduct spread breast cancer provid flood victim real time inform crisi encourag everyon check',\n",
              " 'also launch googl ai impact challeng help nonprofit find way use ai solv social environment problem addit progress ai saw great traction across newer area like googl assist hardwar cloud core area search map new use youtub comput advertis platform continu strong momentum',\n",
              " 'everyth googl unit mission make inform access use everyon provid accur trust inform scale internet reach extrem complex challeng one constantli get harder year experi inform challeng strive better anyon els',\n",
              " 'feel deep sens respons right thing continu build privaci secur core product keep use data safe secur industri best secur system give peopl better clearer control see us continu lot',\n",
              " 'today start share new way work toward mission give updat video advertis platform follow latest hardwar cloud effort close thought invest around world first advanc mission make inform access use googl assist great exampl help peopl throughout day demonstr ce last month lot excit new partner featur',\n",
              " 'lenovo smart clock wake morn real time navig help commut build interpret translat convers across dozen languag googl home speak languag past year googl assist expand eight languag countri nearli languag countri time number activ user us quadrupl partner devic capabl googl assist get better help',\n",
              " 'lot great progress area last month announc launch activ card search search topic previous explod quickli see alreadi pick left thank strength ai search googl len use smartphon camera help identifi billion product see item like len show similar design along use inform like product review',\n",
              " 'continu see great momentum across comput platform android chrome q announc android offici support afford phone partner like samson introduc first portabl devic year see continu traction manufactur adopt android auto recent announc new media messag featur significantli simplifi improv car dashboard experi',\n",
              " 'let start summari alphabet consolid financi perform quarter total revenu billion reflect neg currenc impact year year million million impact hedg program',\n",
              " 'build speed simplic secur chrome os partner like asu hp introduc slew great consum enterpris chromebook last month ce let provid updat video advertis platform start youtub',\n",
              " 'see great traction newer experi youtub youtub music youtub premium avail nearli countri five countri start last month youtub tv announc expand nationwid cover u household rest follow shortli youtub continu invest thrive commun creator build great featur nearli billion monthli log user',\n",
              " 'instanc q expand access tool like stori commun poll strengthen connect franc creator one newest tool premier breakout hit ariana grand premier offici music video thank u next novemb hold record biggest music video debut youtub histori earn million view first day',\n",
              " 'drive revenu youtub creator commun establish channel newli emerg one number youtub channel million subscrib nearli doubl last year number creator earn five six figur grew year year big prioriti youtub continu work quickli find remov content violat youtub content guidelin',\n",
              " 'import challeng advanc machin learn invest human review make continu progress touch recent highlight advertis busi continu go strength strength recent warner brother embed first full length film ad youtub reach record number peopl',\n",
              " 'million user singl day viewer watch trailer lego movi black friday serv franchis origin film free within ad great exampl advertis continu delight user youtub perform advertis love trueview action youtub direct respons offer sinc product launch march advertis use trueview action new buy inc video ad youtub',\n",
              " 'q also announc global strateg ad tech relationship walt disney compani across entir portfolio brand properti googl ad manag core platform disney abl serv across digit properti seamlessli web mobil app connect tv even live event',\n",
              " 'shop tool also front center holiday help retail reach peopl busi holiday shop season fact number shop daili activ user googl com holiday doubl compar last year thank part new featur like product list modul showcas popular product across web',\n",
              " 'small retail also benefit autom bid solut like smart shop campaign live merchant impress progress sinc launch april grow hardwar effort holiday season newest line made googl devic top mani best look respons shopper equal posit',\n",
              " 'anoth record year googl home famili devic million sold holiday season help peopl easili get thing done around hous exampl peopl use googl home devic cook million recip holiday season million christma day alon newest smart display particularli popular one everi seven googl home devic activ holiday season googl home hub',\n",
              " 'turn alphabet revenu geographi see perform strong region u revenu billion year year emea revenu billion year year report constant currenc term slight headwind primarili euro',\n",
              " 'q launch signific advanc comput photographi pixel three featur night sight lowlight photo also expand avail four countri japan franc ireland taiwan final grow cloud busi want thank dian green leadership last three year',\n",
              " 'googl cloud fast grow multibillion dollar busi support major global compani everi import vertic robust enterpris organ case three year ago dian team accomplish phenomen dian work done hand rein thoma kurian thrill new cloud leader',\n",
              " 'googl cloud close strong year momentum across busi last year doubl number googl cloud platform deal million well number multiyear contract sign also end year anoth mileston pass million pay custom cloud collabor product solut g suit focu help custom digit transform busi pay',\n",
              " 'continu see strong growth major geographi industri quarter financi servic sign agreement two top financi institut u help transit busi googl cloud highli secur solut retail brand like bed bath beyond dsw ulta beauti use cloud manag data provid person experi consum',\n",
              " 'media entertain telegraph u k go googl cloud data machin learn expertis support global growth q launch th googl cloud region announc plan new region jakarta see invest mani incred opportun across busi would also invest commun around world right home recent europ open new offic berlin help us doubl number googler work',\n",
              " 'across europ invest billion five data center sinc q announc new data center come denmark estim data center gener billion gdp last ticket cours amount gener creator publish app develop partner across region order magnitud larger',\n",
              " 'also continu substanti invest throughout u last year made signific invest new expand offic space q open door new offic detroit announc invest billion capit improv establish new campu new york citi begin open',\n",
              " 'also continu invest data center construct expans import long term invest lay groundwork futur comput need primarili x ray machin learn across busi also support opportun see cloud search ad youtub year still tremend opportun googl help peopl save time learn new thing grow busi build stronger commun want thank everi googler around world make great year user busi',\n",
              " 'thank much take question two could youtub never number brand marketplac youtub premium tv youtub music think posit brand global opportun especi mobil consum media global scale posit brand opportun ruth want come back comment revenu versu extend respect youtub sound like call youtub strong quarter revenu side depress expens side licens content thing like music youtub tv ad split think driver perman versu season q thank much',\n",
              " 'thank eric youtub question cours core effort around main youtub product work scale global across world see continu engag well commit make sure premium experi youtub deliv content peopl would want youtub music import part well invest know youtub tv u definit excit product differenti long run valu us bring advertis product togeth includ abl serv across tv clearli invest area see opportun pretti thorough make sure invest deliv growth side monitor metric beat engag revenu growth see lot opportun',\n",
              " 'apac revenu billion versu last year constant currenc reflect weak australian dollar america revenu billion year year constant currenc reflect weaken brazilian real argentin peso',\n",
              " 'term revenu invest youtub overal sundar said youtub continu benefit secular chang way user consum content reflect strong revenu growth brand advertis remain largest part busi grow strong pace said open comment particularli excit signific growth direct respons trueview action app promo format deliv great valu user advertis drive growth across region channel term expens think refer within cost revenu primari driver fourth quarter increas content acquisit cost due youtub growth ad support content typic season strong quarter also newer subscript busi higher tac percentag revenu excit growth see',\n",
              " 'great thank much take question one ruth one sundar ruth look segment oper loss bet higher fourth quarter year safe assum invest waymo flush littl bit us possibl bet besid waymo worthi call term greater decreas invest great sundar wonder could provid us commentari good cloud go mileston talk invest ruth think term headcount growth technic sale role new leadership mention thing new thoma kurian kind cloud acceler next phase growth busi thank much',\n",
              " 'term invest level bet major point invest across bet commenc think requir kind look opportun set one go regular process weekli busi review quarterli board review tri calibr appropri pace invest term increas quarter indic open comment accru comp expens number bet realli reflect increas valuat equiti certain bet',\n",
              " 'cloud one thing evid toward end last year inabl win larg custom global compani multiyear contract definit someth want focu think dyne thoma work close transit lot continu continu see us clear us product offer readi differenti want invest scale go market term direct sale channel partnership mayb see us focu area clearli see return geograph region care six main vertic momentum within product offer five major area clearli defin product differenti featur excit traction see get larg win look forward execut',\n",
              " 'great thank take question want ask first think strong googl site growth actual neutral help us understand mobil search innov think realli drive thing beyond underli secular strength particular focu perhap retail channel think opportun second ruth want go back comment opex want clarifi say headcount growth specif think moder talk overal opex spend thank',\n",
              " 'doug first one obvious thousand engin work continu launch search improv think lot clear hard work gone make sure search mobil work realli realli well remov friction constantli work get answer bit quicker faster make make relev set continu innov mental long time realli work scale',\n",
              " 'specif comment think referenc point headcount growth continu hire support growth opportun particularli hire engin product manag googl continu support growth cloud tri draw continu hire year year growth rate moder',\n",
              " 'great thank ye follow anthoni question cloud seem like want share updat revenu run rate wonder mayb share us see term year year growth rate particular grow faster competitor disclos public result mayb help think pace growth cloud busi secondarili wonder give us sens type workload common type workload might run work frequent thank',\n",
              " 'term growth cloud continu deliv sizabl revenu growth driven gcp gcp remain one fastest grow busi across alphabet sundar said doubl number gct contract greater million also see realli nice uptick number deal greater million realli pleas success penetr point updat',\n",
              " 'heather think mayb specif coupl exampl definit see clear strength data manag analyt take spec exampl retail take someon like telegraph import factor applic platform abil help custom deploy cloud nativ applic differenti custom like uniti ubisoft etcetera multi cloud abil run cloud servic across cloud prem term import global multin compani like hsbc see wide varieti stuff clearli focus infrastructur applic platform data manag smart analyt cours g suit product collabor core area invest product go market standpoint see great traction',\n",
              " 'consolid basi total cost revenu includ tac discuss googl segment result billion year year cost revenu consolid basi billion year year primarili driven googl relat expens',\n",
              " 'thank take question two first one go back youtub strong quarter sound like brand advertis new direct respons ad curiou sundar think innov focu see one two biggest opportun improv qualiti efficaci ad product provid advertis youtub waymo got coupl mileston last month mayb talk us see next one two big factor realli focus ensur waymo becom could',\n",
              " 'youtub still think earli day make sure youtub better platform direct respons trueview action still earli see great traction think lot think set featur launch last year make sure work better think lot long run think youtub place see user come entertain come find inform come learn thing come discov research abl match intent time way bring right valu user advertis think long run opportun take right foundat step realiz',\n",
              " 'term waymo know well intent focus safeti first ensur great user experi expand method pleas continu broaden servic phoenix area focus expand number rider geograph reach around phoenix addit convers number interest citi continu explor appli technolog logist deliveri person use vehicl last mile solut citi continu execut describ previous',\n",
              " 'thank two question first ruth could provid littl color r expens build anyth unusu comment cadenc sundar hardwar multiyear effort seem like acceler seri new product tri report make sure understood could talk strateg mayb synergist impact see hardwar rest googl busi rest alphabet busi think still earli day mayb paint pictur signific synergi could thank much',\n",
              " 'start r main driver ongo invest engin particular googl said sizabl increas accru comp bet build bit give bit color certain bet employe compens equiti base program believ align interest valuabl assess valuat ongo basi minimum formal valuat assess everi month signific event see fourth quarter impact higher valuat certain bet talk previous goal alphabet structur enabl us build new busi would make posit impact creat long term valu still earli day excit opportun see see impact valuat way approach consist way startup typic valu includ technic progress rang item',\n",
              " 'mark hardwar obvious work hard offer best googl experi bring togeth ai softwar hardwar right lot synergist valu stage main way today core product use hardwar drive rest comput ecosystem get leverag effect time scale hardwar effort thought definit look kind experi deliv exampl look someth like googl home hub deliv nice experi across search assist youtub photo want definit see glimps futur invest realiz',\n",
              " 'okay sundar pick ai everyon theme highlight well venu convers advertis suggest product like smart bid becom pretti increasingli popular tool add bid strategi pickup among smb especi among local advertis think target market without sale forc secondarili talk two compani transit cloud increas talk collect data deal data lake well analyz data help decis make process standpoint run googl feel like current technolog dispos sophist enough keep need run compani collect data across internet thank',\n",
              " 'think two question first question around use machin learn help serv advertis better abl reach newer advertis smb local advertis definit think highlight excit opportun whenev done work like last year last coupl year univers app campaign smart shop campaign last year respons search ad great exampl brought ml made process much easier advertis size see impact think natur extens us continu work direct help us reach smb local advertis better time think good opportun second part question want make sure understand ask invest secur compani think foundat everyth past year alway realiz deep respons come come steward user data everyth design design privaci secur mind core invest go secur data center liter practic across compani qualiti talent secur team time use ai well core part take serious',\n",
              " 'hi good afternoon everyon sundar review shop product fourth quarter mention shop action report walmart decid leav program recent think public comment social media googler confirm would love hear littl bit mayb broadli traction shop action particular price per sale metric roll holiday season ruth quick one could return prepar remark coupl sort thing keep mind highlight one fx go tailwind headwind talk new experi rollout time user want clarifi referenc experi roll current gener best practic gener googl thank',\n",
              " 'shop think launch shop action around rememb march last year definit seen strong traction think seen roughli sevenfold increas merchant program sinc launch q announc new partnership best buy nike sephora exampl term walmart walmart one deepest partner remain strategi partner across multipl busi us includ googl ad effort underway work closer togeth shop definit larg partner continu experi support mani way think overal excit effort shop see us focu see user come googl lot around key shop moment want make sure invest experi get closer want',\n",
              " 'key driver first content acquisit cost primarili youtub mostli advertis support content season strong quarter youtub also newer subscript busi youtub premium youtub tv higher cac percentag revenu second cost associ data center oper includ depreci third hardwar relat cost made googl nest famili product',\n",
              " 'second question talk prior call often talk fact remain commit long term revenu growth innov point tri underscor time scale impact inher difficult predict inconsist quarter quarter main point remain excit opportun user advertis particular build sundar comment appli machin learn solut',\n",
              " 'great thank two quick one first project stream youtub tv wonder import invest origin content well might view rollout g catalyz consum adopt servic discov feed know still pretti new curiou color usag engag date way expect monet feed near futur thank',\n",
              " 'project stream abl deliv game kind real time requir low latenc requir definit us import comput advanc think help us drive newer comput platform work think servic like point inflect g roll well think virtuou cycl excit earli feedback project stream experi super posit look build see us discov think traction us measur user engag satisfact happi anyth new metric realli strong obvious offer best experi today product like pixel made googl product look scale reach user think strong product think synergist search experi look bring best user see us reach user',\n",
              " 'great thank coupl question first look like googl core margin point easier comp wonder give us thought core advertis busi know lot invest cloud hardwar youtub tv would like get updat health advertis busi margin thought ever segment disclosur second question cloud strategi pretti big leadership chang wonder new strategi new thing year cloud relat manag chang look forward cloud confer april thank',\n",
              " 'thank term overal googl margin think main point see margin continu see tremend opportun across googl invest support long term revenu earn growth talk lot call alreadi import machin learn key compon increment invest particularli capex technic infrastructur support exist exist busi also newer one kind flow talk prior call mind fact capex turn depreci singl continu see tremend opportun ad busi search ad busi beyond machin learn invest continu enhanc experi user advertis across mobil desktop youtub exampl big prioriti expand avail content call next billion user market us realli import area excit growth opportun deliv experi across market also invest enabl visual way find inform photo video invest aggress newer busi within googl particularli cloud hardwar sunder alreadi said see reflect margin cost revenu side impact product mix talk big part ongo strength youtub opex side invest engin particular googl well sale market side increas headcount support ad particular cloud',\n",
              " 'second question cloud answer around anthoni heather question add littl bit color mayb chang leadership well plan transit dian thoma togeth plan big thing go see continu focu global compani definit see traction larg multiyear contract multimillion dollar contract see us focus continu invest expand sale distribut channel meet custom demand go import area mostli highli focus countri industri major solut area think impact direct resourc toward effort probabl someth see continu emphasi',\n",
              " 'great two question first lot discuss right altern googl play appl app store distribut larg develop start come workaround around app store fee guess philosoph think think right long term rate googl play ruth come back headcount capex growth moder comment expens grow well excess revenu time core googl segment lowest oper incom growth sinc start disclos segment flag chang direct materi chang small amount moder thank',\n",
              " 'googl play obvious scale thousand develop reli safe seamlessli distribut game billion android user worldwid invest lot infrastructur continu make sure overal experi safe result high engag develop back think valu exchang industri standard think continu path obvious alway adapt market',\n",
              " 'term pace invest alreadi laid focu area commit continu invest support long term revenu earn growth want put fine point capex headcount capex indic open remark expect rate year year capex growth slow meaning scale busi focu user experi requir capex commit continu invest capex deliv term mix expect see uptick data center invest rel server point ask question year year growth rate moder meaning term headcount tri make clear growth headcount moder somewhat interpol',\n",
              " 'thank sundar cash posit doubl last five year billion yet last four year right around billion well peer curiou seem like core strong hesit see term valuat factor play rel peer right',\n",
              " 'oper expens billion year year biggest increas r expens larger driver headcount growth follow accrual compens expens reflect increas valuat equiti certain bet growth sale market expens reflect increas sale market headcount primarili cloud ad follow advertis invest mainli search assist growth g expens reflect mostli increas headcount',\n",
              " 'think alway approach think realli alway evalu opportun high bar us find right fit rather constrain anyth particular think alway import part strategi done great acquisit past thing like youtub android big acquisit us continu look opportun ahead',\n",
              " 'real quick ruth magnitud spend think goe back probabl investor surpris sound like perspect realli look margin structur floor look said tremend long term opportun need make invest think mani tri search framework think invest cycl right',\n",
              " 'reason start lay think respons question margin invest look focus invest support long term revenu earn growth mind capex impact free cash flow earn growth tri get right invest invest neither work long term valu creation mind pace tri lay work specif look opportun set make trade off',\n",
              " 'ladi gentlemen thank particip today confer conclud program may disconnect everyon great day',\n",
              " 'yeah unit deceler think unit number requir interpret includ fastest grow area thing like dave mention subscript servic aw advertis whole food unit number focu much number direct supplement revenu guidanc break compon part gener feel good growth quarter',\n",
              " 'call may discuss certain non gaap financi measur press releas slide accompani webcast file sec post ir websit find addit disclosur regard non gaap measur includ reconcili measur compar gaap measur',\n",
              " 'guidanc incorpor order trend seen date believ today appropri assumpt result inher unpredict mayb materi affect mani factor includ fluctuat foreign exchang rate chang global econom condit custom spend world event rate growth internet onlin commerc cloud servic variou factor detail file sec',\n",
              " 'guidanc also assum among thing conclud addit busi acquisit invest restructur legal settlement possibl accur predict demand good servic therefor actual result could differ materi guidanc',\n",
              " 'great thank guess ask unit quarter feel overal unit growth given growth higher last year think invest make area kind reacceler go forward',\n",
              " 'yeah hey justin dave second question subscript servic wed said last call probabl rememb relat adopt account standard updat revenu recognit polici impact result number area wed said anticip million lower sort headwind subscript servic revenu due account chang came quarter see report subscript servic revenu increas exclud fx million certainli part deceler sequenti deceler growth rate line item',\n",
              " 'secondli could talk advertis revenu qualit quantit third could spent lot market quarter real step want talk roi think get market spend',\n",
              " 'great thank want follow india bigger pictur brian new polici chang view attract potenti oper india think invest strategi near term also hope could talk impact us uk free ship fourth quarter holiday',\n",
              " 'yeah realli still evalu situat india feel good long term prospect india good job indian custom indian seller new regul need interpret need need make sure unintend consequ think necessarili consist better price better select better conveni indian custom say topic right',\n",
              " 'yeah think doug second point around ship ship offer holiday lower free ship threshold ahead fourth quarter custom took advantag great offer holiday brian talk littl bit pleas holiday season sort first parti side also seller continu well part holiday offer sold number record break number alexa devic well think ship vein realli pleas continu engag prime member ever number prime member sign quarter quarter realli pleas',\n",
              " 'thank next question come line mark may citi',\n",
              " 'think q particular great quarter custom retail lot strength retail part busi team done great job plan prepar execut quarter aw maintain strong growth rate continu deliv custom great reinvent confer quarter feel good growth quarter also total revenu incom',\n",
              " 'thank tri back impact factor like whole food advertis account chang factor see stabl pretti healthi revenu growth retail segment slowdown q seem recent quarter meaning gross margin expans retail segment discuss may driven think retail gross margin go forward',\n",
              " 'somewhat separ retail margin last year benefit sever factor includ modest hire modest growth fulfil center capac see factor persist year thank',\n",
              " 'yeah thank let start last part think step back put perspect clear trend regard cost structur start fulfil cost prior two year grown squar footag tie fulfil ship greater number grew certainli unit demand lower afn amazon fulfil demand weve combin fba retail remain strong bank larg expans prior two year similarli headcount grew headcount exclud acquisit whole food souq drove number closer believ last year growth lot leverag lot way lot pre hire digest still continu area especi thing like core retail busi also g function continu invest technolog tie aw sale team aw devic area group grow consider higher total compani grew',\n",
              " 'capit especi infrastructur capit use capit leas slide mayb indic invest aw busi support infrastructur global expans number grew last year grown lot way bank effici invest peopl warehous infrastructur put place continu concurr drive growth custom offer prime benefit certainli take cost serious continu work oper effici would expect invest increas rel reflect see far q guidanc',\n",
              " 'thank next question come line heath terri goldman sach',\n",
              " 'great thank littl bit dig littl bit deeper capex capit leas side thing guy said past gener work build line expect guidanc tri build build think fulfil data center capac saw invest acceler fourth quarter hit low referenc q anyth read sort expect growth busi see reacceler deceler saw cours least first three quarter last year',\n",
              " 'yeah see total capex grew q q neg q posit q quarter say bit invest q rel q q still think low number us talk support aw busi still grow high clip strong healthi growth fba custom demand expans new countri aw also core consum busi prepar give forecast year right would say would consid lighter invest year lighter year ad fix headcount certainli compar reveal go year built first quarter expect first three month',\n",
              " 'next question come line brian nowak morgan stanley',\n",
              " 'thank take question two first one go back fourth quarter gross margin think tri back aw look like littl gross margin pressur talk put take know gross margin perspect fourth quarter line think includ advertis busi help us help growth advertis busi impact account chang quarter thank',\n",
              " 'ye sure im sorri skip gross margin question earlier yeah gross margin well basi point year year much prior quarter would say posit tailwind still remain aw strong growth fx neutral basi third parti unit continu grow advertis dollar continu grow well headwind would say outbound ship cost includ free ship mostli higher amazon fulfil unit greater use amazon logist would also say retail strong',\n",
              " 'sure mark first question india let start incorpor guidanc estim best estim q india howev much uncertainti impact govern rule chang go e commerc sector remain commit compli law regul evalu situat main issu main concern tri minim impact custom seller india built busi around price select conveni think chang help dimens custom india also seller',\n",
              " 'think dave mention echo dot highest sell unit global devic strong sale quarter discuss price devic make money usual expand content expand devic usag group custom use devic monet differ way commit amazon video everyth els bit mix would say retail lower gross margin revenu treatment stronger q',\n",
              " 'yeah revenu piec brian get back account side adopt revenu recognit standard mention part adopt certain advertis servic classifi revenu rather reduct cost sale specif q impact chang increas approxim billion revenu see revenu total',\n",
              " 'thank next question come line colin sebastian robert w baird',\n",
              " 'thank guess two well quarter look backward consid india impact go forward intern growth acceler curiou particular region product categori call especi given weak uk marketplac fee chang sever categori includ home furnish health beauti curiou strategi assum expand select also indic increas focu retail categori thank',\n",
              " 'sure let start second question obvious third parti seller import part valu proposit theyv great success site half unit sold third parti seller import us right busi profil amazon seller alway evolv part involv chang fee structur sometim ad new fee subtract old one part involv rais lower fee seller pay go see continu us gener work chang fee make sure incent strong side continu healthi growth third parti',\n",
              " 'intern fx neutral basi growth q q last call rememb talk time diwali impact growth rate adjust diwali took place primarili q year split q q last year adjust intern growth pretti flat q q',\n",
              " 'thank next question come line lloyd walmsley deutsch bank',\n",
              " 'thank two first advertis side hear lot posit feedback custom also hear suggest suppli constraint guy see inventori growth versu price growth driver busi thing grow inventori',\n",
              " 'secondli report amazon ship effort kind expand beyond test market wonder give us sens seen test market think expand ship effort product basi go forward thank',\n",
              " 'yeah lloyd thank question take advertis piec first mean think talk work improv usabl tool mean prioriti space certainli one look way make smarter recommend address need brand autom activ incent new product think regard prioriti think good growth continu come advertis properti also potenti beyond longer term even look advertis opportun place like amazon com think lot opportun lot experiment think learn data interest compani work lot great brand abl develop better toolkit understand type metric want make success base tell us',\n",
              " 'yeah yeah think mean continu lot focu serv custom set one thing tri continu evolv tool product help custom set agenc advertis make sure got varieti way meet goal thing done recent last month expand sponsor brand placement roll new campaign report improv campaign manag featur number number thing beyond featur go think make easier compani grow ad tool ad servic offer continu excit opportun',\n",
              " 'yeah transport assum talk expans amazon deliveri amazon logist great partner place busi support global add capac feel need speed servic ensur demand particularli peak continu build dsp flex chip amazon program quarter much bigger presenc obvious year year happi perform standpoint deliveri estim accuraci call strong self deliv product also cost profil good well',\n",
              " 'next question come line eric sheridan ub',\n",
              " 'thank take question mayb two one media side step term invest around media content support ambit respect prime video coupl year sinc got updat rate spend might impact either histor period go forward period would number one number two go back lloyd question advertis front think video opportun move beyond brand opportun sponsor product search properti think experi top video connect tv opportun indiscern go forward thank much',\n",
              " 'yeah let start video quantifi prime video spend today increas expect increas even see lot continu strong adopt usag view hour watch music season video music step back build stronger prime connect prime member least higher membership renew rate higher overal engag like see continu see engag grow would say particular success recent golden globe nomin oscar nomin jack ryan homecom season two indiscern particular well receiv quarter',\n",
              " 'yeah second question around advertis opportun around video may seen long ago imdb internet movi databas one subsidiari launch freediv ad support free stream video channel avail us enabl custom watch tv show movi without purchas subscript ad support avail imdb websit laptop person comput think definit fire tv devic well great way consum content think excit opportun work ad video bit longer period time thing like sport offer live sport done thing like thursday night footbal realli like success seen learn look forward pursu opportun engag serv custom type video offer also take opportun monet advertis',\n",
              " 'next question come line jason helfstein oppenheim',\n",
              " 'thank two comment advertis slow rel third quarter one kind adjust secondli realloc segment onlin physic store commentari physic store year year thank',\n",
              " 'yeah thank jason question let start physic store revenu physic store decreas year year primarili whole food also includ store amazon book store amazon go amazon star happen quarter lap period last year purchas whole food q rememb q adjust fiscal calendar link amazon ad day revenu q last year comp year year second piec said onlin order peopl go prime app order deliveri pick whole food store count count onlin store compon revenu adjust whole food growth year year appl appl basi approxim mostli year year account day true issu show neg physic store',\n",
              " 'yeah second question around advertis look revenu growth rate deceler still strong year year growth fourth quarter revenu think your awar number compon largest good margin advertis revenu comp period rapid growth prior year part factor mention id reiter continu see quit strong adopt across amazon vendor seller author type advertis util',\n",
              " 'good afternoon everyon brian return comment earlier increas use amazon logist surpris curiou holiday season particular learn offer color view balanc use proprietari logist versu third parti go quick follow obvious hq news came quarter would highlight mayb import next step mayb color feedback process would interest hear well thank',\n",
              " 'question market ye market percent revenu basi point year year categori also includ aw sale market keep mind lot headcount invest go headcount grew year year area grow mix thing like technolog team devic area aw especi sale market variabl market pretti consist prior period feel good return invest market variabl market',\n",
              " 'ye sure let start hq cours novemb announc select new york citi northern virginia two citi invest billion creat job also announc oper center excel open nashvil estim job right work next issu citi look forward invest new york northern virginia good commun partner well nashvil realli much els report time comment question transport continu expand amazon logist deliveri capabl also match faster ship speed see prime member well ad cours million item custom would get within two day there million deliv within one day faster citi town amazon deliveri big part great third parti partner well transport space like abil particip transport lot time cost better like cost profil two also invest select perfect inform know demand know move thing warehous sort center involv third parti time find extend ship cut off excus order cutoff weve done last year that also anoth help side benefit consum logist excus transport final deliveri',\n",
              " 'thank final question come line ross sandler barclay',\n",
              " 'aw oper margin histor kind move around bit color drove declin sequenti q q guess go back invest catch theme sound like littl bit aggress push guy pars whether expect pace retail margin expans see north america right go continu invest go intern stuff go india color north america oper margin trajectori thank',\n",
              " 'yeah sure let start aw oper margin call number move around pleas saw quarter cours point time busi go combin lower price expand geograph ad peopl build especi tech team sale team build new innov product stay relev ahead custom mind infrastructur well balanc quarter bit capit leas expenditur q bit higher prior three quarter slight impact oper margin year year oper margin almost basi point weve said quit openli go bounc around creat great valu custom one end work minim cost infrastructur get creativ around get effici get cost acquisit',\n",
              " 'thank join us call today question replay avail investor relat site least end quarter appreci interest amazon look forward talk next quarter',\n",
              " 'thank stand good day everyon welcom amazon com q financi result teleconfer time particip listen mode present conduct question answer session today call record',\n",
              " 'open remark turn call director investor relat dave fild pleas go ahead',\n",
              " 'hello welcom q financi result confer call join us today answer question brian olsavski cfo listen today confer call encourag press releas front includ financi result well metric commentari quarter pleas note unless otherwis state comparison call result compar period',\n",
              " 'comment respons question reflect manag view today januari includ forward look statement actual result may differ materi addit inform factor could potenti impact financi result includ today press releas file sec includ recent annual report form k subsequ file',\n",
              " 'thank good afternoon welcom facebook fourth quarter earn confer call join today discuss result mark zuckerberg ceo sheryl sandberg coo dave wehner cfo',\n",
              " 'first continu make progress major social issu import work keep execut road map build system proactiv identifi harm content act sooner finish year heavi invest get system better place seen result recent elect includ u midterm transpar report report percent violat content identifi proactiv end peopl work safeti secur peopl coupl year ago work never finish believ built advanc system world deal issu',\n",
              " 'lloyd walmsley',\n",
              " 'two first mark sound like realli clear shift year aggress core product develop talk lot area across instagram commerc messag payment whatsapp mani guess would point could materi contributor revenu next year guess ye would call secondli look stori ad adopt differ see sophist advertis smaller advertis either term adopt perform see inhibit long term success among smaller advertis format think compet effect creativ side',\n",
              " 'david wehner',\n",
              " 'lloyd take dave take first one term materi contributor revenu look think lot front earli say commerc broadli e commerc import vertic advertis busi success build continu build good advertis product e commerc client advertis side import contributor revenu forese futur new area would focu think still small earli anyth contribut point view revenu think question stori ad think sheryl take',\n",
              " 'sheryl sandberg',\n",
              " 'ye take million advertis stori obvious see broad adopt mean larg advertis small advertis definit case sometim small advertis medium size advertis sometim move fastest one thing proud mark talk remark well take tool previous avail larg compani make avail small compani one thing learn year easier make advertis whether realli big realli small adopt work done take pictur take post creat stori automat placement think make easier share one specif exampl medium size compani cetaphil skin care brand ran video ad across ig instagram stori instagram feed facebook target canadian women age measur way sale saw almost lift store sale want get market use tool use technolog automat placement show peopl thing interest ad good experi realli help ring cash regist know dollar pound euro well spent push',\n",
              " 'mark zuckerberg',\n",
              " 'add one thing think david said coupl time think worth emphas excit road map go great long term growth busi next year quarter near term go mostli base growth stori core news feed work stori lot work still go make monet level news feed confid go get want make sure give right outlook expect near futur go',\n",
              " 'oper',\n",
              " 'next question come line mark may citi',\n",
              " 'howev rais broader set valu question use system one question decid speech accept right delib process consult expert around world increasingli come believ make mani decis content novemb wrote note blueprint system content govern enforc includ give peopl abil appeal intern content decis independ bodi current work expert design system plan start pilot half',\n",
              " 'mark may',\n",
              " 'first regard stori given size whatsapp audienc amount statu post platform curiou earli learn test statu ad whatsapp optimist becom interest meaning opportun go forward term stori facebook gather stori consumpt impress volum core facebook ad seem mayb scale fast mayb even comment last year suggest fact true think actual pose sort issu long term growth plan stori least platform',\n",
              " 'sheryl sandberg',\n",
              " 'ye whatsapp ad stori avail ad someth futur thing whatsapp remain focus consum experi whatsapp busi app help busi connect consum grow well monet opportun avail',\n",
              " 'david wehner',\n",
              " 'ye stori facebook clearli stori big success instagram impress growth perspect pleas see optimist abil grow stori facebook much earlier facebook platform continu work build format facebook',\n",
              " 'mark zuckerberg',\n",
              " 'ye add quickli mean stori facebook grow quickli think go get need get start littl bit later earli execut think good need think good work grow quit quickli confid go',\n",
              " 'oper',\n",
              " 'next question come line ross sandler barclay',\n",
              " 'anoth import issu futur privaci encrypt peopl realli valu privaci encrypt messag bring built secur global messag servic world peopl increasingli share privat work make product end end encrypt default make product ephemer inform stick around forev discuss come quarter',\n",
              " 'ross sandler',\n",
              " 'guess question messeng learn monet effort messeng got inbox ad done mention stori ad start enter messeng guess see excit far monet messeng guess might applic point futur whatsapp mark mention payment whatsapp know guy work littl background thought go play term geograph market might avail kind see futur opportun payment',\n",
              " 'sheryl sandberg',\n",
              " 'approach monet anywher alway cautiou move slowli messeng remain primarili focus consum growth engag real focu organ connect busi consum realli strong channel custom servic billion messag sent peopl busi everi month cours includ autom messag well continu make progress monet start roll stori ad earli day think long road ahead also probabl worth note experi date move facebook instagram similar instagram feed similar facebook feed term advertis messeng messag servic stori one click differ click differ go real work',\n",
              " 'oper',\n",
              " 'next question come line colin sebastian robert w baird',\n",
              " 'colin sebastian',\n",
              " 'mark mention facebook group one part commun effort wonder could expand see group gain higher profil extend app potenti secondli listen descript converg featur usag across app stori messag wonder think could impact usag engag peopl also converg use app instead broad suit someth keep eye',\n",
              " 'mark zuckerberg',\n",
              " 'right group main thing focus make connect commun peopl interest go central experi connect friend famili featur go becom organ principl activ app friend famili alway go realli central think opportun make peopl also part meaning commun hundr million peopl alreadi tell us group part facebook least meaning one import part social experi lot data sociolog data outsid show physic group membership world internet declin decad think build group obvious replac peopl get togeth person lot success group success facilit peopl go thing togeth person well think real human need sociolog need import thing peopl need think go one next big area realli excit facebook uptick worth point instagram group also realli focu commun interest around discoveri hashtag explor abl realli delv interest interact peopl interest thing even friend go increas part experi think might anoth question right',\n",
              " 'second prioriti make progress social issu also need deliv new experi meaning improv peopl live talk mani day day iter improv make rank get bit better thing get littl faster talk major improv peopl live whole commun recogn say wow someth new facebook whatsapp last experi like stori continu grow quickli exampl instagram pass million daili activ stori realiti put energi secur past month build new experi prioriti period year think go deliv sever new experi',\n",
              " 'oper',\n",
              " 'next question come line rich greenfield btig',\n",
              " 'richard greenfield',\n",
              " 'think kind san francisco valley kind elitist commun even think good chunk wall street kind ongo narr nobodi use core facebook blue anymor realli time spent instagram dau number obvious give good sens peopl touch facebook still core facebook regular basi realli get sens engag facebook versu app anyth give us color sens mean talk marketplac call way get sens actual usag trend see term core facebook versu instagram versu commun app et cetera',\n",
              " 'david wehner',\n",
              " 'rich dave look think dau trend give realli paint pictur broadli stabil develop market growth facebook blue develop market give updat time spent major focu pivot focu meaning social interact pleas result effort broadli think dau trend tell stori broadli',\n",
              " 'oper',\n",
              " 'last question come line john blackledg cowen',\n",
              " 'john blackledg',\n",
              " 'mark curiou happi progress around safeti secur initi go forward kind recur metric anyth disclos show progress guy might see intern facebook user constitu mayb see quick one price instagram stori expect see price gap close feed stori cours',\n",
              " 'messag area grow quickli year peopl go feel app becom center social experi way go roll payment whatsapp countri privat share group stori becom central experi go onboard million busi peopl interact',\n",
              " 'david wehner',\n",
              " 'john real quickli take price question first realiti price function suppli demand demand grow versu suppli expect bring advertis stori bring advertis format stori creat demand stori also grow stori inventori quickli two thing balanc price feed growth perspect impress front constrain given ad load facebook instagram price pressur alreadi strong demand feed product term converg hard say thing play think opportun improv valu stori format translat better price stori converg time lot differ dynam',\n",
              " 'mark zuckerberg',\n",
              " 'ye content safeti secur issu proud work done get front lot issu think journey compani realli last coupl year move reactiv deal issu commun flag perhap someon see content problemat use tell us go look increasingli build ai system ten thousand peopl proactiv review content could potenti problemat priorit differ type content think could creat harm one thing work earliest remov terrorist propaganda one thing proud isi al qaeda content take ai flag remov peopl see anoth area realli care deepli import self harm right area goal take content see area see someth person might think hurt thousand peopl technic tool flag content peopl actual go get first respond go reach peopl',\n",
              " 'think last six month year alon hundr thousand case abl get first respond peopl need help approach proactiv look content goe thing around elect interfer proactiv look inauthent behavior taken lot effort differ nation state harm interfer elect way go go list everi basic type bad content report publicli go back question issu transpar report content enforc report right think everi six month goal get cadenc think end year go quarterli call discuss result like earn think stuff realli import well level',\n",
              " 'come summar think come realli lot hard work also need figur road map go go forward solv issu yet never solv issu certainli lot road map way feel start clear road map need go think go abl look transpar report issu see continu make progress find content proactiv take get better take get better distribut stuff borderlin import work also first prioriti year make continu make progress big substant issu face internet compani still lot incred import feel like start turn corner clear plan need thank question',\n",
              " 'deborah crawford',\n",
              " 'great thank thank join us today appreci time look forward speak',\n",
              " 'oper',\n",
              " 'ladi gentlemen conclud today confer call thank join us may disconnect line',\n",
              " 'facebook way peopl experi group commun continu deepen go get point soon peopl feel like facebook commun commun much friend famili almost everyon group meaning commun central part experi facebook also expect year watch becom mainstream million peopl use everi month peopl averag spend minut watch daili mean find way video grow outsid news feed displac social interact peopl primarili come servic',\n",
              " 'instagram one area excit year commerc shop lot natur activ happen year expect us deliv qualit new experi around longer term remain focus build technolog bring peopl togeth new way includ ar vr look forward oculu quest ship spring feedback far posit also posit surpris portal done better expect love use famili never ship facebook brand hardwar lot peopl said would difficult time start pleas mani peopl enjoy experi abl feel closer peopl care even physic far apart',\n",
              " 'third prioriti continu strong execut busi past coupl year lot busi challeng self impos realiti number substant issu need address invest made safeti secur privaci well increas cost case reduc revenu said time believ invest right thing make commun busi stronger long term seen fundament busi remain strong million small busi use product vast major free survey half tell us abl grow busi hire peopl sinc join facebook mean use servic creat million job one import contribut feel make world put perspect u economi ad million job last year',\n",
              " 'last prioriti get make case role servic play world right lot neg impact technolog fair misplac tech industri overal scrutin heavili play role mani peopl live approach listen critiqu first work address issu figur believ import principl uphold go engag debat feel like come make real progress import issu clear sens believ right way move forward still go make mistak along way clearer sens path ahead readi work peopl understand role move toward good outcom whether regul content data cooper share threat work openli make sure ai best serv peopl stand kind open connect world want see',\n",
              " 'internet massiv forc chang center lot debat bring core valu peopl societi remain offer servic free everyon help stay connect peopl care express think feel get help need support caus idea believ start grow busi matter make lot good possibl commit build technolog peopl use creat posit chang',\n",
              " 'get start would like take opportun remind remark today includ forward look statement actual result may differ materi contempl forward look statement factor could caus result differ materi set forth today press releas quarterli report form q file sec forward look statement make call base assumpt today undertak oblig updat statement result new inform futur event',\n",
              " 'alway thank journey us sheryl talk busi',\n",
              " 'sheryl sandberg',\n",
              " 'thank mark hi everyon strong fourth quarter good end year q mobil ad revenu billion increas year year contribut approxim total ad revenu full year mobil ad revenu grew compar challeng import year us mark said made signific invest safeti secur strengthen defens elect interfer gave peopl tool better control inform set new standard transpar ad focus make progress import area continu grow commun busi quarter prove',\n",
              " 'know still lot hard work ahead us need continu better anticip risk come connect mani peopl need earn back peopl trust word alon action part build trust help peopl better understand busi model protect peopl privaci show relev ad odd sell data tell advertis allow advertis reach peopl interest product result peopl see relev ad small busi reach peopl way big compani previous could busi model keep facebook free peopl around world use level play field busi size protect peopl privaci',\n",
              " 'excit announc today million activ advertis across servic local shop global brand compani world grow hire reach custom platform opportun creat busi drive growth continu broad base across region market segment vertic holiday compani use ad help peopl discov deal find gift saw particular strength among advertis optim measur object like convers sale exampl bryan anthoni onlin jewelri store base austin texa use campaign budget optim bring new custom sale black friday campaign success tripl holiday purchas hire addit peopl help pack ship order busi season',\n",
              " 'also help advertis keep shift peopl use technolog peopl creat stori send messag mean emerg area opportun market today also announc million advertis use stori reach custom across famili app make easier advertis adopt campaign stori q expand automat placement convert feed ad format work stori deliv ad wherev get best result framebridg start provid custom pictur frame recent use automat placement run ad across instagram stori facebook instagram feed ran short video show frame make great holiday gift instagram stori gener new custom sale',\n",
              " 'peopl increasingli use messag app help small busi make shift q launch ad messeng stori mean advertis easili buy stori ad across facebook instagram messeng beyond stori messag opportun connect peopl busi new servic like marketplac see good earli result marketplac ad q work make ad relev product peopl look exampl someon brows furnitur marketplac tri show ad furnitur relat item plan keep work provid better experi peopl valu advertis time',\n",
              " 'build new ad product remain focus improv overal qualiti ad across platform format invest ai make ad relev effect q develop new ai rank model help peopl see ad like interest also use ai identifi quickli review ad might violat polici particularli import u midterm elect look ahead see opportun use ai keep peopl safe facebook help busi grow',\n",
              " 'want close say thank busi around world use tool creat job growth last month went facebook commun boost hometown miami th stop tour across u offer digit skill train small busi job seeker met entrepreneur like alex kassab start morelia gourmet paleta friend two year ago say new custom learn ice cream facebook instagram growth expand locat hire peopl last week europ met sme across contin share similar stori grow compani hire peopl invest commun stori motiv us keep improv peopl succeed platform',\n",
              " 'also want thank global team commit tackl issu make product better everi singl day come challeng year continu face challeng ahead believ posit build progress made better serv commun grate continu hard work dedic',\n",
              " 'call may present gaap non gaap financi measur reconcili gaap non gaap measur includ today earn press releas press releas accompani investor present avail websit investor fb com',\n",
              " 'dave',\n",
              " 'david wehner',\n",
              " 'thank sheryl good afternoon everyon q strong quarter wrap good year busi full year revenu grew billion gener billion free cash flow let begin commun metric daili activ user facebook reach billion compar led growth india indonesia philippin number repres approxim billion monthli activ user q mau grew million compar last year',\n",
              " 'turn overal famili metric around billion peopl worldwid use one applic decemb averag billion peopl activ daili best estim de duplic audienc across facebook instagram messeng whatsapp believ number better reflect size commun fact mani peopl use one servic time continu disclos set number time expect famili metric play primari role talk compani eventu phase facebook commun metric',\n",
              " 'turn financi comparison year year basi unless otherwis note q total revenu billion constant currenc basi foreign exchang rate remain constant q total revenu would approxim million higher q total ad revenu billion constant currenc basi term region ad revenu growth asia pacif strongest follow north america europ rest world ad revenu grew impact ongo currenc weak macroeconom challeng q averag price per ad decreas number ad impress serv servic increas impress growth primarili driven ad instagram includ feed stori well facebook mobil news feed year year declin averag price per ad reflect ongo mix shift toward product servic geographi monet lower rate payment fee revenu million sale oculu go launch portal contribut revenu growth quarter',\n",
              " 'turn expens total expens billion billion sequenti compar last year addit continu invest infrastructur safeti secur innov expens also driven season factor includ market effort notabl promot portal oculu go end year full time employe increas',\n",
              " 'oper incom billion repres oper margin q tax rate net incom billion per share full year capit expenditur billion driven invest data center server network infrastructur offic build gener billion free cash flow q end year approxim billion cash invest',\n",
              " 'q bought back approxim billion class common stock complet prior repurchas author decemb board director author repurchas addit billion stock',\n",
              " 'turn revenu outlook q expect total revenu growth rate deceler mid singl digit percentag constant currenc basi compar q rate also expect revenu growth rate continu deceler sequenti throughout constant currenc basi',\n",
              " 'turn expens outlook full year basi continu expect total expens grow approxim compar capit expenditur outlook unchang billion billion driven primarili continu larg invest build data center',\n",
              " 'like turn call mark',\n",
              " 'lastli expect tax rate percentag point higher rate conclus confid abil continu invest effect key prioriti mark outlin open remark make progress major social issu face internet build new experi meaning improv peopl live grow busi support mani busi reli servic',\n",
              " 'oper let open call question',\n",
              " 'question answer session',\n",
              " 'oper',\n",
              " 'oper instruct first question come line brian nowak morgan stanley',\n",
              " 'brian nowak',\n",
              " 'two first one dave last quarter talk expect sequenti deceler q rather think came littl better expect could talk sort form media whether news feed stori instagram kind came better thought origin would month ago drove upsid mark talk instagram commerc opportun mayb talk us sort key think import step cross throughout realli execut opportun',\n",
              " 'david wehner',\n",
              " 'sure thank brian take first part question ye q strong revenu pleas demand front continu benefit advertis target busi result direct respons especi strong holiday season suppli front benefit strong instagram growth aid growth impress instagram feed stori reiter expect see deceler revenu growth q',\n",
              " 'mark zuckerberg',\n",
              " 'mark zuckerberg',\n",
              " 'like talk bit commerc think consum side increas commerc instagram facebook whatsapp think one excit product opportun product big busi opportun well big thing think want make sure nail instagram especi discoveri peopl alreadi lot commerc activ realli interest follow brand think make sure work well big deal think also big opportun basic enabl transact make buy experi good buy someon seller know trust go good experi facilit make go well work go instagram also go across effort marketplac facebook work rest work facebook work go whatsapp well big area person excit focus',\n",
              " 'oper',\n",
              " 'next question come line anthoni diclement evercor',\n",
              " 'anthoni diclement',\n",
              " 'mayb first sheryl stori stori continu grow quickli said number advertis advertis use stori grow quickli give us littl bit perform ad see improv convers rate ad ad perform stori narrow gap feed ad term price perform anyth broadli demand ad format one mark wonder could speak possibl stitch togeth messag app whatsapp instagram messeng would great hear rational potenti commerci benefit might potenti integr properti',\n",
              " 'sheryl sandberg',\n",
              " 'take stori question one challeng market keep consum think histori peopl made shift mobil market think one success made easier advertis move mobil environ mobil focus new thing peopl stori big part messag import well think fact alreadi gotten million advertis move stori gotten better make easier launch automat placement expand convert feed ad format work stori deliv ad wherev get best result goal make easi possibl market get format stori deliv ad go get best experi best roi right one interest thing stori benefit earli adopt price realli attract think mix shift stori big opportun us go take time continu get advertis happi demand date',\n",
              " 'david wehner',\n",
              " 'would turn mark layer stori front look expect see deceler revenu growth throughout year opportun grow impress facebook instagram less feed alreadi healthi ad load surfac stori lower cpm wherea benefit strong impress growth instagram feed stori reliant stori impress growth price perspect got improv abil grow number advertis use stori improv price go reliant term revenu growth',\n",
              " 'mark zuckerberg',\n",
              " 'thank deborah thank join us today commun continu grow busi deliv good result quarter billion peopl use facebook instagram whatsapp messeng month billion peopl use least one servic everi day',\n",
              " 'right talk messag integr think first realli earli think lot need figur final plan cours go long term project think probabl whatev extent end thing beyond big reason excit think good user experi reason mean part question commerci benefit realli big focu first reason excit move end end encrypt default product peopl realli like whatsapp think direct go thing futur think opportun use work done whatsapp rather differ way differ messag experi realli encrypt work consist way across differ thing also number case see peopl tell us want abl messag across differ servic',\n",
              " 'one exampl lot peopl hundr million peopl use marketplac facebook lot peopl use countri whatsapp primari messag app use experi today build marketplac go messag someon buy someth link basic messag messeng countri peopl realli want use whatsapp need make peopl commun across differ network graph abl integr better order facilit transact connect anoth exampl ten million peopl mayb go android use messeng app facebook messag also sm sm client go back encrypt point think opportun go go messag someon phone number network primarili go whatsapp end end encrypt rather go sm unencrypt less secur give exampl like guess way think hand case peopl tell us want abl integr commun easili across network think move toward end end encrypt improv secur right direct go lot question need work work delib way expect anyth launch soon definit someth think think improv user experi',\n",
              " 'oper',\n",
              " 'next question come line eric sheridan ub',\n",
              " 'eric sheridan',\n",
              " 'two could one mark facebook watch think thing still tri solv either content side consum engag side drive broader adopt watch turn sort mechan custom tri solv medium long term love understand see opportun challeng front compani second fair bit nois advertis commun macro environ end mayb begin thing like brexit govern shutdown u see anyth macro front busi either exit start year',\n",
              " 'david wehner',\n",
              " 'ye',\n",
              " 'mark zuckerberg',\n",
              " 'take first one',\n",
              " 'last call talk overal strategi face import opportun challeng today want give updat talk prioriti past coupl year focu energi gone address biggest social issu around futur internet includ elect integr content govern safeti secur data privaci digit well complex issu made real progress mani area believ built advanc system world mani case advanc compani govern area clear road map work ahead',\n",
              " 'david wehner',\n",
              " 'ye start macro environ eric obvious deliv strong result q look macro economi certainli potenti headwind risk busi given sensit advertis busi slowdown growth obvious believ got best advertis product term abl deliv measur busi result client think help us environ clearli macroeconom stand risk top issu face lead deceler revenu growth',\n",
              " 'mark zuckerberg',\n",
              " 'talk watch video realli dynam last month limit amount video shown order make sure news feed make sure displac interact social interact peopl big thing unlock lot growth watch basic abl move bunch video watch behavior differ tab peopl intent go tab want watch video brows see go allow us realli increas amount video peopl watch without get way core mission help peopl interact',\n",
              " 'two big thing realli focus watch within watch tab also make sure consumpt passiv consumpt make two way interact viewer creator help build commun around built great featur watch parti allow peopl come togeth friend watch differ content premier new featur allow peopl basic take video stream live first time come thing make video watch experi passiv consumpt interact go think help realli drive engag well also monet side creator go realli import make content peopl want consum big thing continu focu think money creator make watch virtuou cycl go realli import continu grow well right look like go good direct still earli still grow quickli small base one thing excit year',\n",
              " 'oper',\n",
              " 'next question come line doug anmuth jpmorgan',\n",
              " 'dougla anmuth',\n",
              " 'one mark one dave mark year sinc shift feed friend famili remov passiv video talk report engag number obvious good sign chang made year ago posit impact engag core facebook feed dave talk month ago better align revenu expens curiou still view point give confid chang spend perspect look toward',\n",
              " 'david wehner',\n",
              " 'still lot expect take strong execut beyond get system level need fundament chang run compani chang build servic focu prevent harm invest billion dollar secur affect profit taken step reduc engag whatsapp stop misinform reduc viral video facebook million hour day improv well made signific progress go continu work also go alloc energi build new inspir way help peopl connect build commun',\n",
              " 'ye start expens front continu outlook expens growth total expens growth see headcount growth come modestli q q look expect beyond sorri beyond expens growth line revenu growth plan continu invest aggress prioriti area includ innov side ar vr ai continu invest safeti secur program undergo capex see continu flow p l time alreadi saw pick cost revenu growth q expect see flow time would say plan continu invest aggress busi go forward go see obvious margin impact',\n",
              " 'mark zuckerberg',\n",
              " 'talk bit meaning social interact although specif metric share mean take think gone pretti well done hope although made number chang long term direct go continu make rank chang build product around think kind reflect broadli number see engag growth daili activ peopl engag across famili app time basic said even though might decreas time spent expect would took especi bunch watch viral video thought help peopl interact uniqu thing peopl come servic would good commun busi long term certainli everyth seen sinc suggest right',\n",
              " 'oper',\n",
              " 'next question come line justin post bank america merril lynch',\n",
              " 'justin post',\n",
              " 'great coupl question first pretti rough press cycl q see impact u europ engag usag peopl close account certainli seem evid mau number anecdot see impact mayb sheryl look trail month monet u arpu think long term improv target room grow significantli obvious instagram growth platform contribut think arpu could long term',\n",
              " 'david wehner',\n",
              " 'justin probabl take term abil continu grow advertis busi work develop best product enabl advertis achiev end busi result target obvious import one thing would point price perspect headwind might face target given overal privaci landscap think anoth factor present risk abil continu grow arpu would point issu well see mix shift toward stori go someth contribut deceler revenu growth anoth factor lead deceler revenu growth term first question justin impact press cycl would probabl let number stand saw grow region albeit sort bounc around develop market like u canada q saw better growth europ come gdpr first two quarter gdpr saw littl bit rebound',\n",
              " 'sheryl sandberg',\n",
              " 'go focus four prioriti first continu make progress major social issu face internet compani second build new experi meaning improv peopl live today set stage even bigger improv futur third keep build busi support million busi mostli small busi reli servic grow creat job fourth commun transpar role servic play world want take minut talk',\n",
              " 'talk littl bit long term growth opportun david cours right mix shift price continu issu think long term frame question lot opportun look percentag ad truli relev peopl see think done lot better last coupl year long way go mean everi ad show ad better better peopl show someth interest also think shift see toward peopl measur result import understand peopl think direct respons advertis largest brand world realli go result look bode well busi think effici new opportun open like stori even pressur price think give us inventori opportun format realli even gotten start futur thing like messag long run think remain optimist growth opportun',\n",
              " 'oper',\n",
              " 'next question come line mark mahaney rbc capit market',\n",
              " 'zachari schwartzman',\n",
              " 'zachari schwartzman mark mark question data privaci relat goal progress major social issu topic import internet ecosystem whole facebook appear regul struggl come comprehens reform appropri stakehold involv facebook invest lot improv data privaci transpar trust platform last year want hear thought follow facebook post end ask question whether decentr author encrypt mean put power peopl hand plan discuss topic public domain accumul data micro target increas valu individu data see futur individu compens rent data facebook tech compani form crypto decentr blockchain method like traffic acquisit cost know earli day due scalabl consum adopt roadblock possibl yet believ technolog real existenti risk perhap even solut current data privaci trust control issu internet',\n",
              " 'mark zuckerberg',\n",
              " 'mean realli import question one spend lot time broadli think gener mean believ strongli tri decentr put power individu hand mean alway first part mission facebook give peopl power share connect come togeth build commun give peopl power alway primari first thing focus one way talk decentr end end encrypt messag think broad sens say greater awar data store long period time compani asset help provid better servic also liabil could breach data could use way intend',\n",
              " 'think peopl broadli start get thing like encrypt attract peopl featur around ephemer keep data less perman becom increasingli import think type product build messag encrypt go play huge role share friend stori ephemer main thing grow mean realli privaci first product think kind import way think whole space overal think go becom increasingli import perspect privaci polici say deepli design product build mean product grow quickest differenti part work peopl prefer oppos servic term regul overal think go import basic principl behind gdpr europ think import think codifi around world would posit step mean work folk enabl think would good peopl everywher make sure basic everi person use internet servic protect matter live',\n",
              " 'oper',\n",
              " 'next question come line lloyd walmsley deutsch bank',\n",
              " 'greet welcom microsoft fiscal year third quarter earn confer call remind confer record pleasur introduc host mike spencer gener manag investor relat thank may begin',\n",
              " 'backdrop want highlight key area innov growth across custom solut creat modern workplac peopl best work requir right cultur right technolog microsoft help everi organ empow employe ai back tool unlock creativ increas teamwork fuel innov ensur complianc protect data new cyber threat',\n",
              " 'excel thank guy take question realli nice quarter across board realli much pick quarter one highlight perspect definit linkedin seem acceler revenu growth linkedin two parter one term acquisit still linkedin oper better independ compani start see synergi specif revenu synergi come bear mayb broader distribut channel get microsoft product integr synergi start kick number one number two given term process linkedin appetit like larg microsoft go forward basi',\n",
              " 'thank keith question let start ami add first import us ensur everyth enabl linkedin keep product cultur etho put member first innov behalf mean sort prioriti one two three see session growth engag growth qualiti member growth obvious translat revenu growth well across market solut talent solut sale solut',\n",
              " 'also one year done integr see see everi day outlook mobil see sale navig dynam see us window see us continu integr add valu microsoft dynam user well linkedin member',\n",
              " 'clearli increas engag well obvious translat revenu growth busi solut mention ye revenu synergi show mostli product synergi show product etho linkedin around member first maintain throughout integr',\n",
              " 'would also add keith linkedin team realli done tremend job let also say year work close appreci frankli lot inspir think seen product develop focu user import focus',\n",
              " 'product would urg peopl look outlook mobil experi realli meaning experi user member think sometim harder us measur exactli revenu synergi mean think look say growth rate plu integr seen growth use user thing like outlook mobil believ probabl littl bit front end revenu synergi see product time',\n",
              " 'come appetit actual remain unchang thing meet criteria feel like core area us market expand compani uniqu asset think abil execut see execut execut insid microsoft actual feel quit good worri abil say new quarter',\n",
              " 'yeah think add whether minecraft linkedin mani acquisit done part azur think key thing focus make cultur accret manag time accret well revenu build good muscl continu',\n",
              " 'excel thank much guy',\n",
              " 'thank keith take next question pleas',\n",
              " 'microsoft clear leader cloud secur advanc ai reason hundr billion signal month identifi anomali autom detect help custom respond cyber threat last week announc new valu custom microsoft secur score attack simul window defend atp automat detect remedi capabl well new open api intellig secur graph',\n",
              " 'thank next question come line karl keirstead deutsch bank pleas proceed question',\n",
              " 'thank start satya team congrat get microsoft organ growth big achiev compani scale look like expect june quarter congrat guess question spirit ami overal growth margin trade look fiscal',\n",
              " 'ami go back analyst day almost year ago left think messag realli go press revenu growth big margin leverag wonder look fiscal correct assum similar framework focu top line growth expect much way overal improv gross margin thank',\n",
              " 'thank karl ye think fair interpret commentari last year realli speak consist believ market oper set asset pick team built invest made sale forc even extent acquisit done show top line revenu growth us see quarter see frankli guid think interpret focu growth compani even scale certainli right interpret',\n",
              " 'okay thank',\n",
              " 'thank karl let pleas move next question',\n",
              " 'thank next question come line walter pritchard citi pleas proceed question',\n",
              " 'hi thank wonder mayb combin ami satya talk forward kind view azur growth think driver go new custom exist consumpt premium servic think grow eye pop rate right saw offic earli day expect busi sort level time think inevit look next year',\n",
              " 'yeah start qualit true point scale azur high growth rate said think key thing think differenti azur level super import us compet marketplac importantli doubl area differenti',\n",
              " 'first thing infrastructur side combin edg cloud believ azur stack azur well inclus server best crowd platform go hybrid comput continu push see growth got differ margin profil',\n",
              " 'weve also built complianc capabl directli cloud servic thousand organ use recent launch complianc manag new inform protect scanner built classif capabl help prepar gdpr comprehens approach proactiv protect one reason coca cola chose microsoft cloud digit transform',\n",
              " 'layer place excit seen lot consecut quarter growth higher level servic see good scale first time talk cosmo db actual databas launch last year mean around databas long time never seen product gotten kind scale quickli',\n",
              " 'bullish happen higher level servic continu build piec said one key thing architectur way build azur way build offic way build game cloud way build even dynam pretti much one architectur',\n",
              " 'see even way custom use overal specif question azur growth moder number becom big alreadi becom big said see plenti opportun total gross margin growth term dollar number market particip way never particip old server world',\n",
              " 'walter think way see show realli convers fy satya point realli talk server product kpi high teen fy realli confid doubl digit growth pbp segment compon offic dynam linkedin think primari compon commerci cloud overal certainli say big busi grow fast billion count linkedin growth certainli speak big base big growth number',\n",
              " 'azur right moder next year scale oper still see server kpi remain high level even base grow see also differ dynam within azur revenu number satya mention layer azur think iaa paa number would expect higher end growth rate servic per user like like em within azur frame would expect growth moder somewhat quickli per seat busi',\n",
              " 'actual time see us abl continu add arpu growth segment think almost like offic busi intern call compon part microsoft valu sell extern even hope help give littl context number well overal abil continu grow sort hybrid cloud opportun high teen',\n",
              " 'thank',\n",
              " 'thank walter take next question pleas',\n",
              " 'thank next question come line phil winslow well fargo pleas proceed question',\n",
              " 'hey guy thank guy take question congrat great quarter satya touch synergi see new applic busi linkedin help two wonder could talk sort high level strateg applic enterpris applic azur kind see synergi potenti come especi think azur ai servic kind question import critic applic like growth see dynam et cetera',\n",
              " 'one year team rapidli becom hub teamwork organ market use team maersk gener motor team enabl broad spectrum call meet room devic also build aipow servic team weve integr microsoft stream enterpris video servic team transcript time code record meet',\n",
              " 'ye mean one thing talk remark time power platform one area fact real breakout growth differenti power bi powerapp flow first time fact microsoft histori extens model offic dynam dream mine know year probabl final execut super well',\n",
              " 'interest thing even saa applic extens model everi saa applic includ common data model think synergi lie ai start data estat realli bring data applic silo sens togeth start build analyt power visual put hand peopl use power bi run ai model predict deploy system whether forecast sale lead score',\n",
              " 'workflow everi layer best deploy tool develop tool azur common data model top best bi visual technolog see increasingli synergi importantli architectur benefit custom incoher around layer may feel like make great best breed sort choic individu layer bear expens overal agil well overal manag data think differenti',\n",
              " 'great thank guy',\n",
              " 'thank let move next question pleas',\n",
              " 'thank next question come line ross macmillan rbc capit market okay move next question come line brad reback stifel pleas proceed question',\n",
              " 'great thank much mayb ami quick question window oem pro busi extraordinarili strong last quarter could mayb give us sens penetr guy window corpor upgrad cycl sustain growth thank',\n",
              " 'thank brad let first say penetr word let talk two even coupl compon think window seen past coupl year right strong enterpris deploy cycl real pull product insid enterpris secur valu prop product',\n",
              " 'see deploy secur reason extern peopl often choos upgrad machin process seen good demand insid commerci entiti make upgrad buy window pc often surfac devic choic think benefit oem partner us portfolio devic avail incred compel think partner done terrif job well',\n",
              " 'overal economi certainli also quit good instal base actual gotten older think start see process wherebi great product good macro environ got custom realli want move modern infrastructur modern infrastructur secur core result see confluenc event strong pc market strong pro perform certainli guid q continu impli factor',\n",
              " 'weve ad new facial recognit capabl attribut remark specif meet attende ad new cortana capabl make call join meet initi three way call use voic',\n",
              " 'great thank much',\n",
              " 'thank brad take next question pleas',\n",
              " 'thank next question come line michael nemeroff credit suiss pleas proceed question',\n",
              " 'thank take question satya ami help us understand larg revenu outperform guid continu strong growth game ami could pleas give us sens margin profil area game exceed expect could also comment strength mpc margin context game margin well would help thank much',\n",
              " 'yeah start yeah',\n",
              " 'start',\n",
              " 'even game much like talk commerci segment gotten strategi sort realli help us articul growth opportun well invest across variou layer',\n",
              " 'first consol highest engag consol marketplac anytim new game whether first parti third parti releas fact xbox best engag driven benefit us platform owner great growth area us stop whether xbox live whether game pass mixer addit opportun realli serv gamer play game watch game differ platform big opportun',\n",
              " 'last one think new someth alreadi pay dividend azur growth side taken knowledg mean build one first parti titl build paa servic azur game develop playfab acquisit speak directli variou lever game see mpc segment see said increasingli time even azur',\n",
              " 'think michael mind go expand question littl bit think increas mpc guid simpli game let talk bit compon one think bit sustain one may tempor natur',\n",
              " 'innov drive custom usag window continu gain traction enterpris window commerci monthli activ devic year year offic commerci million monthli activ user offic consum subscrib increas million',\n",
              " 'perform q guidanc q show actual strong perform number place expect continu oem pro terrif exampl reason gave brad question window commerci realli busi insid enterpris sell much secur valu far annuiti like basi seen strong doubl digit bill growth expect continu q well',\n",
              " 'next piec would say part sort uplift q surfac devic recept surfac book well surfac pro lte quit good see us reflect q even compar get littl bit difficult q us saw larg growth rate still expect high teen',\n",
              " 'get game compon specif satya talk xbox softwar servic compon would expect see impact continu q part want clear consist even go back quarter doubl digit grower doubl digit grower volatil number like anyth els third parti hit game move higher quarter expect q also realli strong base busi result satya talk term vibrant platform fan believ come valu ad',\n",
              " 'help thank much',\n",
              " 'help okay great thank',\n",
              " 'thank michael move next question pleas',\n",
              " 'thank next question line ross macmillan rbc capit market pleas proceed question',\n",
              " 'thank much hope line clear time satya ami want ask server product strike growth quarter given comp ami talk expect strength fiscal q guess testament strength kind hybrid leadership two question though realli strength server product broad base across window server sql server system center et cetera sort bia mix term drive strength',\n",
              " 'satya mention cosmo db strike number well curiou think multi model databas market help take market share within data manag databas space thank',\n",
              " 'yeah mean take second one think ye mean cosmo db pretti uniqu capabl combin everyth els data layer ai layer infrastructur layer think tremend opportun said ai era mostli first data era think opportun lie',\n",
              " 'turn linkedin busi applic start recogn opportun linkedin microsoft combin forc creat econom opportun everi member global workforc enabl profession product success littl one year feel great valu deliv member custom sharehold',\n",
              " 'previou question even multipl trend ami referenc remark exampl virtual still continu growth driver server product growth driver server product cybersecur secur valu server one',\n",
              " 'fact sql exampl think sql hybrid product tier sql databas cloud sql ai product one databas actual allow write python r situ store procedur right databas',\n",
              " 'exampl talk data ai close data comput alway go wherev data lot data show relat databas growth driver well hybrid choic somebodi build smart factori look say server deploy factori manag million sensor across factori azur stack show multipl driver essenti server cloud number combin',\n",
              " 'point compon prem compon even compar well let break satya comment sort two driver actual sustain across window particular also sql obvious largest product within server portfolio',\n",
              " 'first exactli hybrid demand someth call azur hybrid benefit realli provid confid commit custom buy prem server transit hybrid cloud period agreement realli choic timelin confid right let easili transit window sql benefit azur small uplift price think actual core compon',\n",
              " 'second one virtual drive data center modern anoth one move premium mix bit want break two sustain thing type thing see number',\n",
              " 'great thank last question',\n",
              " 'thank final question come line kash rangan bank america merril lynch pleas proceed question',\n",
              " 'last question longest one realli realli long thank guy get question satya meet ceo larg compani recur theme hear softwar compani ceo theme digit help us understand especi given microsoft growth rate acceler wherea gdp growth rate gdp growth rate',\n",
              " 'obvious tech spend spend percentag gdp averag compani revenu go higher help us given perspect pretti uniqu help us understand baselin oper come digit busi transform phase phase phase initi like compani like spend kind product servic new upcom mayb sell today compris increment swing factor baselin today versu wherev like go digit busi process thank',\n",
              " 'integr model enabl linkedin acceler growth retain member first etho result ahead expect across line busi revenu growth year year saw record level engag quarter session growth year year driven innov across platform increas engag drive strong demand sponsor content market solut record level job post job visitor quarter talent solut',\n",
              " 'yeah mean think talk custom cdo ceo talk four digit transform outcom fact everyth across solut area ingredi help custom achiev digit transform object exampl engag custom talk cosmo db growth cosmo db happen one best databas product abl captur signal want around custom varieti differ sourc gone one exampl',\n",
              " 'second piec cours around empow employe mean one thing increasingli becom number one prioriti everi ceo make sure right tool right product front employe best work collabor team grow great exampl compani modern workforc thing like microsoft',\n",
              " 'third one oper effici see dynam growth azur iot growth take everi iot project end field servic project classic way somebodi say let sens someth predict someth actual fix use field servic transform outcom well posit',\n",
              " 'lastli peopl chang busi model take somebodi like nalco water could say water compani pure water servic compani word put sensor allow actual deliv differenti busi model custom transform outcom see feel microsoft well posit technolog also frontlin sale capabl servic capabl partner capac best address digit transform need',\n",
              " 'wonder seem like crm hcm erp iot predomin theme go drive growth thank much use insight',\n",
              " 'thank kash wrap q portion today earn call thank join us look forward speak soon find addit detail microsoft investor relat websit',\n",
              " 'thank everyon',\n",
              " 'thank everyon',\n",
              " 'ladi gentlemen conclud today teleconfer thank particip may disconnect line time',\n",
              " 'shift busi applic dynam gain traction third commerci cloud growth engin quarter unleash wave ai innov dynam hundr new capabl transform sale autom market offic embed insid dynam product',\n",
              " 'relationship analyt sale market leverag microsoft graph data social network improv custom relationship predict lead score help seller identifi focu high qualiti lead',\n",
              " 'good afternoon thank join us today call satya nadella chief execut offic ami hood chief financi offic frank brod chief account offic carolyn frantz deputi gener counsel corpor secretari',\n",
              " 'invest busi applic platform capabl across power bi powerapp flow common data model custom extend dynam offic quickli build applic use data across organ well third parti data minim custom code',\n",
              " 'new power platform enabl custom like inter car lead european auto part compani go paper digit workflow within day versu month rapid growth power bi leader busi analyt cloud',\n",
              " 'turn infrastructur ai platform architectur advantag consist stack cloud edg reson custom azur revenu growth quarter recent cio survey affirm leadership posit hybrid develop product trust secur complianc new workload iot ai edg',\n",
              " 'made right invest decis theyr impact increas overal share expand market recent data center expans includ unit arab emir switzerland bring total number region cloud provid addit avail zone provid comprehens resili industri',\n",
              " 'also continu see strong custom demand azur stack across industri unlock new workload scenario across hybrid edg industri iot transform rule manufactur fuel cloud edg innov acceler evolut digit factori enhanc suppli chain perform azur iot azur stack enabl custom partner build industri iot solut run edg oper factori floor manag devic analyz data real time hololen quickli becom indispens tool take digit twin technolog next level',\n",
              " 'also innov silicon help custom realiz promis connect world devic thing announc azur sphere first kind highli secur edg solut combin chip design iot oper system cloud servic secur billion microcontrol power devic enter market year',\n",
              " 'alreadi see rapid custom adopt iot scenario toyota materi handl europ use azur well hololen creat factori futur use ai drone learn complex process autom flow factori increas suppli chain warehous effici microsoft abb partner push boundari smart manufactur industri autom',\n",
              " 'invest make azur best cloud enterpris data estat less year azur cosmo db first global distribut multimod multi model databas exceed million annual revenu azur databas mysql postgresql make even easier bring open sourc power applic azur expand opportun space see rapid adopt azur databrick data prepar advanc analyt machin learn scenario',\n",
              " 'continu innov democrat ai million develop alreadi use cognit servic quickli easili creat ai applic servic cloud provid azur bot servic nearli develop year year microsoft translat bring ai power translat develop data whether cloud edg',\n",
              " 'last month reach human pariti languag translat new mileston addit previou human pariti achiev object recognit speech recognit machin read comprehens',\n",
              " 'microsoft investor relat websit find earn press releas financi summari slide deck intend supplement prepar remark today call provid reconcili differ gaap non gaap financi measur',\n",
              " 'also gain traction machin learn tool adopt ten thousand custom use azur ml final innov new gpu fpga base offer lead ai infrastructur train infer im excit share cloud ai innov develop confer next month build',\n",
              " 'game continu pursu expans opportun game way game creat distribut play view one best quarter game strong revenu perform record level engag softwar servic revenu grew continu attract retain deepen user relationship across xbox live game pass mixer',\n",
              " 'xbox live monthli activ user grew million new first parti game sea thiev drove gameplay across window xbox one addit nearli million hour view servic like mixer first week',\n",
              " 'result speak strength platform servic first parti thirdparti experi continu invest platform enhanc cloud servic ai capabl develop quickli build monet game across pc consol mobil',\n",
              " 'close intellig cloud intellig edg repres tremend opportun custom come respons ensur trust technolog work instil trust three key area first privaci recogn privaci fundament human right consist act accordingli',\n",
              " 'success ground custom success work toward may th gdpr implement date sinc hundr engin across compani work end end privaci architectur ensur product servic gdpr compliant',\n",
              " 'custom provid robust tool back contractu commit help compli gdpr fact custom effect less costli host data microsoft gdpr compliant cloud develop maintain gdpr complianc tool',\n",
              " 'second cybersecur respons escal cyber attack around world lead bold initi defend protect custom recent led coalit global technolog secur compani sign cybersecur tech accord accord import first step industri help creat safer secur onlin environ everyon',\n",
              " 'final recent establish ai ethic engin research committe microsoft ensur alway advanc ai ethic respons way benefit custom broader societi includ new invest technolog detect address bia ai system microsoft stand trust continu differenti focu us move forward',\n",
              " 'hand ami cover financi result detail share outlook look forward rejoin question',\n",
              " 'unless otherwis specifi refer non gaap metric call non gaap financi measur provid consid substitut superior measur financi perform prepar accord gaap includ addit clarifi item aid investor understand compani third quarter perform addit impact item event financi result',\n",
              " 'thank satya good afternoon everyon third quarter revenu billion constant currenc better expect perform across segment gross margin increas constant currenc oper incom increas constant currenc earn per share increas constant currenc',\n",
              " 'geograph perspect saw broad base strength across market size benefit posit global corpor spend environ growth cloud servic increas commerci annuiti mix point year year along healthi renew sale team partner drove higher volum new busi lead commerci book growth constant currenc commerci unearn came slightli expect due fx grow constant currenc',\n",
              " 'commerci cloud revenu billion increas constant currenc highlight healthi growth u western europ uk improv commerci cloud gross margin point improv cloud servic notabl azur',\n",
              " 'outperform expect compani gross margin finish quarter slightli year year improv product busi process segment offic commerci linkedin offset declin intellig cloud segment driven greater mix azur revenu',\n",
              " 'fx posit impact revenu growth point expect point compani product busi process level point intellig cloud person comput fx ad point growth cog oper expens point expect',\n",
              " ...]"
            ]
          },
          "metadata": {
            "tags": []
          },
          "execution_count": 18
        }
      ]
    },
    {
      "metadata": {
        "id": "lVAgFNMA5K49",
        "colab_type": "code",
        "colab": {
          "base_uri": "https://localhost:8080/",
          "height": 34
        },
        "outputId": "a59ae480-218f-4f30-8a32-3a20f9dbe371"
      },
      "cell_type": "code",
      "source": [
        "len(data)"
      ],
      "execution_count": 19,
      "outputs": [
        {
          "output_type": "execute_result",
          "data": {
            "text/plain": [
              "1649"
            ]
          },
          "metadata": {
            "tags": []
          },
          "execution_count": 19
        }
      ]
    },
    {
      "metadata": {
        "id": "ens5n7Gf5_P1",
        "colab_type": "code",
        "colab": {}
      },
      "cell_type": "code",
      "source": [
        "mydf = pd.DataFrame(data=data,columns=['text'])"
      ],
      "execution_count": 0,
      "outputs": []
    },
    {
      "metadata": {
        "id": "_udVgWnx6Yvg",
        "colab_type": "code",
        "colab": {
          "base_uri": "https://localhost:8080/",
          "height": 204
        },
        "outputId": "2c239e21-c656-4610-a200-0ec7a0c28cd7"
      },
      "cell_type": "code",
      "source": [
        "mydf.head()"
      ],
      "execution_count": 26,
      "outputs": [
        {
          "output_type": "execute_result",
          "data": {
            "text/html": [
              "<div>\n",
              "<style scoped>\n",
              "    .dataframe tbody tr th:only-of-type {\n",
              "        vertical-align: middle;\n",
              "    }\n",
              "\n",
              "    .dataframe tbody tr th {\n",
              "        vertical-align: top;\n",
              "    }\n",
              "\n",
              "    .dataframe thead th {\n",
              "        text-align: right;\n",
              "    }\n",
              "</style>\n",
              "<table border=\"1\" class=\"dataframe\">\n",
              "  <thead>\n",
              "    <tr style=\"text-align: right;\">\n",
              "      <th></th>\n",
              "      <th>text</th>\n",
              "    </tr>\n",
              "  </thead>\n",
              "  <tbody>\n",
              "    <tr>\n",
              "      <th>0</th>\n",
              "      <td>good day ladi gentlemen welcom tesla inc q fin...</td>\n",
              "    </tr>\n",
              "    <tr>\n",
              "      <th>1</th>\n",
              "      <td>sure think model littl bit slower sure</td>\n",
              "    </tr>\n",
              "    <tr>\n",
              "      <th>2</th>\n",
              "      <td>well need bring shanghai factori onlin think b...</td>\n",
              "    </tr>\n",
              "    <tr>\n",
              "      <th>3</th>\n",
              "      <td>elig sound like go reduc china come year reall...</td>\n",
              "    </tr>\n",
              "    <tr>\n",
              "      <th>4</th>\n",
              "      <td>demand demand model insan high inhibitor affor...</td>\n",
              "    </tr>\n",
              "  </tbody>\n",
              "</table>\n",
              "</div>"
            ],
            "text/plain": [
              "                                                text\n",
              "0  good day ladi gentlemen welcom tesla inc q fin...\n",
              "1             sure think model littl bit slower sure\n",
              "2  well need bring shanghai factori onlin think b...\n",
              "3  elig sound like go reduc china come year reall...\n",
              "4  demand demand model insan high inhibitor affor..."
            ]
          },
          "metadata": {
            "tags": []
          },
          "execution_count": 26
        }
      ]
    },
    {
      "metadata": {
        "id": "zyDI1R_B6Ytj",
        "colab_type": "code",
        "colab": {}
      },
      "cell_type": "code",
      "source": [
        "mydf['sentiment'] = dataset.sentiment"
      ],
      "execution_count": 0,
      "outputs": []
    },
    {
      "metadata": {
        "id": "k6vzutAz6Yq5",
        "colab_type": "code",
        "colab": {
          "base_uri": "https://localhost:8080/",
          "height": 204
        },
        "outputId": "ef0c1857-6526-4c7b-98fb-f95a49d59046"
      },
      "cell_type": "code",
      "source": [
        "mydf.head()"
      ],
      "execution_count": 28,
      "outputs": [
        {
          "output_type": "execute_result",
          "data": {
            "text/html": [
              "<div>\n",
              "<style scoped>\n",
              "    .dataframe tbody tr th:only-of-type {\n",
              "        vertical-align: middle;\n",
              "    }\n",
              "\n",
              "    .dataframe tbody tr th {\n",
              "        vertical-align: top;\n",
              "    }\n",
              "\n",
              "    .dataframe thead th {\n",
              "        text-align: right;\n",
              "    }\n",
              "</style>\n",
              "<table border=\"1\" class=\"dataframe\">\n",
              "  <thead>\n",
              "    <tr style=\"text-align: right;\">\n",
              "      <th></th>\n",
              "      <th>text</th>\n",
              "      <th>sentiment</th>\n",
              "    </tr>\n",
              "  </thead>\n",
              "  <tbody>\n",
              "    <tr>\n",
              "      <th>0</th>\n",
              "      <td>good day ladi gentlemen welcom tesla inc q fin...</td>\n",
              "      <td>neutral</td>\n",
              "    </tr>\n",
              "    <tr>\n",
              "      <th>1</th>\n",
              "      <td>sure think model littl bit slower sure</td>\n",
              "      <td>negative</td>\n",
              "    </tr>\n",
              "    <tr>\n",
              "      <th>2</th>\n",
              "      <td>well need bring shanghai factori onlin think b...</td>\n",
              "      <td>negative</td>\n",
              "    </tr>\n",
              "    <tr>\n",
              "      <th>3</th>\n",
              "      <td>elig sound like go reduc china come year reall...</td>\n",
              "      <td>neutral</td>\n",
              "    </tr>\n",
              "    <tr>\n",
              "      <th>4</th>\n",
              "      <td>demand demand model insan high inhibitor affor...</td>\n",
              "      <td>positive</td>\n",
              "    </tr>\n",
              "  </tbody>\n",
              "</table>\n",
              "</div>"
            ],
            "text/plain": [
              "                                                text sentiment\n",
              "0  good day ladi gentlemen welcom tesla inc q fin...   neutral\n",
              "1             sure think model littl bit slower sure  negative\n",
              "2  well need bring shanghai factori onlin think b...  negative\n",
              "3  elig sound like go reduc china come year reall...   neutral\n",
              "4  demand demand model insan high inhibitor affor...  positive"
            ]
          },
          "metadata": {
            "tags": []
          },
          "execution_count": 28
        }
      ]
    },
    {
      "metadata": {
        "id": "neO_Qpl06YoU",
        "colab_type": "code",
        "colab": {
          "base_uri": "https://localhost:8080/",
          "height": 34
        },
        "outputId": "4d094aef-0fd4-40f7-8d36-b269d6162c02"
      },
      "cell_type": "code",
      "source": [
        "mydf.shape"
      ],
      "execution_count": 30,
      "outputs": [
        {
          "output_type": "execute_result",
          "data": {
            "text/plain": [
              "(1649, 2)"
            ]
          },
          "metadata": {
            "tags": []
          },
          "execution_count": 30
        }
      ]
    },
    {
      "metadata": {
        "id": "k5pCQ3_26Yj9",
        "colab_type": "code",
        "colab": {}
      },
      "cell_type": "code",
      "source": [
        "mydf.to_csv(\"justcsv.csv\")"
      ],
      "execution_count": 0,
      "outputs": []
    },
    {
      "metadata": {
        "id": "nRES-j1Q6sqK",
        "colab_type": "code",
        "colab": {}
      },
      "cell_type": "code",
      "source": [
        "from google.colab import files\n",
        "files.download(\"justcsv.csv\")"
      ],
      "execution_count": 0,
      "outputs": []
    },
    {
      "metadata": {
        "id": "6AJ4rVV88CSc",
        "colab_type": "code",
        "colab": {
          "base_uri": "https://localhost:8080/",
          "height": 1071
        },
        "outputId": "677ac56d-4cfb-4eb7-87dc-81859aa45f3f"
      },
      "cell_type": "code",
      "source": [
        "dataset.iloc[:, 0]"
      ],
      "execution_count": 36,
      "outputs": [
        {
          "output_type": "execute_result",
          "data": {
            "text/plain": [
              "0        neutral\n",
              "1       negative\n",
              "2       negative\n",
              "3        neutral\n",
              "4       positive\n",
              "5        neutral\n",
              "6        neutral\n",
              "7       positive\n",
              "8       positive\n",
              "9       positive\n",
              "10      positive\n",
              "11       neutral\n",
              "12      positive\n",
              "13       neutral\n",
              "14      positive\n",
              "15      negative\n",
              "16      negative\n",
              "17      negative\n",
              "18       neutral\n",
              "19       neutral\n",
              "20      negative\n",
              "21      positive\n",
              "22       neutral\n",
              "23      positive\n",
              "24      positive\n",
              "25      negative\n",
              "26      positive\n",
              "27      positive\n",
              "28       neutral\n",
              "29       neutral\n",
              "          ...   \n",
              "1619    negative\n",
              "1620     neutral\n",
              "1621     neutral\n",
              "1622     neutral\n",
              "1623    negative\n",
              "1624     neutral\n",
              "1625    positive\n",
              "1626    positive\n",
              "1627    positive\n",
              "1628     neutral\n",
              "1629    positive\n",
              "1630     neutral\n",
              "1631    positive\n",
              "1632    negative\n",
              "1633     neutral\n",
              "1634    positive\n",
              "1635     neutral\n",
              "1636     neutral\n",
              "1637     neutral\n",
              "1638     neutral\n",
              "1639    positive\n",
              "1640     neutral\n",
              "1641    negative\n",
              "1642     neutral\n",
              "1643     neutral\n",
              "1644    negative\n",
              "1645    negative\n",
              "1646    negative\n",
              "1647    negative\n",
              "1648     neutral\n",
              "Name: sentiment, Length: 1649, dtype: object"
            ]
          },
          "metadata": {
            "tags": []
          },
          "execution_count": 36
        }
      ]
    },
    {
      "metadata": {
        "id": "w6UHBEkN18Sv",
        "colab_type": "code",
        "colab": {}
      },
      "cell_type": "code",
      "source": [
        "# creating the feature matrix \n",
        "from sklearn.feature_extraction.text import CountVectorizer\n",
        "max_words = 1000\n",
        "tokenize = text.Tokenizer(num_words=max_words, char_level=False)\n",
        "# matrix = CountVectorizer(max_features = 2000, min_df = 3, max_df = 0.6, stop_words = stopwords.words('english'))\n",
        "\n",
        "tokenize.fit_on_texts(train_posts) # only fit on train\n",
        "x_train = tokenize.texts_to_matrix(train_posts)\n",
        "x_test = tokenize.texts_to_matrix(test_posts)\n",
        "y = dataset.iloc[:, 0]\n"
      ],
      "execution_count": 0,
      "outputs": []
    },
    {
      "metadata": {
        "id": "n-kkDBOl18RL",
        "colab_type": "code",
        "colab": {}
      },
      "cell_type": "code",
      "source": [
        "# split train and test data\n",
        "from sklearn.model_selection import train_test_split\n",
        "X_train, X_test, y_train, y_test = train_test_split(X, y, test_size=0.2)"
      ],
      "execution_count": 0,
      "outputs": []
    },
    {
      "metadata": {
        "id": "tmn6jUO75eak",
        "colab_type": "code",
        "outputId": "9113ee84-2854-4c8c-bd27-5e658f665d4f",
        "colab": {
          "base_uri": "https://localhost:8080/",
          "height": 68
        }
      },
      "cell_type": "code",
      "source": [
        "# Importing the libraries\n",
        "import numpy as np\n",
        "import re\n",
        "import pickle \n",
        "import nltk\n",
        "from nltk.corpus import stopwords\n",
        "from sklearn.datasets import load_files\n",
        "nltk.download('stopwords')"
      ],
      "execution_count": 39,
      "outputs": [
        {
          "output_type": "stream",
          "text": [
            "[nltk_data] Downloading package stopwords to /root/nltk_data...\n",
            "[nltk_data]   Package stopwords is already up-to-date!\n"
          ],
          "name": "stdout"
        },
        {
          "output_type": "execute_result",
          "data": {
            "text/plain": [
              "True"
            ]
          },
          "metadata": {
            "tags": []
          },
          "execution_count": 39
        }
      ]
    },
    {
      "metadata": {
        "id": "fcdNvdxB9h-A",
        "colab_type": "code",
        "outputId": "824ffcfa-cd3f-47e8-d56f-5a3865bcbc4e",
        "colab": {
          "base_uri": "https://localhost:8080/",
          "height": 68
        }
      },
      "cell_type": "code",
      "source": [
        "ls"
      ],
      "execution_count": 40,
      "outputs": [
        {
          "output_type": "stream",
          "text": [
            " cleanedfinancial_data.csv  'justcsv (1).csv'   Team3_Facebook.json\n",
            " \u001b[0m\u001b[01;34mFinalFiles\u001b[0m/                 justcsv.csv\n",
            " GE.csv                      \u001b[01;34msample_data\u001b[0m/\n"
          ],
          "name": "stdout"
        }
      ]
    },
    {
      "metadata": {
        "id": "cTqzAdMX9jk5",
        "colab_type": "code",
        "colab": {}
      },
      "cell_type": "code",
      "source": [
        "import pandas as pd"
      ],
      "execution_count": 0,
      "outputs": []
    },
    {
      "metadata": {
        "id": "UQSmI1Ng-y8h",
        "colab_type": "code",
        "colab": {}
      },
      "cell_type": "code",
      "source": [
        "import matplotlib.pyplot as plt"
      ],
      "execution_count": 0,
      "outputs": []
    },
    {
      "metadata": {
        "id": "z3ZeWlrF_-wn",
        "colab_type": "code",
        "outputId": "c2472aa6-57ae-4a7a-b826-4f1e9fe65f8a",
        "colab": {
          "base_uri": "https://localhost:8080/",
          "height": 34
        }
      },
      "cell_type": "code",
      "source": [
        "y.unique()"
      ],
      "execution_count": 43,
      "outputs": [
        {
          "output_type": "execute_result",
          "data": {
            "text/plain": [
              "array(['neutral', 'negative', 'positive'], dtype=object)"
            ]
          },
          "metadata": {
            "tags": []
          },
          "execution_count": 43
        }
      ]
    },
    {
      "metadata": {
        "colab_type": "code",
        "id": "xCSlQFyp4SYv",
        "colab": {}
      },
      "cell_type": "code",
      "source": [
        "from __future__ import absolute_import\n",
        "from __future__ import division\n",
        "from __future__ import print_function"
      ],
      "execution_count": 0,
      "outputs": []
    },
    {
      "metadata": {
        "colab_type": "code",
        "outputId": "ae0a7ffa-c6f2-407e-c69d-c4137921745f",
        "id": "tPWeeqZK4SYw",
        "colab": {
          "base_uri": "https://localhost:8080/",
          "height": 34
        }
      },
      "cell_type": "code",
      "source": [
        "import itertools\n",
        "import os\n",
        "\n",
        "%matplotlib inline\n",
        "import matplotlib.pyplot as plt\n",
        "import numpy as np\n",
        "import pandas as pd\n",
        "import tensorflow as tf\n",
        "\n",
        "from sklearn.preprocessing import LabelBinarizer, LabelEncoder\n",
        "from sklearn.metrics import confusion_matrix\n",
        "\n",
        "from tensorflow import keras\n",
        "from keras.models import Sequential\n",
        "from keras.layers import Dense, Activation, Dropout\n",
        "from keras.preprocessing import text, sequence\n",
        "from keras import utils\n",
        "\n",
        "# This code was tested with TensorFlow v1.4\n",
        "print(\"You have TensorFlow version\", tf.__version__)"
      ],
      "execution_count": 45,
      "outputs": [
        {
          "output_type": "stream",
          "text": [
            "You have TensorFlow version 1.13.1\n"
          ],
          "name": "stdout"
        }
      ]
    },
    {
      "metadata": {
        "id": "97emT3D_Nc5x",
        "colab_type": "code",
        "colab": {}
      },
      "cell_type": "code",
      "source": [
        "\n",
        "train_posts = X_train\n",
        "train_tags =y_train\n",
        "\n",
        "test_posts = X_test\n",
        "test_tags = y_test"
      ],
      "execution_count": 0,
      "outputs": []
    },
    {
      "metadata": {
        "id": "e5TJWO9XNktY",
        "colab_type": "code",
        "colab": {}
      },
      "cell_type": "code",
      "source": [
        "max_words = 2000"
      ],
      "execution_count": 0,
      "outputs": []
    },
    {
      "metadata": {
        "id": "zevERHlCNpwD",
        "colab_type": "code",
        "colab": {}
      },
      "cell_type": "code",
      "source": [
        "\n",
        "# Use sklearn utility to convert label strings to numbered index\n",
        "encoder = LabelEncoder()\n",
        "encoder.fit(train_tags)\n",
        "y_train = encoder.transform(train_tags)\n",
        "y_test = encoder.transform(test_tags)"
      ],
      "execution_count": 0,
      "outputs": []
    },
    {
      "metadata": {
        "id": "IlUcDOcuNru5",
        "colab_type": "code",
        "outputId": "0fe86afd-7795-4798-c9d5-7a4849c98626",
        "colab": {
          "base_uri": "https://localhost:8080/",
          "height": 34
        }
      },
      "cell_type": "code",
      "source": [
        "y_train"
      ],
      "execution_count": 49,
      "outputs": [
        {
          "output_type": "execute_result",
          "data": {
            "text/plain": [
              "array([1, 0, 1, ..., 1, 2, 0])"
            ]
          },
          "metadata": {
            "tags": []
          },
          "execution_count": 49
        }
      ]
    },
    {
      "metadata": {
        "id": "BMGjKEIVNsyI",
        "colab_type": "code",
        "colab": {}
      },
      "cell_type": "code",
      "source": [
        "# Converts the labels to a one-hot representation\n",
        "num_classes = np.max(y_train) + 1\n",
        "y_train = utils.to_categorical(y_train, num_classes)\n",
        "y_test = utils.to_categorical(y_test, num_classes)"
      ],
      "execution_count": 0,
      "outputs": []
    },
    {
      "metadata": {
        "id": "PKeB0_PnNvl2",
        "colab_type": "code",
        "outputId": "d2b3bdd6-aa50-4521-fe2f-c9a9471766a9",
        "colab": {
          "base_uri": "https://localhost:8080/",
          "height": 136
        }
      },
      "cell_type": "code",
      "source": [
        "y_train"
      ],
      "execution_count": 51,
      "outputs": [
        {
          "output_type": "execute_result",
          "data": {
            "text/plain": [
              "array([[0., 1., 0.],\n",
              "       [1., 0., 0.],\n",
              "       [0., 1., 0.],\n",
              "       ...,\n",
              "       [0., 1., 0.],\n",
              "       [0., 0., 1.],\n",
              "       [1., 0., 0.]], dtype=float32)"
            ]
          },
          "metadata": {
            "tags": []
          },
          "execution_count": 51
        }
      ]
    },
    {
      "metadata": {
        "id": "8QHPg1K6CbHn",
        "colab_type": "code",
        "colab": {}
      },
      "cell_type": "code",
      "source": [
        "x_train = X_train\n",
        "x_test = X_test"
      ],
      "execution_count": 0,
      "outputs": []
    },
    {
      "metadata": {
        "id": "DNlVM-iYNw2k",
        "colab_type": "code",
        "outputId": "b353feaa-438e-4aa1-bc8c-0b3ea1e09f6e",
        "colab": {
          "base_uri": "https://localhost:8080/",
          "height": 85
        }
      },
      "cell_type": "code",
      "source": [
        "\n",
        "# Inspect the dimenstions of our training and test data (this is helpful to debug)\n",
        "print('x_train shape:', x_train.shape)\n",
        "print('x_test shape:', x_test.shape)\n",
        "print('y_train shape:', y_train.shape)\n",
        "print('y_test shape:', y_test.shape)"
      ],
      "execution_count": 53,
      "outputs": [
        {
          "output_type": "stream",
          "text": [
            "x_train shape: (1319, 1949)\n",
            "x_test shape: (330, 1949)\n",
            "y_train shape: (1319, 3)\n",
            "y_test shape: (330, 3)\n"
          ],
          "name": "stdout"
        }
      ]
    },
    {
      "metadata": {
        "id": "wcR3HfgvE9SF",
        "colab_type": "code",
        "colab": {}
      },
      "cell_type": "code",
      "source": [
        "### Grid Search"
      ],
      "execution_count": 0,
      "outputs": []
    },
    {
      "metadata": {
        "id": "qiCK01OWE9Ng",
        "colab_type": "code",
        "colab": {}
      },
      "cell_type": "code",
      "source": [
        "# Use scikit-learn to grid search the batch size and epochs\n",
        "import numpy\n",
        "from sklearn.model_selection import GridSearchCV\n",
        "from keras.models import Sequential\n",
        "from keras.layers import Dense\n",
        "from keras.wrappers.scikit_learn import KerasClassifier"
      ],
      "execution_count": 0,
      "outputs": []
    },
    {
      "metadata": {
        "id": "qhra9NX0E9Ji",
        "colab_type": "code",
        "colab": {}
      },
      "cell_type": "code",
      "source": [
        "# Function to create model, required for KerasClassifier\n",
        "def create_model(optimizer='adam'):\n",
        "  model = Sequential()\n",
        "  model.add(Dense(512,input_shape=(1949,)))\n",
        "  model.add(Activation('relu'))\n",
        "  model.add(Dropout(0.5))\n",
        "  model.add(Dense(num_classes))\n",
        "  model.add(Activation('softmax'))\n",
        "  model.compile(loss='categorical_crossentropy',\n",
        "               optimizer=optimizer,\n",
        "               metrics=['accuracy'])\n",
        "  return model\n",
        "\n"
      ],
      "execution_count": 0,
      "outputs": []
    },
    {
      "metadata": {
        "id": "SKxz5TWHGD9x",
        "colab_type": "code",
        "colab": {}
      },
      "cell_type": "code",
      "source": [
        "# fix random seed for reproducibility\n",
        "seed = 7\n",
        "numpy.random.seed(seed)\n"
      ],
      "execution_count": 0,
      "outputs": []
    },
    {
      "metadata": {
        "id": "hZDdVRt8H0Y_",
        "colab_type": "code",
        "colab": {}
      },
      "cell_type": "code",
      "source": [
        "# create model\n",
        "model = KerasClassifier(build_fn=create_model, epochs=5, batch_size=80, verbose=0)"
      ],
      "execution_count": 0,
      "outputs": []
    },
    {
      "metadata": {
        "id": "NJYlQ6IQFM_2",
        "colab_type": "code",
        "colab": {}
      },
      "cell_type": "code",
      "source": [
        "optimizer = ['SGD', 'RMSprop', 'Adagrad', 'Adadelta', 'Adam', 'Adamax', 'Nadam']\n",
        "param_grid = dict(optimizer=optimizer)\n",
        "grid = GridSearchCV(estimator=model, param_grid=param_grid, n_jobs=-1)\n",
        "grid_result = grid.fit(x_train, y_train)\n",
        "# summarize results\n",
        "print(\"Best: %f using %s\" % (grid_result.best_score_, grid_result.best_params_))\n",
        "means = grid_result.cv_results_['mean_test_score']\n",
        "stds = grid_result.cv_results_['std_test_score']\n",
        "params = grid_result.cv_results_['params']\n",
        "for mean, stdev, param in zip(means, stds, params):\n",
        "    print(\"%f (%f) with: %r\" % (mean, stdev, param))"
      ],
      "execution_count": 0,
      "outputs": []
    },
    {
      "metadata": {
        "id": "O64yXkIWFM9M",
        "colab_type": "code",
        "colab": {}
      },
      "cell_type": "code",
      "source": [
        ""
      ],
      "execution_count": 0,
      "outputs": []
    },
    {
      "metadata": {
        "id": "T2X-iS0RFM5f",
        "colab_type": "code",
        "colab": {}
      },
      "cell_type": "code",
      "source": [
        ""
      ],
      "execution_count": 0,
      "outputs": []
    },
    {
      "metadata": {
        "id": "F_hypG24FM3F",
        "colab_type": "code",
        "colab": {}
      },
      "cell_type": "code",
      "source": [
        ""
      ],
      "execution_count": 0,
      "outputs": []
    },
    {
      "metadata": {
        "id": "a8RLdOkFFM1R",
        "colab_type": "code",
        "colab": {}
      },
      "cell_type": "code",
      "source": [
        ""
      ],
      "execution_count": 0,
      "outputs": []
    },
    {
      "metadata": {
        "id": "Gl5fSY5JFMzm",
        "colab_type": "code",
        "colab": {}
      },
      "cell_type": "code",
      "source": [
        ""
      ],
      "execution_count": 0,
      "outputs": []
    },
    {
      "metadata": {
        "id": "cqUTofbnFMw0",
        "colab_type": "code",
        "colab": {
          "base_uri": "https://localhost:8080/",
          "height": 119
        },
        "outputId": "f8905663-7148-42a8-9b19-405a3180278d"
      },
      "cell_type": "code",
      "source": [
        "model = Sequential()\n",
        "model.add(Dense(512,input_shape=(1949,)))\n",
        "model.add(Activation('relu'))\n",
        "model.add(Dropout(0.5))\n",
        "model.add(Dense(num_classes))\n",
        "model.add(Activation('softmax'))"
      ],
      "execution_count": 56,
      "outputs": [
        {
          "output_type": "stream",
          "text": [
            "WARNING:tensorflow:From /usr/local/lib/python3.6/dist-packages/tensorflow/python/framework/op_def_library.py:263: colocate_with (from tensorflow.python.framework.ops) is deprecated and will be removed in a future version.\n",
            "Instructions for updating:\n",
            "Colocations handled automatically by placer.\n",
            "WARNING:tensorflow:From /usr/local/lib/python3.6/dist-packages/keras/backend/tensorflow_backend.py:3445: calling dropout (from tensorflow.python.ops.nn_ops) with keep_prob is deprecated and will be removed in a future version.\n",
            "Instructions for updating:\n",
            "Please use `rate` instead of `keep_prob`. Rate should be set to `rate = 1 - keep_prob`.\n"
          ],
          "name": "stdout"
        }
      ]
    },
    {
      "metadata": {
        "id": "jRqKynC8FMsz",
        "colab_type": "code",
        "colab": {}
      },
      "cell_type": "code",
      "source": [
        " model.compile(loss='categorical_crossentropy',\n",
        "               optimizer='Adagrad',\n",
        "               metrics=['accuracy'])"
      ],
      "execution_count": 0,
      "outputs": []
    },
    {
      "metadata": {
        "id": "7YZodJYdN4qV",
        "colab_type": "code",
        "outputId": "2241b03e-5374-4139-991b-092903414a23",
        "colab": {
          "base_uri": "https://localhost:8080/",
          "height": 255
        }
      },
      "cell_type": "code",
      "source": [
        "history = model.fit(x_train, y_train,\n",
        "                    batch_size=80,\n",
        "                    epochs=5,\n",
        "                    verbose=1,\n",
        "                    validation_split=0.1)"
      ],
      "execution_count": 58,
      "outputs": [
        {
          "output_type": "stream",
          "text": [
            "WARNING:tensorflow:From /usr/local/lib/python3.6/dist-packages/tensorflow/python/ops/math_ops.py:3066: to_int32 (from tensorflow.python.ops.math_ops) is deprecated and will be removed in a future version.\n",
            "Instructions for updating:\n",
            "Use tf.cast instead.\n",
            "Train on 1187 samples, validate on 132 samples\n",
            "Epoch 1/5\n",
            "1187/1187 [==============================] - 1s 853us/step - loss: 0.8974 - acc: 0.6436 - val_loss: 0.8174 - val_acc: 0.6818\n",
            "Epoch 2/5\n",
            "1187/1187 [==============================] - 0s 88us/step - loss: 0.4219 - acc: 0.8703 - val_loss: 0.8356 - val_acc: 0.6742\n",
            "Epoch 3/5\n",
            "1187/1187 [==============================] - 0s 79us/step - loss: 0.2645 - acc: 0.9242 - val_loss: 0.8832 - val_acc: 0.6818\n",
            "Epoch 4/5\n",
            "1187/1187 [==============================] - 0s 84us/step - loss: 0.1784 - acc: 0.9621 - val_loss: 0.9422 - val_acc: 0.6894\n",
            "Epoch 5/5\n",
            "1187/1187 [==============================] - 0s 87us/step - loss: 0.1359 - acc: 0.9739 - val_loss: 0.9687 - val_acc: 0.6667\n"
          ],
          "name": "stdout"
        }
      ]
    },
    {
      "metadata": {
        "id": "-scFCfk6N6u6",
        "colab_type": "code",
        "outputId": "d3cf86f8-eab3-450a-9bcb-b986dc18e9f1",
        "colab": {
          "base_uri": "https://localhost:8080/",
          "height": 68
        }
      },
      "cell_type": "code",
      "source": [
        "# Evaluate the accuracy of our trained model\n",
        "score = model.evaluate(x_test, y_test,\n",
        "                       batch_size=80, verbose=1)\n",
        "print('Test score:', score[0])\n",
        "print('Test accuracy:', score[1])"
      ],
      "execution_count": 59,
      "outputs": [
        {
          "output_type": "stream",
          "text": [
            "330/330 [==============================] - 0s 71us/step\n",
            "Test score: 0.9216332760724154\n",
            "Test accuracy: 0.6848484873771667\n"
          ],
          "name": "stdout"
        }
      ]
    },
    {
      "metadata": {
        "id": "Z7T4BEMPN9em",
        "colab_type": "code",
        "colab": {}
      },
      "cell_type": "code",
      "source": [
        "\n",
        "y_softmax = model.predict(x_test)\n",
        "\n",
        "y_test_1d = []\n",
        "y_pred_1d = []\n",
        "\n",
        "for i in range(len(y_test)):\n",
        "    probs = y_test[i]\n",
        "    index_arr = np.nonzero(probs)\n",
        "    one_hot_index = index_arr[0].item(0)\n",
        "    y_test_1d.append(one_hot_index)\n",
        "\n",
        "for i in range(0, len(y_softmax)):\n",
        "    probs = y_softmax[i]\n",
        "    predicted_index = np.argmax(probs)\n",
        "    y_pred_1d.append(predicted_index)"
      ],
      "execution_count": 0,
      "outputs": []
    },
    {
      "metadata": {
        "id": "mgcxIHCkOCzu",
        "colab_type": "code",
        "colab": {}
      },
      "cell_type": "code",
      "source": [
        "def plot_confusion_matrix(cm, classes,\n",
        "                          title='Confusion matrix',\n",
        "                          cmap=plt.cm.Blues):\n",
        "    \"\"\"\n",
        "    This function prints and plots the confusion matrix.\n",
        "    Normalization can be applied by setting `normalize=True`.\n",
        "    \"\"\"\n",
        "\n",
        "    cm = cm.astype('float') / cm.sum(axis=1)[:, np.newaxis]\n",
        "\n",
        "    plt.imshow(cm, interpolation='nearest', cmap=cmap)\n",
        "    plt.title(title, fontsize=30)\n",
        "    plt.colorbar()\n",
        "    tick_marks = np.arange(len(classes))\n",
        "    plt.xticks(tick_marks, classes, rotation=45, fontsize=22)\n",
        "    plt.yticks(tick_marks, classes, fontsize=22)\n",
        "\n",
        "    fmt = '.2f'\n",
        "    thresh = cm.max() / 2.\n",
        "    for i, j in itertools.product(range(cm.shape[0]), range(cm.shape[1])):\n",
        "        plt.text(j, i, format(cm[i, j], fmt),\n",
        "                 horizontalalignment=\"center\",\n",
        "                 color=\"white\" if cm[i, j] > thresh else \"black\")\n",
        "\n",
        "    plt.ylabel('True label', fontsize=25)\n",
        "    plt.xlabel('Predicted label', fontsize=25)"
      ],
      "execution_count": 0,
      "outputs": []
    },
    {
      "metadata": {
        "id": "1mpqVpJOONGi",
        "colab_type": "code",
        "colab": {}
      },
      "cell_type": "code",
      "source": [
        "text_labels = encoder.classes_ "
      ],
      "execution_count": 0,
      "outputs": []
    },
    {
      "metadata": {
        "id": "wr0JvEm_OFW1",
        "colab_type": "code",
        "outputId": "25a1992c-f73e-48e6-ae2d-65a92e8f7ffa",
        "colab": {
          "base_uri": "https://localhost:8080/",
          "height": 1239
        }
      },
      "cell_type": "code",
      "source": [
        "cnf_matrix = confusion_matrix(y_test_1d, y_pred_1d)\n",
        "plt.figure(figsize=(24,20))\n",
        "plot_confusion_matrix(cnf_matrix, classes=text_labels, title=\"Confusion matrix\")\n",
        "plt.show()"
      ],
      "execution_count": 63,
      "outputs": [
        {
          "output_type": "display_data",
          "data": {
            "image/png": "[encoded data removed]",
            "text/plain": [
              "<Figure size 1728x1440 with 2 Axes>"
            ]
          },
          "metadata": {
            "tags": []
          }
        }
      ]
    },
    {
      "metadata": {
        "id": "EgVgIxfSOHUQ",
        "colab_type": "code",
        "colab": {}
      },
      "cell_type": "code",
      "source": [
        "from sklearn.metrics import f1_score"
      ],
      "execution_count": 0,
      "outputs": []
    },
    {
      "metadata": {
        "id": "iUvmZPdgD4Og",
        "colab_type": "code",
        "outputId": "1b834728-f170-4b21-f1c8-cf30310b62b7",
        "colab": {
          "base_uri": "https://localhost:8080/",
          "height": 34
        }
      },
      "cell_type": "code",
      "source": [
        "f1_score(y_test_1d, y_pred_1d, average='macro')"
      ],
      "execution_count": 65,
      "outputs": [
        {
          "output_type": "execute_result",
          "data": {
            "text/plain": [
              "0.5266112192724499"
            ]
          },
          "metadata": {
            "tags": []
          },
          "execution_count": 65
        }
      ]
    },
    {
      "metadata": {
        "id": "aZC9whIeEQsZ",
        "colab_type": "code",
        "colab": {}
      },
      "cell_type": "code",
      "source": [
        "mydf = pd.read_csv(\"GE.csv\")"
      ],
      "execution_count": 0,
      "outputs": []
    },
    {
      "metadata": {
        "id": "srOqJ-rw8l84",
        "colab_type": "code",
        "colab": {}
      },
      "cell_type": "code",
      "source": [
        "# mydf.iloc[:, 1]"
      ],
      "execution_count": 0,
      "outputs": []
    },
    {
      "metadata": {
        "id": "sm8Pl7I18cON",
        "colab_type": "code",
        "colab": {}
      },
      "cell_type": "code",
      "source": [
        "matrix = CountVectorizer(max_features = 2000, min_df = 3, max_df = 0.6, stop_words = stopwords.words('english'))\n",
        "Xge = matrix.fit_transform(mydf.text).toarray()\n",
        "yge = mydf.iloc[:, 1]"
      ],
      "execution_count": 0,
      "outputs": []
    },
    {
      "metadata": {
        "id": "pg1vdod08rxc",
        "colab_type": "code",
        "colab": {}
      },
      "cell_type": "code",
      "source": [
        "encoder = LabelEncoder()\n",
        "encoder.fit(yge)\n",
        "\n",
        "yge = encoder.transform(yge)"
      ],
      "execution_count": 0,
      "outputs": []
    },
    {
      "metadata": {
        "id": "AtY0pnEk85Cr",
        "colab_type": "code",
        "colab": {}
      },
      "cell_type": "code",
      "source": [
        "# Converts the labels to a one-hot representation\n",
        "num_classes = np.max(yge) + 1\n",
        "\n",
        "yge = utils.to_categorical(yge, num_classes)"
      ],
      "execution_count": 0,
      "outputs": []
    },
    {
      "metadata": {
        "id": "fFXsX9JT9AOn",
        "colab_type": "code",
        "colab": {
          "base_uri": "https://localhost:8080/",
          "height": 588
        },
        "outputId": "94b10294-d0cc-4d30-9686-6c155215e452"
      },
      "cell_type": "code",
      "source": [
        "y_softmax = model.predict(Xge)\n",
        "\n",
        "y_test_1d = []\n",
        "y_pred_1d = []\n",
        "\n",
        "for i in range(len(yge)):\n",
        "    probs = yge[i]\n",
        "    index_arr = np.nonzero(probs)\n",
        "    one_hot_index = index_arr[0].item(0)\n",
        "    y_test_1d.append(one_hot_index)\n",
        "\n",
        "for i in range(0, len(y_softmax)):\n",
        "    probs = y_softmax[i]\n",
        "    predicted_index = np.argmax(probs)\n",
        "    y_pred_1d.append(predicted_index)"
      ],
      "execution_count": 73,
      "outputs": [
        {
          "output_type": "error",
          "ename": "ValueError",
          "evalue": "ignored",
          "traceback": [
            "\u001b[0;31m---------------------------------------------------------------------------\u001b[0m",
            "\u001b[0;31mValueError\u001b[0m                                Traceback (most recent call last)",
            "\u001b[0;32m<ipython-input-73-b4a8dfd39023>\u001b[0m in \u001b[0;36m<module>\u001b[0;34m()\u001b[0m\n\u001b[0;32m----> 1\u001b[0;31m \u001b[0my_softmax\u001b[0m \u001b[0;34m=\u001b[0m \u001b[0mmodel\u001b[0m\u001b[0;34m.\u001b[0m\u001b[0mpredict\u001b[0m\u001b[0;34m(\u001b[0m\u001b[0mXge\u001b[0m\u001b[0;34m)\u001b[0m\u001b[0;34m\u001b[0m\u001b[0;34m\u001b[0m\u001b[0m\n\u001b[0m\u001b[1;32m      2\u001b[0m \u001b[0;34m\u001b[0m\u001b[0m\n\u001b[1;32m      3\u001b[0m \u001b[0my_test_1d\u001b[0m \u001b[0;34m=\u001b[0m \u001b[0;34m[\u001b[0m\u001b[0;34m]\u001b[0m\u001b[0;34m\u001b[0m\u001b[0;34m\u001b[0m\u001b[0m\n\u001b[1;32m      4\u001b[0m \u001b[0my_pred_1d\u001b[0m \u001b[0;34m=\u001b[0m \u001b[0;34m[\u001b[0m\u001b[0;34m]\u001b[0m\u001b[0;34m\u001b[0m\u001b[0;34m\u001b[0m\u001b[0m\n\u001b[1;32m      5\u001b[0m \u001b[0;34m\u001b[0m\u001b[0m\n",
            "\u001b[0;32m/usr/local/lib/python3.6/dist-packages/keras/engine/training.py\u001b[0m in \u001b[0;36mpredict\u001b[0;34m(self, x, batch_size, verbose, steps)\u001b[0m\n\u001b[1;32m   1147\u001b[0m                              'argument.')\n\u001b[1;32m   1148\u001b[0m         \u001b[0;31m# Validate user data.\u001b[0m\u001b[0;34m\u001b[0m\u001b[0;34m\u001b[0m\u001b[0;34m\u001b[0m\u001b[0m\n\u001b[0;32m-> 1149\u001b[0;31m         \u001b[0mx\u001b[0m\u001b[0;34m,\u001b[0m \u001b[0m_\u001b[0m\u001b[0;34m,\u001b[0m \u001b[0m_\u001b[0m \u001b[0;34m=\u001b[0m \u001b[0mself\u001b[0m\u001b[0;34m.\u001b[0m\u001b[0m_standardize_user_data\u001b[0m\u001b[0;34m(\u001b[0m\u001b[0mx\u001b[0m\u001b[0;34m)\u001b[0m\u001b[0;34m\u001b[0m\u001b[0;34m\u001b[0m\u001b[0m\n\u001b[0m\u001b[1;32m   1150\u001b[0m         \u001b[0;32mif\u001b[0m \u001b[0mself\u001b[0m\u001b[0;34m.\u001b[0m\u001b[0mstateful\u001b[0m\u001b[0;34m:\u001b[0m\u001b[0;34m\u001b[0m\u001b[0;34m\u001b[0m\u001b[0m\n\u001b[1;32m   1151\u001b[0m             \u001b[0;32mif\u001b[0m \u001b[0mx\u001b[0m\u001b[0;34m[\u001b[0m\u001b[0;36m0\u001b[0m\u001b[0;34m]\u001b[0m\u001b[0;34m.\u001b[0m\u001b[0mshape\u001b[0m\u001b[0;34m[\u001b[0m\u001b[0;36m0\u001b[0m\u001b[0;34m]\u001b[0m \u001b[0;34m>\u001b[0m \u001b[0mbatch_size\u001b[0m \u001b[0;32mand\u001b[0m \u001b[0mx\u001b[0m\u001b[0;34m[\u001b[0m\u001b[0;36m0\u001b[0m\u001b[0;34m]\u001b[0m\u001b[0;34m.\u001b[0m\u001b[0mshape\u001b[0m\u001b[0;34m[\u001b[0m\u001b[0;36m0\u001b[0m\u001b[0;34m]\u001b[0m \u001b[0;34m%\u001b[0m \u001b[0mbatch_size\u001b[0m \u001b[0;34m!=\u001b[0m \u001b[0;36m0\u001b[0m\u001b[0;34m:\u001b[0m\u001b[0;34m\u001b[0m\u001b[0;34m\u001b[0m\u001b[0m\n",
            "\u001b[0;32m/usr/local/lib/python3.6/dist-packages/keras/engine/training.py\u001b[0m in \u001b[0;36m_standardize_user_data\u001b[0;34m(self, x, y, sample_weight, class_weight, check_array_lengths, batch_size)\u001b[0m\n\u001b[1;32m    749\u001b[0m             \u001b[0mfeed_input_shapes\u001b[0m\u001b[0;34m,\u001b[0m\u001b[0;34m\u001b[0m\u001b[0;34m\u001b[0m\u001b[0m\n\u001b[1;32m    750\u001b[0m             \u001b[0mcheck_batch_axis\u001b[0m\u001b[0;34m=\u001b[0m\u001b[0;32mFalse\u001b[0m\u001b[0;34m,\u001b[0m  \u001b[0;31m# Don't enforce the batch size.\u001b[0m\u001b[0;34m\u001b[0m\u001b[0;34m\u001b[0m\u001b[0m\n\u001b[0;32m--> 751\u001b[0;31m             exception_prefix='input')\n\u001b[0m\u001b[1;32m    752\u001b[0m \u001b[0;34m\u001b[0m\u001b[0m\n\u001b[1;32m    753\u001b[0m         \u001b[0;32mif\u001b[0m \u001b[0my\u001b[0m \u001b[0;32mis\u001b[0m \u001b[0;32mnot\u001b[0m \u001b[0;32mNone\u001b[0m\u001b[0;34m:\u001b[0m\u001b[0;34m\u001b[0m\u001b[0;34m\u001b[0m\u001b[0m\n",
            "\u001b[0;32m/usr/local/lib/python3.6/dist-packages/keras/engine/training_utils.py\u001b[0m in \u001b[0;36mstandardize_input_data\u001b[0;34m(data, names, shapes, check_batch_axis, exception_prefix)\u001b[0m\n\u001b[1;32m    136\u001b[0m                             \u001b[0;34m': expected '\u001b[0m \u001b[0;34m+\u001b[0m \u001b[0mnames\u001b[0m\u001b[0;34m[\u001b[0m\u001b[0mi\u001b[0m\u001b[0;34m]\u001b[0m \u001b[0;34m+\u001b[0m \u001b[0;34m' to have shape '\u001b[0m \u001b[0;34m+\u001b[0m\u001b[0;34m\u001b[0m\u001b[0;34m\u001b[0m\u001b[0m\n\u001b[1;32m    137\u001b[0m                             \u001b[0mstr\u001b[0m\u001b[0;34m(\u001b[0m\u001b[0mshape\u001b[0m\u001b[0;34m)\u001b[0m \u001b[0;34m+\u001b[0m \u001b[0;34m' but got array with shape '\u001b[0m \u001b[0;34m+\u001b[0m\u001b[0;34m\u001b[0m\u001b[0;34m\u001b[0m\u001b[0m\n\u001b[0;32m--> 138\u001b[0;31m                             str(data_shape))\n\u001b[0m\u001b[1;32m    139\u001b[0m     \u001b[0;32mreturn\u001b[0m \u001b[0mdata\u001b[0m\u001b[0;34m\u001b[0m\u001b[0;34m\u001b[0m\u001b[0m\n\u001b[1;32m    140\u001b[0m \u001b[0;34m\u001b[0m\u001b[0m\n",
            "\u001b[0;31mValueError\u001b[0m: Error when checking input: expected dense_1_input to have shape (1949,) but got array with shape (613,)"
          ]
        }
      ]
    },
    {
      "metadata": {
        "id": "6CoeEPyX9Hbq",
        "colab_type": "code",
        "colab": {}
      },
      "cell_type": "code",
      "source": [
        "max_words = 1000\n",
        "tokenize = text.Tokenizer(num_words=max_words, char_level=False)"
      ],
      "execution_count": 0,
      "outputs": []
    },
    {
      "metadata": {
        "id": "e2erkSgd9Txl",
        "colab_type": "code",
        "colab": {}
      },
      "cell_type": "code",
      "source": [
        "tokenize.fit_on_texts(mydf.text) # only fit on train\n",
        "\n",
        "xge = tokenize.texts_to_matrix(mydf.text)"
      ],
      "execution_count": 0,
      "outputs": []
    },
    {
      "metadata": {
        "id": "12q3TnhS9eI5",
        "colab_type": "code",
        "colab": {
          "base_uri": "https://localhost:8080/",
          "height": 136
        },
        "outputId": "a941ca0d-d0d4-49c1-80a9-3cca92c234ec"
      },
      "cell_type": "code",
      "source": [
        "xge"
      ],
      "execution_count": 76,
      "outputs": [
        {
          "output_type": "execute_result",
          "data": {
            "text/plain": [
              "array([[0., 1., 1., ..., 0., 0., 0.],\n",
              "       [0., 1., 1., ..., 0., 0., 0.],\n",
              "       [0., 1., 1., ..., 0., 0., 0.],\n",
              "       ...,\n",
              "       [0., 0., 0., ..., 0., 0., 0.],\n",
              "       [0., 1., 1., ..., 0., 0., 0.],\n",
              "       [0., 0., 0., ..., 0., 0., 0.]])"
            ]
          },
          "metadata": {
            "tags": []
          },
          "execution_count": 76
        }
      ]
    },
    {
      "metadata": {
        "id": "okvehFfK9fAN",
        "colab_type": "code",
        "colab": {}
      },
      "cell_type": "code",
      "source": [
        "\n",
        "# Build the model\n",
        "model = Sequential()\n",
        "model.add(Dense(512, input_shape=(max_words,)))\n",
        "model.add(Activation('relu'))\n",
        "model.add(Dropout(0.5))\n",
        "model.add(Dense(num_classes))\n",
        "model.add(Activation('softmax'))\n",
        "\n",
        "model.compile(loss='categorical_crossentropy',\n",
        "              optimizer='adam',\n",
        "              metrics=['accuracy'])"
      ],
      "execution_count": 0,
      "outputs": []
    },
    {
      "metadata": {
        "id": "Mh6W36F99jU-",
        "colab_type": "code",
        "colab": {}
      },
      "cell_type": "code",
      "source": [
        "\n",
        "# model.fit trains the model\n",
        "# The validation_split param tells Keras what % of our training data should be used in the validation set\n",
        "# You can see the validation loss decreasing slowly when you run this\n",
        "# Because val_loss is no longer decreasing we stop training to prevent overfitting\n",
        "history = model.fit(x_train, y_train,\n",
        "                    batch_size=batch_size,\n",
        "                    epochs=epochs,\n",
        "                    verbose=1,\n",
        "                    validation_split=0.1)"
      ],
      "execution_count": 0,
      "outputs": []
    }
  ]
}