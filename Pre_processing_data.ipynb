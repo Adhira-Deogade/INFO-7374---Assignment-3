{
  "nbformat": 4,
  "nbformat_minor": 0,
  "metadata": {
    "colab": {
      "name": "Pre-processing data.ipynb",
      "version": "0.3.2",
      "provenance": [],
      "collapsed_sections": [],
      "include_colab_link": true
    },
    "kernelspec": {
      "name": "python3",
      "display_name": "Python 3"
    },
    "accelerator": "GPU"
  },
  "cells": [
    {
      "cell_type": "markdown",
      "metadata": {
        "id": "view-in-github",
        "colab_type": "text"
      },
      "source": [
        "<a href=\"https://colab.research.google.com/github/Adhira-Deogade/INFO-7374---Assignment-3/blob/master/Pre_processing_data.ipynb\" target=\"_parent\"><img src=\"https://colab.research.google.com/assets/colab-badge.svg\" alt=\"Open In Colab\"/></a>"
      ]
    },
    {
      "metadata": {
        "id": "-VRojHgDZ2xa",
        "colab_type": "code",
        "colab": {}
      },
      "cell_type": "code",
      "source": [
        ""
      ],
      "execution_count": 0,
      "outputs": []
    },
    {
      "metadata": {
        "id": "dnQHt5UPYSJ5",
        "colab_type": "code",
        "colab": {}
      },
      "cell_type": "code",
      "source": [
        "import json\n",
        "import os\n",
        "from google.colab import files\n",
        "import pandas as pd"
      ],
      "execution_count": 0,
      "outputs": []
    },
    {
      "metadata": {
        "id": "eZrd4X2RX7Tr",
        "colab_type": "code",
        "outputId": "b0a6c6a7-db2d-47de-9d99-547d9e465b76",
        "colab": {
          "base_uri": "https://localhost:8080/",
          "height": 34
        }
      },
      "cell_type": "code",
      "source": [
        "ls"
      ],
      "execution_count": 2,
      "outputs": [
        {
          "output_type": "stream",
          "text": [
            "\u001b[0m\u001b[01;34mFinalFiles\u001b[0m/  \u001b[01;34msample_data\u001b[0m/\n"
          ],
          "name": "stdout"
        }
      ]
    },
    {
      "metadata": {
        "id": "aoat37A9YL-R",
        "colab_type": "code",
        "colab": {}
      },
      "cell_type": "code",
      "source": [
        "ls"
      ],
      "execution_count": 0,
      "outputs": []
    },
    {
      "metadata": {
        "id": "gmvFJht5WqSU",
        "colab_type": "code",
        "colab": {}
      },
      "cell_type": "code",
      "source": [
        "\n",
        "mkdir FinalFiles"
      ],
      "execution_count": 0,
      "outputs": []
    },
    {
      "metadata": {
        "id": "rQ2mr_ypXNkT",
        "colab_type": "code",
        "outputId": "deb41041-34ae-4183-fd35-84c079f46a05",
        "colab": {
          "base_uri": "https://localhost:8080/",
          "height": 34
        }
      },
      "cell_type": "code",
      "source": [
        "cd FinalFiles/"
      ],
      "execution_count": 3,
      "outputs": [
        {
          "output_type": "stream",
          "text": [
            "/content/FinalFiles\n"
          ],
          "name": "stdout"
        }
      ]
    },
    {
      "metadata": {
        "id": "TaPtc651XOsj",
        "colab_type": "code",
        "colab": {}
      },
      "cell_type": "code",
      "source": [
        "uploaded_files = files.upload()"
      ],
      "execution_count": 0,
      "outputs": []
    },
    {
      "metadata": {
        "id": "q9EuPQ9MclYi",
        "colab_type": "code",
        "colab": {
          "base_uri": "https://localhost:8080/",
          "height": 85
        },
        "outputId": "a2dc2f91-98b7-418a-da1d-3b5b6623c5b8"
      },
      "cell_type": "code",
      "source": [
        "ls"
      ],
      "execution_count": 6,
      "outputs": [
        {
          "output_type": "stream",
          "text": [
            "FinanceSentiments.csv  Team2_Amazon.json     Team6_Tesla.json\n",
            "Team10_NVIDIA.json     Team3_Facebook.json   Team7_Walmart.json\n",
            "Team12_Chevron.json    Team4_Netflix.json    Team8_Kroger.json\n",
            "Team1_Google.json      Team5_Microsoft.json  Team9_GoldmanSachs.json\n"
          ],
          "name": "stdout"
        }
      ]
    },
    {
      "metadata": {
        "id": "_GUlSdbfcokp",
        "colab_type": "code",
        "colab": {
          "base_uri": "https://localhost:8080/",
          "height": 34
        },
        "outputId": "8449d02c-3bcf-4ecb-a163-22f8d8836afc"
      },
      "cell_type": "code",
      "source": [
        "pwd"
      ],
      "execution_count": 7,
      "outputs": [
        {
          "output_type": "execute_result",
          "data": {
            "text/plain": [
              "'/content/FinalFiles'"
            ]
          },
          "metadata": {
            "tags": []
          },
          "execution_count": 7
        }
      ]
    },
    {
      "metadata": {
        "id": "vSzrA3agcrXU",
        "colab_type": "code",
        "colab": {}
      },
      "cell_type": "code",
      "source": [
        "parent = !pwd"
      ],
      "execution_count": 0,
      "outputs": []
    },
    {
      "metadata": {
        "id": "IRpOD8-_cu0B",
        "colab_type": "code",
        "colab": {
          "base_uri": "https://localhost:8080/",
          "height": 34
        },
        "outputId": "ef206f77-5bd8-4e28-d222-3a35f1f433c2"
      },
      "cell_type": "code",
      "source": [
        "parent[0]"
      ],
      "execution_count": 14,
      "outputs": [
        {
          "output_type": "execute_result",
          "data": {
            "text/plain": [
              "'/content/FinalFiles'"
            ]
          },
          "metadata": {
            "tags": []
          },
          "execution_count": 14
        }
      ]
    },
    {
      "metadata": {
        "id": "A_mtjwXRcmbS",
        "colab_type": "code",
        "colab": {
          "base_uri": "https://localhost:8080/",
          "height": 204
        },
        "outputId": "4b68df0f-cb17-47ee-cd89-0ac73574a718"
      },
      "cell_type": "code",
      "source": [
        "for file_name in os.listdir(parent[0]):\n",
        "        if file_name.endswith(\".json\"):\n",
        "            # if it's a txt file, print its name (or do whatever you want)\n",
        "            print(file_name)"
      ],
      "execution_count": 16,
      "outputs": [
        {
          "output_type": "stream",
          "text": [
            "Team1_Google.json\n",
            "Team8_Kroger.json\n",
            "Team5_Microsoft.json\n",
            "Team3_Facebook.json\n",
            "Team10_NVIDIA.json\n",
            "Team2_Amazon.json\n",
            "Team12_Chevron.json\n",
            "Team4_Netflix.json\n",
            "Team6_Tesla.json\n",
            "Team7_Walmart.json\n",
            "Team9_GoldmanSachs.json\n"
          ],
          "name": "stdout"
        }
      ]
    },
    {
      "metadata": {
        "id": "r3FP6SonXSSr",
        "colab_type": "code",
        "outputId": "30387f6e-8544-4018-a05b-f41aafd6b0f9",
        "colab": {
          "base_uri": "https://localhost:8080/",
          "height": 204
        }
      },
      "cell_type": "code",
      "source": [
        "\n",
        "df_Final = pd.DataFrame()\n",
        "for file_name in os.listdir(parent[0]):\n",
        "  if file_name.endswith(\".json\"):\n",
        "    print('\"{name}\"'.format(name=file_name))\n",
        "    with open(\"{name}\".format(name=file_name), encoding=\"utf-8-sig\", errors='ignore') as f:\n",
        "      i = json.load(f)\n",
        "      dict2 = dict(i)\n",
        "      df_f = pd.DataFrame.from_dict(dict2)\n",
        "      df_Final = df_Final.append(df_f,ignore_index=True)"
      ],
      "execution_count": 22,
      "outputs": [
        {
          "output_type": "stream",
          "text": [
            "\"Team1_Google.json\"\n",
            "\"Team8_Kroger.json\"\n",
            "\"Team5_Microsoft.json\"\n",
            "\"Team3_Facebook.json\"\n",
            "\"Team10_NVIDIA.json\"\n",
            "\"Team2_Amazon.json\"\n",
            "\"Team12_Chevron.json\"\n",
            "\"Team4_Netflix.json\"\n",
            "\"Team6_Tesla.json\"\n",
            "\"Team7_Walmart.json\"\n",
            "\"Team9_GoldmanSachs.json\"\n"
          ],
          "name": "stdout"
        }
      ]
    },
    {
      "metadata": {
        "id": "vje1r7Q8Xb3D",
        "colab_type": "code",
        "outputId": "169478b6-69f0-49aa-c609-6b9577357802",
        "colab": {
          "base_uri": "https://localhost:8080/",
          "height": 34
        }
      },
      "cell_type": "code",
      "source": [
        "df_Final.shape"
      ],
      "execution_count": 23,
      "outputs": [
        {
          "output_type": "execute_result",
          "data": {
            "text/plain": [
              "(1520, 2)"
            ]
          },
          "metadata": {
            "tags": []
          },
          "execution_count": 23
        }
      ]
    },
    {
      "metadata": {
        "id": "R-4C_LVyXd37",
        "colab_type": "code",
        "outputId": "27504ceb-0b0e-47fc-fde4-41f9af208f7d",
        "colab": {
          "base_uri": "https://localhost:8080/",
          "height": 34
        }
      },
      "cell_type": "code",
      "source": [
        "df_Final.columns"
      ],
      "execution_count": 24,
      "outputs": [
        {
          "output_type": "execute_result",
          "data": {
            "text/plain": [
              "Index(['sentiment', 'text'], dtype='object')"
            ]
          },
          "metadata": {
            "tags": []
          },
          "execution_count": 24
        }
      ]
    },
    {
      "metadata": {
        "id": "kiMCaY8YXgBC",
        "colab_type": "code",
        "outputId": "b652e62b-4fb9-46c1-f73c-24f92c411a67",
        "colab": {
          "base_uri": "https://localhost:8080/",
          "height": 204
        }
      },
      "cell_type": "code",
      "source": [
        "df_Final.head()"
      ],
      "execution_count": 25,
      "outputs": [
        {
          "output_type": "execute_result",
          "data": {
            "text/html": [
              "<div>\n",
              "<style scoped>\n",
              "    .dataframe tbody tr th:only-of-type {\n",
              "        vertical-align: middle;\n",
              "    }\n",
              "\n",
              "    .dataframe tbody tr th {\n",
              "        vertical-align: top;\n",
              "    }\n",
              "\n",
              "    .dataframe thead th {\n",
              "        text-align: right;\n",
              "    }\n",
              "</style>\n",
              "<table border=\"1\" class=\"dataframe\">\n",
              "  <thead>\n",
              "    <tr style=\"text-align: right;\">\n",
              "      <th></th>\n",
              "      <th>sentiment</th>\n",
              "      <th>text</th>\n",
              "    </tr>\n",
              "  </thead>\n",
              "  <tbody>\n",
              "    <tr>\n",
              "      <th>0</th>\n",
              "      <td>positive</td>\n",
              "      <td>Thank you, Ellen. We have a strong 2018, with ...</td>\n",
              "    </tr>\n",
              "    <tr>\n",
              "      <th>1</th>\n",
              "      <td>positive</td>\n",
              "      <td>Stock-based compensation totaled $2.3 billion....</td>\n",
              "    </tr>\n",
              "    <tr>\n",
              "      <th>2</th>\n",
              "      <td>positive</td>\n",
              "      <td>Operating income was $8.2 billion, up 7% versu...</td>\n",
              "    </tr>\n",
              "    <tr>\n",
              "      <th>3</th>\n",
              "      <td>positive</td>\n",
              "      <td>Our effective tax rate was 11.2% for the fourt...</td>\n",
              "    </tr>\n",
              "    <tr>\n",
              "      <th>4</th>\n",
              "      <td>neutral</td>\n",
              "      <td>Turning now to CapEx and operating cash flow. ...</td>\n",
              "    </tr>\n",
              "  </tbody>\n",
              "</table>\n",
              "</div>"
            ],
            "text/plain": [
              "  sentiment                                               text\n",
              "0  positive  Thank you, Ellen. We have a strong 2018, with ...\n",
              "1  positive  Stock-based compensation totaled $2.3 billion....\n",
              "2  positive  Operating income was $8.2 billion, up 7% versu...\n",
              "3  positive  Our effective tax rate was 11.2% for the fourt...\n",
              "4   neutral  Turning now to CapEx and operating cash flow. ..."
            ]
          },
          "metadata": {
            "tags": []
          },
          "execution_count": 25
        }
      ]
    },
    {
      "metadata": {
        "id": "Jd0ahZiWXhzq",
        "colab_type": "code",
        "colab": {}
      },
      "cell_type": "code",
      "source": [
        "fdf = df_Final.copy(deep=True)"
      ],
      "execution_count": 0,
      "outputs": []
    },
    {
      "metadata": {
        "id": "IoSwZIyKXnTi",
        "colab_type": "code",
        "outputId": "b3567298-6276-4175-dee0-f3c08b9084aa",
        "colab": {
          "base_uri": "https://localhost:8080/",
          "height": 85
        }
      },
      "cell_type": "code",
      "source": [
        "fdf.sentiment.unique()"
      ],
      "execution_count": 27,
      "outputs": [
        {
          "output_type": "execute_result",
          "data": {
            "text/plain": [
              "array(['positive', 'neutral', 'negative', 'Neutral', 'Positive',\n",
              "       'Negative', 'Negetive', 'Neural', None, 'neutra;', nan,\n",
              "       ' neutral ', ' positive ', ' neutral', ' negative', 'postive'],\n",
              "      dtype=object)"
            ]
          },
          "metadata": {
            "tags": []
          },
          "execution_count": 27
        }
      ]
    },
    {
      "metadata": {
        "id": "LfkN3o8dZck_",
        "colab_type": "code",
        "colab": {}
      },
      "cell_type": "code",
      "source": [
        "                                 "
      ],
      "execution_count": 0,
      "outputs": []
    }
  ]
}