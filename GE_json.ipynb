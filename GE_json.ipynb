{
  "nbformat": 4,
  "nbformat_minor": 0,
  "metadata": {
    "colab": {
      "name": "GE json.ipynb",
      "version": "0.3.2",
      "provenance": [],
      "collapsed_sections": [],
      "include_colab_link": true
    },
    "kernelspec": {
      "name": "python3",
      "display_name": "Python 3"
    },
    "accelerator": "GPU"
  },
  "cells": [
    {
      "cell_type": "markdown",
      "metadata": {
        "id": "view-in-github",
        "colab_type": "text"
      },
      "source": [
        "<a href=\"https://colab.research.google.com/github/Adhira-Deogade/INFO-7374---Assignment-3/blob/master/GE_json.ipynb\" target=\"_parent\"><img src=\"https://colab.research.google.com/assets/colab-badge.svg\" alt=\"Open In Colab\"/></a>"
      ]
    },
    {
      "metadata": {
        "id": "Uo1Nl0SiQlC8",
        "colab_type": "code",
        "colab": {}
      },
      "cell_type": "code",
      "source": [
        ""
      ],
      "execution_count": 0,
      "outputs": []
    },
    {
      "metadata": {
        "id": "y5euM4IgRDk6",
        "colab_type": "code",
        "colab": {}
      },
      "cell_type": "code",
      "source": [
        ""
      ],
      "execution_count": 0,
      "outputs": []
    },
    {
      "metadata": {
        "id": "PJ0qiP0GU72_",
        "colab_type": "code",
        "colab": {}
      },
      "cell_type": "code",
      "source": [
        ""
      ],
      "execution_count": 0,
      "outputs": []
    },
    {
      "metadata": {
        "id": "PnGjjc97M2fJ",
        "colab_type": "code",
        "colab": {}
      },
      "cell_type": "code",
      "source": [
        ""
      ],
      "execution_count": 0,
      "outputs": []
    },
    {
      "metadata": {
        "id": "aAVAhD-mJ7lj",
        "colab_type": "code",
        "colab": {}
      },
      "cell_type": "code",
      "source": [
        "from bs4 import BeautifulSoup"
      ],
      "execution_count": 0,
      "outputs": []
    },
    {
      "metadata": {
        "id": "exDfALFqKB5M",
        "colab_type": "code",
        "colab": {}
      },
      "cell_type": "code",
      "source": [
        "from urllib.request import urlopen\n",
        "from urllib.request import Request"
      ],
      "execution_count": 0,
      "outputs": []
    },
    {
      "metadata": {
        "id": "8tbIpQQaKFyZ",
        "colab_type": "code",
        "colab": {}
      },
      "cell_type": "code",
      "source": [
        "# specify the url\n",
        "quote_page = \"https://seekingalpha.com/article/4237244-general-electric-ge-ceo-larry-culp-q4-2018-results-earnings-call-transcript?part=single\""
      ],
      "execution_count": 0,
      "outputs": []
    },
    {
      "metadata": {
        "id": "gN2LxF6RKKCy",
        "colab_type": "code",
        "colab": {}
      },
      "cell_type": "code",
      "source": [
        "# query the website and return the html to the variable ‘page’\n",
        "# page = urlopen(quote_page)\n",
        "user_agent = 'Mozilla/5.0 (iPhone; CPU iPhone OS 5_0 like Mac OS X) AppleWebKit/534.46'\n",
        "request = urlopen(Request(quote_page, data=None, headers={'User-Agent': user_agent}))"
      ],
      "execution_count": 0,
      "outputs": []
    },
    {
      "metadata": {
        "id": "QRxABGhdKQZx",
        "colab_type": "code",
        "colab": {}
      },
      "cell_type": "code",
      "source": [
        "# parse the html using beautiful soup and store in variable `soup`\n",
        "soup = BeautifulSoup(request, \"html.parser\")"
      ],
      "execution_count": 0,
      "outputs": []
    },
    {
      "metadata": {
        "id": "6V8tQFTOKrqt",
        "colab_type": "code",
        "colab": {}
      },
      "cell_type": "code",
      "source": [
        "# print(soup)"
      ],
      "execution_count": 0,
      "outputs": []
    },
    {
      "metadata": {
        "id": "mIJls6UXLYJt",
        "colab_type": "code",
        "colab": {}
      },
      "cell_type": "code",
      "source": [
        "# paragraph_text = soup.find('p')\n",
        "# print (paragraph_text.text)"
      ],
      "execution_count": 0,
      "outputs": []
    },
    {
      "metadata": {
        "id": "JpwcNLRdLbdU",
        "colab_type": "code",
        "colab": {}
      },
      "cell_type": "code",
      "source": [
        "# for text in soup.p.stripped_strings:\n",
        "#     print(text)"
      ],
      "execution_count": 0,
      "outputs": []
    },
    {
      "metadata": {
        "id": "adW3vNL7Lmlj",
        "colab_type": "code",
        "colab": {}
      },
      "cell_type": "code",
      "source": [
        "# print(soup.prettify())"
      ],
      "execution_count": 0,
      "outputs": []
    },
    {
      "metadata": {
        "id": "PrJlnWDyVkZd",
        "colab_type": "code",
        "colab": {}
      },
      "cell_type": "code",
      "source": [
        "preeties = soup.prettify()"
      ],
      "execution_count": 0,
      "outputs": []
    },
    {
      "metadata": {
        "id": "Z83otDcbVu8E",
        "colab_type": "code",
        "colab": {}
      },
      "cell_type": "code",
      "source": [
        "# list(soup.children)"
      ],
      "execution_count": 0,
      "outputs": []
    },
    {
      "metadata": {
        "id": "iCCk7i5CWDAR",
        "colab_type": "code",
        "outputId": "f82f64eb-a174-41ba-9880-fd4d683b1bbc",
        "colab": {
          "base_uri": "https://localhost:8080/",
          "height": 85
        }
      },
      "cell_type": "code",
      "source": [
        "[type(item) for item in list(soup.children)]"
      ],
      "execution_count": 7,
      "outputs": [
        {
          "output_type": "execute_result",
          "data": {
            "text/plain": [
              "[bs4.element.Doctype,\n",
              " bs4.element.NavigableString,\n",
              " bs4.element.Tag,\n",
              " bs4.element.NavigableString]"
            ]
          },
          "metadata": {
            "tags": []
          },
          "execution_count": 7
        }
      ]
    },
    {
      "metadata": {
        "id": "UJXeN98vWcb3",
        "colab_type": "code",
        "colab": {}
      },
      "cell_type": "code",
      "source": [
        "htmlTag = list(soup.children)[2]"
      ],
      "execution_count": 0,
      "outputs": []
    },
    {
      "metadata": {
        "id": "riVV7W_zWpqe",
        "colab_type": "code",
        "colab": {}
      },
      "cell_type": "code",
      "source": [
        "# print(htmlTag)"
      ],
      "execution_count": 0,
      "outputs": []
    },
    {
      "metadata": {
        "id": "a2jDOABTWqx-",
        "colab_type": "code",
        "colab": {}
      },
      "cell_type": "code",
      "source": [
        "# list(htmlTag.children)"
      ],
      "execution_count": 0,
      "outputs": []
    },
    {
      "metadata": {
        "id": "OWMUApcGXWL5",
        "colab_type": "code",
        "outputId": "a37f6806-7650-4664-f1b3-0dcac47ca38a",
        "colab": {
          "base_uri": "https://localhost:8080/",
          "height": 34
        }
      },
      "cell_type": "code",
      "source": [
        "len(list(htmlTag.children))"
      ],
      "execution_count": 9,
      "outputs": [
        {
          "output_type": "execute_result",
          "data": {
            "text/plain": [
              "5"
            ]
          },
          "metadata": {
            "tags": []
          },
          "execution_count": 9
        }
      ]
    },
    {
      "metadata": {
        "id": "PUmExtmGYOtm",
        "colab_type": "code",
        "colab": {}
      },
      "cell_type": "code",
      "source": [
        "body = list(htmlTag.children)[3]"
      ],
      "execution_count": 0,
      "outputs": []
    },
    {
      "metadata": {
        "id": "_PACiNVdYff3",
        "colab_type": "code",
        "colab": {}
      },
      "cell_type": "code",
      "source": [
        "# list(body.children)"
      ],
      "execution_count": 0,
      "outputs": []
    },
    {
      "metadata": {
        "id": "uC95bC4uYiBu",
        "colab_type": "code",
        "outputId": "7f4fa79c-b366-4574-e6de-64f4d9f61874",
        "colab": {
          "base_uri": "https://localhost:8080/",
          "height": 34
        }
      },
      "cell_type": "code",
      "source": [
        "len(list(body.children))"
      ],
      "execution_count": 11,
      "outputs": [
        {
          "output_type": "execute_result",
          "data": {
            "text/plain": [
              "12"
            ]
          },
          "metadata": {
            "tags": []
          },
          "execution_count": 11
        }
      ]
    },
    {
      "metadata": {
        "id": "U5wNdPXzYtwu",
        "colab_type": "code",
        "colab": {}
      },
      "cell_type": "code",
      "source": [
        "eit = list(body.children)[8]"
      ],
      "execution_count": 0,
      "outputs": []
    },
    {
      "metadata": {
        "id": "iYsqii8jZkmX",
        "colab_type": "code",
        "colab": {}
      },
      "cell_type": "code",
      "source": [
        "# print(eit)"
      ],
      "execution_count": 0,
      "outputs": []
    },
    {
      "metadata": {
        "id": "2q94TdEHZlau",
        "colab_type": "code",
        "colab": {}
      },
      "cell_type": "code",
      "source": [
        "seven = list(body.children)[7]\n",
        "# print(seven)"
      ],
      "execution_count": 0,
      "outputs": []
    },
    {
      "metadata": {
        "id": "H5WNcIHdabH2",
        "colab_type": "code",
        "colab": {}
      },
      "cell_type": "code",
      "source": [
        "# seven.find_all('p')"
      ],
      "execution_count": 0,
      "outputs": []
    },
    {
      "metadata": {
        "id": "8lvYZYe7akns",
        "colab_type": "code",
        "colab": {}
      },
      "cell_type": "code",
      "source": [
        "# parahs = seven.find_all('p')[0].get_text()"
      ],
      "execution_count": 0,
      "outputs": []
    },
    {
      "metadata": {
        "id": "hw0prg8waw1_",
        "colab_type": "code",
        "colab": {}
      },
      "cell_type": "code",
      "source": [
        "parahs = seven.find_all('p')\n",
        "# print(parahs.get_text())"
      ],
      "execution_count": 0,
      "outputs": []
    },
    {
      "metadata": {
        "id": "6UkUx3YfT0pU",
        "colab_type": "code",
        "outputId": "8cd52161-302b-48d7-ace7-cc5cc98e8557",
        "colab": {
          "base_uri": "https://localhost:8080/",
          "height": 34
        }
      },
      "cell_type": "code",
      "source": [
        "seven.find('p').getText()"
      ],
      "execution_count": 15,
      "outputs": [
        {
          "output_type": "execute_result",
          "data": {
            "text/plain": [
              "'SA Transcripts'"
            ]
          },
          "metadata": {
            "tags": []
          },
          "execution_count": 15
        }
      ]
    },
    {
      "metadata": {
        "id": "ulRnB_e3UdYT",
        "colab_type": "code",
        "outputId": "7231c06d-9c44-40c3-b2e5-0b72c0d4d687",
        "colab": {
          "base_uri": "https://localhost:8080/",
          "height": 34
        }
      },
      "cell_type": "code",
      "source": [
        "len(seven.find_all('p'))"
      ],
      "execution_count": 16,
      "outputs": [
        {
          "output_type": "execute_result",
          "data": {
            "text/plain": [
              "304"
            ]
          },
          "metadata": {
            "tags": []
          },
          "execution_count": 16
        }
      ]
    },
    {
      "metadata": {
        "id": "ANKJOoLNVU6j",
        "colab_type": "code",
        "colab": {}
      },
      "cell_type": "code",
      "source": [
        "## Total  304 parahgraphs in the website"
      ],
      "execution_count": 0,
      "outputs": []
    },
    {
      "metadata": {
        "id": "J-JmzY3oV2xJ",
        "colab_type": "code",
        "outputId": "cb638347-16a1-4651-9543-4560d3b1ffbf",
        "colab": {
          "base_uri": "https://localhost:8080/",
          "height": 34
        }
      },
      "cell_type": "code",
      "source": [
        "type(seven.findAll('p'))"
      ],
      "execution_count": 18,
      "outputs": [
        {
          "output_type": "execute_result",
          "data": {
            "text/plain": [
              "bs4.element.ResultSet"
            ]
          },
          "metadata": {
            "tags": []
          },
          "execution_count": 18
        }
      ]
    },
    {
      "metadata": {
        "id": "cL1-BExRYZNb",
        "colab_type": "code",
        "colab": {}
      },
      "cell_type": "code",
      "source": [
        "# for x in seven.findAll('p'):\n",
        "#   print(x.text)\n"
      ],
      "execution_count": 0,
      "outputs": []
    },
    {
      "metadata": {
        "id": "OSU9rN-jaWen",
        "colab_type": "code",
        "colab": {}
      },
      "cell_type": "code",
      "source": [
        "# parahs.get_text()"
      ],
      "execution_count": 0,
      "outputs": []
    },
    {
      "metadata": {
        "id": "qhT7ARZWb3IF",
        "colab_type": "code",
        "outputId": "de5785be-7415-4062-a011-e873823fb69f",
        "colab": {
          "base_uri": "https://localhost:8080/",
          "height": 34
        }
      },
      "cell_type": "code",
      "source": [
        "i=0\n",
        "for x in seven.findAll('p'):\n",
        "  i=i+1\n",
        "print(i)\n"
      ],
      "execution_count": 19,
      "outputs": [
        {
          "output_type": "stream",
          "text": [
            "304\n"
          ],
          "name": "stdout"
        }
      ]
    },
    {
      "metadata": {
        "id": "9p6t6eNCcfkr",
        "colab_type": "code",
        "colab": {}
      },
      "cell_type": "code",
      "source": [
        "import json\n",
        "\n",
        "\n"
      ],
      "execution_count": 0,
      "outputs": []
    },
    {
      "metadata": {
        "id": "dwJjv0HUeUVw",
        "colab_type": "code",
        "colab": {}
      },
      "cell_type": "code",
      "source": [
        "# data = {}  \n",
        "# data['people'] = []  \n",
        "# data['people'].append({  \n",
        "#     'name': 'Scott',\n",
        "#     'website': 'stackabuse.com',\n",
        "#     'from': 'Nebraska'\n",
        "# })\n",
        "# data['people'].append({  \n",
        "#     'name': 'Larry',\n",
        "#     'website': 'google.com',\n",
        "#     'from': 'Michigan'\n",
        "# })\n",
        "# data['people'].append({  \n",
        "#     'name': 'Tim',\n",
        "#     'website': 'apple.com',\n",
        "#     'from': 'Alabama'\n",
        "# })\n"
      ],
      "execution_count": 0,
      "outputs": []
    },
    {
      "metadata": {
        "id": "YbzubVm1eVan",
        "colab_type": "code",
        "colab": {}
      },
      "cell_type": "code",
      "source": [
        "# with open('data.txt', 'w') as outfile:  \n",
        "#     json.dump(data, outfile)\n"
      ],
      "execution_count": 0,
      "outputs": []
    },
    {
      "metadata": {
        "id": "bxdz13m0eYG4",
        "colab_type": "code",
        "colab": {}
      },
      "cell_type": "code",
      "source": [
        "from google.colab import files\n",
        "\n",
        "# with open('example.txt', 'w') as f:\n",
        "#   f.write('some content')\n",
        "\n",
        "# files.download('data.txt')"
      ],
      "execution_count": 0,
      "outputs": []
    },
    {
      "metadata": {
        "id": "Fs94E6sBgCwt",
        "colab_type": "code",
        "colab": {}
      },
      "cell_type": "code",
      "source": [
        "# data=[]\n",
        "# for n  in range(1,i):\n",
        "#     item = {\"id\": n}\n",
        "#     for feature in seven.find_all('p'):\n",
        "# #     for attribute in attributes_selected:\n",
        "# #         if attribute.feature == feature:\n",
        "#       item[n] = feature.text\n",
        "#     data.append(item)\n",
        "\n",
        "# jsonData=json.dumps(data)\n",
        "# # with open('callsData.txt', 'w') as outfile:  \n",
        "# #     json.dump(data, outfile)"
      ],
      "execution_count": 0,
      "outputs": []
    },
    {
      "metadata": {
        "id": "JSNqVM56lMA7",
        "colab_type": "code",
        "colab": {}
      },
      "cell_type": "code",
      "source": [
        "# jsonData"
      ],
      "execution_count": 0,
      "outputs": []
    },
    {
      "metadata": {
        "id": "tio9EtzAlPJz",
        "colab_type": "code",
        "colab": {}
      },
      "cell_type": "code",
      "source": [
        "# type(jsonData)"
      ],
      "execution_count": 0,
      "outputs": []
    },
    {
      "metadata": {
        "id": "JbdRxK1LlUZr",
        "colab_type": "code",
        "colab": {}
      },
      "cell_type": "code",
      "source": [
        "# with open('callsData2.txt', 'w') as outfile:  \n",
        "#     json.dump(jsonData, outfile)"
      ],
      "execution_count": 0,
      "outputs": []
    },
    {
      "metadata": {
        "id": "fXUIr1L1nd8m",
        "colab_type": "code",
        "colab": {}
      },
      "cell_type": "code",
      "source": [
        "# with open('callsData.txt', 'w') as outfile:  \n",
        "#     json.dump(data, outfile)"
      ],
      "execution_count": 0,
      "outputs": []
    },
    {
      "metadata": {
        "id": "o_XWS00UniAP",
        "colab_type": "code",
        "colab": {}
      },
      "cell_type": "code",
      "source": [
        "# files.download('callsData.txt')\n",
        "# "
      ],
      "execution_count": 0,
      "outputs": []
    },
    {
      "metadata": {
        "id": "yUQRlj1gnobG",
        "colab_type": "code",
        "colab": {}
      },
      "cell_type": "code",
      "source": [
        "# files.download('callsData2.txt')"
      ],
      "execution_count": 0,
      "outputs": []
    },
    {
      "metadata": {
        "id": "2JKJ0TeUoosb",
        "colab_type": "code",
        "colab": {}
      },
      "cell_type": "code",
      "source": [
        "# data2=[]\n",
        "# item2={}\n",
        "# for n  in range(1,i):\n",
        "#   for feature in seven.find_all('p'):\n",
        "#     item2[n] = feature.text\n",
        "#     data2.append(item2)\n",
        "\n",
        "# jsonData2=json.dumps(data2)"
      ],
      "execution_count": 0,
      "outputs": []
    },
    {
      "metadata": {
        "id": "WdnXmRYvrOSf",
        "colab_type": "code",
        "colab": {}
      },
      "cell_type": "code",
      "source": [
        "# with open('callsData3.txt', 'w') as outfile:  \n",
        "#     json.dump(jsonData2, outfile)"
      ],
      "execution_count": 0,
      "outputs": []
    },
    {
      "metadata": {
        "id": "8YF8nhybrlCf",
        "colab_type": "code",
        "colab": {}
      },
      "cell_type": "code",
      "source": [
        "#  files.download('callsData3.txt')"
      ],
      "execution_count": 0,
      "outputs": []
    },
    {
      "metadata": {
        "id": "ikPRosOOsHUl",
        "colab_type": "code",
        "colab": {}
      },
      "cell_type": "code",
      "source": [
        "# data=[]\n",
        "# # for n  in range(1,i):\n",
        "# #     item = {\"id\": n}\n",
        "# for feature in seven.find_all('p'):\n",
        "#   data.append(feature.text)\n",
        "# #     for attribute in attributes_selected:\n",
        "# #         if attribute.feature == feature:\n",
        "# #       item[n] = feature.text\n",
        "# #     data.append(item)\n",
        "\n",
        "# jsonData=json.dumps(data)\n",
        "# # with open('callsData.txt', 'w') as outfile:  \n",
        "# #     json.dump(data, outfile)"
      ],
      "execution_count": 0,
      "outputs": []
    },
    {
      "metadata": {
        "id": "DwxF08Gi_8pI",
        "colab_type": "code",
        "colab": {}
      },
      "cell_type": "code",
      "source": [
        "# with open('OnlyParahs.txt', 'w') as outfile:  \n",
        "#     json.dump(data, outfile)"
      ],
      "execution_count": 0,
      "outputs": []
    },
    {
      "metadata": {
        "id": "LsdLBDB1ADjP",
        "colab_type": "code",
        "colab": {}
      },
      "cell_type": "code",
      "source": [
        "# files.download(\"OnlyParahs.txt\")"
      ],
      "execution_count": 0,
      "outputs": []
    },
    {
      "metadata": {
        "id": "Jo9P_Lr6AG4X",
        "colab_type": "code",
        "colab": {}
      },
      "cell_type": "code",
      "source": [
        "# mydict = {}\n",
        "\n",
        "# for n in range(1,i):\n",
        "#   for feature in seven.find_all('p'):\n",
        "#     mydict = {n:feature}\n",
        "\n",
        "    \n",
        "   \n",
        "\n",
        "  "
      ],
      "execution_count": 0,
      "outputs": []
    },
    {
      "metadata": {
        "id": "81ZtmHlrJRBt",
        "colab_type": "code",
        "colab": {}
      },
      "cell_type": "code",
      "source": [
        "# n=1\n",
        "# while n<=i:\n",
        "#   for feature in seven.find_all('p'):\n",
        "#     mydict = {n:feature}\n",
        "#   n=n+1"
      ],
      "execution_count": 0,
      "outputs": []
    },
    {
      "metadata": {
        "id": "bI6gUErOKOk0",
        "colab_type": "code",
        "colab": {}
      },
      "cell_type": "code",
      "source": [
        "#   seven.findChildren('p')"
      ],
      "execution_count": 0,
      "outputs": []
    },
    {
      "metadata": {
        "id": "ASkgiRYGKVdT",
        "colab_type": "code",
        "colab": {}
      },
      "cell_type": "code",
      "source": [
        "# print(mydict)"
      ],
      "execution_count": 0,
      "outputs": []
    },
    {
      "metadata": {
        "id": "BOSUK3s3KzzS",
        "colab_type": "code",
        "colab": {}
      },
      "cell_type": "code",
      "source": [
        "# k=1\n",
        "\n",
        "# for feature in seven.find_all('p'):\n",
        "#   mydict2 = {k:feature.text}\n",
        "#   k=k+1"
      ],
      "execution_count": 0,
      "outputs": []
    },
    {
      "metadata": {
        "id": "yx_rBe6-NGLO",
        "colab_type": "code",
        "colab": {}
      },
      "cell_type": "code",
      "source": [
        "# print(mydict2)"
      ],
      "execution_count": 0,
      "outputs": []
    },
    {
      "metadata": {
        "id": "VzUMQaCfNHju",
        "colab_type": "code",
        "colab": {}
      },
      "cell_type": "code",
      "source": [
        "\n",
        "\n",
        "# for feature in seven.find_all('p'):\n",
        "#   texts = list(feature)\n"
      ],
      "execution_count": 0,
      "outputs": []
    },
    {
      "metadata": {
        "id": "gVdKuVqxOuoT",
        "colab_type": "code",
        "colab": {}
      },
      "cell_type": "code",
      "source": [
        "# texts"
      ],
      "execution_count": 0,
      "outputs": []
    },
    {
      "metadata": {
        "id": "P9SZwqm1Ovvy",
        "colab_type": "code",
        "colab": {}
      },
      "cell_type": "code",
      "source": [
        "\n",
        "\n",
        "# for feature in seven.find_all('p'):\n",
        "#   texts9 = list(feature)\n"
      ],
      "execution_count": 0,
      "outputs": []
    },
    {
      "metadata": {
        "id": "lcY1YYymO3eL",
        "colab_type": "code",
        "colab": {}
      },
      "cell_type": "code",
      "source": [
        "# texts9"
      ],
      "execution_count": 0,
      "outputs": []
    },
    {
      "metadata": {
        "id": "y4vp5isrO5ta",
        "colab_type": "code",
        "colab": {}
      },
      "cell_type": "code",
      "source": [
        "# lines = list(seven.find_all('p'))"
      ],
      "execution_count": 0,
      "outputs": []
    },
    {
      "metadata": {
        "id": "wPxzwStsPzO4",
        "colab_type": "code",
        "colab": {}
      },
      "cell_type": "code",
      "source": [
        "# lines.text"
      ],
      "execution_count": 0,
      "outputs": []
    },
    {
      "metadata": {
        "id": "5SMAg4M_P6FQ",
        "colab_type": "code",
        "colab": {}
      },
      "cell_type": "code",
      "source": [
        "# for features in seven.findAll('p'):\n",
        "#   print(features.text)"
      ],
      "execution_count": 0,
      "outputs": []
    },
    {
      "metadata": {
        "id": "vBZg5HGzQxRn",
        "colab_type": "code",
        "colab": {}
      },
      "cell_type": "code",
      "source": [
        "JsonLines = list(feature.text for feature in seven.find_all('p'))"
      ],
      "execution_count": 0,
      "outputs": []
    },
    {
      "metadata": {
        "id": "YZBxQZ_PShTM",
        "colab_type": "code",
        "colab": {}
      },
      "cell_type": "code",
      "source": [
        "# pow2 = [2 ** x for x in range(10)]\n",
        "\n",
        "# # Output: [1, 2, 4, 8, 16, 32, 64, 128, 256, 512]\n",
        "# print(pow2)"
      ],
      "execution_count": 0,
      "outputs": []
    },
    {
      "metadata": {
        "id": "fzYA2emFSnXL",
        "colab_type": "code",
        "outputId": "0e2a2f38-e1b3-49b2-97e0-1e183d3b1563",
        "colab": {
          "base_uri": "https://localhost:8080/",
          "height": 34
        }
      },
      "cell_type": "code",
      "source": [
        "len(JsonLines)"
      ],
      "execution_count": 23,
      "outputs": [
        {
          "output_type": "execute_result",
          "data": {
            "text/plain": [
              "304"
            ]
          },
          "metadata": {
            "tags": []
          },
          "execution_count": 23
        }
      ]
    },
    {
      "metadata": {
        "id": "c1Z9AOxG9RXe",
        "colab_type": "code",
        "outputId": "f1307ed0-b6f2-47d5-a5b8-22e9402ec0b2",
        "colab": {
          "base_uri": "https://localhost:8080/",
          "height": 34
        }
      },
      "cell_type": "code",
      "source": [
        "type(JsonLines)"
      ],
      "execution_count": 24,
      "outputs": [
        {
          "output_type": "execute_result",
          "data": {
            "text/plain": [
              "list"
            ]
          },
          "metadata": {
            "tags": []
          },
          "execution_count": 24
        }
      ]
    },
    {
      "metadata": {
        "id": "mJAltvloRbE1",
        "colab_type": "code",
        "colab": {
          "base_uri": "https://localhost:8080/",
          "height": 5205
        },
        "outputId": "b9c5c163-9f81-418d-9449-4a43d35c0605"
      },
      "cell_type": "code",
      "source": [
        "JsonLines"
      ],
      "execution_count": 25,
      "outputs": [
        {
          "output_type": "execute_result",
          "data": {
            "text/plain": [
              "['SA Transcripts',\n",
              " 'General Electric (GE) CEO Larry Culp on Q4 2018 Results - Earnings Call Transcript',\n",
              " 'Jan. 31, 2019  4:29 PM•ge',\n",
              " 'General Electric Company (NYSE:GE)',\n",
              " 'Q4 2018 Earnings Conference Call',\n",
              " 'January 31, 2019 08:00 AM ET',\n",
              " 'Company Participants',\n",
              " 'Steve Winoker - VP of Investor Communications',\n",
              " 'Larry Culp - Chairman & CEO',\n",
              " 'Jamie Miller - CFO',\n",
              " 'Conference Call Participants',\n",
              " 'Nigel Coe - Wolfe Research',\n",
              " 'Steve Tusa - JPMorgan',\n",
              " 'Jeffrey Sprague - Vertical Research ',\n",
              " 'Julian Mitchell - Barclays',\n",
              " 'Scott Davis - Melius Research',\n",
              " 'Andrew Kaplowitz - Citi',\n",
              " 'Andrew Obin - Bank of America Merrill Lynch',\n",
              " 'Nicole DeBlase - Deutsche Bank',\n",
              " 'Deane Dray - RBC Capital Markets',\n",
              " 'John Inch - Gordon Haskett',\n",
              " 'Joe Ritchie - Goldman Sachs',\n",
              " 'Gautam Khanna - Cowen and Company',\n",
              " 'Presentation',\n",
              " 'Operator',\n",
              " \"Good day, ladies and gentlemen and welcome to the General Electric Fourth Quarter 2018 Earnings Conference Call. At this time, all participants are in a listen-only mode. My name is Brandon and I'll be your conference facilitator today. [Operator Instructions] As a reminder, this conference is being recorded.\",\n",
              " \"I would now like to turn the program over to your host for today's conference, Steve Winoker Vice President of Investor Communications. Please go ahead sir.\",\n",
              " 'Steve Winoker',\n",
              " \"Thanks, Brandon and good morning and welcome to GE's Fourth Quarter Earnings Webcast. I'm joined by our Chairman and CEO Larry Culp; and CFO, Jamie Miller. Before we start, I'd like to remind you that the press release, presentation and supplemental have been available since earlier today on our investor website at www.ge.com/investors.\",\n",
              " 'Please note that some of the statements we are making today are forward looking and are based on our best view of the world and our businesses as we see them today. As described in our SEC filings and on our website, those elements can change as the world changes.',\n",
              " \"And now, I'll turn the call over to Larry\",\n",
              " 'Larry Culp',\n",
              " \"Thank you, Steve. Good morning, everyone. And thank you for joining us. Our comments are going to be a bit longer than usual this morning to help you understand where we are and where we're going. But rest assured, we'll leave as much time as we can for questions at the end.\",\n",
              " \"First, I'd like to start by welcoming Steve to the GE team. I've known him for over a decade. Steve's already had positive impact here at GE and I'm sure, he'll do the same for you, our investors going forward. I'm here today because I believe in GE. There is no company on earth with a scale of GE's global reach, brand, talent and long-term customer relationships. We have leading technology in key infrastructure markets with high barriers to entry and strong aftermarket streams. We're poised to capture recurring revenues on a global installed base of almost 70,000 engines more than 70 -- 7,000 gas turbines and aero-derivatives, more than 40,000 onshore wind turbines and more than 4 million Healthcare Systems. In short, GE matters. We've identified clear opportunities to improve our performance and we are working to address them at root cause.\",\n",
              " \"We have the right portfolio of strategy and I'm confident the company is capable of gaining profitable share and creating long-term value for our shareholders. So let me cover where we stand on providing an outlook. Then I'll address some of the company changes followed by updates on our results, the balance sheet, capital and power. Jamie will take you through more details on the quarter and then I'll wrap with some metrics and comments to help you frame the outlook for 2019 before Q&A.\",\n",
              " \"Let's start with the outlook because investors want to know how we expect to perform financially and you should expect to come from a place of reality. Simply put the how much is important but the how is far more fundamental. We have a good line of sight in most of our businesses today including Aviation and Healthcare.\",\n",
              " \"For the industrial portfolio in total, we will provide you with our outlook for organic growth and we'll do so directionally on operating margins and free cash flow. We will give you a more detailed outlook in the near term but not today. For Power, we are resetting the baseline. We are reviewing every single project and contract and digging deeper to understand costs and benefits with respect to restructuring, market and commercial execution, improvement opportunities, legacy project issues and our service operations. We're gaining more meaningful insights into the paths for near and long-term earnings and cash potential of this business. This work takes time especially with the new structure and leadership team.\",\n",
              " \"In the spirit of providing you with all the information we have as soon as we have it, I'll speak to what I have found over the last 120 days. We were executing against the key priorities we laid out in June and again in October. Simply put deleveraging the balance sheet and strengthening our businesses starting with Power. Remember beyond Power, it's important to recognize the underlying strengths in our businesses where the story is about enhancing our competitive advantage and delivering for customers and shareholders.\",\n",
              " \"With respect to delevering, we've taken the following actions: We've reduced the quarterly dividend retaining $4 billion per year; accelerated the sale of a portion of our BHGE ownership stake raising $3.7 billion; and changed the structure of our transaction with Wabtec enabling us to retain an incremental $2 billion stake. We're demonstrating our seriousness and the flexibility with respect to our decisions to recut the BHGE and Wabtec deals in particular. We closed Distributed Power for $2.8 billion of net cash in the quarter.\",\n",
              " \"For the year, we signed or completed substantially all of our $20 billion industrial asset sale plan, which had targeted roughly $10 billion in proceeds. We also announced the sale of ServiceMax in the fourth quarter. We completed $8 billion of capital asset sales and other actions in the quarter bringing our total for the year to $15 billion, which were executed at book value or better. We're more than halfway through the total of $25 billion capital asset sale program, which we expect to complete this year.\",\n",
              " \"Today, we have announced that we've reached an agreement in principle with the United States Department of Justice to settle the FIRREA investigation of WMC. GE will pay the United States a civil penalty of $1.5 billion consistent with our reserve recorded for this matter in the first quarter of last year. We've taken the following actions to strengthen our businesses.\",\n",
              " \"In 2018, our corporate headquarters cost was $1.2 billion down $400 million from $1.6 billion in 2017. We have begun transferring a significant portion of headcount and activities that were previously managed at corporate to the segments or to third parties with over 6,500 full-time employees transferred to-date. We're confident that as we move more activity and headcount closer to those that are directly accountable, we will see additional savings.\",\n",
              " \"Good examples include the recently announced agreement with Genpact around our global operations activities and the delayering and reorganization of our Global Growth Organization. Our changes in Power followed a similar approach. We have $1.6 billion of cost at Power headquarters and expect to produce that amount by $300 million for headquarter's overhead functions. And as we distribute the remaining cost to the business units, we expect that they will find additional savings over time.\",\n",
              " \"We announced this week that we will be delayering the headquarter levels at Renewable Energy. And yesterday announced that we are bringing GE's grid, solar and storage assets into that business creating an end-to-end offering from renewables customers as the demand for renewable power generation and grid integration continues to grow globally. We're strengthening our senior team. We've brought in fresh eyes that are already having an impact.\",\n",
              " \"We're combining new perspectives from strong external talent, proven GE leaders with domain expertise and entrepreneurial spirit, next-gen thinkers as well as leaders with deep customer relationships. From a governance perspective, Paula Reynolds joined our Board of Directors bringing extensive experience in both the Energy and Insurance industries. The majority of our Directors now are new since 2017 and I'm finding the Board deeply engaged in all matters of our business\",\n",
              " \"Our audit committee also announced that they will move forward with the tender process for the appointment of GE's independent audit firm. And finally, we announced our plan to combine the digital businesses into an independently operated IoT Software business with employee equity a separate Board and the ability to raise capital and operate like a start-up. We're on the precipice of something great. We're getting a 100 years of domain and hardware expertise and growing out of our digital DNA over the last several decades.\",\n",
              " 'As my friend, Jim Collins of \"good-to-great\" fame might say, it\\'s a start. But we have much more work to do. So let me now share with you, how I\\'ve talked with our team about how we will do it. Number one, is managing first and foremost for operational performance. Preparing for the earnings call, my first month on the job showed me that we often start with corporate and bring in the business leaders including the CEO later. We turned that around this quarter holding operating reviews first and then preparing for this call. Those reviews were tightly focused on the how we can do and how do we get better, more so than how do we explain what just happened. Let me give you an example.',\n",
              " 'Previous P&L reviews focused on revenue, contribution margin and base cost and then, of course, operating profit. The same high-level framing I saw on the Board room. No more. We now get into much more operating detail, volume, price, mix, material and labor productivity overhead and operating expenses like R&D sales and marketing and G&A, all of which are critical to understanding and then improving the business.',\n",
              " \"The second is a focus on putting our customer at the center of all we do. Over the past few months, I've spent time with our customers in China, the Middle East, Europe and here in the US. I've learned that what they value is not always aligned with how we measure our own performance.\",\n",
              " \"Take quality. When I ask about quality internally, I often hear about our cost of quality, which measures our issues rather than how the customer experiences us. We're shifting our perspectives so that we understand and measure ourselves the way customers do and work backwards from there. The third area is having fewer and more impactful priorities. GE has ambition like no other company I've ever seen and that's mostly a good thing but we need to focus our attention to more of the things that matter most, so we can move them the furthest.\",\n",
              " \"At a company level, we've committed to the two priorities I mentioned earlier: Deleveraging the balance sheet and strengthening the businesses starting with Power. I'd now like to address some of the areas of importance that are high on my priority list. First, our high-level financial results. We ended the year with adjusted EPS of $0.65. GAAP EPS of negative $2.43 and industrial free cash flow of $4.5 billion. Our backlog stands at $391 billion up 5% year-on-year with equipment at $89 billion up 4%; and service at $302 billion up 5%.\",\n",
              " 'For the fourth quarter, our industrial free cash flow was $4.9 billion. While cash flow was negatively impacted by the weakness in Power, we were encouraged by the strong cash generation in the other businesses. We delivered adjusted EPS of $0.17 and GAAP EPS of $0.08. Jamie will take you through all this in more detail in a moment.',\n",
              " \"Next to the balance sheet. As I've stated already, we are reducing our debt levels both at Industrial and GE Capital. We know full well that our shareholders own all debt obligations across GE but these are two distinct sets of businesses with different financing needs and different capital structures and therefore we analyze their leverage separately. In industrial, we are targeting a net debt-to-EBITDA ratio of less than 2.5x over the next few years.\",\n",
              " 'Our Healthcare, transportation and BHGE separations can provide sources of roughly $50 billion toward that goal. Our Healthcare team continues to prepare for public company separation and that is progressing very well. We expect to monetize up to just under 50% of our Healthcare business. I talked earlier to the GE Transportation merger with Wabtec and the amended terms to increase our cash proceeds and we will sell down our remaining 50% ownership in BHGE in an orderly manner over time building on the actions, we took in November.',\n",
              " \"Overall our liquidity position remains strong with $16.8 billion of industrial cash and funding lines of $40 billion. Now on capital, we are targeting a debt-to-equity ratio of less than 4x by 2020. In 2018, we paid down capital's external debt balance by $21 billion and we executed $15 billion in asset sales at book more than half of our $25 billion asset disposition program. Capital ended the year with a $124 billion of assets including $15 billion of liquidity in line with our goal to materially shrink this business.\",\n",
              " \"To be clear, we have no plans to sell GECAS. We expect to contribute approximately $4 billion of parent support in 2019. We've listened to you on the insurance front and we're preparing increased disclosures in line with peers, which will be available with our 10-K release. Jamie will cover some of that detail shortly. And then finally on Power. Let me share with you the root causes of our underperformance as I see them today and the actions we're taking to address each one.\",\n",
              " 'First as I said, last quarter we were late to embrace the realities of the secular and cyclical pressures in the business. Recent data suggests that the market for new generating capacity is settling in to the 25 to 30 gigawatts range for the foreseeable future. We continue to believe gas will play an important role in global electrification but we have to resize our cost structure, our capital expenses and our supply chains to this new reality now.',\n",
              " \"As a result last year, we reduced headcount by 10,000 or 15% in the business, consolidated our footprint by 30% and took out $900 million of base cost exiting at a $1 billion lower run rate. Embracing market reality means a more appropriate revenue outlook, one that is further grounded in the reality of our $92 billion backlog rather than in the hope of new orders not yet won. Second Power faces a number of nonoperational headwinds and we expect a high water mark in this regard this year. These include legal settlements and legacy project erosion principally driven by the Alstom acquisition. There's also the runoff of the effects of past long-term receivables factoring and other programs.\",\n",
              " 'Over the next few years, these effects should come down substantially. Third, we need to execute better. Running Power better means improved daily management in how we sell make and service our products. Let me give you a few examples. We had separate teams of managers commissioning new plants owning a warranty period and overseeing the services contracts after the warranty.',\n",
              " 'Now, we present one face to the customer, who is accountable for the best long-term economic answer both for the customer and GE. We put the sales organization under one leader with deep domain expertise and are coordinating better on contract negotiations. We now have more experienced people, owning negotiations and responsible for project cost. We performed risk assessments of our existing 400 equipment contracts to identify cost and execution risks. We also performed a similar assessment on the 750 CSA contracts to identify price and utilization risk.',\n",
              " \"We have overhauled our commercial underwriting processes to set more realistic commitments and returns from the start. This is hard work but I'm encouraged by the Power's team's dedication to proactively address these issues at their root cause. Fixing Power will take time and in turn will take time for the changes, we're making to our daily operations to be reflected in our financial results but we are improving and I'm confident that those changes will come.\",\n",
              " \"As I've met with customers around the world, I'm really been struck by their sentiment. They're rooting for us. They want us to succeed and they want to know how they can help. So in summary, we're taking action, taking action on the priorities we laid out to you, deleveraging our balance sheet and strengthening our businesses starting with Power.\",\n",
              " 'Jamie will now take you through the detailed financial results.',\n",
              " 'Jamie Miller',\n",
              " \"Thanks. Larry. I'll start with the fourth quarter summary. Orders were $34.1 billion down 1% reported and up 4% organically with particular strength in equipment orders up 7% organically driven by aviation commercial engines and renewables. The services orders were up 1% organically. Revenues were up 5%, industrial segment revenues were up 2% reported and 8% organically driven by renewables Aviation Oil & Gas Healthcare and Transportation.\",\n",
              " 'Equipment revenues grew 10% and services were up 6% organically. Industrial profit margins were 7.5% in the quarter down 150 basis points year-over-year on a reported and organic basis driven by significant declines in Power and Renewables. For the year, margins were down 80 basis points organically. Industrial profit was down 16% in the quarter with Aviation, Healthcare and Baker Hughes GE all delivering strong profit growth offset mostly by Power. Specifically Aviation had another outstanding quarter and year expanding total year margins while shipping over 1,100 LEAP engines. Net earnings per share was $0.07, which includes losses from discontinued operations related to GE Capital. GAAP continuing EPS was $0.08 and adjusted EPS was $0.17.',\n",
              " \"I'll walk the GAAP continuing EPS to adjusted EPS on the right side of the page. Starting from GAAP. Continuing EPS was $0.08 and we had $0.06 of gains principally from the sale of Distributed Power. As you will recall in the third quarter, we booked the $22 billion impairment charge related to Power goodwill based on our best estimate at that time. And during the fourth quarter, we finalized our analysis and booked an incremental $69 million charge for Power following the third quarter charge. We also recorded a goodwill impairment charge of $94 million in renewables at our Hydro business. Combined these charges were $0.02 impact. On restructuring and other items, we incurred $0.07 of charges principally at Corporate and Power as we continue to resize those segments in line with our stated plan including $0.02 of charges related to business development transaction expenses and $0.01 for our share of Baker Hughes GE's restructuring.\",\n",
              " 'Lastly, we realized a $0.01 negative impact from US tax reform as we updated our estimate of the transition tax and other aspects of the enactment of the new law. Our current accrual reflects the effects of tax reform enactment based on guidance issued through year-end. Excluding these items adjusted EPS was $0.17 in the quarter.',\n",
              " 'Moving to cash, adjusted industrial free cash flow was $4.9 billion for the quarter, $1.9 billion lower than the prior year driven primarily by a lower progress collections. Income depreciation and amortization totaled $2.3 billion. Working capital was positive $2.3 billion for the quarter as we reduced over $1 billion of inventory on a higher fourth quarter volume and grew progress collections by $500 million primarily in renewables from strong PTC-driven orders.',\n",
              " 'Contract assets were a source of cash of $900 million as we saw higher services billings in aviation driven by higher fleet utilization and spare parts consumption from strong air traffic and we spent about $1 billion in gross CapEx or $600 million ex-Baker Hughes GE. For the year, we generated $4.5 billion of adjusted industrial free cash flow and we ended the year with higher volume in the fourth quarter as is typical for our businesses. And to provide you with more detail, Power used $2.7 billion in free cash flow for the year due to a combination of restructuring costs, nonoperational headwinds as well as execution and market issues.',\n",
              " \"Next, I'll cover liquidity. On the left side of the page, you can see the walk of the GE cash balance. We ended the fourth quarter with $16.8 billion of industrial cash in the bank excluding Baker Hughes GE. And for the total year, we had industrial free cash flow of $4.5 billion. We paid dividends of $4.2 billion and as of the first quarter of 2019, you'll recall that the dividend is decreasing to $0.01 per share per quarter, which will preserve about $4 billion of cash in 2019. We generated cash proceeds of $5.9 billion net of taxes related to our industrial disposition principally Industrial Solutions, Value-Based Care and Dis Power. And together with Wabtec that gets to the more than $10 billion we had talked about previously.\",\n",
              " 'Earlier in the year, we assumed $6 billion of debt from GE Capital to fund the principal pension plan, which was completed in the third quarter. Alstom and GE exercised their JV redemption rights and call options, which we settled for $3.1 billion in the fourth quarter. These entities operate at a loss. So the consolidation of 100% of the financials negatively impacted fourth quarter and will be an income headwind for us of about $300 million in 2019. We also completed a secondary offering for approximately 100 million Baker Hughes GE shares as well as a direct stock buyback with Baker Hughes GE for 65 million shares bringing our ownership stake to 50.4% in the fourth quarter.',\n",
              " \"These actions combined with other Baker Hughes GE buybacks during the year totaled $4.4 billion in cash proceeds. The $2.5 billion of other cash includes a number of items including about $900 million of investments in our Aviation business primarily from the first half of the year; $900 million of short data derivative hedge settlements that we used to mitigate risks across the portfolio; and $400 million of FX translation on our non-US dollar-denominated cash. Running with a higher cash balance will help us address inter-quarter funding needs. In line with our goal to reduce reliance on short-term funding, peak short-term funding needs declined from $19.7 billion in the fourth quarter of '17 to $14.8 billion in the fourth quarter of '18. These were funded with commercial paper and some utilization of our credit facilities.\",\n",
              " \"As we execute dispositions in 2019, we expect our intra-quarter funding needs to continue to decline and would expect to use a mix of commercial paper, credit facilities and excess cash at GE Capital to efficiently fund these needs. At the end of the year, commercial paper outstanding was $3 billion and we had access to $40 billion of committed revolving credit facilities with zero drawn. These lines are available to draw at any time and they don't have financial covenants ratings triggers or material adverse change clauses. As you know, our credit rating was downgraded from A to BBB+ with a stable outlook in early fourth quarter.\",\n",
              " 'This impact has been manageable with less than $15 million of collateral postings and a smooth transition to a Tier two commercial paper program. We continue to target a sustainable rating in the single A range.',\n",
              " \"Now, I'll take you through financial policy and leverage. We remain committed to our financial policy of a target single A rating a leverage level of less than 2.5x net debt-to-EBITDA and ultimately a dividend level in line with our peers. Deleveraging both GE and GE Capital is a priority and we have significant sources to achieve our goals.\",\n",
              " \"As Larry mentioned, we view these businesses differently with different balance sheets and capital structure needs and therefore we analyze their leverage separately. Our goal is leverage for the GE industrial businesses of less than 2.5x net debt-to-EBITDA. We plan to make significant progress toward this goal by the end of 2020 and as a reminder when we speak about net debt, we're talking about debt adjusted for pensions, operating leases and a portion of preferred stock and cash. Measured on this basis, GE Industrial net debt at the end of 2018 was $55 billion. As we look out over the next couple of years, we expect to have roughly $50 billion of industrial sources that can be used to delever and derisk the company.\",\n",
              " 'These sources include $18 billion of debt and pension transfer to Healthcare and more than $30 billion of cash proceeds from the monetization of up to just under 50% of Healthcare, 100% of our remaining stake in Baker Hughes GE and our stake in transportation. These sources will be used in part to reduce GE net debt by more than $30 billion including repaying a significant part of the $14 billion of debt transferred from GE Capital and reducing commercial paper. The parent also plans to contribute $4 billion to GE Capital in 2019 to maintain adequate capital levels there.',\n",
              " 'At GE Capital, we have a plan to reduce our debt to equity ratio to less than 4x by the end of 2020. GE Capital began the quarter with $70 billion of debt and ended with $66 billion while our total assets measure $124 billion. For the year, we made significant progress at GE Capital paying down $21 billion of external debt, taking down leverage by 1.4 turns including reducing commercial paper from $5 billion to zero.',\n",
              " \"GE Capital ended 2018 with $15 billion of liquidity. Over the next two years, we expect to generate additional sources of cash from asset sales, including $10 billion in 2019 from completing our GE Capital $25 billion asset reduction plan. We'll have cash from the pay down of most of the debt transferred to GE and capital support from GE. We have reached an agreement in principle on WMC that we expect to conclude expeditiously. And in 2019 and 2020, GE Capital will pay down $25 billion of scheduled debt maturities and continue to contribute about $2 billion per year of capital to our insurance businesses as previously disclosed. We now don't expect to issue new debt until 2021.\",\n",
              " 'We are planning approximately $4 billion of capital contributions to GE Capital in 2019. This includes $1.5 billion for the WMC agreement in principal announced today and ensuring we have adequate risk-based capital levels for our current portfolio. Going forward, we anticipate funding any insurance capital requirements or strategic options through a combination of GE Capital earnings, asset sales, liquidity and GE parent support. While we have more work to do, we continue to make progress in strengthening the balance sheet.',\n",
              " \"Next on Power. Orders were down 19% in the quarter. Gas Power Systems orders were down 26%. For the year, Gas Power Systems orders were down 40%. We ended the year with a $9 billion backlog, which was down 8% year-over-year. This is consistent with our outlook for a 25 to 30 gigawatt market for the foreseeable future. Power Services orders were down 20%. Steam orders were up 61% and grid orders were down 13% for the year. Power revenue was down 25%. Gas Power Systems revenues were down 21%. Power Services revenue was also down 21%. During the quarter, we took $400 million of charges related to our CSA contracts, which impacts revenue. Excluding these charges Power Services revenue was down 11%. Steam revenue was down 30% on lower America's and Europe volume and grid was flat.\",\n",
              " 'Moving to profit. The segment loss $872 million in the fourth quarter. We performed our normal CSA reviews and while total utilization on the book is flat, we have seen lower utilization on some of our units in some geographies and some pricing pressure in contracts relative to ongoing market dynamics and we updated our assumptions to reflect a revised outlook in these areas.',\n",
              " 'In addition, we had our normal cost standard updates, which included updates to our cost standards including the impact of the stage-one blade issue as expected. This resulted in the $400 million of charges that I previously mentioned. In addition, we also incurred about $350 million of costs related to Gas Power Systems projects. Similar to the third quarter, we continue to experience project execution issues resulting in liquidated damages as well as partner execution issues. Grid profit was down year-over-year impacted negatively by the buyout of the Alstom share of the JV.',\n",
              " \"These items had a significant impact on Power's results and overall, we see the heavy duty gas turbine market is flat over the next few years and see significant opportunity to improve our own execution. Next on Aviation, which had another great quarter. Orders of $8.8 billion were up 12%. Equipment orders grew 20%, driven by continued strong momentum of the LEAP engine program up 56% versus prior year. Military engine orders were up 69% driven by the F414 and service orders grew 7%. Revenues of $8.5 billion grew 21%. Equipment revenues were up 13% on higher commercial engine partially offset by lower military volume.\",\n",
              " \"Specifically, we shipped 379 LEAP engines this quarter up 177 units year-over-year. And in total, we shipped 1,118 LEAP engines for the year. We're still behind on deliveries by about four weeks but the business expects to be back on schedule by mid-2019. Services revenue grew 26% with spares rate up 10% driven by higher fleet utilization and spare parts consumption from strong air traffic. Segment profit of $1.7 billion was up 24% on higher volumes, improved price and operating productivity and compared to the fourth quarter of last year, we shipped almost 90% more LEAP engines.\",\n",
              " \"Despite the negative mix from higher LEAP shipments operating profit margins of 20.4% expanded 60 basis points in the quarter and 130 basis points for the year. The LEAP engine continues to perform very well with a 58% win rate on the A320neo family and 81% win rate in the narrow-body segment when you add in Boeing 737 MAX and Comac C919. Utilization rates are over 95%. We continue to improve the cost position of the LEAP and over the last two years, we've taken out more than 40% of the cost of the engine and are ahead on the learning curve initially laid out for the program. The overall program will break even around 2021.\",\n",
              " \"Now, I'll provide some additional transparency on the engine transition in the narrow-body market. The mixing from CFM56 to LEAP resulted in a margin drag of approximately 160 basis points in 2018 and 130 basis points in the quarter. The business is successfully offsetting this margin pressure through continued growth in aftermarket services, military and changing the mix of company-funded R&D spend. In summary, another strong year for David and the aviation team. In renewables, renewables orders were up 19% versus prior year driven by onshore equipment up 9% and services up 32% on strong repower units.\",\n",
              " 'We shipped 44% more megawatts and onshore wind and saw strong orders bookings 3 gigawatts in the fourth quarter and 8.6 gigawatts for the year and we gained share. Revenues of $3.4 billion were up 28% mainly driven by onshore wind up 34% on both higher new unit shipments and repowering volume. Segment margin of 2% was down 330 basis points for the quarter and profit of $67 million was down 51% mainly driven by negative price, liquidated damages for execution delays on a handful of complicated projects including some legacy Alstom projects and higher losses in hydro and offshore as we began fully consolidating these entities in the fourth quarter.',\n",
              " \"The consolidation presented a headwind of about 220 basis points. Recall that we had to book loss reserves at the time of the Alstom deal and we continue to burn through the negative cash flow impact of those projects. The business has seen favorable cash tailwinds from the PTC cycle, pricing is improving and we continue to see strong product cost reduction and while we're seeing some adverse impacts from tariffs, we're working to mitigate them with pricing and supply chain actions.\",\n",
              " 'For Healthcare, orders of $5.8 billion were up 2% organically. On a product line basis, Life Sciences orders were up 13% organically with bioprocess up 20%. Healthcare Systems orders were down 1% organically, which was about what we expected as we were comping a very strong fourth quarter in 2017.',\n",
              " 'Revenue of $5.4 billion was up 6% organically. Healthcare Systems revenue grew 4% organically and Life Sciences was up 10%. Segment margin was 21.8% expanding 10 basis points reported and 110 basis points organically, which excluded costs incurred in preparation for a separation in 2019. Profit was $1.2 billion up 2% on a reported basis and 12% organically. Organic profit growth was driven by volume and cost productivity partially offset by inflation, price and higher program investment. As the Healthcare team continues to prepare for separation, they closed out a solid year.',\n",
              " 'Moving to oil and gas. Baker Hughes GE released its financial results this morning and Lorenzo and Brian will hold their earnings call with investors today following ours. Next for Transportation and Lighting. Since we last spoke in October, we signed an agreement to sell Current to American Industrial Partners and the Justice Department has closed its review of the pending merger between GE Transportation and Wabtec.',\n",
              " 'Last week, we also announced amended transaction terms to further support our deleveraging plan. GE will increase its stake in Wabtec from approximately 10% to approximately 25% resulting in increased cash proceeds of approximately $2.2 billion as we sell down our stake. We will still receive $2.9 billion in cash from Wabtec at closing and both transactions are expected to close in early 2019 subject to customary closing conditions.',\n",
              " \"Finally, I'll cover GE Capital. Net loss from continuing operations was $86 million in the quarter, including a tax reform adjustment of negative $128 million. Adjusted continuing net income was $43 million. We completed our annual GAAP loss recognition testing in our runoff insurance portfolio, which resulted in an after-tax charge of about $65 million to increase reserves.\",\n",
              " 'As part of the test, we unlocked our future policy benefit reserve and updated key assumptions related to the book. The two largest drivers being the changes to our assumptions and morbidity improvement of a negative $1.2 billion offset by discount rate impact of $1.9 billion. Recall that statutory testing not GAAP drives funding. We expect to conclude the statutory testing in mid-to-late February and consistent with our existing insurance funding plan, we continue to expect required statutory funding of approximately $2 billion in the first quarter of 2019. We are managing this runoff portfolio with new management and increased board expertise and focus.',\n",
              " \"To provide additional information to further clarify our insurance obligations, we plan to include enhanced disclosures related to our insurance book in our 10-K, which will be released in mid-to-late February. We'll include a wide range of items from the profile of our book to morbidity and mortality assumptions to lapse rates, premium increases and related sensitivities.\",\n",
              " \"With that I'll turn it back over to Larry.\",\n",
              " 'Larry Culp',\n",
              " \"Jamie, thank you. So hopefully, by now you have a better sense of what I'm seeing at GE after nearly four months, our strengths, our challenges and our strategy for moving forward. I'd like to give you all the information and views on 2019 that we have today with more to come soon. We expect industrial organic revenue growth to be up low to mid-single digits on the back of a significant ramp in renewables and continued strength in Aviation and Healthcare.\",\n",
              " \"Power will be down in a flat to slightly down market in 2019. We also expect our industrial operating margins to expand. On free cash flow, we expect to face operating headwinds such as the PTC progress cycle reversing in renewables and we will spend more cash on restructuring at both Corporate and Power. In addition, we have a number of nonrecurring investments and commitments that create a drag on our free cash flow in 2019 but which will meaningfully lessen in 2020 and '21. These include transitioning to GE Capital supply chain financing program to MUFG and reducing factoring with GE Capital, Alstom pension contributions and legal settlements and the costs related to the preparation for our Healthcare business for our public separation.\",\n",
              " 'We anticipate cash flow to grow substantially in 2020 and 2021 as we make significant headway in addressing legacy and structural issues while simultaneously realizing the benefits from restructuring and stronger daily management of our businesses particularly in Power. In aviation, we see 75% to 80% of the 2019 commercial engine revenues secured in the backlog, with a largely recurring service revenue stream of approximately $15 billion. We are maintaining margin levels consistent with pre-LEAP periods despite mix changes with a healthy new order book. With these in mind, we see high single-digit revenue growth and low single-digit profit growth.',\n",
              " 'In Healthcare, we expect organic growth in margins in a similar range to last year. We see double-digit revenue growth in renewables. The business is coming through the PTC cycle and onshore wind, which contributed to strong cash performance in 2018, as a result of progress build. That progress cycle will begin reversing this year, as we transition to factory production and book revenue against those contracts. However, we see price declines moderating and within the level of our product cost reduction efforts going forward. This is our baseline today for 2019 as our plan continues to evolve. As we develop more conviction around the cash flow situation of Power, we will update you in the near term with respect to the outlook for the full year.',\n",
              " \"So my message for 2019 is that the more stable businesses of Aviation and Healthcare are healthy and growing. Renewables is moving through the PTC cycle. We are working on Power and capital is shrinking. 2019 is still very much a work in progress but the company is becoming stronger. As I said earlier, the how much is important here, but the how is far more fundamental. How is about understanding and fixing problems at root cause. How is about process not for processes sake but to ensure the sustainability of our results to create enduring shareholder value. I'm proud of the momentum, I see across this company and the changes we're making to strengthen GE for the long run.\",\n",
              " \"With that we'll open it up to your questions.\",\n",
              " 'Question-and-Answer Session',\n",
              " 'Operator',\n",
              " '[Operator Instructions] And from Wolfe Research, we have Nigel Coe.',\n",
              " 'Nigel Coe',\n",
              " 'Thanks. Good morning.',\n",
              " 'Larry Culp',\n",
              " 'Good morning, Nigel.',\n",
              " 'Nigel Coe',\n",
              " \"Morning. Lots of questions. I mean, I'm sure a lot of my questions will be picked up by other analysts, but I just want to start on. It sounds like your plans on Healthcare now are pretty defined, Larry. It looks like you're looking to monetize 50% putting an $18 billion of pension debts, via an IPO-type process. Is that now defined or are there still some moving pieces on that process?\",\n",
              " 'Larry Culp',\n",
              " \"Well, I think we've talked about that separation as the plan of record and that continues to be the case today. The team is very well along Nigel with respect to the preparation for a flotation. We don't have a time frame per se to share with you today but we are spending a significant amount of money in '19 as we did last year in preparation. We're obviously proud of what Karyn and the team are doing here. Very strong top line earnings and cash performance and we think this is a business that is going to be a strong resilient performer through cycles. So that is the plan.\",\n",
              " 'Nigel Coe',\n",
              " \"Okay. And then my follow-on would be, you gave a lot of detail on what you've been doing for the last few months and lots of opportunities for improvement. One thing, you didn't really touch on was pricing and pricing excellence and your one precedent of GE in the past has been may be trading price for market share. So I'm just curious, what your thoughts are in terms of improving the pricing realization going forward?\",\n",
              " 'Larry Culp',\n",
              " \"Nigel, forgive us, if we didn't get into that in detail. We didn't want to overstay our welcome with respect to our prepared remarks. But when you hear us refer to profitable market share that is both an external and internal recognition. And it can't be share for share sake. And particularly in Power, I think we are acutely aware that we have opportunities both on new equipment and on the service book to basically value sell what we're doing more frequently. I got the word last night for example within Power of a project that is looking very good where we're frankly -- we are not the low bid, right? I think that just speaks to the way we're able to communicate the value of our technology. We know in these businesses from Healthcare to renewables price is a reality. We want to be smarter around pricing, at the same time, frankly when you hear us talk about labor and material productivity, we really want to push that hard and do that in line with market realities, so that we can maintain margins in light of some of those pressures.\",\n",
              " 'Jamie Miller',\n",
              " \"And Nigel, just to add a little bit more color there on the numbers. Orders pricing in total for the year was relatively flat. It was actually up just slightly and it was up more than that in the second half. And as Larry mentioned, we are seeing in the numbers the pressure moderating at Power and at renewables. Power really with respect to the enhanced discipline on new projects and bids as Larry talked about. In renewables, we're seeing that pressure moderate as we move throughout the year as well primarily as we're moving through that PTC cycle. The supply chains are more stretched and that price dynamic becomes a little bit more unbalanced. Aviation and Healthcare are running as you would expect, which is strongly as Larry mentioned.\",\n",
              " 'Operator',\n",
              " 'And from JPMorgan, we have Steve Tusa. Please go ahead.',\n",
              " 'Steve Tusa',\n",
              " \"Hey, good morning. So you mentioned on the free cash flow dynamics, you mentioned the PTC headwind, a bit more restructuring cash, some other I guess nonrecurring investments. Can you maybe give us some color on that? In addition, just provide some color on how much of a, I think Jamie said before about $1 billion of headwind or so from divestitures. So maybe just help us with a bit of a rough bridge from the $4.5 you did in 2018? Because obviously that sounds like it's going to be down.\",\n",
              " 'Jamie Miller',\n",
              " \"Yes. So why don't I talk through the components of 2018 first in terms of really walking you through the rounding out our fourth quarter performance and we can address some of those questions. So for 2018, if you really walk the changes, we obviously had earnings. We also had working capital, which for the year was basically zero impact of free cash flow. Fourth quarter was $2.3 billion positive. As we expected with large volumes coming through this quarter. Contract assets was basically flat.\",\n",
              " 'Steve Tusa',\n",
              " \"Hey, sorry. I can see the slide. I just wanted to know like $4.5 billion. Is that -- there's a lot of headwinds that Larry had talked about. I'm just curious as to maybe you can give us some color on the size of some of those headwinds? And obviously, it sounds like it will be down. Will you as an organization generate cash including GE Capital next year? I guess that's the simple way to ask the question.\",\n",
              " 'Larry Culp',\n",
              " \"Yeah, Steve. And I think the simple answer the question is, what we're trying to communicate today is that we are going to see pressures both operational and nonrecurring. We are going to be back shortly when we can take you through a detailed walk in that regard. I think from an operating perspective, is worth acknowledging a lot of good performance in the number of businesses.\",\n",
              " \"Clearly renewables was stronger from a cash perspective in '18 and is likely to be in '19 given the PTC dynamic. And we are going to go deep here on additional restructuring where we see opportunities to put that money to work and generate real returns. We also have some of these nonrecurring events or issues. Some of them are policy decisions like the move on the supply chain financing program. I think we've got better line of sight today on some of these legacy issues that come out of Alstom that we're on the hook or those are real cash commitments in '19 that abate thereafter and we do have the cost relative in Healthcare IPO.\",\n",
              " \"So again, I think the headline is, we finished strongly. We know we got some operating and non-operating pressures and think we work through that in '19 with an eye toward a stronger cash flow performance in '20 and '21 with more details to come soon.\",\n",
              " 'Steve Tusa',\n",
              " 'Great. And what do you expect GE cash to earn in 2019 and how much from an ongoing cash generation perspective, how much will they be generating?',\n",
              " 'Larry Culp',\n",
              " \"Steve, as I said in both my prepared remarks and a moment ago when we have everything locked down to get into those specifics then we'll do that soon. We'll be back to you.\",\n",
              " 'Operator',\n",
              " 'From Vertical Research we have Jeffrey Sprague',\n",
              " 'Jeffrey Sprague',\n",
              " 'Thank you. Good morning, everyone.',\n",
              " 'Jamie Miller',\n",
              " 'Morning, Jeff.',\n",
              " 'Jeffrey Sprague',\n",
              " 'Yeah. Two from me. Just thinking about the Healthcare exit in particular. Kind of, for lack of a better term, losing that cash flow near term seems like it would create some stress on the organization. Can you give us a sense of, what you foresee as kind of the timing of the exit? And then Larry, particularly interested also on, how you view exiting the remaining 50% stake. Do you see the potential for some kind of, equity-friendly exit with that piece the split-off for example, which you might shrink the share count of the remaining company?',\n",
              " 'Larry Culp',\n",
              " \"Well Steve, I'd like to think that everything that we do is shareholder-friendly, right? I mean, we take a strong view here and you know, from seeing me in other roles that we want to create long-term shareholder value with the cumulative effect of everything that we do. I think with respect to Healthcare what we can confirm today is that we're on the path toward an IPO here in 2019. Timing is still TBD. So we don't have a date. Like me on my senior prom. I just don't have a date for you today but I think in time, we'll have more clarity.\",\n",
              " \"With respect to Baker Hughes, I mean we talked about that as part of that $50 billion pool of options to go to. I think that the high probability there is for us is to sell our shares. We certainly are approached by various folks, who have an interest in a stake in that company. And again, we don't have a timetable per se to share with you today but we want to reiterate our view to dispose of that stake in an orderly manner, which again we think is conducive to value creation for our shareholders.\",\n",
              " 'Jeffrey Sprague',\n",
              " \"Thanks. And just as a follow-up. I didn't have a prom date and I've been called worse than Steve but as unrelated follow-up, if we think about what you're going through in insurance right now, the comment about the statutory review. Is that to indicate Larry or Jamie that even if there is some adverse outcome as it relates to that statutory review, it would not affect your near-term funding needs and instead those would be tacked onto the tail, so to speak of what you're planning from reserve build?\",\n",
              " 'Jamie Miller',\n",
              " \"Well, Jeff what I was referring to there was that, it's really the statutory calculation not the GAAP that drives the statutory funding needs. We are right in the middle of that process. We continue to expect to contribute about $2 billion to the insurance entities in 2019. We'll conclude that process over the next three to four weeks. But at this point that is what we expect.\",\n",
              " 'Larry Culp',\n",
              " 'Sorry about that Jeff.',\n",
              " 'Jeffrey Sprague',\n",
              " 'Thanks.',\n",
              " 'Operator',\n",
              " 'From Barclays, we have Julian Mitchell.',\n",
              " 'Julian Mitchell',\n",
              " \"Morning. Maybe as the first question on Power. I understand, you're reticent to give too much forward-looking color but perhaps give us a sense of, if you look at the reported 2018 numbers EBIT loss of $800 million free cash of minus $2.7 billion. How would you look at the or characterize to us the underlying figures for both of those two items, if you strip out charges and projects execution overruns and so on? And maybe also on that point, if you could give any color as to the separation of gas and non-gas within Power? What sort of financial conditions that separation has uncovered in each of the two pieces?\",\n",
              " 'Larry Culp',\n",
              " \"Sure, sure. Let me do that and again this is very much a work in progress with a new team establishing new operating rhythms. But I would say that if we start on the service side of things, right? We've got a $62 billion backlog. We did take the charge in the fourth quarter $400 million on about a $3.7 billion contract asset book and we think that's appropriate just given what we see in the marketplace. I think we're encouraged though relative to the execution around pricing here. We have changed the way the folks in the field are compensated.\",\n",
              " \"Transitioning them, if you will from volume to margin. But again, there's a good bit of productivity post Alstom that we still need to get from the combined organizations here and that work is incomplete. But that's part of that operating loss that you see here at year's end. We are clearly dealing with lower demand in equipment, encouraged by some of the share points in the US market here in the back half. But again, we want to make sure we focused on profitable share. There we took $350 million of charges around the project book and we know that we have a lot of execution here to improve just in the way these projects are brought online.\",\n",
              " \"I think when you look at the vintages, we're encouraged by the progress that we see post the '16 underwriting class in terms of our margins on those projects. But that's very much a work in progress. I think with respect to the change in the structure of Power, again part of it is a cost reduction. We shared some of that in the prepared remarks but we also are getting better visibility on the underlying businesses P&L-by-P&L. So we talk about gas, we're combining services and equipment then we have the rest of our Power portfolio.\",\n",
              " \"As Jamie mentioned, we now take on all the cost for grid now that we own all of it that doesn't help us at all. But now we've got better line of sight on the discreet P&L's grid, Steam, Power Conversion and Nuclear all four of those businesses have meaningful profit improvement potential and we're going to manage them from the bottoms up accordingly. So clearly, we're at a break even from our P&L perspective absence some other charges, a lot of work to do here and as we have better visibility and more conviction around those improvements, we'll be back and we'll be back here soon with respect to how that plays out in '19 and '20.\",\n",
              " 'Jamie Miller',\n",
              " \"The other color I would just add there on negative free cash flow is as volume comes down in the factories and as our projects continue to work their way through, you see volume leveling but we've been in a declining frame here. So what's really flowing through on cash in addition to some of the other items Larry mentioned is a burn down of our progress billings and a burn down of our project payables. Situations where we receive projects in advance of constructing new equipment or where we received progress on projects and now we're in the phase of the project, where the payables and the costs are starting to come through. So that's also pressuring the Power of free cash flow. And as that levels that also starts to level.\",\n",
              " 'Julian Mitchell',\n",
              " \"Thanks. And then my second question may be about a business, where there's better medium term visibility Aviation. You talked about the LEAP operating margin headwind last year. How do you see that moving in 2019 relative to that 160 bps? And then looking out beyond just this year anything on the horizon in terms of let's say 777X transition or NMA that you think could cause a major risk to the aviation free cash flow in margin profile?\",\n",
              " 'Jamie Miller',\n",
              " \"With respect to Aviation's merger and mix you saw strong fourth quarter and when we look at the remixing that's happening between CFM and LEAP significant increase in LEAP shipments in the quarter up 88% over the prior year. Year-over-year 2.4x up and you're seeing CFM come down meaningfully over those same periods. Next year, CFM will come down again about I'd say more than 50% of CFM deliveries will be reduced next year but the LEAP also ramps from the 1,118 we had this year up to 1,800-plus. So that remixing continues to occur. We mentioned on the call that it was a drag in 2018 of 160 basis points. We do expect continued some small drag next year but again Aviation's doing a really nice job offsetting that with services growth. They're shifting in military and the company-funded R&D.\",\n",
              " 'Larry Culp',\n",
              " \"We're clearly in conversations with our major airframe customers about new platforms. I think at this point, it would be premature to suggest that we're going to have a cash flow headwind a material cash flow headwind around any of those programs here in '19.\",\n",
              " 'Operator',\n",
              " 'From Melius Research, we have Scott Davis. Please go ahead.',\n",
              " 'Scott Davis',\n",
              " 'Hey. Good morning, guys.',\n",
              " 'Larry Culp',\n",
              " 'Good morning, Scott.',\n",
              " 'Scott Davis',\n",
              " \"And Larry I don't buy that you're going to have a prom date. That's nonsense. Even I had a prom date. I was bald at birth. All kidding aside, the one number you gave that was new, which was kind of eye-popping to me, it was just $1.6 billion Power headquarter number. Can you put some context around that? It seems just like such a insane number. But I don't know really what you're including in that I guess as far as talking about headquarter?\",\n",
              " 'Larry Culp',\n",
              " \"Well, there's -- it's a large number and again, I think we've got line of sight here in the near terms Scott to bring that down by about 300. And effectively, as you know, we've done a lot horizontally both at corporate and at the segment levels over time for the businesses. So it's not as if it's unhelpful or wasteful but there clearly is an adjustment we can take here as we move those activities into the businesses and I think over time as the businesses have true ownership for them that they are in their operating budgets as opposed to an allocation from corporate. They're likely to find opportunities for further savings. But we don't do it primarily for the cost reduction. I think we really do it to help drive visibility and accountability P&L-by-P&L. I think I've shared with some folks that early on in my tenure we would talk about Power as if it was one business. It's obviously a number of businesses. Some better than others, different issues here and there. I think we've got better visibility on those issues. It's not perfect today but as we get that visibility I think better position to take meaningful action to drive better results across that portfolio.\",\n",
              " 'Scott Davis',\n",
              " \"That make sense. And then the other thing is just not totally clear is, if the New World is 25 gigawatts to 30 gigawatts, which arguably a lot of people can say the New World is 25 or even a little lower but how do you get your capacity down anywhere close to that? I mean you've got big factories, lots of capital equipment, lot of pressure from governments and unions and everybody else. Is it realistic to be able to get that down in the next two years? it's something that's closer to 30?\",\n",
              " 'Larry Culp',\n",
              " \"Well, I think it is realistic, right? There are going to be a number of competing priorities and pressures but we took $1 billion of cost out last year. I think we are putting the -- we're putting up the parameters of a program to build on what we did last year. So Scott, we have to do this. We absolutely have to do this. I think we know, it's a multiyear effort but the challenge here around margins is not simply one of capacity. Right back to the earlier question around pricing. Productivity both in new equipment and in the field on services. It's a whole host of things that I think give us the optimism that we can drive better margin and cash performance in this business. But we have to prove that to you.\",\n",
              " 'Operator',\n",
              " 'And from Citi, we have Andrew Kaplowitz. Please go ahead.',\n",
              " 'Andrew Kaplowitz',\n",
              " \"Hey. Good morning, guys. Larry, one of the biggest issues I think that investors have had when GE is the concern that legacy liabilities will continue to surprise the company. The FIRREA agreement with the DOJ seems like a positive development in that regard, so does is the relatively small LTC adjustment. But at this point, do you feel reasonably confident that you've identified all the skeletons in the closet in a level of negative surprises are really going to start dropping moving forward?\",\n",
              " 'Larry Culp',\n",
              " \"I don't think I would ever say, even on my last day here that we have found all the skeletons, right? I don't tend to take absolute positions. But that said I think you're spot on. The news today around WMC is good both with respect to a resolution and the fact that we came in right where we were reserved. So we can begin to move that episode behind us. I think we're encouraged by the results that Jamie walked you through relative to the LRT.\",\n",
              " \"But again, the cash requirements really come from the stat and not the GAAP test and that will still has a few more weeks to run. But in the absence of no new news again with a lot of fresh eyes and it's not my fresh eyes we've got a new GC, we've got a new controller new to GE in their first years. I think that is a positive sign that we aren't adding to the list. We're going to be as open and transparent as we possibly can, when we find things. And we're going to help you understand what we're doing to address them but I'm encouraged by what I see and what has not arisen here in nearly four months time.\",\n",
              " 'Andrew Kaplowitz',\n",
              " \"And Larry, you're pretty clear about having no plans to sell GECAS. It sounds quite definitive but obviously there's a lot of noise out there. So maybe I could step back and ask you how you weigh the urgency to get GE Capital debt down versus keeping the strong earnings stream in tact from GECAS that you have in the business?\",\n",
              " 'Larry Culp',\n",
              " \"Well, I think that we're -- we're frankly keen not to comment on every rumor on every innuendo that's out there. GECAS is one business that we get inbounds on with some frequency. But frankly. We get inbounds on everything but my desk. I think it speaks to the quality of the assets. Again, I think we can delever and bring that net debt down from $55 billion to something closer to $25 billion. We've got a number of options. We are mindful of the trades when we move assets out and the impact on our earnings and cash capability. But again, you elevate to the strategic level, I think we are clear. We need to delever and we're going to work the plan that we've outlined here today and that's really is I think as simple and as straightforward as it gets.\",\n",
              " 'Operator',\n",
              " 'From Bank of America Merrill Lynch, we have Andrew Obin. Please go ahead.',\n",
              " 'Andrew Obin',\n",
              " 'Hi, good morning. Just a question. You mentioned that you took $400 million of contract asset writedown in Power. And my understanding is that sort of culturally is a big deal. Shall we see more of these writedowns? How far along are we in the process of evaluating the book there?',\n",
              " 'Jamie Miller',\n",
              " 'We asked our new controller, when he started to take a clean look at everything across the company. And they -- as they went through their normal standards CSA reviewed this quarter did pay particular attention to higher risk contracts, just to make sure that we were thinking about them cleanly and the right way. What we talked about on the call, which was really comprised of three different buckets were the results of that review.',\n",
              " \"So as we mentioned before, we had adjustments for utilization, some on pricing pressure and then just our standard cost updates. On the utilization side, when you look at the CSA book, utilization has been relatively flat and it's demonstrating actually a fairly healthy profile. And I think it just continues to support the base that gas continues to be an important source of energy generation. Now some geographies are impacted more by some of the renewables adoptions. And as you look at our book, our concentration of geographies isn't largely in those areas but we did see some true-ups that we took in places like California and Turkey just to make sure we were reflecting our best view on that.\",\n",
              " \"On the pricing pressure, we are seeing that in some contracts. These are high margin long term contracts. And when we do go through renegotiation process on some of these, we are often able to offset that pricing with scope expansion and cost productivity. Having said that we wanted to make sure we had a realistic view of how we saw the portfolio, when we went through these reviews. We always do standard cost updating in our portfolio, that's just like you do in manufacturing. Those standard cost roll through this quarter as well. And part of that also reflected a small impact from the stage one blade issue but that's something that we had expected would happen, there as well.\",\n",
              " 'Andrew Obin',\n",
              " \"Got you. And just on GE Capital. How much incremental capital? You said $4 billion in '19 but how much incremental, do you need to put in 2020 to achieve your leverage targets? Thank you.\",\n",
              " 'Jamie Miller',\n",
              " \"Yeah. So Andrew at this point, we're talking about 2019, which is the $4 billion. And as we said as we get beyond 2019, we obviously understand. We will continue to put capital or expect to continue to put capital into the insurance subsidiaries. That will be funded through a combination of GE Capital earnings asset sales liquidity and GE parents support but at this point, we're not prepared to talk more fully about that.\",\n",
              " 'Operator',\n",
              " 'From Deutsche Bank, we have Nicole DeBlase. Please go ahead.',\n",
              " 'Nicole DeBlase',\n",
              " 'So, good morning. So I just want to start on Power kind of a two part question. You reduced headcount by 15%, you reduced footprint by 30%. I know that pricing is an important part of the equation of getting back to profitability here but I guess maybe what inning are you in with respect to what you need to do to get to the right level of capacity utilization? And then same topic different question. What exactly are you doing to improve Power execution since that keeps coming up as a driver of weaker profitability and when might we stop talking about that piece of the margin headwinds?',\n",
              " 'Larry Culp',\n",
              " \"Well, Nicole I would say, we are in the very early innings relative to the turnaround at Power. I don't know, how else to frame it. Again, a new team, a new structure, new operating rhythms. When we talk about execution, we talk about daily management. What I'm really referring to is making sure that every day the folks in the field, the folks in the factories, the folks in the labs understand what the key operating metrics are that they are responsible for that feed into better margins both at the growth in the operating level in this business. So that takes time because it's not just a reporting exercise, right? It's a management exercise and making sure they not understand not only how they're being measured but how to go about actually getting better price, how to go about actually driving better material productivity. Execution in the field as well. Not only around cost but frankly more importantly around quality making sure we get into outages quickly and we solve issues for customers the first time and when we're not going back. Those are the source of things. And it is a big organization. It's a global organization. This is going to take a little while. But I'm optimistic that we'll see it in our operating metrics over time and that will in turn translate into better performance. We'll clearly get some lift sooner from the absence of the adjustments that we made at the end of the year but what I'm really focused on and what I think investors are to be focused on, are those underlying operating improvements.\",\n",
              " 'Nicole DeBlase',\n",
              " \"Okay, got it. That's helpful. Thanks, Larry. And just a really quick one to tie up. Good progress on corporate expense reduction this quarter. Would you say that the corporate expense that we saw in 4Q is indicative of the run rate for 2019? Or are there items there that we need to consider?\",\n",
              " 'Jamie Miller',\n",
              " \"I'd say it's roughly indicative. I think it'll be down slightly from that. It was a little bit higher in the quarter due to some onetime expenses we had but it's close. Little bit down from that in 2019.\",\n",
              " 'Operator',\n",
              " 'From RBC Capital Markets, we have Deane Dray. Please go ahead.',\n",
              " 'Deane Dray',\n",
              " 'Thank you. Good morning, everyone.',\n",
              " 'Larry Culp',\n",
              " 'Hey, Dean. Good morning.',\n",
              " 'Deane Dray',\n",
              " \"I'd also like to add our welcome to Steve Winoker and wish him all the best.\",\n",
              " 'Steve Winoker',\n",
              " 'Thanks, Dean.',\n",
              " 'Deane Dray',\n",
              " \"Looks like I have to burn one of my questions, what's more of a housekeeping question Larry is in the third quarter earnings you talked about plans for an Analyst meeting in early 2019. Looks like, there's still a lot of more specifics that have to get filled in in terms of guidance and especially on the cash flow side. Maybe you're not ready yet to host that meeting. But just where does that stand and what would the timing be?\",\n",
              " 'Larry Culp',\n",
              " \"Well, Dean again, I think we're sharing today what we can in terms of not only the fourth quarter but the actions that are under way and how we see 2019 shaping up. We know we're not answering every question that folks might have on their minds today. But we're not going to answer any question without a grounding and a level of conviction that we expect of ourselves and I think folks like yourselves and investors expect of us as well but we are indicating that we'll be back soon with more particularly as we work through some of the issues, we've talked about not only in our prepared remarks but also here in Q&A with respect to Power.\",\n",
              " 'Deane Dray',\n",
              " \"Okay. And Larry, I appreciate how you started off the call with all the changes in terms of the management approach and the accountability and voice of the customer. I mean that's --that was all good color to hear upfront. And then my second question is on the insurance side. We've got good news, what I see is good news on the loss recognition certainly not a new surprise. How does that change? In the third quarter, there was lots of calls for how to ring fence the long term insurance risk and where that might be. Where does that stand today in terms of priorities?\",\n",
              " 'Larry Culp',\n",
              " \"Well, Dean, again I want to make sure everybody understands that the LRT results here are a positive data point. I think that the stat test is going to be more important and I think we don't expect any major surprises but we'll have those results to share with you in a few weeks. This is a long term liability right? And we have our commitments with respect to the permitted practice. We're in a position to fulfill those. We certainly get inbounds here as well from folks, who'd like to take this book off of our hands. But not necessarily in a structure and at a value that would make sense for the GE shareholder. So I suspect that as we enhance our disclosures, they'll be better understanding of what this is.\",\n",
              " \"Certainly I suspect there will still be some debate. But I'm optimistic that the transparency will lead to better understanding and we can talk about this in a fact-based way. People can understand what that means. Is it with us forever? Or is there a way to ring fence it is to use your word again, I'm not going to rule anything out. But I think right now, what we're trying to do is to make sure that everyone understands, what it is and what our obligations are around the insurance book. So hopefully, some helpful disclosures in that regard today with more to come in the K once we're on the other side of the stat test.\",\n",
              " 'Operator',\n",
              " 'And from Gordon Haskett, we have John Inch. Please go ahead.',\n",
              " 'John Inch',\n",
              " 'Good morning, everybody. Good morning, Larry.',\n",
              " 'Larry Culp',\n",
              " 'Hey, John. Good morning.',\n",
              " 'John Inch',\n",
              " 'Hi, Steve.',\n",
              " 'Steve Winoker',\n",
              " 'Good morning, John.',\n",
              " 'John Inch',\n",
              " \"Good morning, Steve. Just on the capital guide. I may have missed this Jamie and Larry but what is capital guide for 2019? What are you expecting? And what kind of, are we expecting from say gains from the $10 billion of asset sales? So it's almost like, what's the guide ex the $10 billion on earnings? And also Jamie, what was Healthcare's free cash flow in 2018?\",\n",
              " 'Jamie Miller',\n",
              " \"Well, with respect to GE Capital's 2019 as Larry mentioned, we're not offering 2019 guidance today. So that's something that we will be sharing with you in the near term but not today. And with respect to Healthcare's free cash flow, I think it's well understood that that is a strong cash flow business. It's a flow business unlike some of our long cycle and I think there's been a lot of valuation maps that's been out there. So while we're not disclosing Healthcare's free cash flow, I think you can probably come to a pretty reasonable conclusion there about what that is.\",\n",
              " 'John Inch',\n",
              " \"Okay. I think we were targeting break even in capital this year and we ended up losing money. I'm just wondering, what is -- what actually changed in the mix from Jamie, when you originally thought would be break even to the loss? And also in your cash walk on the fourth quarter cash walk, the Baker Hughes free cash flow is a positive $800 million. It looks like Baker actually generated positive free cash flow in the fourth quarter. So why would that be a positive? Why isn't that a negative drawing it out, it's just a technical question, I guess.\",\n",
              " 'Jamie Miller',\n",
              " \"Well, first on GE Capital. We had the LRT results in the fourth quarter so that was $65 million. We actually had tax benefits of less than we expected as well. That impacted us by about $240 million. And then we had some other marks in the portfolio in the second half. So that was really the large difference between what we had expected and where we ended up. And then with respect to Baker Hughes. We are backing out free cash flow. So that might be a labeling issue on the slide there. It's less Baker Hughes free cash flow. If you back it out and you have the dividend.\",\n",
              " 'Operator',\n",
              " 'And from Goldman Sachs, we have Joe Ritchie. Please go ahead.',\n",
              " 'Joe Ritchie',\n",
              " 'Thanks. Good morning.',\n",
              " 'Larry Culp',\n",
              " 'Hey, Joe. Good morning.',\n",
              " 'Jamie Miller',\n",
              " 'Good morning, Joe.',\n",
              " 'Joe Ritchie',\n",
              " \"Good morning, guys. And so just I know, you're a little reluctant to answer much on the 2019 guide. But I could just may be ask on just Power free cash flow, the $2.7 billion burn this year. Do you expect '19 to be better than 2018 from a Power free cash flow perspective?\",\n",
              " 'Larry Culp',\n",
              " \"I think we're at a place, where we're sharing with you today everything that we know, everything we can commit to. And again, we'll be back with more detail particularly with respect to Power and cash soon. But we're just, we're not in a position where we're able to do that. But clearly, again, hopefully the color around the $2.7 billion that we burned last year is helpful. With respect to framing the magnitude of the task and the challenge, when we understand and are serious about addressing.\",\n",
              " 'Joe Ritchie',\n",
              " 'Getting the disclosure on the $2.7 billion definitely helpful and will hopefully get some more color on the path in the near term. But I guess, if I can maybe focus then on just the onetime issues that occurred in the second half of 2018. Specifically, around the blade issue. Is it fair to say that those issues are at least behind you? And how should we think about what the call it roughly, it sounds like it was like roughly $700 million or so in quantifiable charges there. What does that relate to? Does that relate to all orders that you received so far in each turbine. Just any color on that would be helpful?',\n",
              " 'Larry Culp',\n",
              " \"Yes. Well the -- when we talk about the cost for the blade issue, it's really a function of going out and effectively replacing these blades sooner than we were anticipating, right? Because the useful life is effectively shorter than we had anticipated unfortunately. But we think we understand that. That work is under way with respect to the installed base. And again, I think it's regrettable. I think our customers when you talk to them understand, what's happened how we're going about remediating the issue in the field and I'd like to think that that is not something, we're going to continue to site with respect to the margin pressure in the business here in '19.\",\n",
              " 'Jamie Miller',\n",
              " 'Yeah. And just walking back from third quarter and maybe updating today. So third quarter, we had $240 million of warranty and other accruals related to the stage one blade. We also mentioned that that we expected to experience a similar amount of that over time as the worked outperformed in our services book. So part of what I mentioned earlier on those charges includes that stage one blade issue started to come through the services updates.',\n",
              " 'Larry Culp',\n",
              " 'But there are host of elements of that',\n",
              " 'Jamie Miller',\n",
              " 'Absolutely.',\n",
              " 'Larry Culp',\n",
              " 'That update not just the very.',\n",
              " 'Jamie Miller',\n",
              " \"Yeah. It's a very small issue in the quarter. But it's just part of that that bleed off as we do the work.\",\n",
              " 'Larry Culp',\n",
              " 'Thanks, Joe.',\n",
              " 'And our final question from Cowen and Company, we have Gautam Khanna. Please go ahead.',\n",
              " 'Gautam Khanna',\n",
              " 'Yes. Thank you. Good morning, guys.',\n",
              " 'Larry Culp',\n",
              " 'Good morning.',\n",
              " 'Gautam Khanna',\n",
              " \"Two questions. First, I was wondering, if you have any changes being contemplated to the incentive comp triggers for senior management as we approach the whole proxy time frame? Any changes to the PSU triggers that you're thinking about now?\",\n",
              " 'Larry Culp',\n",
              " 'Nothing that we can reference this morning.',\n",
              " 'Gautam Khanna',\n",
              " 'Okay. And I was wondering, if you could talk about when you expect pricing to bottom and the transactional Power aftermarket? Or if it has already in your opinion? And how will that pricing now compares to maybe where it was a year ago?',\n",
              " 'Jamie Miller',\n",
              " \"I think that's a question that depends on geography and it depends on the scope and the kinds of work, we're really looking to do with our customers. Over the last year, as we've talked about before as Scott has come in. He has really refocused our transactional group, to focus more on in some cases less scope but higher margin work as we do it. You know, it's a competitive market but even having said that that as we have our orders come in, we're seeing order CM or margin rate up in some cases 10, 12, 15 points on our order book and it's been consistently increasing throughout the year.\",\n",
              " \"Now as Larry mentioned earlier on the call, we're not yet seeing all of that drop through primarily because of field execution issues and operational issues. But these are things that we believe are fixable. And over time as we really seek to increase our share in that book, it really capture the kind of work that we want to capture the higher margin work, the operational execution piece of that we think should flow through. But with the respect to the margin pressure generally, I should say pricing pressure, these are very competitive markets that have a lot of capacity. So I think that dynamic will continue as we go through the next couple of years and until the market levels out and until we see the capacity leveling out as well.\",\n",
              " 'Steve Winoker',\n",
              " \"I know, we ran out of time before we could get to everyone in the queue. So you can reach me and my team through the day. But I want to thank everybody for joining us. The replay of today's call will be available this afternoon on our Investor website. Thank you.\",\n",
              " 'Operator',\n",
              " \"Thank you. Ladies and gentlemen, this concludes today's conference. Thank you for joining. You may now disconnect.\"]"
            ]
          },
          "metadata": {
            "tags": []
          },
          "execution_count": 25
        }
      ]
    },
    {
      "metadata": {
        "id": "37OiIqB4Rmom",
        "colab_type": "code",
        "colab": {
          "base_uri": "https://localhost:8080/",
          "height": 4661
        },
        "outputId": "0f6ec24a-1111-4268-9b96-987bb502959c"
      },
      "cell_type": "code",
      "source": [
        "JsonLines[32:]"
      ],
      "execution_count": 27,
      "outputs": [
        {
          "output_type": "execute_result",
          "data": {
            "text/plain": [
              "[\"Thank you, Steve. Good morning, everyone. And thank you for joining us. Our comments are going to be a bit longer than usual this morning to help you understand where we are and where we're going. But rest assured, we'll leave as much time as we can for questions at the end.\",\n",
              " \"First, I'd like to start by welcoming Steve to the GE team. I've known him for over a decade. Steve's already had positive impact here at GE and I'm sure, he'll do the same for you, our investors going forward. I'm here today because I believe in GE. There is no company on earth with a scale of GE's global reach, brand, talent and long-term customer relationships. We have leading technology in key infrastructure markets with high barriers to entry and strong aftermarket streams. We're poised to capture recurring revenues on a global installed base of almost 70,000 engines more than 70 -- 7,000 gas turbines and aero-derivatives, more than 40,000 onshore wind turbines and more than 4 million Healthcare Systems. In short, GE matters. We've identified clear opportunities to improve our performance and we are working to address them at root cause.\",\n",
              " \"We have the right portfolio of strategy and I'm confident the company is capable of gaining profitable share and creating long-term value for our shareholders. So let me cover where we stand on providing an outlook. Then I'll address some of the company changes followed by updates on our results, the balance sheet, capital and power. Jamie will take you through more details on the quarter and then I'll wrap with some metrics and comments to help you frame the outlook for 2019 before Q&A.\",\n",
              " \"Let's start with the outlook because investors want to know how we expect to perform financially and you should expect to come from a place of reality. Simply put the how much is important but the how is far more fundamental. We have a good line of sight in most of our businesses today including Aviation and Healthcare.\",\n",
              " \"For the industrial portfolio in total, we will provide you with our outlook for organic growth and we'll do so directionally on operating margins and free cash flow. We will give you a more detailed outlook in the near term but not today. For Power, we are resetting the baseline. We are reviewing every single project and contract and digging deeper to understand costs and benefits with respect to restructuring, market and commercial execution, improvement opportunities, legacy project issues and our service operations. We're gaining more meaningful insights into the paths for near and long-term earnings and cash potential of this business. This work takes time especially with the new structure and leadership team.\",\n",
              " \"In the spirit of providing you with all the information we have as soon as we have it, I'll speak to what I have found over the last 120 days. We were executing against the key priorities we laid out in June and again in October. Simply put deleveraging the balance sheet and strengthening our businesses starting with Power. Remember beyond Power, it's important to recognize the underlying strengths in our businesses where the story is about enhancing our competitive advantage and delivering for customers and shareholders.\",\n",
              " \"With respect to delevering, we've taken the following actions: We've reduced the quarterly dividend retaining $4 billion per year; accelerated the sale of a portion of our BHGE ownership stake raising $3.7 billion; and changed the structure of our transaction with Wabtec enabling us to retain an incremental $2 billion stake. We're demonstrating our seriousness and the flexibility with respect to our decisions to recut the BHGE and Wabtec deals in particular. We closed Distributed Power for $2.8 billion of net cash in the quarter.\",\n",
              " \"For the year, we signed or completed substantially all of our $20 billion industrial asset sale plan, which had targeted roughly $10 billion in proceeds. We also announced the sale of ServiceMax in the fourth quarter. We completed $8 billion of capital asset sales and other actions in the quarter bringing our total for the year to $15 billion, which were executed at book value or better. We're more than halfway through the total of $25 billion capital asset sale program, which we expect to complete this year.\",\n",
              " \"Today, we have announced that we've reached an agreement in principle with the United States Department of Justice to settle the FIRREA investigation of WMC. GE will pay the United States a civil penalty of $1.5 billion consistent with our reserve recorded for this matter in the first quarter of last year. We've taken the following actions to strengthen our businesses.\",\n",
              " \"In 2018, our corporate headquarters cost was $1.2 billion down $400 million from $1.6 billion in 2017. We have begun transferring a significant portion of headcount and activities that were previously managed at corporate to the segments or to third parties with over 6,500 full-time employees transferred to-date. We're confident that as we move more activity and headcount closer to those that are directly accountable, we will see additional savings.\",\n",
              " \"Good examples include the recently announced agreement with Genpact around our global operations activities and the delayering and reorganization of our Global Growth Organization. Our changes in Power followed a similar approach. We have $1.6 billion of cost at Power headquarters and expect to produce that amount by $300 million for headquarter's overhead functions. And as we distribute the remaining cost to the business units, we expect that they will find additional savings over time.\",\n",
              " \"We announced this week that we will be delayering the headquarter levels at Renewable Energy. And yesterday announced that we are bringing GE's grid, solar and storage assets into that business creating an end-to-end offering from renewables customers as the demand for renewable power generation and grid integration continues to grow globally. We're strengthening our senior team. We've brought in fresh eyes that are already having an impact.\",\n",
              " \"We're combining new perspectives from strong external talent, proven GE leaders with domain expertise and entrepreneurial spirit, next-gen thinkers as well as leaders with deep customer relationships. From a governance perspective, Paula Reynolds joined our Board of Directors bringing extensive experience in both the Energy and Insurance industries. The majority of our Directors now are new since 2017 and I'm finding the Board deeply engaged in all matters of our business\",\n",
              " \"Our audit committee also announced that they will move forward with the tender process for the appointment of GE's independent audit firm. And finally, we announced our plan to combine the digital businesses into an independently operated IoT Software business with employee equity a separate Board and the ability to raise capital and operate like a start-up. We're on the precipice of something great. We're getting a 100 years of domain and hardware expertise and growing out of our digital DNA over the last several decades.\",\n",
              " 'As my friend, Jim Collins of \"good-to-great\" fame might say, it\\'s a start. But we have much more work to do. So let me now share with you, how I\\'ve talked with our team about how we will do it. Number one, is managing first and foremost for operational performance. Preparing for the earnings call, my first month on the job showed me that we often start with corporate and bring in the business leaders including the CEO later. We turned that around this quarter holding operating reviews first and then preparing for this call. Those reviews were tightly focused on the how we can do and how do we get better, more so than how do we explain what just happened. Let me give you an example.',\n",
              " 'Previous P&L reviews focused on revenue, contribution margin and base cost and then, of course, operating profit. The same high-level framing I saw on the Board room. No more. We now get into much more operating detail, volume, price, mix, material and labor productivity overhead and operating expenses like R&D sales and marketing and G&A, all of which are critical to understanding and then improving the business.',\n",
              " \"The second is a focus on putting our customer at the center of all we do. Over the past few months, I've spent time with our customers in China, the Middle East, Europe and here in the US. I've learned that what they value is not always aligned with how we measure our own performance.\",\n",
              " \"Take quality. When I ask about quality internally, I often hear about our cost of quality, which measures our issues rather than how the customer experiences us. We're shifting our perspectives so that we understand and measure ourselves the way customers do and work backwards from there. The third area is having fewer and more impactful priorities. GE has ambition like no other company I've ever seen and that's mostly a good thing but we need to focus our attention to more of the things that matter most, so we can move them the furthest.\",\n",
              " \"At a company level, we've committed to the two priorities I mentioned earlier: Deleveraging the balance sheet and strengthening the businesses starting with Power. I'd now like to address some of the areas of importance that are high on my priority list. First, our high-level financial results. We ended the year with adjusted EPS of $0.65. GAAP EPS of negative $2.43 and industrial free cash flow of $4.5 billion. Our backlog stands at $391 billion up 5% year-on-year with equipment at $89 billion up 4%; and service at $302 billion up 5%.\",\n",
              " 'For the fourth quarter, our industrial free cash flow was $4.9 billion. While cash flow was negatively impacted by the weakness in Power, we were encouraged by the strong cash generation in the other businesses. We delivered adjusted EPS of $0.17 and GAAP EPS of $0.08. Jamie will take you through all this in more detail in a moment.',\n",
              " \"Next to the balance sheet. As I've stated already, we are reducing our debt levels both at Industrial and GE Capital. We know full well that our shareholders own all debt obligations across GE but these are two distinct sets of businesses with different financing needs and different capital structures and therefore we analyze their leverage separately. In industrial, we are targeting a net debt-to-EBITDA ratio of less than 2.5x over the next few years.\",\n",
              " 'Our Healthcare, transportation and BHGE separations can provide sources of roughly $50 billion toward that goal. Our Healthcare team continues to prepare for public company separation and that is progressing very well. We expect to monetize up to just under 50% of our Healthcare business. I talked earlier to the GE Transportation merger with Wabtec and the amended terms to increase our cash proceeds and we will sell down our remaining 50% ownership in BHGE in an orderly manner over time building on the actions, we took in November.',\n",
              " \"Overall our liquidity position remains strong with $16.8 billion of industrial cash and funding lines of $40 billion. Now on capital, we are targeting a debt-to-equity ratio of less than 4x by 2020. In 2018, we paid down capital's external debt balance by $21 billion and we executed $15 billion in asset sales at book more than half of our $25 billion asset disposition program. Capital ended the year with a $124 billion of assets including $15 billion of liquidity in line with our goal to materially shrink this business.\",\n",
              " \"To be clear, we have no plans to sell GECAS. We expect to contribute approximately $4 billion of parent support in 2019. We've listened to you on the insurance front and we're preparing increased disclosures in line with peers, which will be available with our 10-K release. Jamie will cover some of that detail shortly. And then finally on Power. Let me share with you the root causes of our underperformance as I see them today and the actions we're taking to address each one.\",\n",
              " 'First as I said, last quarter we were late to embrace the realities of the secular and cyclical pressures in the business. Recent data suggests that the market for new generating capacity is settling in to the 25 to 30 gigawatts range for the foreseeable future. We continue to believe gas will play an important role in global electrification but we have to resize our cost structure, our capital expenses and our supply chains to this new reality now.',\n",
              " \"As a result last year, we reduced headcount by 10,000 or 15% in the business, consolidated our footprint by 30% and took out $900 million of base cost exiting at a $1 billion lower run rate. Embracing market reality means a more appropriate revenue outlook, one that is further grounded in the reality of our $92 billion backlog rather than in the hope of new orders not yet won. Second Power faces a number of nonoperational headwinds and we expect a high water mark in this regard this year. These include legal settlements and legacy project erosion principally driven by the Alstom acquisition. There's also the runoff of the effects of past long-term receivables factoring and other programs.\",\n",
              " 'Over the next few years, these effects should come down substantially. Third, we need to execute better. Running Power better means improved daily management in how we sell make and service our products. Let me give you a few examples. We had separate teams of managers commissioning new plants owning a warranty period and overseeing the services contracts after the warranty.',\n",
              " 'Now, we present one face to the customer, who is accountable for the best long-term economic answer both for the customer and GE. We put the sales organization under one leader with deep domain expertise and are coordinating better on contract negotiations. We now have more experienced people, owning negotiations and responsible for project cost. We performed risk assessments of our existing 400 equipment contracts to identify cost and execution risks. We also performed a similar assessment on the 750 CSA contracts to identify price and utilization risk.',\n",
              " \"We have overhauled our commercial underwriting processes to set more realistic commitments and returns from the start. This is hard work but I'm encouraged by the Power's team's dedication to proactively address these issues at their root cause. Fixing Power will take time and in turn will take time for the changes, we're making to our daily operations to be reflected in our financial results but we are improving and I'm confident that those changes will come.\",\n",
              " \"As I've met with customers around the world, I'm really been struck by their sentiment. They're rooting for us. They want us to succeed and they want to know how they can help. So in summary, we're taking action, taking action on the priorities we laid out to you, deleveraging our balance sheet and strengthening our businesses starting with Power.\",\n",
              " 'Jamie will now take you through the detailed financial results.',\n",
              " 'Jamie Miller',\n",
              " \"Thanks. Larry. I'll start with the fourth quarter summary. Orders were $34.1 billion down 1% reported and up 4% organically with particular strength in equipment orders up 7% organically driven by aviation commercial engines and renewables. The services orders were up 1% organically. Revenues were up 5%, industrial segment revenues were up 2% reported and 8% organically driven by renewables Aviation Oil & Gas Healthcare and Transportation.\",\n",
              " 'Equipment revenues grew 10% and services were up 6% organically. Industrial profit margins were 7.5% in the quarter down 150 basis points year-over-year on a reported and organic basis driven by significant declines in Power and Renewables. For the year, margins were down 80 basis points organically. Industrial profit was down 16% in the quarter with Aviation, Healthcare and Baker Hughes GE all delivering strong profit growth offset mostly by Power. Specifically Aviation had another outstanding quarter and year expanding total year margins while shipping over 1,100 LEAP engines. Net earnings per share was $0.07, which includes losses from discontinued operations related to GE Capital. GAAP continuing EPS was $0.08 and adjusted EPS was $0.17.',\n",
              " \"I'll walk the GAAP continuing EPS to adjusted EPS on the right side of the page. Starting from GAAP. Continuing EPS was $0.08 and we had $0.06 of gains principally from the sale of Distributed Power. As you will recall in the third quarter, we booked the $22 billion impairment charge related to Power goodwill based on our best estimate at that time. And during the fourth quarter, we finalized our analysis and booked an incremental $69 million charge for Power following the third quarter charge. We also recorded a goodwill impairment charge of $94 million in renewables at our Hydro business. Combined these charges were $0.02 impact. On restructuring and other items, we incurred $0.07 of charges principally at Corporate and Power as we continue to resize those segments in line with our stated plan including $0.02 of charges related to business development transaction expenses and $0.01 for our share of Baker Hughes GE's restructuring.\",\n",
              " 'Lastly, we realized a $0.01 negative impact from US tax reform as we updated our estimate of the transition tax and other aspects of the enactment of the new law. Our current accrual reflects the effects of tax reform enactment based on guidance issued through year-end. Excluding these items adjusted EPS was $0.17 in the quarter.',\n",
              " 'Moving to cash, adjusted industrial free cash flow was $4.9 billion for the quarter, $1.9 billion lower than the prior year driven primarily by a lower progress collections. Income depreciation and amortization totaled $2.3 billion. Working capital was positive $2.3 billion for the quarter as we reduced over $1 billion of inventory on a higher fourth quarter volume and grew progress collections by $500 million primarily in renewables from strong PTC-driven orders.',\n",
              " 'Contract assets were a source of cash of $900 million as we saw higher services billings in aviation driven by higher fleet utilization and spare parts consumption from strong air traffic and we spent about $1 billion in gross CapEx or $600 million ex-Baker Hughes GE. For the year, we generated $4.5 billion of adjusted industrial free cash flow and we ended the year with higher volume in the fourth quarter as is typical for our businesses. And to provide you with more detail, Power used $2.7 billion in free cash flow for the year due to a combination of restructuring costs, nonoperational headwinds as well as execution and market issues.',\n",
              " \"Next, I'll cover liquidity. On the left side of the page, you can see the walk of the GE cash balance. We ended the fourth quarter with $16.8 billion of industrial cash in the bank excluding Baker Hughes GE. And for the total year, we had industrial free cash flow of $4.5 billion. We paid dividends of $4.2 billion and as of the first quarter of 2019, you'll recall that the dividend is decreasing to $0.01 per share per quarter, which will preserve about $4 billion of cash in 2019. We generated cash proceeds of $5.9 billion net of taxes related to our industrial disposition principally Industrial Solutions, Value-Based Care and Dis Power. And together with Wabtec that gets to the more than $10 billion we had talked about previously.\",\n",
              " 'Earlier in the year, we assumed $6 billion of debt from GE Capital to fund the principal pension plan, which was completed in the third quarter. Alstom and GE exercised their JV redemption rights and call options, which we settled for $3.1 billion in the fourth quarter. These entities operate at a loss. So the consolidation of 100% of the financials negatively impacted fourth quarter and will be an income headwind for us of about $300 million in 2019. We also completed a secondary offering for approximately 100 million Baker Hughes GE shares as well as a direct stock buyback with Baker Hughes GE for 65 million shares bringing our ownership stake to 50.4% in the fourth quarter.',\n",
              " \"These actions combined with other Baker Hughes GE buybacks during the year totaled $4.4 billion in cash proceeds. The $2.5 billion of other cash includes a number of items including about $900 million of investments in our Aviation business primarily from the first half of the year; $900 million of short data derivative hedge settlements that we used to mitigate risks across the portfolio; and $400 million of FX translation on our non-US dollar-denominated cash. Running with a higher cash balance will help us address inter-quarter funding needs. In line with our goal to reduce reliance on short-term funding, peak short-term funding needs declined from $19.7 billion in the fourth quarter of '17 to $14.8 billion in the fourth quarter of '18. These were funded with commercial paper and some utilization of our credit facilities.\",\n",
              " \"As we execute dispositions in 2019, we expect our intra-quarter funding needs to continue to decline and would expect to use a mix of commercial paper, credit facilities and excess cash at GE Capital to efficiently fund these needs. At the end of the year, commercial paper outstanding was $3 billion and we had access to $40 billion of committed revolving credit facilities with zero drawn. These lines are available to draw at any time and they don't have financial covenants ratings triggers or material adverse change clauses. As you know, our credit rating was downgraded from A to BBB+ with a stable outlook in early fourth quarter.\",\n",
              " 'This impact has been manageable with less than $15 million of collateral postings and a smooth transition to a Tier two commercial paper program. We continue to target a sustainable rating in the single A range.',\n",
              " \"Now, I'll take you through financial policy and leverage. We remain committed to our financial policy of a target single A rating a leverage level of less than 2.5x net debt-to-EBITDA and ultimately a dividend level in line with our peers. Deleveraging both GE and GE Capital is a priority and we have significant sources to achieve our goals.\",\n",
              " \"As Larry mentioned, we view these businesses differently with different balance sheets and capital structure needs and therefore we analyze their leverage separately. Our goal is leverage for the GE industrial businesses of less than 2.5x net debt-to-EBITDA. We plan to make significant progress toward this goal by the end of 2020 and as a reminder when we speak about net debt, we're talking about debt adjusted for pensions, operating leases and a portion of preferred stock and cash. Measured on this basis, GE Industrial net debt at the end of 2018 was $55 billion. As we look out over the next couple of years, we expect to have roughly $50 billion of industrial sources that can be used to delever and derisk the company.\",\n",
              " 'These sources include $18 billion of debt and pension transfer to Healthcare and more than $30 billion of cash proceeds from the monetization of up to just under 50% of Healthcare, 100% of our remaining stake in Baker Hughes GE and our stake in transportation. These sources will be used in part to reduce GE net debt by more than $30 billion including repaying a significant part of the $14 billion of debt transferred from GE Capital and reducing commercial paper. The parent also plans to contribute $4 billion to GE Capital in 2019 to maintain adequate capital levels there.',\n",
              " 'At GE Capital, we have a plan to reduce our debt to equity ratio to less than 4x by the end of 2020. GE Capital began the quarter with $70 billion of debt and ended with $66 billion while our total assets measure $124 billion. For the year, we made significant progress at GE Capital paying down $21 billion of external debt, taking down leverage by 1.4 turns including reducing commercial paper from $5 billion to zero.',\n",
              " \"GE Capital ended 2018 with $15 billion of liquidity. Over the next two years, we expect to generate additional sources of cash from asset sales, including $10 billion in 2019 from completing our GE Capital $25 billion asset reduction plan. We'll have cash from the pay down of most of the debt transferred to GE and capital support from GE. We have reached an agreement in principle on WMC that we expect to conclude expeditiously. And in 2019 and 2020, GE Capital will pay down $25 billion of scheduled debt maturities and continue to contribute about $2 billion per year of capital to our insurance businesses as previously disclosed. We now don't expect to issue new debt until 2021.\",\n",
              " 'We are planning approximately $4 billion of capital contributions to GE Capital in 2019. This includes $1.5 billion for the WMC agreement in principal announced today and ensuring we have adequate risk-based capital levels for our current portfolio. Going forward, we anticipate funding any insurance capital requirements or strategic options through a combination of GE Capital earnings, asset sales, liquidity and GE parent support. While we have more work to do, we continue to make progress in strengthening the balance sheet.',\n",
              " \"Next on Power. Orders were down 19% in the quarter. Gas Power Systems orders were down 26%. For the year, Gas Power Systems orders were down 40%. We ended the year with a $9 billion backlog, which was down 8% year-over-year. This is consistent with our outlook for a 25 to 30 gigawatt market for the foreseeable future. Power Services orders were down 20%. Steam orders were up 61% and grid orders were down 13% for the year. Power revenue was down 25%. Gas Power Systems revenues were down 21%. Power Services revenue was also down 21%. During the quarter, we took $400 million of charges related to our CSA contracts, which impacts revenue. Excluding these charges Power Services revenue was down 11%. Steam revenue was down 30% on lower America's and Europe volume and grid was flat.\",\n",
              " 'Moving to profit. The segment loss $872 million in the fourth quarter. We performed our normal CSA reviews and while total utilization on the book is flat, we have seen lower utilization on some of our units in some geographies and some pricing pressure in contracts relative to ongoing market dynamics and we updated our assumptions to reflect a revised outlook in these areas.',\n",
              " 'In addition, we had our normal cost standard updates, which included updates to our cost standards including the impact of the stage-one blade issue as expected. This resulted in the $400 million of charges that I previously mentioned. In addition, we also incurred about $350 million of costs related to Gas Power Systems projects. Similar to the third quarter, we continue to experience project execution issues resulting in liquidated damages as well as partner execution issues. Grid profit was down year-over-year impacted negatively by the buyout of the Alstom share of the JV.',\n",
              " \"These items had a significant impact on Power's results and overall, we see the heavy duty gas turbine market is flat over the next few years and see significant opportunity to improve our own execution. Next on Aviation, which had another great quarter. Orders of $8.8 billion were up 12%. Equipment orders grew 20%, driven by continued strong momentum of the LEAP engine program up 56% versus prior year. Military engine orders were up 69% driven by the F414 and service orders grew 7%. Revenues of $8.5 billion grew 21%. Equipment revenues were up 13% on higher commercial engine partially offset by lower military volume.\",\n",
              " \"Specifically, we shipped 379 LEAP engines this quarter up 177 units year-over-year. And in total, we shipped 1,118 LEAP engines for the year. We're still behind on deliveries by about four weeks but the business expects to be back on schedule by mid-2019. Services revenue grew 26% with spares rate up 10% driven by higher fleet utilization and spare parts consumption from strong air traffic. Segment profit of $1.7 billion was up 24% on higher volumes, improved price and operating productivity and compared to the fourth quarter of last year, we shipped almost 90% more LEAP engines.\",\n",
              " \"Despite the negative mix from higher LEAP shipments operating profit margins of 20.4% expanded 60 basis points in the quarter and 130 basis points for the year. The LEAP engine continues to perform very well with a 58% win rate on the A320neo family and 81% win rate in the narrow-body segment when you add in Boeing 737 MAX and Comac C919. Utilization rates are over 95%. We continue to improve the cost position of the LEAP and over the last two years, we've taken out more than 40% of the cost of the engine and are ahead on the learning curve initially laid out for the program. The overall program will break even around 2021.\",\n",
              " \"Now, I'll provide some additional transparency on the engine transition in the narrow-body market. The mixing from CFM56 to LEAP resulted in a margin drag of approximately 160 basis points in 2018 and 130 basis points in the quarter. The business is successfully offsetting this margin pressure through continued growth in aftermarket services, military and changing the mix of company-funded R&D spend. In summary, another strong year for David and the aviation team. In renewables, renewables orders were up 19% versus prior year driven by onshore equipment up 9% and services up 32% on strong repower units.\",\n",
              " 'We shipped 44% more megawatts and onshore wind and saw strong orders bookings 3 gigawatts in the fourth quarter and 8.6 gigawatts for the year and we gained share. Revenues of $3.4 billion were up 28% mainly driven by onshore wind up 34% on both higher new unit shipments and repowering volume. Segment margin of 2% was down 330 basis points for the quarter and profit of $67 million was down 51% mainly driven by negative price, liquidated damages for execution delays on a handful of complicated projects including some legacy Alstom projects and higher losses in hydro and offshore as we began fully consolidating these entities in the fourth quarter.',\n",
              " \"The consolidation presented a headwind of about 220 basis points. Recall that we had to book loss reserves at the time of the Alstom deal and we continue to burn through the negative cash flow impact of those projects. The business has seen favorable cash tailwinds from the PTC cycle, pricing is improving and we continue to see strong product cost reduction and while we're seeing some adverse impacts from tariffs, we're working to mitigate them with pricing and supply chain actions.\",\n",
              " 'For Healthcare, orders of $5.8 billion were up 2% organically. On a product line basis, Life Sciences orders were up 13% organically with bioprocess up 20%. Healthcare Systems orders were down 1% organically, which was about what we expected as we were comping a very strong fourth quarter in 2017.',\n",
              " 'Revenue of $5.4 billion was up 6% organically. Healthcare Systems revenue grew 4% organically and Life Sciences was up 10%. Segment margin was 21.8% expanding 10 basis points reported and 110 basis points organically, which excluded costs incurred in preparation for a separation in 2019. Profit was $1.2 billion up 2% on a reported basis and 12% organically. Organic profit growth was driven by volume and cost productivity partially offset by inflation, price and higher program investment. As the Healthcare team continues to prepare for separation, they closed out a solid year.',\n",
              " 'Moving to oil and gas. Baker Hughes GE released its financial results this morning and Lorenzo and Brian will hold their earnings call with investors today following ours. Next for Transportation and Lighting. Since we last spoke in October, we signed an agreement to sell Current to American Industrial Partners and the Justice Department has closed its review of the pending merger between GE Transportation and Wabtec.',\n",
              " 'Last week, we also announced amended transaction terms to further support our deleveraging plan. GE will increase its stake in Wabtec from approximately 10% to approximately 25% resulting in increased cash proceeds of approximately $2.2 billion as we sell down our stake. We will still receive $2.9 billion in cash from Wabtec at closing and both transactions are expected to close in early 2019 subject to customary closing conditions.',\n",
              " \"Finally, I'll cover GE Capital. Net loss from continuing operations was $86 million in the quarter, including a tax reform adjustment of negative $128 million. Adjusted continuing net income was $43 million. We completed our annual GAAP loss recognition testing in our runoff insurance portfolio, which resulted in an after-tax charge of about $65 million to increase reserves.\",\n",
              " 'As part of the test, we unlocked our future policy benefit reserve and updated key assumptions related to the book. The two largest drivers being the changes to our assumptions and morbidity improvement of a negative $1.2 billion offset by discount rate impact of $1.9 billion. Recall that statutory testing not GAAP drives funding. We expect to conclude the statutory testing in mid-to-late February and consistent with our existing insurance funding plan, we continue to expect required statutory funding of approximately $2 billion in the first quarter of 2019. We are managing this runoff portfolio with new management and increased board expertise and focus.',\n",
              " \"To provide additional information to further clarify our insurance obligations, we plan to include enhanced disclosures related to our insurance book in our 10-K, which will be released in mid-to-late February. We'll include a wide range of items from the profile of our book to morbidity and mortality assumptions to lapse rates, premium increases and related sensitivities.\",\n",
              " \"With that I'll turn it back over to Larry.\",\n",
              " 'Larry Culp',\n",
              " \"Jamie, thank you. So hopefully, by now you have a better sense of what I'm seeing at GE after nearly four months, our strengths, our challenges and our strategy for moving forward. I'd like to give you all the information and views on 2019 that we have today with more to come soon. We expect industrial organic revenue growth to be up low to mid-single digits on the back of a significant ramp in renewables and continued strength in Aviation and Healthcare.\",\n",
              " \"Power will be down in a flat to slightly down market in 2019. We also expect our industrial operating margins to expand. On free cash flow, we expect to face operating headwinds such as the PTC progress cycle reversing in renewables and we will spend more cash on restructuring at both Corporate and Power. In addition, we have a number of nonrecurring investments and commitments that create a drag on our free cash flow in 2019 but which will meaningfully lessen in 2020 and '21. These include transitioning to GE Capital supply chain financing program to MUFG and reducing factoring with GE Capital, Alstom pension contributions and legal settlements and the costs related to the preparation for our Healthcare business for our public separation.\",\n",
              " 'We anticipate cash flow to grow substantially in 2020 and 2021 as we make significant headway in addressing legacy and structural issues while simultaneously realizing the benefits from restructuring and stronger daily management of our businesses particularly in Power. In aviation, we see 75% to 80% of the 2019 commercial engine revenues secured in the backlog, with a largely recurring service revenue stream of approximately $15 billion. We are maintaining margin levels consistent with pre-LEAP periods despite mix changes with a healthy new order book. With these in mind, we see high single-digit revenue growth and low single-digit profit growth.',\n",
              " 'In Healthcare, we expect organic growth in margins in a similar range to last year. We see double-digit revenue growth in renewables. The business is coming through the PTC cycle and onshore wind, which contributed to strong cash performance in 2018, as a result of progress build. That progress cycle will begin reversing this year, as we transition to factory production and book revenue against those contracts. However, we see price declines moderating and within the level of our product cost reduction efforts going forward. This is our baseline today for 2019 as our plan continues to evolve. As we develop more conviction around the cash flow situation of Power, we will update you in the near term with respect to the outlook for the full year.',\n",
              " \"So my message for 2019 is that the more stable businesses of Aviation and Healthcare are healthy and growing. Renewables is moving through the PTC cycle. We are working on Power and capital is shrinking. 2019 is still very much a work in progress but the company is becoming stronger. As I said earlier, the how much is important here, but the how is far more fundamental. How is about understanding and fixing problems at root cause. How is about process not for processes sake but to ensure the sustainability of our results to create enduring shareholder value. I'm proud of the momentum, I see across this company and the changes we're making to strengthen GE for the long run.\",\n",
              " \"With that we'll open it up to your questions.\",\n",
              " 'Question-and-Answer Session',\n",
              " 'Operator',\n",
              " '[Operator Instructions] And from Wolfe Research, we have Nigel Coe.',\n",
              " 'Nigel Coe',\n",
              " 'Thanks. Good morning.',\n",
              " 'Larry Culp',\n",
              " 'Good morning, Nigel.',\n",
              " 'Nigel Coe',\n",
              " \"Morning. Lots of questions. I mean, I'm sure a lot of my questions will be picked up by other analysts, but I just want to start on. It sounds like your plans on Healthcare now are pretty defined, Larry. It looks like you're looking to monetize 50% putting an $18 billion of pension debts, via an IPO-type process. Is that now defined or are there still some moving pieces on that process?\",\n",
              " 'Larry Culp',\n",
              " \"Well, I think we've talked about that separation as the plan of record and that continues to be the case today. The team is very well along Nigel with respect to the preparation for a flotation. We don't have a time frame per se to share with you today but we are spending a significant amount of money in '19 as we did last year in preparation. We're obviously proud of what Karyn and the team are doing here. Very strong top line earnings and cash performance and we think this is a business that is going to be a strong resilient performer through cycles. So that is the plan.\",\n",
              " 'Nigel Coe',\n",
              " \"Okay. And then my follow-on would be, you gave a lot of detail on what you've been doing for the last few months and lots of opportunities for improvement. One thing, you didn't really touch on was pricing and pricing excellence and your one precedent of GE in the past has been may be trading price for market share. So I'm just curious, what your thoughts are in terms of improving the pricing realization going forward?\",\n",
              " 'Larry Culp',\n",
              " \"Nigel, forgive us, if we didn't get into that in detail. We didn't want to overstay our welcome with respect to our prepared remarks. But when you hear us refer to profitable market share that is both an external and internal recognition. And it can't be share for share sake. And particularly in Power, I think we are acutely aware that we have opportunities both on new equipment and on the service book to basically value sell what we're doing more frequently. I got the word last night for example within Power of a project that is looking very good where we're frankly -- we are not the low bid, right? I think that just speaks to the way we're able to communicate the value of our technology. We know in these businesses from Healthcare to renewables price is a reality. We want to be smarter around pricing, at the same time, frankly when you hear us talk about labor and material productivity, we really want to push that hard and do that in line with market realities, so that we can maintain margins in light of some of those pressures.\",\n",
              " 'Jamie Miller',\n",
              " \"And Nigel, just to add a little bit more color there on the numbers. Orders pricing in total for the year was relatively flat. It was actually up just slightly and it was up more than that in the second half. And as Larry mentioned, we are seeing in the numbers the pressure moderating at Power and at renewables. Power really with respect to the enhanced discipline on new projects and bids as Larry talked about. In renewables, we're seeing that pressure moderate as we move throughout the year as well primarily as we're moving through that PTC cycle. The supply chains are more stretched and that price dynamic becomes a little bit more unbalanced. Aviation and Healthcare are running as you would expect, which is strongly as Larry mentioned.\",\n",
              " 'Operator',\n",
              " 'And from JPMorgan, we have Steve Tusa. Please go ahead.',\n",
              " 'Steve Tusa',\n",
              " \"Hey, good morning. So you mentioned on the free cash flow dynamics, you mentioned the PTC headwind, a bit more restructuring cash, some other I guess nonrecurring investments. Can you maybe give us some color on that? In addition, just provide some color on how much of a, I think Jamie said before about $1 billion of headwind or so from divestitures. So maybe just help us with a bit of a rough bridge from the $4.5 you did in 2018? Because obviously that sounds like it's going to be down.\",\n",
              " 'Jamie Miller',\n",
              " \"Yes. So why don't I talk through the components of 2018 first in terms of really walking you through the rounding out our fourth quarter performance and we can address some of those questions. So for 2018, if you really walk the changes, we obviously had earnings. We also had working capital, which for the year was basically zero impact of free cash flow. Fourth quarter was $2.3 billion positive. As we expected with large volumes coming through this quarter. Contract assets was basically flat.\",\n",
              " 'Steve Tusa',\n",
              " \"Hey, sorry. I can see the slide. I just wanted to know like $4.5 billion. Is that -- there's a lot of headwinds that Larry had talked about. I'm just curious as to maybe you can give us some color on the size of some of those headwinds? And obviously, it sounds like it will be down. Will you as an organization generate cash including GE Capital next year? I guess that's the simple way to ask the question.\",\n",
              " 'Larry Culp',\n",
              " \"Yeah, Steve. And I think the simple answer the question is, what we're trying to communicate today is that we are going to see pressures both operational and nonrecurring. We are going to be back shortly when we can take you through a detailed walk in that regard. I think from an operating perspective, is worth acknowledging a lot of good performance in the number of businesses.\",\n",
              " \"Clearly renewables was stronger from a cash perspective in '18 and is likely to be in '19 given the PTC dynamic. And we are going to go deep here on additional restructuring where we see opportunities to put that money to work and generate real returns. We also have some of these nonrecurring events or issues. Some of them are policy decisions like the move on the supply chain financing program. I think we've got better line of sight today on some of these legacy issues that come out of Alstom that we're on the hook or those are real cash commitments in '19 that abate thereafter and we do have the cost relative in Healthcare IPO.\",\n",
              " \"So again, I think the headline is, we finished strongly. We know we got some operating and non-operating pressures and think we work through that in '19 with an eye toward a stronger cash flow performance in '20 and '21 with more details to come soon.\",\n",
              " 'Steve Tusa',\n",
              " 'Great. And what do you expect GE cash to earn in 2019 and how much from an ongoing cash generation perspective, how much will they be generating?',\n",
              " 'Larry Culp',\n",
              " \"Steve, as I said in both my prepared remarks and a moment ago when we have everything locked down to get into those specifics then we'll do that soon. We'll be back to you.\",\n",
              " 'Operator',\n",
              " 'From Vertical Research we have Jeffrey Sprague',\n",
              " 'Jeffrey Sprague',\n",
              " 'Thank you. Good morning, everyone.',\n",
              " 'Jamie Miller',\n",
              " 'Morning, Jeff.',\n",
              " 'Jeffrey Sprague',\n",
              " 'Yeah. Two from me. Just thinking about the Healthcare exit in particular. Kind of, for lack of a better term, losing that cash flow near term seems like it would create some stress on the organization. Can you give us a sense of, what you foresee as kind of the timing of the exit? And then Larry, particularly interested also on, how you view exiting the remaining 50% stake. Do you see the potential for some kind of, equity-friendly exit with that piece the split-off for example, which you might shrink the share count of the remaining company?',\n",
              " 'Larry Culp',\n",
              " \"Well Steve, I'd like to think that everything that we do is shareholder-friendly, right? I mean, we take a strong view here and you know, from seeing me in other roles that we want to create long-term shareholder value with the cumulative effect of everything that we do. I think with respect to Healthcare what we can confirm today is that we're on the path toward an IPO here in 2019. Timing is still TBD. So we don't have a date. Like me on my senior prom. I just don't have a date for you today but I think in time, we'll have more clarity.\",\n",
              " \"With respect to Baker Hughes, I mean we talked about that as part of that $50 billion pool of options to go to. I think that the high probability there is for us is to sell our shares. We certainly are approached by various folks, who have an interest in a stake in that company. And again, we don't have a timetable per se to share with you today but we want to reiterate our view to dispose of that stake in an orderly manner, which again we think is conducive to value creation for our shareholders.\",\n",
              " 'Jeffrey Sprague',\n",
              " \"Thanks. And just as a follow-up. I didn't have a prom date and I've been called worse than Steve but as unrelated follow-up, if we think about what you're going through in insurance right now, the comment about the statutory review. Is that to indicate Larry or Jamie that even if there is some adverse outcome as it relates to that statutory review, it would not affect your near-term funding needs and instead those would be tacked onto the tail, so to speak of what you're planning from reserve build?\",\n",
              " 'Jamie Miller',\n",
              " \"Well, Jeff what I was referring to there was that, it's really the statutory calculation not the GAAP that drives the statutory funding needs. We are right in the middle of that process. We continue to expect to contribute about $2 billion to the insurance entities in 2019. We'll conclude that process over the next three to four weeks. But at this point that is what we expect.\",\n",
              " 'Larry Culp',\n",
              " 'Sorry about that Jeff.',\n",
              " 'Jeffrey Sprague',\n",
              " 'Thanks.',\n",
              " 'Operator',\n",
              " 'From Barclays, we have Julian Mitchell.',\n",
              " 'Julian Mitchell',\n",
              " \"Morning. Maybe as the first question on Power. I understand, you're reticent to give too much forward-looking color but perhaps give us a sense of, if you look at the reported 2018 numbers EBIT loss of $800 million free cash of minus $2.7 billion. How would you look at the or characterize to us the underlying figures for both of those two items, if you strip out charges and projects execution overruns and so on? And maybe also on that point, if you could give any color as to the separation of gas and non-gas within Power? What sort of financial conditions that separation has uncovered in each of the two pieces?\",\n",
              " 'Larry Culp',\n",
              " \"Sure, sure. Let me do that and again this is very much a work in progress with a new team establishing new operating rhythms. But I would say that if we start on the service side of things, right? We've got a $62 billion backlog. We did take the charge in the fourth quarter $400 million on about a $3.7 billion contract asset book and we think that's appropriate just given what we see in the marketplace. I think we're encouraged though relative to the execution around pricing here. We have changed the way the folks in the field are compensated.\",\n",
              " \"Transitioning them, if you will from volume to margin. But again, there's a good bit of productivity post Alstom that we still need to get from the combined organizations here and that work is incomplete. But that's part of that operating loss that you see here at year's end. We are clearly dealing with lower demand in equipment, encouraged by some of the share points in the US market here in the back half. But again, we want to make sure we focused on profitable share. There we took $350 million of charges around the project book and we know that we have a lot of execution here to improve just in the way these projects are brought online.\",\n",
              " \"I think when you look at the vintages, we're encouraged by the progress that we see post the '16 underwriting class in terms of our margins on those projects. But that's very much a work in progress. I think with respect to the change in the structure of Power, again part of it is a cost reduction. We shared some of that in the prepared remarks but we also are getting better visibility on the underlying businesses P&L-by-P&L. So we talk about gas, we're combining services and equipment then we have the rest of our Power portfolio.\",\n",
              " \"As Jamie mentioned, we now take on all the cost for grid now that we own all of it that doesn't help us at all. But now we've got better line of sight on the discreet P&L's grid, Steam, Power Conversion and Nuclear all four of those businesses have meaningful profit improvement potential and we're going to manage them from the bottoms up accordingly. So clearly, we're at a break even from our P&L perspective absence some other charges, a lot of work to do here and as we have better visibility and more conviction around those improvements, we'll be back and we'll be back here soon with respect to how that plays out in '19 and '20.\",\n",
              " 'Jamie Miller',\n",
              " \"The other color I would just add there on negative free cash flow is as volume comes down in the factories and as our projects continue to work their way through, you see volume leveling but we've been in a declining frame here. So what's really flowing through on cash in addition to some of the other items Larry mentioned is a burn down of our progress billings and a burn down of our project payables. Situations where we receive projects in advance of constructing new equipment or where we received progress on projects and now we're in the phase of the project, where the payables and the costs are starting to come through. So that's also pressuring the Power of free cash flow. And as that levels that also starts to level.\",\n",
              " 'Julian Mitchell',\n",
              " \"Thanks. And then my second question may be about a business, where there's better medium term visibility Aviation. You talked about the LEAP operating margin headwind last year. How do you see that moving in 2019 relative to that 160 bps? And then looking out beyond just this year anything on the horizon in terms of let's say 777X transition or NMA that you think could cause a major risk to the aviation free cash flow in margin profile?\",\n",
              " 'Jamie Miller',\n",
              " \"With respect to Aviation's merger and mix you saw strong fourth quarter and when we look at the remixing that's happening between CFM and LEAP significant increase in LEAP shipments in the quarter up 88% over the prior year. Year-over-year 2.4x up and you're seeing CFM come down meaningfully over those same periods. Next year, CFM will come down again about I'd say more than 50% of CFM deliveries will be reduced next year but the LEAP also ramps from the 1,118 we had this year up to 1,800-plus. So that remixing continues to occur. We mentioned on the call that it was a drag in 2018 of 160 basis points. We do expect continued some small drag next year but again Aviation's doing a really nice job offsetting that with services growth. They're shifting in military and the company-funded R&D.\",\n",
              " 'Larry Culp',\n",
              " \"We're clearly in conversations with our major airframe customers about new platforms. I think at this point, it would be premature to suggest that we're going to have a cash flow headwind a material cash flow headwind around any of those programs here in '19.\",\n",
              " 'Operator',\n",
              " 'From Melius Research, we have Scott Davis. Please go ahead.',\n",
              " 'Scott Davis',\n",
              " 'Hey. Good morning, guys.',\n",
              " 'Larry Culp',\n",
              " 'Good morning, Scott.',\n",
              " 'Scott Davis',\n",
              " \"And Larry I don't buy that you're going to have a prom date. That's nonsense. Even I had a prom date. I was bald at birth. All kidding aside, the one number you gave that was new, which was kind of eye-popping to me, it was just $1.6 billion Power headquarter number. Can you put some context around that? It seems just like such a insane number. But I don't know really what you're including in that I guess as far as talking about headquarter?\",\n",
              " 'Larry Culp',\n",
              " \"Well, there's -- it's a large number and again, I think we've got line of sight here in the near terms Scott to bring that down by about 300. And effectively, as you know, we've done a lot horizontally both at corporate and at the segment levels over time for the businesses. So it's not as if it's unhelpful or wasteful but there clearly is an adjustment we can take here as we move those activities into the businesses and I think over time as the businesses have true ownership for them that they are in their operating budgets as opposed to an allocation from corporate. They're likely to find opportunities for further savings. But we don't do it primarily for the cost reduction. I think we really do it to help drive visibility and accountability P&L-by-P&L. I think I've shared with some folks that early on in my tenure we would talk about Power as if it was one business. It's obviously a number of businesses. Some better than others, different issues here and there. I think we've got better visibility on those issues. It's not perfect today but as we get that visibility I think better position to take meaningful action to drive better results across that portfolio.\",\n",
              " 'Scott Davis',\n",
              " \"That make sense. And then the other thing is just not totally clear is, if the New World is 25 gigawatts to 30 gigawatts, which arguably a lot of people can say the New World is 25 or even a little lower but how do you get your capacity down anywhere close to that? I mean you've got big factories, lots of capital equipment, lot of pressure from governments and unions and everybody else. Is it realistic to be able to get that down in the next two years? it's something that's closer to 30?\",\n",
              " 'Larry Culp',\n",
              " \"Well, I think it is realistic, right? There are going to be a number of competing priorities and pressures but we took $1 billion of cost out last year. I think we are putting the -- we're putting up the parameters of a program to build on what we did last year. So Scott, we have to do this. We absolutely have to do this. I think we know, it's a multiyear effort but the challenge here around margins is not simply one of capacity. Right back to the earlier question around pricing. Productivity both in new equipment and in the field on services. It's a whole host of things that I think give us the optimism that we can drive better margin and cash performance in this business. But we have to prove that to you.\",\n",
              " 'Operator',\n",
              " 'And from Citi, we have Andrew Kaplowitz. Please go ahead.',\n",
              " 'Andrew Kaplowitz',\n",
              " \"Hey. Good morning, guys. Larry, one of the biggest issues I think that investors have had when GE is the concern that legacy liabilities will continue to surprise the company. The FIRREA agreement with the DOJ seems like a positive development in that regard, so does is the relatively small LTC adjustment. But at this point, do you feel reasonably confident that you've identified all the skeletons in the closet in a level of negative surprises are really going to start dropping moving forward?\",\n",
              " 'Larry Culp',\n",
              " \"I don't think I would ever say, even on my last day here that we have found all the skeletons, right? I don't tend to take absolute positions. But that said I think you're spot on. The news today around WMC is good both with respect to a resolution and the fact that we came in right where we were reserved. So we can begin to move that episode behind us. I think we're encouraged by the results that Jamie walked you through relative to the LRT.\",\n",
              " \"But again, the cash requirements really come from the stat and not the GAAP test and that will still has a few more weeks to run. But in the absence of no new news again with a lot of fresh eyes and it's not my fresh eyes we've got a new GC, we've got a new controller new to GE in their first years. I think that is a positive sign that we aren't adding to the list. We're going to be as open and transparent as we possibly can, when we find things. And we're going to help you understand what we're doing to address them but I'm encouraged by what I see and what has not arisen here in nearly four months time.\",\n",
              " 'Andrew Kaplowitz',\n",
              " \"And Larry, you're pretty clear about having no plans to sell GECAS. It sounds quite definitive but obviously there's a lot of noise out there. So maybe I could step back and ask you how you weigh the urgency to get GE Capital debt down versus keeping the strong earnings stream in tact from GECAS that you have in the business?\",\n",
              " 'Larry Culp',\n",
              " \"Well, I think that we're -- we're frankly keen not to comment on every rumor on every innuendo that's out there. GECAS is one business that we get inbounds on with some frequency. But frankly. We get inbounds on everything but my desk. I think it speaks to the quality of the assets. Again, I think we can delever and bring that net debt down from $55 billion to something closer to $25 billion. We've got a number of options. We are mindful of the trades when we move assets out and the impact on our earnings and cash capability. But again, you elevate to the strategic level, I think we are clear. We need to delever and we're going to work the plan that we've outlined here today and that's really is I think as simple and as straightforward as it gets.\",\n",
              " 'Operator',\n",
              " 'From Bank of America Merrill Lynch, we have Andrew Obin. Please go ahead.',\n",
              " 'Andrew Obin',\n",
              " 'Hi, good morning. Just a question. You mentioned that you took $400 million of contract asset writedown in Power. And my understanding is that sort of culturally is a big deal. Shall we see more of these writedowns? How far along are we in the process of evaluating the book there?',\n",
              " 'Jamie Miller',\n",
              " 'We asked our new controller, when he started to take a clean look at everything across the company. And they -- as they went through their normal standards CSA reviewed this quarter did pay particular attention to higher risk contracts, just to make sure that we were thinking about them cleanly and the right way. What we talked about on the call, which was really comprised of three different buckets were the results of that review.',\n",
              " \"So as we mentioned before, we had adjustments for utilization, some on pricing pressure and then just our standard cost updates. On the utilization side, when you look at the CSA book, utilization has been relatively flat and it's demonstrating actually a fairly healthy profile. And I think it just continues to support the base that gas continues to be an important source of energy generation. Now some geographies are impacted more by some of the renewables adoptions. And as you look at our book, our concentration of geographies isn't largely in those areas but we did see some true-ups that we took in places like California and Turkey just to make sure we were reflecting our best view on that.\",\n",
              " \"On the pricing pressure, we are seeing that in some contracts. These are high margin long term contracts. And when we do go through renegotiation process on some of these, we are often able to offset that pricing with scope expansion and cost productivity. Having said that we wanted to make sure we had a realistic view of how we saw the portfolio, when we went through these reviews. We always do standard cost updating in our portfolio, that's just like you do in manufacturing. Those standard cost roll through this quarter as well. And part of that also reflected a small impact from the stage one blade issue but that's something that we had expected would happen, there as well.\",\n",
              " 'Andrew Obin',\n",
              " \"Got you. And just on GE Capital. How much incremental capital? You said $4 billion in '19 but how much incremental, do you need to put in 2020 to achieve your leverage targets? Thank you.\",\n",
              " 'Jamie Miller',\n",
              " \"Yeah. So Andrew at this point, we're talking about 2019, which is the $4 billion. And as we said as we get beyond 2019, we obviously understand. We will continue to put capital or expect to continue to put capital into the insurance subsidiaries. That will be funded through a combination of GE Capital earnings asset sales liquidity and GE parents support but at this point, we're not prepared to talk more fully about that.\",\n",
              " 'Operator',\n",
              " 'From Deutsche Bank, we have Nicole DeBlase. Please go ahead.',\n",
              " 'Nicole DeBlase',\n",
              " 'So, good morning. So I just want to start on Power kind of a two part question. You reduced headcount by 15%, you reduced footprint by 30%. I know that pricing is an important part of the equation of getting back to profitability here but I guess maybe what inning are you in with respect to what you need to do to get to the right level of capacity utilization? And then same topic different question. What exactly are you doing to improve Power execution since that keeps coming up as a driver of weaker profitability and when might we stop talking about that piece of the margin headwinds?',\n",
              " 'Larry Culp',\n",
              " \"Well, Nicole I would say, we are in the very early innings relative to the turnaround at Power. I don't know, how else to frame it. Again, a new team, a new structure, new operating rhythms. When we talk about execution, we talk about daily management. What I'm really referring to is making sure that every day the folks in the field, the folks in the factories, the folks in the labs understand what the key operating metrics are that they are responsible for that feed into better margins both at the growth in the operating level in this business. So that takes time because it's not just a reporting exercise, right? It's a management exercise and making sure they not understand not only how they're being measured but how to go about actually getting better price, how to go about actually driving better material productivity. Execution in the field as well. Not only around cost but frankly more importantly around quality making sure we get into outages quickly and we solve issues for customers the first time and when we're not going back. Those are the source of things. And it is a big organization. It's a global organization. This is going to take a little while. But I'm optimistic that we'll see it in our operating metrics over time and that will in turn translate into better performance. We'll clearly get some lift sooner from the absence of the adjustments that we made at the end of the year but what I'm really focused on and what I think investors are to be focused on, are those underlying operating improvements.\",\n",
              " 'Nicole DeBlase',\n",
              " \"Okay, got it. That's helpful. Thanks, Larry. And just a really quick one to tie up. Good progress on corporate expense reduction this quarter. Would you say that the corporate expense that we saw in 4Q is indicative of the run rate for 2019? Or are there items there that we need to consider?\",\n",
              " 'Jamie Miller',\n",
              " \"I'd say it's roughly indicative. I think it'll be down slightly from that. It was a little bit higher in the quarter due to some onetime expenses we had but it's close. Little bit down from that in 2019.\",\n",
              " 'Operator',\n",
              " 'From RBC Capital Markets, we have Deane Dray. Please go ahead.',\n",
              " 'Deane Dray',\n",
              " 'Thank you. Good morning, everyone.',\n",
              " 'Larry Culp',\n",
              " 'Hey, Dean. Good morning.',\n",
              " 'Deane Dray',\n",
              " \"I'd also like to add our welcome to Steve Winoker and wish him all the best.\",\n",
              " 'Steve Winoker',\n",
              " 'Thanks, Dean.',\n",
              " 'Deane Dray',\n",
              " \"Looks like I have to burn one of my questions, what's more of a housekeeping question Larry is in the third quarter earnings you talked about plans for an Analyst meeting in early 2019. Looks like, there's still a lot of more specifics that have to get filled in in terms of guidance and especially on the cash flow side. Maybe you're not ready yet to host that meeting. But just where does that stand and what would the timing be?\",\n",
              " 'Larry Culp',\n",
              " \"Well, Dean again, I think we're sharing today what we can in terms of not only the fourth quarter but the actions that are under way and how we see 2019 shaping up. We know we're not answering every question that folks might have on their minds today. But we're not going to answer any question without a grounding and a level of conviction that we expect of ourselves and I think folks like yourselves and investors expect of us as well but we are indicating that we'll be back soon with more particularly as we work through some of the issues, we've talked about not only in our prepared remarks but also here in Q&A with respect to Power.\",\n",
              " 'Deane Dray',\n",
              " \"Okay. And Larry, I appreciate how you started off the call with all the changes in terms of the management approach and the accountability and voice of the customer. I mean that's --that was all good color to hear upfront. And then my second question is on the insurance side. We've got good news, what I see is good news on the loss recognition certainly not a new surprise. How does that change? In the third quarter, there was lots of calls for how to ring fence the long term insurance risk and where that might be. Where does that stand today in terms of priorities?\",\n",
              " 'Larry Culp',\n",
              " \"Well, Dean, again I want to make sure everybody understands that the LRT results here are a positive data point. I think that the stat test is going to be more important and I think we don't expect any major surprises but we'll have those results to share with you in a few weeks. This is a long term liability right? And we have our commitments with respect to the permitted practice. We're in a position to fulfill those. We certainly get inbounds here as well from folks, who'd like to take this book off of our hands. But not necessarily in a structure and at a value that would make sense for the GE shareholder. So I suspect that as we enhance our disclosures, they'll be better understanding of what this is.\",\n",
              " \"Certainly I suspect there will still be some debate. But I'm optimistic that the transparency will lead to better understanding and we can talk about this in a fact-based way. People can understand what that means. Is it with us forever? Or is there a way to ring fence it is to use your word again, I'm not going to rule anything out. But I think right now, what we're trying to do is to make sure that everyone understands, what it is and what our obligations are around the insurance book. So hopefully, some helpful disclosures in that regard today with more to come in the K once we're on the other side of the stat test.\",\n",
              " 'Operator',\n",
              " 'And from Gordon Haskett, we have John Inch. Please go ahead.',\n",
              " 'John Inch',\n",
              " 'Good morning, everybody. Good morning, Larry.',\n",
              " 'Larry Culp',\n",
              " 'Hey, John. Good morning.',\n",
              " 'John Inch',\n",
              " 'Hi, Steve.',\n",
              " 'Steve Winoker',\n",
              " 'Good morning, John.',\n",
              " 'John Inch',\n",
              " \"Good morning, Steve. Just on the capital guide. I may have missed this Jamie and Larry but what is capital guide for 2019? What are you expecting? And what kind of, are we expecting from say gains from the $10 billion of asset sales? So it's almost like, what's the guide ex the $10 billion on earnings? And also Jamie, what was Healthcare's free cash flow in 2018?\",\n",
              " 'Jamie Miller',\n",
              " \"Well, with respect to GE Capital's 2019 as Larry mentioned, we're not offering 2019 guidance today. So that's something that we will be sharing with you in the near term but not today. And with respect to Healthcare's free cash flow, I think it's well understood that that is a strong cash flow business. It's a flow business unlike some of our long cycle and I think there's been a lot of valuation maps that's been out there. So while we're not disclosing Healthcare's free cash flow, I think you can probably come to a pretty reasonable conclusion there about what that is.\",\n",
              " 'John Inch',\n",
              " \"Okay. I think we were targeting break even in capital this year and we ended up losing money. I'm just wondering, what is -- what actually changed in the mix from Jamie, when you originally thought would be break even to the loss? And also in your cash walk on the fourth quarter cash walk, the Baker Hughes free cash flow is a positive $800 million. It looks like Baker actually generated positive free cash flow in the fourth quarter. So why would that be a positive? Why isn't that a negative drawing it out, it's just a technical question, I guess.\",\n",
              " 'Jamie Miller',\n",
              " \"Well, first on GE Capital. We had the LRT results in the fourth quarter so that was $65 million. We actually had tax benefits of less than we expected as well. That impacted us by about $240 million. And then we had some other marks in the portfolio in the second half. So that was really the large difference between what we had expected and where we ended up. And then with respect to Baker Hughes. We are backing out free cash flow. So that might be a labeling issue on the slide there. It's less Baker Hughes free cash flow. If you back it out and you have the dividend.\",\n",
              " 'Operator',\n",
              " 'And from Goldman Sachs, we have Joe Ritchie. Please go ahead.',\n",
              " 'Joe Ritchie',\n",
              " 'Thanks. Good morning.',\n",
              " 'Larry Culp',\n",
              " 'Hey, Joe. Good morning.',\n",
              " 'Jamie Miller',\n",
              " 'Good morning, Joe.',\n",
              " 'Joe Ritchie',\n",
              " \"Good morning, guys. And so just I know, you're a little reluctant to answer much on the 2019 guide. But I could just may be ask on just Power free cash flow, the $2.7 billion burn this year. Do you expect '19 to be better than 2018 from a Power free cash flow perspective?\",\n",
              " 'Larry Culp',\n",
              " \"I think we're at a place, where we're sharing with you today everything that we know, everything we can commit to. And again, we'll be back with more detail particularly with respect to Power and cash soon. But we're just, we're not in a position where we're able to do that. But clearly, again, hopefully the color around the $2.7 billion that we burned last year is helpful. With respect to framing the magnitude of the task and the challenge, when we understand and are serious about addressing.\",\n",
              " 'Joe Ritchie',\n",
              " 'Getting the disclosure on the $2.7 billion definitely helpful and will hopefully get some more color on the path in the near term. But I guess, if I can maybe focus then on just the onetime issues that occurred in the second half of 2018. Specifically, around the blade issue. Is it fair to say that those issues are at least behind you? And how should we think about what the call it roughly, it sounds like it was like roughly $700 million or so in quantifiable charges there. What does that relate to? Does that relate to all orders that you received so far in each turbine. Just any color on that would be helpful?',\n",
              " 'Larry Culp',\n",
              " \"Yes. Well the -- when we talk about the cost for the blade issue, it's really a function of going out and effectively replacing these blades sooner than we were anticipating, right? Because the useful life is effectively shorter than we had anticipated unfortunately. But we think we understand that. That work is under way with respect to the installed base. And again, I think it's regrettable. I think our customers when you talk to them understand, what's happened how we're going about remediating the issue in the field and I'd like to think that that is not something, we're going to continue to site with respect to the margin pressure in the business here in '19.\",\n",
              " 'Jamie Miller',\n",
              " 'Yeah. And just walking back from third quarter and maybe updating today. So third quarter, we had $240 million of warranty and other accruals related to the stage one blade. We also mentioned that that we expected to experience a similar amount of that over time as the worked outperformed in our services book. So part of what I mentioned earlier on those charges includes that stage one blade issue started to come through the services updates.',\n",
              " 'Larry Culp',\n",
              " 'But there are host of elements of that',\n",
              " 'Jamie Miller',\n",
              " 'Absolutely.',\n",
              " 'Larry Culp',\n",
              " 'That update not just the very.',\n",
              " 'Jamie Miller',\n",
              " \"Yeah. It's a very small issue in the quarter. But it's just part of that that bleed off as we do the work.\",\n",
              " 'Larry Culp',\n",
              " 'Thanks, Joe.',\n",
              " 'And our final question from Cowen and Company, we have Gautam Khanna. Please go ahead.',\n",
              " 'Gautam Khanna',\n",
              " 'Yes. Thank you. Good morning, guys.',\n",
              " 'Larry Culp',\n",
              " 'Good morning.',\n",
              " 'Gautam Khanna',\n",
              " \"Two questions. First, I was wondering, if you have any changes being contemplated to the incentive comp triggers for senior management as we approach the whole proxy time frame? Any changes to the PSU triggers that you're thinking about now?\",\n",
              " 'Larry Culp',\n",
              " 'Nothing that we can reference this morning.',\n",
              " 'Gautam Khanna',\n",
              " 'Okay. And I was wondering, if you could talk about when you expect pricing to bottom and the transactional Power aftermarket? Or if it has already in your opinion? And how will that pricing now compares to maybe where it was a year ago?',\n",
              " 'Jamie Miller',\n",
              " \"I think that's a question that depends on geography and it depends on the scope and the kinds of work, we're really looking to do with our customers. Over the last year, as we've talked about before as Scott has come in. He has really refocused our transactional group, to focus more on in some cases less scope but higher margin work as we do it. You know, it's a competitive market but even having said that that as we have our orders come in, we're seeing order CM or margin rate up in some cases 10, 12, 15 points on our order book and it's been consistently increasing throughout the year.\",\n",
              " \"Now as Larry mentioned earlier on the call, we're not yet seeing all of that drop through primarily because of field execution issues and operational issues. But these are things that we believe are fixable. And over time as we really seek to increase our share in that book, it really capture the kind of work that we want to capture the higher margin work, the operational execution piece of that we think should flow through. But with the respect to the margin pressure generally, I should say pricing pressure, these are very competitive markets that have a lot of capacity. So I think that dynamic will continue as we go through the next couple of years and until the market levels out and until we see the capacity leveling out as well.\",\n",
              " 'Steve Winoker',\n",
              " \"I know, we ran out of time before we could get to everyone in the queue. So you can reach me and my team through the day. But I want to thank everybody for joining us. The replay of today's call will be available this afternoon on our Investor website. Thank you.\",\n",
              " 'Operator',\n",
              " \"Thank you. Ladies and gentlemen, this concludes today's conference. Thank you for joining. You may now disconnect.\"]"
            ]
          },
          "metadata": {
            "tags": []
          },
          "execution_count": 27
        }
      ]
    },
    {
      "metadata": {
        "id": "JiuzU3wS9TSh",
        "colab_type": "code",
        "colab": {}
      },
      "cell_type": "code",
      "source": [
        "newlines = JsonLines[32:]"
      ],
      "execution_count": 0,
      "outputs": []
    },
    {
      "metadata": {
        "id": "TzjDERk4TZUh",
        "colab_type": "code",
        "colab": {}
      },
      "cell_type": "code",
      "source": [
        "# d = dict((key, value) for (key, value) in JsonLines)"
      ],
      "execution_count": 0,
      "outputs": []
    },
    {
      "metadata": {
        "id": "lvZXGOecSciu",
        "colab_type": "code",
        "colab": {
          "base_uri": "https://localhost:8080/",
          "height": 34
        },
        "outputId": "2485ddab-11f7-43aa-a1da-4c9ceb16abd3"
      },
      "cell_type": "code",
      "source": [
        "len(newlines)"
      ],
      "execution_count": 29,
      "outputs": [
        {
          "output_type": "execute_result",
          "data": {
            "text/plain": [
              "272"
            ]
          },
          "metadata": {
            "tags": []
          },
          "execution_count": 29
        }
      ]
    },
    {
      "metadata": {
        "id": "EZyXni5WUGqI",
        "colab_type": "code",
        "colab": {}
      },
      "cell_type": "code",
      "source": [
        "nos = list(range(1,len(newlines)+1))"
      ],
      "execution_count": 0,
      "outputs": []
    },
    {
      "metadata": {
        "id": "PA-L3neTUeCA",
        "colab_type": "code",
        "outputId": "b5b86e13-0df1-41e9-cf0f-efce6aa8df2d",
        "colab": {
          "base_uri": "https://localhost:8080/",
          "height": 4641
        }
      },
      "cell_type": "code",
      "source": [
        "nos"
      ],
      "execution_count": 33,
      "outputs": [
        {
          "output_type": "execute_result",
          "data": {
            "text/plain": [
              "[1,\n",
              " 2,\n",
              " 3,\n",
              " 4,\n",
              " 5,\n",
              " 6,\n",
              " 7,\n",
              " 8,\n",
              " 9,\n",
              " 10,\n",
              " 11,\n",
              " 12,\n",
              " 13,\n",
              " 14,\n",
              " 15,\n",
              " 16,\n",
              " 17,\n",
              " 18,\n",
              " 19,\n",
              " 20,\n",
              " 21,\n",
              " 22,\n",
              " 23,\n",
              " 24,\n",
              " 25,\n",
              " 26,\n",
              " 27,\n",
              " 28,\n",
              " 29,\n",
              " 30,\n",
              " 31,\n",
              " 32,\n",
              " 33,\n",
              " 34,\n",
              " 35,\n",
              " 36,\n",
              " 37,\n",
              " 38,\n",
              " 39,\n",
              " 40,\n",
              " 41,\n",
              " 42,\n",
              " 43,\n",
              " 44,\n",
              " 45,\n",
              " 46,\n",
              " 47,\n",
              " 48,\n",
              " 49,\n",
              " 50,\n",
              " 51,\n",
              " 52,\n",
              " 53,\n",
              " 54,\n",
              " 55,\n",
              " 56,\n",
              " 57,\n",
              " 58,\n",
              " 59,\n",
              " 60,\n",
              " 61,\n",
              " 62,\n",
              " 63,\n",
              " 64,\n",
              " 65,\n",
              " 66,\n",
              " 67,\n",
              " 68,\n",
              " 69,\n",
              " 70,\n",
              " 71,\n",
              " 72,\n",
              " 73,\n",
              " 74,\n",
              " 75,\n",
              " 76,\n",
              " 77,\n",
              " 78,\n",
              " 79,\n",
              " 80,\n",
              " 81,\n",
              " 82,\n",
              " 83,\n",
              " 84,\n",
              " 85,\n",
              " 86,\n",
              " 87,\n",
              " 88,\n",
              " 89,\n",
              " 90,\n",
              " 91,\n",
              " 92,\n",
              " 93,\n",
              " 94,\n",
              " 95,\n",
              " 96,\n",
              " 97,\n",
              " 98,\n",
              " 99,\n",
              " 100,\n",
              " 101,\n",
              " 102,\n",
              " 103,\n",
              " 104,\n",
              " 105,\n",
              " 106,\n",
              " 107,\n",
              " 108,\n",
              " 109,\n",
              " 110,\n",
              " 111,\n",
              " 112,\n",
              " 113,\n",
              " 114,\n",
              " 115,\n",
              " 116,\n",
              " 117,\n",
              " 118,\n",
              " 119,\n",
              " 120,\n",
              " 121,\n",
              " 122,\n",
              " 123,\n",
              " 124,\n",
              " 125,\n",
              " 126,\n",
              " 127,\n",
              " 128,\n",
              " 129,\n",
              " 130,\n",
              " 131,\n",
              " 132,\n",
              " 133,\n",
              " 134,\n",
              " 135,\n",
              " 136,\n",
              " 137,\n",
              " 138,\n",
              " 139,\n",
              " 140,\n",
              " 141,\n",
              " 142,\n",
              " 143,\n",
              " 144,\n",
              " 145,\n",
              " 146,\n",
              " 147,\n",
              " 148,\n",
              " 149,\n",
              " 150,\n",
              " 151,\n",
              " 152,\n",
              " 153,\n",
              " 154,\n",
              " 155,\n",
              " 156,\n",
              " 157,\n",
              " 158,\n",
              " 159,\n",
              " 160,\n",
              " 161,\n",
              " 162,\n",
              " 163,\n",
              " 164,\n",
              " 165,\n",
              " 166,\n",
              " 167,\n",
              " 168,\n",
              " 169,\n",
              " 170,\n",
              " 171,\n",
              " 172,\n",
              " 173,\n",
              " 174,\n",
              " 175,\n",
              " 176,\n",
              " 177,\n",
              " 178,\n",
              " 179,\n",
              " 180,\n",
              " 181,\n",
              " 182,\n",
              " 183,\n",
              " 184,\n",
              " 185,\n",
              " 186,\n",
              " 187,\n",
              " 188,\n",
              " 189,\n",
              " 190,\n",
              " 191,\n",
              " 192,\n",
              " 193,\n",
              " 194,\n",
              " 195,\n",
              " 196,\n",
              " 197,\n",
              " 198,\n",
              " 199,\n",
              " 200,\n",
              " 201,\n",
              " 202,\n",
              " 203,\n",
              " 204,\n",
              " 205,\n",
              " 206,\n",
              " 207,\n",
              " 208,\n",
              " 209,\n",
              " 210,\n",
              " 211,\n",
              " 212,\n",
              " 213,\n",
              " 214,\n",
              " 215,\n",
              " 216,\n",
              " 217,\n",
              " 218,\n",
              " 219,\n",
              " 220,\n",
              " 221,\n",
              " 222,\n",
              " 223,\n",
              " 224,\n",
              " 225,\n",
              " 226,\n",
              " 227,\n",
              " 228,\n",
              " 229,\n",
              " 230,\n",
              " 231,\n",
              " 232,\n",
              " 233,\n",
              " 234,\n",
              " 235,\n",
              " 236,\n",
              " 237,\n",
              " 238,\n",
              " 239,\n",
              " 240,\n",
              " 241,\n",
              " 242,\n",
              " 243,\n",
              " 244,\n",
              " 245,\n",
              " 246,\n",
              " 247,\n",
              " 248,\n",
              " 249,\n",
              " 250,\n",
              " 251,\n",
              " 252,\n",
              " 253,\n",
              " 254,\n",
              " 255,\n",
              " 256,\n",
              " 257,\n",
              " 258,\n",
              " 259,\n",
              " 260,\n",
              " 261,\n",
              " 262,\n",
              " 263,\n",
              " 264,\n",
              " 265,\n",
              " 266,\n",
              " 267,\n",
              " 268,\n",
              " 269,\n",
              " 270,\n",
              " 271,\n",
              " 272]"
            ]
          },
          "metadata": {
            "tags": []
          },
          "execution_count": 33
        }
      ]
    },
    {
      "metadata": {
        "id": "lxoWO5aoUecY",
        "colab_type": "code",
        "colab": {}
      },
      "cell_type": "code",
      "source": [
        "## Create a dict from lists"
      ],
      "execution_count": 0,
      "outputs": []
    },
    {
      "metadata": {
        "id": "UuBJeJ2AUhHZ",
        "colab_type": "code",
        "colab": {}
      },
      "cell_type": "code",
      "source": [
        "JsonDict = dict(zip(nos, newlines))"
      ],
      "execution_count": 0,
      "outputs": []
    },
    {
      "metadata": {
        "id": "3Sp0nfplUqT4",
        "colab_type": "code",
        "outputId": "f80a0d4d-0357-4699-9fc4-180479193f5f",
        "colab": {
          "base_uri": "https://localhost:8080/",
          "height": 4661
        }
      },
      "cell_type": "code",
      "source": [
        "JsonDict"
      ],
      "execution_count": 36,
      "outputs": [
        {
          "output_type": "execute_result",
          "data": {
            "text/plain": [
              "{1: \"Thank you, Steve. Good morning, everyone. And thank you for joining us. Our comments are going to be a bit longer than usual this morning to help you understand where we are and where we're going. But rest assured, we'll leave as much time as we can for questions at the end.\",\n",
              " 2: \"First, I'd like to start by welcoming Steve to the GE team. I've known him for over a decade. Steve's already had positive impact here at GE and I'm sure, he'll do the same for you, our investors going forward. I'm here today because I believe in GE. There is no company on earth with a scale of GE's global reach, brand, talent and long-term customer relationships. We have leading technology in key infrastructure markets with high barriers to entry and strong aftermarket streams. We're poised to capture recurring revenues on a global installed base of almost 70,000 engines more than 70 -- 7,000 gas turbines and aero-derivatives, more than 40,000 onshore wind turbines and more than 4 million Healthcare Systems. In short, GE matters. We've identified clear opportunities to improve our performance and we are working to address them at root cause.\",\n",
              " 3: \"We have the right portfolio of strategy and I'm confident the company is capable of gaining profitable share and creating long-term value for our shareholders. So let me cover where we stand on providing an outlook. Then I'll address some of the company changes followed by updates on our results, the balance sheet, capital and power. Jamie will take you through more details on the quarter and then I'll wrap with some metrics and comments to help you frame the outlook for 2019 before Q&A.\",\n",
              " 4: \"Let's start with the outlook because investors want to know how we expect to perform financially and you should expect to come from a place of reality. Simply put the how much is important but the how is far more fundamental. We have a good line of sight in most of our businesses today including Aviation and Healthcare.\",\n",
              " 5: \"For the industrial portfolio in total, we will provide you with our outlook for organic growth and we'll do so directionally on operating margins and free cash flow. We will give you a more detailed outlook in the near term but not today. For Power, we are resetting the baseline. We are reviewing every single project and contract and digging deeper to understand costs and benefits with respect to restructuring, market and commercial execution, improvement opportunities, legacy project issues and our service operations. We're gaining more meaningful insights into the paths for near and long-term earnings and cash potential of this business. This work takes time especially with the new structure and leadership team.\",\n",
              " 6: \"In the spirit of providing you with all the information we have as soon as we have it, I'll speak to what I have found over the last 120 days. We were executing against the key priorities we laid out in June and again in October. Simply put deleveraging the balance sheet and strengthening our businesses starting with Power. Remember beyond Power, it's important to recognize the underlying strengths in our businesses where the story is about enhancing our competitive advantage and delivering for customers and shareholders.\",\n",
              " 7: \"With respect to delevering, we've taken the following actions: We've reduced the quarterly dividend retaining $4 billion per year; accelerated the sale of a portion of our BHGE ownership stake raising $3.7 billion; and changed the structure of our transaction with Wabtec enabling us to retain an incremental $2 billion stake. We're demonstrating our seriousness and the flexibility with respect to our decisions to recut the BHGE and Wabtec deals in particular. We closed Distributed Power for $2.8 billion of net cash in the quarter.\",\n",
              " 8: \"For the year, we signed or completed substantially all of our $20 billion industrial asset sale plan, which had targeted roughly $10 billion in proceeds. We also announced the sale of ServiceMax in the fourth quarter. We completed $8 billion of capital asset sales and other actions in the quarter bringing our total for the year to $15 billion, which were executed at book value or better. We're more than halfway through the total of $25 billion capital asset sale program, which we expect to complete this year.\",\n",
              " 9: \"Today, we have announced that we've reached an agreement in principle with the United States Department of Justice to settle the FIRREA investigation of WMC. GE will pay the United States a civil penalty of $1.5 billion consistent with our reserve recorded for this matter in the first quarter of last year. We've taken the following actions to strengthen our businesses.\",\n",
              " 10: \"In 2018, our corporate headquarters cost was $1.2 billion down $400 million from $1.6 billion in 2017. We have begun transferring a significant portion of headcount and activities that were previously managed at corporate to the segments or to third parties with over 6,500 full-time employees transferred to-date. We're confident that as we move more activity and headcount closer to those that are directly accountable, we will see additional savings.\",\n",
              " 11: \"Good examples include the recently announced agreement with Genpact around our global operations activities and the delayering and reorganization of our Global Growth Organization. Our changes in Power followed a similar approach. We have $1.6 billion of cost at Power headquarters and expect to produce that amount by $300 million for headquarter's overhead functions. And as we distribute the remaining cost to the business units, we expect that they will find additional savings over time.\",\n",
              " 12: \"We announced this week that we will be delayering the headquarter levels at Renewable Energy. And yesterday announced that we are bringing GE's grid, solar and storage assets into that business creating an end-to-end offering from renewables customers as the demand for renewable power generation and grid integration continues to grow globally. We're strengthening our senior team. We've brought in fresh eyes that are already having an impact.\",\n",
              " 13: \"We're combining new perspectives from strong external talent, proven GE leaders with domain expertise and entrepreneurial spirit, next-gen thinkers as well as leaders with deep customer relationships. From a governance perspective, Paula Reynolds joined our Board of Directors bringing extensive experience in both the Energy and Insurance industries. The majority of our Directors now are new since 2017 and I'm finding the Board deeply engaged in all matters of our business\",\n",
              " 14: \"Our audit committee also announced that they will move forward with the tender process for the appointment of GE's independent audit firm. And finally, we announced our plan to combine the digital businesses into an independently operated IoT Software business with employee equity a separate Board and the ability to raise capital and operate like a start-up. We're on the precipice of something great. We're getting a 100 years of domain and hardware expertise and growing out of our digital DNA over the last several decades.\",\n",
              " 15: 'As my friend, Jim Collins of \"good-to-great\" fame might say, it\\'s a start. But we have much more work to do. So let me now share with you, how I\\'ve talked with our team about how we will do it. Number one, is managing first and foremost for operational performance. Preparing for the earnings call, my first month on the job showed me that we often start with corporate and bring in the business leaders including the CEO later. We turned that around this quarter holding operating reviews first and then preparing for this call. Those reviews were tightly focused on the how we can do and how do we get better, more so than how do we explain what just happened. Let me give you an example.',\n",
              " 16: 'Previous P&L reviews focused on revenue, contribution margin and base cost and then, of course, operating profit. The same high-level framing I saw on the Board room. No more. We now get into much more operating detail, volume, price, mix, material and labor productivity overhead and operating expenses like R&D sales and marketing and G&A, all of which are critical to understanding and then improving the business.',\n",
              " 17: \"The second is a focus on putting our customer at the center of all we do. Over the past few months, I've spent time with our customers in China, the Middle East, Europe and here in the US. I've learned that what they value is not always aligned with how we measure our own performance.\",\n",
              " 18: \"Take quality. When I ask about quality internally, I often hear about our cost of quality, which measures our issues rather than how the customer experiences us. We're shifting our perspectives so that we understand and measure ourselves the way customers do and work backwards from there. The third area is having fewer and more impactful priorities. GE has ambition like no other company I've ever seen and that's mostly a good thing but we need to focus our attention to more of the things that matter most, so we can move them the furthest.\",\n",
              " 19: \"At a company level, we've committed to the two priorities I mentioned earlier: Deleveraging the balance sheet and strengthening the businesses starting with Power. I'd now like to address some of the areas of importance that are high on my priority list. First, our high-level financial results. We ended the year with adjusted EPS of $0.65. GAAP EPS of negative $2.43 and industrial free cash flow of $4.5 billion. Our backlog stands at $391 billion up 5% year-on-year with equipment at $89 billion up 4%; and service at $302 billion up 5%.\",\n",
              " 20: 'For the fourth quarter, our industrial free cash flow was $4.9 billion. While cash flow was negatively impacted by the weakness in Power, we were encouraged by the strong cash generation in the other businesses. We delivered adjusted EPS of $0.17 and GAAP EPS of $0.08. Jamie will take you through all this in more detail in a moment.',\n",
              " 21: \"Next to the balance sheet. As I've stated already, we are reducing our debt levels both at Industrial and GE Capital. We know full well that our shareholders own all debt obligations across GE but these are two distinct sets of businesses with different financing needs and different capital structures and therefore we analyze their leverage separately. In industrial, we are targeting a net debt-to-EBITDA ratio of less than 2.5x over the next few years.\",\n",
              " 22: 'Our Healthcare, transportation and BHGE separations can provide sources of roughly $50 billion toward that goal. Our Healthcare team continues to prepare for public company separation and that is progressing very well. We expect to monetize up to just under 50% of our Healthcare business. I talked earlier to the GE Transportation merger with Wabtec and the amended terms to increase our cash proceeds and we will sell down our remaining 50% ownership in BHGE in an orderly manner over time building on the actions, we took in November.',\n",
              " 23: \"Overall our liquidity position remains strong with $16.8 billion of industrial cash and funding lines of $40 billion. Now on capital, we are targeting a debt-to-equity ratio of less than 4x by 2020. In 2018, we paid down capital's external debt balance by $21 billion and we executed $15 billion in asset sales at book more than half of our $25 billion asset disposition program. Capital ended the year with a $124 billion of assets including $15 billion of liquidity in line with our goal to materially shrink this business.\",\n",
              " 24: \"To be clear, we have no plans to sell GECAS. We expect to contribute approximately $4 billion of parent support in 2019. We've listened to you on the insurance front and we're preparing increased disclosures in line with peers, which will be available with our 10-K release. Jamie will cover some of that detail shortly. And then finally on Power. Let me share with you the root causes of our underperformance as I see them today and the actions we're taking to address each one.\",\n",
              " 25: 'First as I said, last quarter we were late to embrace the realities of the secular and cyclical pressures in the business. Recent data suggests that the market for new generating capacity is settling in to the 25 to 30 gigawatts range for the foreseeable future. We continue to believe gas will play an important role in global electrification but we have to resize our cost structure, our capital expenses and our supply chains to this new reality now.',\n",
              " 26: \"As a result last year, we reduced headcount by 10,000 or 15% in the business, consolidated our footprint by 30% and took out $900 million of base cost exiting at a $1 billion lower run rate. Embracing market reality means a more appropriate revenue outlook, one that is further grounded in the reality of our $92 billion backlog rather than in the hope of new orders not yet won. Second Power faces a number of nonoperational headwinds and we expect a high water mark in this regard this year. These include legal settlements and legacy project erosion principally driven by the Alstom acquisition. There's also the runoff of the effects of past long-term receivables factoring and other programs.\",\n",
              " 27: 'Over the next few years, these effects should come down substantially. Third, we need to execute better. Running Power better means improved daily management in how we sell make and service our products. Let me give you a few examples. We had separate teams of managers commissioning new plants owning a warranty period and overseeing the services contracts after the warranty.',\n",
              " 28: 'Now, we present one face to the customer, who is accountable for the best long-term economic answer both for the customer and GE. We put the sales organization under one leader with deep domain expertise and are coordinating better on contract negotiations. We now have more experienced people, owning negotiations and responsible for project cost. We performed risk assessments of our existing 400 equipment contracts to identify cost and execution risks. We also performed a similar assessment on the 750 CSA contracts to identify price and utilization risk.',\n",
              " 29: \"We have overhauled our commercial underwriting processes to set more realistic commitments and returns from the start. This is hard work but I'm encouraged by the Power's team's dedication to proactively address these issues at their root cause. Fixing Power will take time and in turn will take time for the changes, we're making to our daily operations to be reflected in our financial results but we are improving and I'm confident that those changes will come.\",\n",
              " 30: \"As I've met with customers around the world, I'm really been struck by their sentiment. They're rooting for us. They want us to succeed and they want to know how they can help. So in summary, we're taking action, taking action on the priorities we laid out to you, deleveraging our balance sheet and strengthening our businesses starting with Power.\",\n",
              " 31: 'Jamie will now take you through the detailed financial results.',\n",
              " 32: 'Jamie Miller',\n",
              " 33: \"Thanks. Larry. I'll start with the fourth quarter summary. Orders were $34.1 billion down 1% reported and up 4% organically with particular strength in equipment orders up 7% organically driven by aviation commercial engines and renewables. The services orders were up 1% organically. Revenues were up 5%, industrial segment revenues were up 2% reported and 8% organically driven by renewables Aviation Oil & Gas Healthcare and Transportation.\",\n",
              " 34: 'Equipment revenues grew 10% and services were up 6% organically. Industrial profit margins were 7.5% in the quarter down 150 basis points year-over-year on a reported and organic basis driven by significant declines in Power and Renewables. For the year, margins were down 80 basis points organically. Industrial profit was down 16% in the quarter with Aviation, Healthcare and Baker Hughes GE all delivering strong profit growth offset mostly by Power. Specifically Aviation had another outstanding quarter and year expanding total year margins while shipping over 1,100 LEAP engines. Net earnings per share was $0.07, which includes losses from discontinued operations related to GE Capital. GAAP continuing EPS was $0.08 and adjusted EPS was $0.17.',\n",
              " 35: \"I'll walk the GAAP continuing EPS to adjusted EPS on the right side of the page. Starting from GAAP. Continuing EPS was $0.08 and we had $0.06 of gains principally from the sale of Distributed Power. As you will recall in the third quarter, we booked the $22 billion impairment charge related to Power goodwill based on our best estimate at that time. And during the fourth quarter, we finalized our analysis and booked an incremental $69 million charge for Power following the third quarter charge. We also recorded a goodwill impairment charge of $94 million in renewables at our Hydro business. Combined these charges were $0.02 impact. On restructuring and other items, we incurred $0.07 of charges principally at Corporate and Power as we continue to resize those segments in line with our stated plan including $0.02 of charges related to business development transaction expenses and $0.01 for our share of Baker Hughes GE's restructuring.\",\n",
              " 36: 'Lastly, we realized a $0.01 negative impact from US tax reform as we updated our estimate of the transition tax and other aspects of the enactment of the new law. Our current accrual reflects the effects of tax reform enactment based on guidance issued through year-end. Excluding these items adjusted EPS was $0.17 in the quarter.',\n",
              " 37: 'Moving to cash, adjusted industrial free cash flow was $4.9 billion for the quarter, $1.9 billion lower than the prior year driven primarily by a lower progress collections. Income depreciation and amortization totaled $2.3 billion. Working capital was positive $2.3 billion for the quarter as we reduced over $1 billion of inventory on a higher fourth quarter volume and grew progress collections by $500 million primarily in renewables from strong PTC-driven orders.',\n",
              " 38: 'Contract assets were a source of cash of $900 million as we saw higher services billings in aviation driven by higher fleet utilization and spare parts consumption from strong air traffic and we spent about $1 billion in gross CapEx or $600 million ex-Baker Hughes GE. For the year, we generated $4.5 billion of adjusted industrial free cash flow and we ended the year with higher volume in the fourth quarter as is typical for our businesses. And to provide you with more detail, Power used $2.7 billion in free cash flow for the year due to a combination of restructuring costs, nonoperational headwinds as well as execution and market issues.',\n",
              " 39: \"Next, I'll cover liquidity. On the left side of the page, you can see the walk of the GE cash balance. We ended the fourth quarter with $16.8 billion of industrial cash in the bank excluding Baker Hughes GE. And for the total year, we had industrial free cash flow of $4.5 billion. We paid dividends of $4.2 billion and as of the first quarter of 2019, you'll recall that the dividend is decreasing to $0.01 per share per quarter, which will preserve about $4 billion of cash in 2019. We generated cash proceeds of $5.9 billion net of taxes related to our industrial disposition principally Industrial Solutions, Value-Based Care and Dis Power. And together with Wabtec that gets to the more than $10 billion we had talked about previously.\",\n",
              " 40: 'Earlier in the year, we assumed $6 billion of debt from GE Capital to fund the principal pension plan, which was completed in the third quarter. Alstom and GE exercised their JV redemption rights and call options, which we settled for $3.1 billion in the fourth quarter. These entities operate at a loss. So the consolidation of 100% of the financials negatively impacted fourth quarter and will be an income headwind for us of about $300 million in 2019. We also completed a secondary offering for approximately 100 million Baker Hughes GE shares as well as a direct stock buyback with Baker Hughes GE for 65 million shares bringing our ownership stake to 50.4% in the fourth quarter.',\n",
              " 41: \"These actions combined with other Baker Hughes GE buybacks during the year totaled $4.4 billion in cash proceeds. The $2.5 billion of other cash includes a number of items including about $900 million of investments in our Aviation business primarily from the first half of the year; $900 million of short data derivative hedge settlements that we used to mitigate risks across the portfolio; and $400 million of FX translation on our non-US dollar-denominated cash. Running with a higher cash balance will help us address inter-quarter funding needs. In line with our goal to reduce reliance on short-term funding, peak short-term funding needs declined from $19.7 billion in the fourth quarter of '17 to $14.8 billion in the fourth quarter of '18. These were funded with commercial paper and some utilization of our credit facilities.\",\n",
              " 42: \"As we execute dispositions in 2019, we expect our intra-quarter funding needs to continue to decline and would expect to use a mix of commercial paper, credit facilities and excess cash at GE Capital to efficiently fund these needs. At the end of the year, commercial paper outstanding was $3 billion and we had access to $40 billion of committed revolving credit facilities with zero drawn. These lines are available to draw at any time and they don't have financial covenants ratings triggers or material adverse change clauses. As you know, our credit rating was downgraded from A to BBB+ with a stable outlook in early fourth quarter.\",\n",
              " 43: 'This impact has been manageable with less than $15 million of collateral postings and a smooth transition to a Tier two commercial paper program. We continue to target a sustainable rating in the single A range.',\n",
              " 44: \"Now, I'll take you through financial policy and leverage. We remain committed to our financial policy of a target single A rating a leverage level of less than 2.5x net debt-to-EBITDA and ultimately a dividend level in line with our peers. Deleveraging both GE and GE Capital is a priority and we have significant sources to achieve our goals.\",\n",
              " 45: \"As Larry mentioned, we view these businesses differently with different balance sheets and capital structure needs and therefore we analyze their leverage separately. Our goal is leverage for the GE industrial businesses of less than 2.5x net debt-to-EBITDA. We plan to make significant progress toward this goal by the end of 2020 and as a reminder when we speak about net debt, we're talking about debt adjusted for pensions, operating leases and a portion of preferred stock and cash. Measured on this basis, GE Industrial net debt at the end of 2018 was $55 billion. As we look out over the next couple of years, we expect to have roughly $50 billion of industrial sources that can be used to delever and derisk the company.\",\n",
              " 46: 'These sources include $18 billion of debt and pension transfer to Healthcare and more than $30 billion of cash proceeds from the monetization of up to just under 50% of Healthcare, 100% of our remaining stake in Baker Hughes GE and our stake in transportation. These sources will be used in part to reduce GE net debt by more than $30 billion including repaying a significant part of the $14 billion of debt transferred from GE Capital and reducing commercial paper. The parent also plans to contribute $4 billion to GE Capital in 2019 to maintain adequate capital levels there.',\n",
              " 47: 'At GE Capital, we have a plan to reduce our debt to equity ratio to less than 4x by the end of 2020. GE Capital began the quarter with $70 billion of debt and ended with $66 billion while our total assets measure $124 billion. For the year, we made significant progress at GE Capital paying down $21 billion of external debt, taking down leverage by 1.4 turns including reducing commercial paper from $5 billion to zero.',\n",
              " 48: \"GE Capital ended 2018 with $15 billion of liquidity. Over the next two years, we expect to generate additional sources of cash from asset sales, including $10 billion in 2019 from completing our GE Capital $25 billion asset reduction plan. We'll have cash from the pay down of most of the debt transferred to GE and capital support from GE. We have reached an agreement in principle on WMC that we expect to conclude expeditiously. And in 2019 and 2020, GE Capital will pay down $25 billion of scheduled debt maturities and continue to contribute about $2 billion per year of capital to our insurance businesses as previously disclosed. We now don't expect to issue new debt until 2021.\",\n",
              " 49: 'We are planning approximately $4 billion of capital contributions to GE Capital in 2019. This includes $1.5 billion for the WMC agreement in principal announced today and ensuring we have adequate risk-based capital levels for our current portfolio. Going forward, we anticipate funding any insurance capital requirements or strategic options through a combination of GE Capital earnings, asset sales, liquidity and GE parent support. While we have more work to do, we continue to make progress in strengthening the balance sheet.',\n",
              " 50: \"Next on Power. Orders were down 19% in the quarter. Gas Power Systems orders were down 26%. For the year, Gas Power Systems orders were down 40%. We ended the year with a $9 billion backlog, which was down 8% year-over-year. This is consistent with our outlook for a 25 to 30 gigawatt market for the foreseeable future. Power Services orders were down 20%. Steam orders were up 61% and grid orders were down 13% for the year. Power revenue was down 25%. Gas Power Systems revenues were down 21%. Power Services revenue was also down 21%. During the quarter, we took $400 million of charges related to our CSA contracts, which impacts revenue. Excluding these charges Power Services revenue was down 11%. Steam revenue was down 30% on lower America's and Europe volume and grid was flat.\",\n",
              " 51: 'Moving to profit. The segment loss $872 million in the fourth quarter. We performed our normal CSA reviews and while total utilization on the book is flat, we have seen lower utilization on some of our units in some geographies and some pricing pressure in contracts relative to ongoing market dynamics and we updated our assumptions to reflect a revised outlook in these areas.',\n",
              " 52: 'In addition, we had our normal cost standard updates, which included updates to our cost standards including the impact of the stage-one blade issue as expected. This resulted in the $400 million of charges that I previously mentioned. In addition, we also incurred about $350 million of costs related to Gas Power Systems projects. Similar to the third quarter, we continue to experience project execution issues resulting in liquidated damages as well as partner execution issues. Grid profit was down year-over-year impacted negatively by the buyout of the Alstom share of the JV.',\n",
              " 53: \"These items had a significant impact on Power's results and overall, we see the heavy duty gas turbine market is flat over the next few years and see significant opportunity to improve our own execution. Next on Aviation, which had another great quarter. Orders of $8.8 billion were up 12%. Equipment orders grew 20%, driven by continued strong momentum of the LEAP engine program up 56% versus prior year. Military engine orders were up 69% driven by the F414 and service orders grew 7%. Revenues of $8.5 billion grew 21%. Equipment revenues were up 13% on higher commercial engine partially offset by lower military volume.\",\n",
              " 54: \"Specifically, we shipped 379 LEAP engines this quarter up 177 units year-over-year. And in total, we shipped 1,118 LEAP engines for the year. We're still behind on deliveries by about four weeks but the business expects to be back on schedule by mid-2019. Services revenue grew 26% with spares rate up 10% driven by higher fleet utilization and spare parts consumption from strong air traffic. Segment profit of $1.7 billion was up 24% on higher volumes, improved price and operating productivity and compared to the fourth quarter of last year, we shipped almost 90% more LEAP engines.\",\n",
              " 55: \"Despite the negative mix from higher LEAP shipments operating profit margins of 20.4% expanded 60 basis points in the quarter and 130 basis points for the year. The LEAP engine continues to perform very well with a 58% win rate on the A320neo family and 81% win rate in the narrow-body segment when you add in Boeing 737 MAX and Comac C919. Utilization rates are over 95%. We continue to improve the cost position of the LEAP and over the last two years, we've taken out more than 40% of the cost of the engine and are ahead on the learning curve initially laid out for the program. The overall program will break even around 2021.\",\n",
              " 56: \"Now, I'll provide some additional transparency on the engine transition in the narrow-body market. The mixing from CFM56 to LEAP resulted in a margin drag of approximately 160 basis points in 2018 and 130 basis points in the quarter. The business is successfully offsetting this margin pressure through continued growth in aftermarket services, military and changing the mix of company-funded R&D spend. In summary, another strong year for David and the aviation team. In renewables, renewables orders were up 19% versus prior year driven by onshore equipment up 9% and services up 32% on strong repower units.\",\n",
              " 57: 'We shipped 44% more megawatts and onshore wind and saw strong orders bookings 3 gigawatts in the fourth quarter and 8.6 gigawatts for the year and we gained share. Revenues of $3.4 billion were up 28% mainly driven by onshore wind up 34% on both higher new unit shipments and repowering volume. Segment margin of 2% was down 330 basis points for the quarter and profit of $67 million was down 51% mainly driven by negative price, liquidated damages for execution delays on a handful of complicated projects including some legacy Alstom projects and higher losses in hydro and offshore as we began fully consolidating these entities in the fourth quarter.',\n",
              " 58: \"The consolidation presented a headwind of about 220 basis points. Recall that we had to book loss reserves at the time of the Alstom deal and we continue to burn through the negative cash flow impact of those projects. The business has seen favorable cash tailwinds from the PTC cycle, pricing is improving and we continue to see strong product cost reduction and while we're seeing some adverse impacts from tariffs, we're working to mitigate them with pricing and supply chain actions.\",\n",
              " 59: 'For Healthcare, orders of $5.8 billion were up 2% organically. On a product line basis, Life Sciences orders were up 13% organically with bioprocess up 20%. Healthcare Systems orders were down 1% organically, which was about what we expected as we were comping a very strong fourth quarter in 2017.',\n",
              " 60: 'Revenue of $5.4 billion was up 6% organically. Healthcare Systems revenue grew 4% organically and Life Sciences was up 10%. Segment margin was 21.8% expanding 10 basis points reported and 110 basis points organically, which excluded costs incurred in preparation for a separation in 2019. Profit was $1.2 billion up 2% on a reported basis and 12% organically. Organic profit growth was driven by volume and cost productivity partially offset by inflation, price and higher program investment. As the Healthcare team continues to prepare for separation, they closed out a solid year.',\n",
              " 61: 'Moving to oil and gas. Baker Hughes GE released its financial results this morning and Lorenzo and Brian will hold their earnings call with investors today following ours. Next for Transportation and Lighting. Since we last spoke in October, we signed an agreement to sell Current to American Industrial Partners and the Justice Department has closed its review of the pending merger between GE Transportation and Wabtec.',\n",
              " 62: 'Last week, we also announced amended transaction terms to further support our deleveraging plan. GE will increase its stake in Wabtec from approximately 10% to approximately 25% resulting in increased cash proceeds of approximately $2.2 billion as we sell down our stake. We will still receive $2.9 billion in cash from Wabtec at closing and both transactions are expected to close in early 2019 subject to customary closing conditions.',\n",
              " 63: \"Finally, I'll cover GE Capital. Net loss from continuing operations was $86 million in the quarter, including a tax reform adjustment of negative $128 million. Adjusted continuing net income was $43 million. We completed our annual GAAP loss recognition testing in our runoff insurance portfolio, which resulted in an after-tax charge of about $65 million to increase reserves.\",\n",
              " 64: 'As part of the test, we unlocked our future policy benefit reserve and updated key assumptions related to the book. The two largest drivers being the changes to our assumptions and morbidity improvement of a negative $1.2 billion offset by discount rate impact of $1.9 billion. Recall that statutory testing not GAAP drives funding. We expect to conclude the statutory testing in mid-to-late February and consistent with our existing insurance funding plan, we continue to expect required statutory funding of approximately $2 billion in the first quarter of 2019. We are managing this runoff portfolio with new management and increased board expertise and focus.',\n",
              " 65: \"To provide additional information to further clarify our insurance obligations, we plan to include enhanced disclosures related to our insurance book in our 10-K, which will be released in mid-to-late February. We'll include a wide range of items from the profile of our book to morbidity and mortality assumptions to lapse rates, premium increases and related sensitivities.\",\n",
              " 66: \"With that I'll turn it back over to Larry.\",\n",
              " 67: 'Larry Culp',\n",
              " 68: \"Jamie, thank you. So hopefully, by now you have a better sense of what I'm seeing at GE after nearly four months, our strengths, our challenges and our strategy for moving forward. I'd like to give you all the information and views on 2019 that we have today with more to come soon. We expect industrial organic revenue growth to be up low to mid-single digits on the back of a significant ramp in renewables and continued strength in Aviation and Healthcare.\",\n",
              " 69: \"Power will be down in a flat to slightly down market in 2019. We also expect our industrial operating margins to expand. On free cash flow, we expect to face operating headwinds such as the PTC progress cycle reversing in renewables and we will spend more cash on restructuring at both Corporate and Power. In addition, we have a number of nonrecurring investments and commitments that create a drag on our free cash flow in 2019 but which will meaningfully lessen in 2020 and '21. These include transitioning to GE Capital supply chain financing program to MUFG and reducing factoring with GE Capital, Alstom pension contributions and legal settlements and the costs related to the preparation for our Healthcare business for our public separation.\",\n",
              " 70: 'We anticipate cash flow to grow substantially in 2020 and 2021 as we make significant headway in addressing legacy and structural issues while simultaneously realizing the benefits from restructuring and stronger daily management of our businesses particularly in Power. In aviation, we see 75% to 80% of the 2019 commercial engine revenues secured in the backlog, with a largely recurring service revenue stream of approximately $15 billion. We are maintaining margin levels consistent with pre-LEAP periods despite mix changes with a healthy new order book. With these in mind, we see high single-digit revenue growth and low single-digit profit growth.',\n",
              " 71: 'In Healthcare, we expect organic growth in margins in a similar range to last year. We see double-digit revenue growth in renewables. The business is coming through the PTC cycle and onshore wind, which contributed to strong cash performance in 2018, as a result of progress build. That progress cycle will begin reversing this year, as we transition to factory production and book revenue against those contracts. However, we see price declines moderating and within the level of our product cost reduction efforts going forward. This is our baseline today for 2019 as our plan continues to evolve. As we develop more conviction around the cash flow situation of Power, we will update you in the near term with respect to the outlook for the full year.',\n",
              " 72: \"So my message for 2019 is that the more stable businesses of Aviation and Healthcare are healthy and growing. Renewables is moving through the PTC cycle. We are working on Power and capital is shrinking. 2019 is still very much a work in progress but the company is becoming stronger. As I said earlier, the how much is important here, but the how is far more fundamental. How is about understanding and fixing problems at root cause. How is about process not for processes sake but to ensure the sustainability of our results to create enduring shareholder value. I'm proud of the momentum, I see across this company and the changes we're making to strengthen GE for the long run.\",\n",
              " 73: \"With that we'll open it up to your questions.\",\n",
              " 74: 'Question-and-Answer Session',\n",
              " 75: 'Operator',\n",
              " 76: '[Operator Instructions] And from Wolfe Research, we have Nigel Coe.',\n",
              " 77: 'Nigel Coe',\n",
              " 78: 'Thanks. Good morning.',\n",
              " 79: 'Larry Culp',\n",
              " 80: 'Good morning, Nigel.',\n",
              " 81: 'Nigel Coe',\n",
              " 82: \"Morning. Lots of questions. I mean, I'm sure a lot of my questions will be picked up by other analysts, but I just want to start on. It sounds like your plans on Healthcare now are pretty defined, Larry. It looks like you're looking to monetize 50% putting an $18 billion of pension debts, via an IPO-type process. Is that now defined or are there still some moving pieces on that process?\",\n",
              " 83: 'Larry Culp',\n",
              " 84: \"Well, I think we've talked about that separation as the plan of record and that continues to be the case today. The team is very well along Nigel with respect to the preparation for a flotation. We don't have a time frame per se to share with you today but we are spending a significant amount of money in '19 as we did last year in preparation. We're obviously proud of what Karyn and the team are doing here. Very strong top line earnings and cash performance and we think this is a business that is going to be a strong resilient performer through cycles. So that is the plan.\",\n",
              " 85: 'Nigel Coe',\n",
              " 86: \"Okay. And then my follow-on would be, you gave a lot of detail on what you've been doing for the last few months and lots of opportunities for improvement. One thing, you didn't really touch on was pricing and pricing excellence and your one precedent of GE in the past has been may be trading price for market share. So I'm just curious, what your thoughts are in terms of improving the pricing realization going forward?\",\n",
              " 87: 'Larry Culp',\n",
              " 88: \"Nigel, forgive us, if we didn't get into that in detail. We didn't want to overstay our welcome with respect to our prepared remarks. But when you hear us refer to profitable market share that is both an external and internal recognition. And it can't be share for share sake. And particularly in Power, I think we are acutely aware that we have opportunities both on new equipment and on the service book to basically value sell what we're doing more frequently. I got the word last night for example within Power of a project that is looking very good where we're frankly -- we are not the low bid, right? I think that just speaks to the way we're able to communicate the value of our technology. We know in these businesses from Healthcare to renewables price is a reality. We want to be smarter around pricing, at the same time, frankly when you hear us talk about labor and material productivity, we really want to push that hard and do that in line with market realities, so that we can maintain margins in light of some of those pressures.\",\n",
              " 89: 'Jamie Miller',\n",
              " 90: \"And Nigel, just to add a little bit more color there on the numbers. Orders pricing in total for the year was relatively flat. It was actually up just slightly and it was up more than that in the second half. And as Larry mentioned, we are seeing in the numbers the pressure moderating at Power and at renewables. Power really with respect to the enhanced discipline on new projects and bids as Larry talked about. In renewables, we're seeing that pressure moderate as we move throughout the year as well primarily as we're moving through that PTC cycle. The supply chains are more stretched and that price dynamic becomes a little bit more unbalanced. Aviation and Healthcare are running as you would expect, which is strongly as Larry mentioned.\",\n",
              " 91: 'Operator',\n",
              " 92: 'And from JPMorgan, we have Steve Tusa. Please go ahead.',\n",
              " 93: 'Steve Tusa',\n",
              " 94: \"Hey, good morning. So you mentioned on the free cash flow dynamics, you mentioned the PTC headwind, a bit more restructuring cash, some other I guess nonrecurring investments. Can you maybe give us some color on that? In addition, just provide some color on how much of a, I think Jamie said before about $1 billion of headwind or so from divestitures. So maybe just help us with a bit of a rough bridge from the $4.5 you did in 2018? Because obviously that sounds like it's going to be down.\",\n",
              " 95: 'Jamie Miller',\n",
              " 96: \"Yes. So why don't I talk through the components of 2018 first in terms of really walking you through the rounding out our fourth quarter performance and we can address some of those questions. So for 2018, if you really walk the changes, we obviously had earnings. We also had working capital, which for the year was basically zero impact of free cash flow. Fourth quarter was $2.3 billion positive. As we expected with large volumes coming through this quarter. Contract assets was basically flat.\",\n",
              " 97: 'Steve Tusa',\n",
              " 98: \"Hey, sorry. I can see the slide. I just wanted to know like $4.5 billion. Is that -- there's a lot of headwinds that Larry had talked about. I'm just curious as to maybe you can give us some color on the size of some of those headwinds? And obviously, it sounds like it will be down. Will you as an organization generate cash including GE Capital next year? I guess that's the simple way to ask the question.\",\n",
              " 99: 'Larry Culp',\n",
              " 100: \"Yeah, Steve. And I think the simple answer the question is, what we're trying to communicate today is that we are going to see pressures both operational and nonrecurring. We are going to be back shortly when we can take you through a detailed walk in that regard. I think from an operating perspective, is worth acknowledging a lot of good performance in the number of businesses.\",\n",
              " 101: \"Clearly renewables was stronger from a cash perspective in '18 and is likely to be in '19 given the PTC dynamic. And we are going to go deep here on additional restructuring where we see opportunities to put that money to work and generate real returns. We also have some of these nonrecurring events or issues. Some of them are policy decisions like the move on the supply chain financing program. I think we've got better line of sight today on some of these legacy issues that come out of Alstom that we're on the hook or those are real cash commitments in '19 that abate thereafter and we do have the cost relative in Healthcare IPO.\",\n",
              " 102: \"So again, I think the headline is, we finished strongly. We know we got some operating and non-operating pressures and think we work through that in '19 with an eye toward a stronger cash flow performance in '20 and '21 with more details to come soon.\",\n",
              " 103: 'Steve Tusa',\n",
              " 104: 'Great. And what do you expect GE cash to earn in 2019 and how much from an ongoing cash generation perspective, how much will they be generating?',\n",
              " 105: 'Larry Culp',\n",
              " 106: \"Steve, as I said in both my prepared remarks and a moment ago when we have everything locked down to get into those specifics then we'll do that soon. We'll be back to you.\",\n",
              " 107: 'Operator',\n",
              " 108: 'From Vertical Research we have Jeffrey Sprague',\n",
              " 109: 'Jeffrey Sprague',\n",
              " 110: 'Thank you. Good morning, everyone.',\n",
              " 111: 'Jamie Miller',\n",
              " 112: 'Morning, Jeff.',\n",
              " 113: 'Jeffrey Sprague',\n",
              " 114: 'Yeah. Two from me. Just thinking about the Healthcare exit in particular. Kind of, for lack of a better term, losing that cash flow near term seems like it would create some stress on the organization. Can you give us a sense of, what you foresee as kind of the timing of the exit? And then Larry, particularly interested also on, how you view exiting the remaining 50% stake. Do you see the potential for some kind of, equity-friendly exit with that piece the split-off for example, which you might shrink the share count of the remaining company?',\n",
              " 115: 'Larry Culp',\n",
              " 116: \"Well Steve, I'd like to think that everything that we do is shareholder-friendly, right? I mean, we take a strong view here and you know, from seeing me in other roles that we want to create long-term shareholder value with the cumulative effect of everything that we do. I think with respect to Healthcare what we can confirm today is that we're on the path toward an IPO here in 2019. Timing is still TBD. So we don't have a date. Like me on my senior prom. I just don't have a date for you today but I think in time, we'll have more clarity.\",\n",
              " 117: \"With respect to Baker Hughes, I mean we talked about that as part of that $50 billion pool of options to go to. I think that the high probability there is for us is to sell our shares. We certainly are approached by various folks, who have an interest in a stake in that company. And again, we don't have a timetable per se to share with you today but we want to reiterate our view to dispose of that stake in an orderly manner, which again we think is conducive to value creation for our shareholders.\",\n",
              " 118: 'Jeffrey Sprague',\n",
              " 119: \"Thanks. And just as a follow-up. I didn't have a prom date and I've been called worse than Steve but as unrelated follow-up, if we think about what you're going through in insurance right now, the comment about the statutory review. Is that to indicate Larry or Jamie that even if there is some adverse outcome as it relates to that statutory review, it would not affect your near-term funding needs and instead those would be tacked onto the tail, so to speak of what you're planning from reserve build?\",\n",
              " 120: 'Jamie Miller',\n",
              " 121: \"Well, Jeff what I was referring to there was that, it's really the statutory calculation not the GAAP that drives the statutory funding needs. We are right in the middle of that process. We continue to expect to contribute about $2 billion to the insurance entities in 2019. We'll conclude that process over the next three to four weeks. But at this point that is what we expect.\",\n",
              " 122: 'Larry Culp',\n",
              " 123: 'Sorry about that Jeff.',\n",
              " 124: 'Jeffrey Sprague',\n",
              " 125: 'Thanks.',\n",
              " 126: 'Operator',\n",
              " 127: 'From Barclays, we have Julian Mitchell.',\n",
              " 128: 'Julian Mitchell',\n",
              " 129: \"Morning. Maybe as the first question on Power. I understand, you're reticent to give too much forward-looking color but perhaps give us a sense of, if you look at the reported 2018 numbers EBIT loss of $800 million free cash of minus $2.7 billion. How would you look at the or characterize to us the underlying figures for both of those two items, if you strip out charges and projects execution overruns and so on? And maybe also on that point, if you could give any color as to the separation of gas and non-gas within Power? What sort of financial conditions that separation has uncovered in each of the two pieces?\",\n",
              " 130: 'Larry Culp',\n",
              " 131: \"Sure, sure. Let me do that and again this is very much a work in progress with a new team establishing new operating rhythms. But I would say that if we start on the service side of things, right? We've got a $62 billion backlog. We did take the charge in the fourth quarter $400 million on about a $3.7 billion contract asset book and we think that's appropriate just given what we see in the marketplace. I think we're encouraged though relative to the execution around pricing here. We have changed the way the folks in the field are compensated.\",\n",
              " 132: \"Transitioning them, if you will from volume to margin. But again, there's a good bit of productivity post Alstom that we still need to get from the combined organizations here and that work is incomplete. But that's part of that operating loss that you see here at year's end. We are clearly dealing with lower demand in equipment, encouraged by some of the share points in the US market here in the back half. But again, we want to make sure we focused on profitable share. There we took $350 million of charges around the project book and we know that we have a lot of execution here to improve just in the way these projects are brought online.\",\n",
              " 133: \"I think when you look at the vintages, we're encouraged by the progress that we see post the '16 underwriting class in terms of our margins on those projects. But that's very much a work in progress. I think with respect to the change in the structure of Power, again part of it is a cost reduction. We shared some of that in the prepared remarks but we also are getting better visibility on the underlying businesses P&L-by-P&L. So we talk about gas, we're combining services and equipment then we have the rest of our Power portfolio.\",\n",
              " 134: \"As Jamie mentioned, we now take on all the cost for grid now that we own all of it that doesn't help us at all. But now we've got better line of sight on the discreet P&L's grid, Steam, Power Conversion and Nuclear all four of those businesses have meaningful profit improvement potential and we're going to manage them from the bottoms up accordingly. So clearly, we're at a break even from our P&L perspective absence some other charges, a lot of work to do here and as we have better visibility and more conviction around those improvements, we'll be back and we'll be back here soon with respect to how that plays out in '19 and '20.\",\n",
              " 135: 'Jamie Miller',\n",
              " 136: \"The other color I would just add there on negative free cash flow is as volume comes down in the factories and as our projects continue to work their way through, you see volume leveling but we've been in a declining frame here. So what's really flowing through on cash in addition to some of the other items Larry mentioned is a burn down of our progress billings and a burn down of our project payables. Situations where we receive projects in advance of constructing new equipment or where we received progress on projects and now we're in the phase of the project, where the payables and the costs are starting to come through. So that's also pressuring the Power of free cash flow. And as that levels that also starts to level.\",\n",
              " 137: 'Julian Mitchell',\n",
              " 138: \"Thanks. And then my second question may be about a business, where there's better medium term visibility Aviation. You talked about the LEAP operating margin headwind last year. How do you see that moving in 2019 relative to that 160 bps? And then looking out beyond just this year anything on the horizon in terms of let's say 777X transition or NMA that you think could cause a major risk to the aviation free cash flow in margin profile?\",\n",
              " 139: 'Jamie Miller',\n",
              " 140: \"With respect to Aviation's merger and mix you saw strong fourth quarter and when we look at the remixing that's happening between CFM and LEAP significant increase in LEAP shipments in the quarter up 88% over the prior year. Year-over-year 2.4x up and you're seeing CFM come down meaningfully over those same periods. Next year, CFM will come down again about I'd say more than 50% of CFM deliveries will be reduced next year but the LEAP also ramps from the 1,118 we had this year up to 1,800-plus. So that remixing continues to occur. We mentioned on the call that it was a drag in 2018 of 160 basis points. We do expect continued some small drag next year but again Aviation's doing a really nice job offsetting that with services growth. They're shifting in military and the company-funded R&D.\",\n",
              " 141: 'Larry Culp',\n",
              " 142: \"We're clearly in conversations with our major airframe customers about new platforms. I think at this point, it would be premature to suggest that we're going to have a cash flow headwind a material cash flow headwind around any of those programs here in '19.\",\n",
              " 143: 'Operator',\n",
              " 144: 'From Melius Research, we have Scott Davis. Please go ahead.',\n",
              " 145: 'Scott Davis',\n",
              " 146: 'Hey. Good morning, guys.',\n",
              " 147: 'Larry Culp',\n",
              " 148: 'Good morning, Scott.',\n",
              " 149: 'Scott Davis',\n",
              " 150: \"And Larry I don't buy that you're going to have a prom date. That's nonsense. Even I had a prom date. I was bald at birth. All kidding aside, the one number you gave that was new, which was kind of eye-popping to me, it was just $1.6 billion Power headquarter number. Can you put some context around that? It seems just like such a insane number. But I don't know really what you're including in that I guess as far as talking about headquarter?\",\n",
              " 151: 'Larry Culp',\n",
              " 152: \"Well, there's -- it's a large number and again, I think we've got line of sight here in the near terms Scott to bring that down by about 300. And effectively, as you know, we've done a lot horizontally both at corporate and at the segment levels over time for the businesses. So it's not as if it's unhelpful or wasteful but there clearly is an adjustment we can take here as we move those activities into the businesses and I think over time as the businesses have true ownership for them that they are in their operating budgets as opposed to an allocation from corporate. They're likely to find opportunities for further savings. But we don't do it primarily for the cost reduction. I think we really do it to help drive visibility and accountability P&L-by-P&L. I think I've shared with some folks that early on in my tenure we would talk about Power as if it was one business. It's obviously a number of businesses. Some better than others, different issues here and there. I think we've got better visibility on those issues. It's not perfect today but as we get that visibility I think better position to take meaningful action to drive better results across that portfolio.\",\n",
              " 153: 'Scott Davis',\n",
              " 154: \"That make sense. And then the other thing is just not totally clear is, if the New World is 25 gigawatts to 30 gigawatts, which arguably a lot of people can say the New World is 25 or even a little lower but how do you get your capacity down anywhere close to that? I mean you've got big factories, lots of capital equipment, lot of pressure from governments and unions and everybody else. Is it realistic to be able to get that down in the next two years? it's something that's closer to 30?\",\n",
              " 155: 'Larry Culp',\n",
              " 156: \"Well, I think it is realistic, right? There are going to be a number of competing priorities and pressures but we took $1 billion of cost out last year. I think we are putting the -- we're putting up the parameters of a program to build on what we did last year. So Scott, we have to do this. We absolutely have to do this. I think we know, it's a multiyear effort but the challenge here around margins is not simply one of capacity. Right back to the earlier question around pricing. Productivity both in new equipment and in the field on services. It's a whole host of things that I think give us the optimism that we can drive better margin and cash performance in this business. But we have to prove that to you.\",\n",
              " 157: 'Operator',\n",
              " 158: 'And from Citi, we have Andrew Kaplowitz. Please go ahead.',\n",
              " 159: 'Andrew Kaplowitz',\n",
              " 160: \"Hey. Good morning, guys. Larry, one of the biggest issues I think that investors have had when GE is the concern that legacy liabilities will continue to surprise the company. The FIRREA agreement with the DOJ seems like a positive development in that regard, so does is the relatively small LTC adjustment. But at this point, do you feel reasonably confident that you've identified all the skeletons in the closet in a level of negative surprises are really going to start dropping moving forward?\",\n",
              " 161: 'Larry Culp',\n",
              " 162: \"I don't think I would ever say, even on my last day here that we have found all the skeletons, right? I don't tend to take absolute positions. But that said I think you're spot on. The news today around WMC is good both with respect to a resolution and the fact that we came in right where we were reserved. So we can begin to move that episode behind us. I think we're encouraged by the results that Jamie walked you through relative to the LRT.\",\n",
              " 163: \"But again, the cash requirements really come from the stat and not the GAAP test and that will still has a few more weeks to run. But in the absence of no new news again with a lot of fresh eyes and it's not my fresh eyes we've got a new GC, we've got a new controller new to GE in their first years. I think that is a positive sign that we aren't adding to the list. We're going to be as open and transparent as we possibly can, when we find things. And we're going to help you understand what we're doing to address them but I'm encouraged by what I see and what has not arisen here in nearly four months time.\",\n",
              " 164: 'Andrew Kaplowitz',\n",
              " 165: \"And Larry, you're pretty clear about having no plans to sell GECAS. It sounds quite definitive but obviously there's a lot of noise out there. So maybe I could step back and ask you how you weigh the urgency to get GE Capital debt down versus keeping the strong earnings stream in tact from GECAS that you have in the business?\",\n",
              " 166: 'Larry Culp',\n",
              " 167: \"Well, I think that we're -- we're frankly keen not to comment on every rumor on every innuendo that's out there. GECAS is one business that we get inbounds on with some frequency. But frankly. We get inbounds on everything but my desk. I think it speaks to the quality of the assets. Again, I think we can delever and bring that net debt down from $55 billion to something closer to $25 billion. We've got a number of options. We are mindful of the trades when we move assets out and the impact on our earnings and cash capability. But again, you elevate to the strategic level, I think we are clear. We need to delever and we're going to work the plan that we've outlined here today and that's really is I think as simple and as straightforward as it gets.\",\n",
              " 168: 'Operator',\n",
              " 169: 'From Bank of America Merrill Lynch, we have Andrew Obin. Please go ahead.',\n",
              " 170: 'Andrew Obin',\n",
              " 171: 'Hi, good morning. Just a question. You mentioned that you took $400 million of contract asset writedown in Power. And my understanding is that sort of culturally is a big deal. Shall we see more of these writedowns? How far along are we in the process of evaluating the book there?',\n",
              " 172: 'Jamie Miller',\n",
              " 173: 'We asked our new controller, when he started to take a clean look at everything across the company. And they -- as they went through their normal standards CSA reviewed this quarter did pay particular attention to higher risk contracts, just to make sure that we were thinking about them cleanly and the right way. What we talked about on the call, which was really comprised of three different buckets were the results of that review.',\n",
              " 174: \"So as we mentioned before, we had adjustments for utilization, some on pricing pressure and then just our standard cost updates. On the utilization side, when you look at the CSA book, utilization has been relatively flat and it's demonstrating actually a fairly healthy profile. And I think it just continues to support the base that gas continues to be an important source of energy generation. Now some geographies are impacted more by some of the renewables adoptions. And as you look at our book, our concentration of geographies isn't largely in those areas but we did see some true-ups that we took in places like California and Turkey just to make sure we were reflecting our best view on that.\",\n",
              " 175: \"On the pricing pressure, we are seeing that in some contracts. These are high margin long term contracts. And when we do go through renegotiation process on some of these, we are often able to offset that pricing with scope expansion and cost productivity. Having said that we wanted to make sure we had a realistic view of how we saw the portfolio, when we went through these reviews. We always do standard cost updating in our portfolio, that's just like you do in manufacturing. Those standard cost roll through this quarter as well. And part of that also reflected a small impact from the stage one blade issue but that's something that we had expected would happen, there as well.\",\n",
              " 176: 'Andrew Obin',\n",
              " 177: \"Got you. And just on GE Capital. How much incremental capital? You said $4 billion in '19 but how much incremental, do you need to put in 2020 to achieve your leverage targets? Thank you.\",\n",
              " 178: 'Jamie Miller',\n",
              " 179: \"Yeah. So Andrew at this point, we're talking about 2019, which is the $4 billion. And as we said as we get beyond 2019, we obviously understand. We will continue to put capital or expect to continue to put capital into the insurance subsidiaries. That will be funded through a combination of GE Capital earnings asset sales liquidity and GE parents support but at this point, we're not prepared to talk more fully about that.\",\n",
              " 180: 'Operator',\n",
              " 181: 'From Deutsche Bank, we have Nicole DeBlase. Please go ahead.',\n",
              " 182: 'Nicole DeBlase',\n",
              " 183: 'So, good morning. So I just want to start on Power kind of a two part question. You reduced headcount by 15%, you reduced footprint by 30%. I know that pricing is an important part of the equation of getting back to profitability here but I guess maybe what inning are you in with respect to what you need to do to get to the right level of capacity utilization? And then same topic different question. What exactly are you doing to improve Power execution since that keeps coming up as a driver of weaker profitability and when might we stop talking about that piece of the margin headwinds?',\n",
              " 184: 'Larry Culp',\n",
              " 185: \"Well, Nicole I would say, we are in the very early innings relative to the turnaround at Power. I don't know, how else to frame it. Again, a new team, a new structure, new operating rhythms. When we talk about execution, we talk about daily management. What I'm really referring to is making sure that every day the folks in the field, the folks in the factories, the folks in the labs understand what the key operating metrics are that they are responsible for that feed into better margins both at the growth in the operating level in this business. So that takes time because it's not just a reporting exercise, right? It's a management exercise and making sure they not understand not only how they're being measured but how to go about actually getting better price, how to go about actually driving better material productivity. Execution in the field as well. Not only around cost but frankly more importantly around quality making sure we get into outages quickly and we solve issues for customers the first time and when we're not going back. Those are the source of things. And it is a big organization. It's a global organization. This is going to take a little while. But I'm optimistic that we'll see it in our operating metrics over time and that will in turn translate into better performance. We'll clearly get some lift sooner from the absence of the adjustments that we made at the end of the year but what I'm really focused on and what I think investors are to be focused on, are those underlying operating improvements.\",\n",
              " 186: 'Nicole DeBlase',\n",
              " 187: \"Okay, got it. That's helpful. Thanks, Larry. And just a really quick one to tie up. Good progress on corporate expense reduction this quarter. Would you say that the corporate expense that we saw in 4Q is indicative of the run rate for 2019? Or are there items there that we need to consider?\",\n",
              " 188: 'Jamie Miller',\n",
              " 189: \"I'd say it's roughly indicative. I think it'll be down slightly from that. It was a little bit higher in the quarter due to some onetime expenses we had but it's close. Little bit down from that in 2019.\",\n",
              " 190: 'Operator',\n",
              " 191: 'From RBC Capital Markets, we have Deane Dray. Please go ahead.',\n",
              " 192: 'Deane Dray',\n",
              " 193: 'Thank you. Good morning, everyone.',\n",
              " 194: 'Larry Culp',\n",
              " 195: 'Hey, Dean. Good morning.',\n",
              " 196: 'Deane Dray',\n",
              " 197: \"I'd also like to add our welcome to Steve Winoker and wish him all the best.\",\n",
              " 198: 'Steve Winoker',\n",
              " 199: 'Thanks, Dean.',\n",
              " 200: 'Deane Dray',\n",
              " 201: \"Looks like I have to burn one of my questions, what's more of a housekeeping question Larry is in the third quarter earnings you talked about plans for an Analyst meeting in early 2019. Looks like, there's still a lot of more specifics that have to get filled in in terms of guidance and especially on the cash flow side. Maybe you're not ready yet to host that meeting. But just where does that stand and what would the timing be?\",\n",
              " 202: 'Larry Culp',\n",
              " 203: \"Well, Dean again, I think we're sharing today what we can in terms of not only the fourth quarter but the actions that are under way and how we see 2019 shaping up. We know we're not answering every question that folks might have on their minds today. But we're not going to answer any question without a grounding and a level of conviction that we expect of ourselves and I think folks like yourselves and investors expect of us as well but we are indicating that we'll be back soon with more particularly as we work through some of the issues, we've talked about not only in our prepared remarks but also here in Q&A with respect to Power.\",\n",
              " 204: 'Deane Dray',\n",
              " 205: \"Okay. And Larry, I appreciate how you started off the call with all the changes in terms of the management approach and the accountability and voice of the customer. I mean that's --that was all good color to hear upfront. And then my second question is on the insurance side. We've got good news, what I see is good news on the loss recognition certainly not a new surprise. How does that change? In the third quarter, there was lots of calls for how to ring fence the long term insurance risk and where that might be. Where does that stand today in terms of priorities?\",\n",
              " 206: 'Larry Culp',\n",
              " 207: \"Well, Dean, again I want to make sure everybody understands that the LRT results here are a positive data point. I think that the stat test is going to be more important and I think we don't expect any major surprises but we'll have those results to share with you in a few weeks. This is a long term liability right? And we have our commitments with respect to the permitted practice. We're in a position to fulfill those. We certainly get inbounds here as well from folks, who'd like to take this book off of our hands. But not necessarily in a structure and at a value that would make sense for the GE shareholder. So I suspect that as we enhance our disclosures, they'll be better understanding of what this is.\",\n",
              " 208: \"Certainly I suspect there will still be some debate. But I'm optimistic that the transparency will lead to better understanding and we can talk about this in a fact-based way. People can understand what that means. Is it with us forever? Or is there a way to ring fence it is to use your word again, I'm not going to rule anything out. But I think right now, what we're trying to do is to make sure that everyone understands, what it is and what our obligations are around the insurance book. So hopefully, some helpful disclosures in that regard today with more to come in the K once we're on the other side of the stat test.\",\n",
              " 209: 'Operator',\n",
              " 210: 'And from Gordon Haskett, we have John Inch. Please go ahead.',\n",
              " 211: 'John Inch',\n",
              " 212: 'Good morning, everybody. Good morning, Larry.',\n",
              " 213: 'Larry Culp',\n",
              " 214: 'Hey, John. Good morning.',\n",
              " 215: 'John Inch',\n",
              " 216: 'Hi, Steve.',\n",
              " 217: 'Steve Winoker',\n",
              " 218: 'Good morning, John.',\n",
              " 219: 'John Inch',\n",
              " 220: \"Good morning, Steve. Just on the capital guide. I may have missed this Jamie and Larry but what is capital guide for 2019? What are you expecting? And what kind of, are we expecting from say gains from the $10 billion of asset sales? So it's almost like, what's the guide ex the $10 billion on earnings? And also Jamie, what was Healthcare's free cash flow in 2018?\",\n",
              " 221: 'Jamie Miller',\n",
              " 222: \"Well, with respect to GE Capital's 2019 as Larry mentioned, we're not offering 2019 guidance today. So that's something that we will be sharing with you in the near term but not today. And with respect to Healthcare's free cash flow, I think it's well understood that that is a strong cash flow business. It's a flow business unlike some of our long cycle and I think there's been a lot of valuation maps that's been out there. So while we're not disclosing Healthcare's free cash flow, I think you can probably come to a pretty reasonable conclusion there about what that is.\",\n",
              " 223: 'John Inch',\n",
              " 224: \"Okay. I think we were targeting break even in capital this year and we ended up losing money. I'm just wondering, what is -- what actually changed in the mix from Jamie, when you originally thought would be break even to the loss? And also in your cash walk on the fourth quarter cash walk, the Baker Hughes free cash flow is a positive $800 million. It looks like Baker actually generated positive free cash flow in the fourth quarter. So why would that be a positive? Why isn't that a negative drawing it out, it's just a technical question, I guess.\",\n",
              " 225: 'Jamie Miller',\n",
              " 226: \"Well, first on GE Capital. We had the LRT results in the fourth quarter so that was $65 million. We actually had tax benefits of less than we expected as well. That impacted us by about $240 million. And then we had some other marks in the portfolio in the second half. So that was really the large difference between what we had expected and where we ended up. And then with respect to Baker Hughes. We are backing out free cash flow. So that might be a labeling issue on the slide there. It's less Baker Hughes free cash flow. If you back it out and you have the dividend.\",\n",
              " 227: 'Operator',\n",
              " 228: 'And from Goldman Sachs, we have Joe Ritchie. Please go ahead.',\n",
              " 229: 'Joe Ritchie',\n",
              " 230: 'Thanks. Good morning.',\n",
              " 231: 'Larry Culp',\n",
              " 232: 'Hey, Joe. Good morning.',\n",
              " 233: 'Jamie Miller',\n",
              " 234: 'Good morning, Joe.',\n",
              " 235: 'Joe Ritchie',\n",
              " 236: \"Good morning, guys. And so just I know, you're a little reluctant to answer much on the 2019 guide. But I could just may be ask on just Power free cash flow, the $2.7 billion burn this year. Do you expect '19 to be better than 2018 from a Power free cash flow perspective?\",\n",
              " 237: 'Larry Culp',\n",
              " 238: \"I think we're at a place, where we're sharing with you today everything that we know, everything we can commit to. And again, we'll be back with more detail particularly with respect to Power and cash soon. But we're just, we're not in a position where we're able to do that. But clearly, again, hopefully the color around the $2.7 billion that we burned last year is helpful. With respect to framing the magnitude of the task and the challenge, when we understand and are serious about addressing.\",\n",
              " 239: 'Joe Ritchie',\n",
              " 240: 'Getting the disclosure on the $2.7 billion definitely helpful and will hopefully get some more color on the path in the near term. But I guess, if I can maybe focus then on just the onetime issues that occurred in the second half of 2018. Specifically, around the blade issue. Is it fair to say that those issues are at least behind you? And how should we think about what the call it roughly, it sounds like it was like roughly $700 million or so in quantifiable charges there. What does that relate to? Does that relate to all orders that you received so far in each turbine. Just any color on that would be helpful?',\n",
              " 241: 'Larry Culp',\n",
              " 242: \"Yes. Well the -- when we talk about the cost for the blade issue, it's really a function of going out and effectively replacing these blades sooner than we were anticipating, right? Because the useful life is effectively shorter than we had anticipated unfortunately. But we think we understand that. That work is under way with respect to the installed base. And again, I think it's regrettable. I think our customers when you talk to them understand, what's happened how we're going about remediating the issue in the field and I'd like to think that that is not something, we're going to continue to site with respect to the margin pressure in the business here in '19.\",\n",
              " 243: 'Jamie Miller',\n",
              " 244: 'Yeah. And just walking back from third quarter and maybe updating today. So third quarter, we had $240 million of warranty and other accruals related to the stage one blade. We also mentioned that that we expected to experience a similar amount of that over time as the worked outperformed in our services book. So part of what I mentioned earlier on those charges includes that stage one blade issue started to come through the services updates.',\n",
              " 245: 'Larry Culp',\n",
              " 246: 'But there are host of elements of that',\n",
              " 247: 'Jamie Miller',\n",
              " 248: 'Absolutely.',\n",
              " 249: 'Larry Culp',\n",
              " 250: 'That update not just the very.',\n",
              " 251: 'Jamie Miller',\n",
              " 252: \"Yeah. It's a very small issue in the quarter. But it's just part of that that bleed off as we do the work.\",\n",
              " 253: 'Larry Culp',\n",
              " 254: 'Thanks, Joe.',\n",
              " 255: 'And our final question from Cowen and Company, we have Gautam Khanna. Please go ahead.',\n",
              " 256: 'Gautam Khanna',\n",
              " 257: 'Yes. Thank you. Good morning, guys.',\n",
              " 258: 'Larry Culp',\n",
              " 259: 'Good morning.',\n",
              " 260: 'Gautam Khanna',\n",
              " 261: \"Two questions. First, I was wondering, if you have any changes being contemplated to the incentive comp triggers for senior management as we approach the whole proxy time frame? Any changes to the PSU triggers that you're thinking about now?\",\n",
              " 262: 'Larry Culp',\n",
              " 263: 'Nothing that we can reference this morning.',\n",
              " 264: 'Gautam Khanna',\n",
              " 265: 'Okay. And I was wondering, if you could talk about when you expect pricing to bottom and the transactional Power aftermarket? Or if it has already in your opinion? And how will that pricing now compares to maybe where it was a year ago?',\n",
              " 266: 'Jamie Miller',\n",
              " 267: \"I think that's a question that depends on geography and it depends on the scope and the kinds of work, we're really looking to do with our customers. Over the last year, as we've talked about before as Scott has come in. He has really refocused our transactional group, to focus more on in some cases less scope but higher margin work as we do it. You know, it's a competitive market but even having said that that as we have our orders come in, we're seeing order CM or margin rate up in some cases 10, 12, 15 points on our order book and it's been consistently increasing throughout the year.\",\n",
              " 268: \"Now as Larry mentioned earlier on the call, we're not yet seeing all of that drop through primarily because of field execution issues and operational issues. But these are things that we believe are fixable. And over time as we really seek to increase our share in that book, it really capture the kind of work that we want to capture the higher margin work, the operational execution piece of that we think should flow through. But with the respect to the margin pressure generally, I should say pricing pressure, these are very competitive markets that have a lot of capacity. So I think that dynamic will continue as we go through the next couple of years and until the market levels out and until we see the capacity leveling out as well.\",\n",
              " 269: 'Steve Winoker',\n",
              " 270: \"I know, we ran out of time before we could get to everyone in the queue. So you can reach me and my team through the day. But I want to thank everybody for joining us. The replay of today's call will be available this afternoon on our Investor website. Thank you.\",\n",
              " 271: 'Operator',\n",
              " 272: \"Thank you. Ladies and gentlemen, this concludes today's conference. Thank you for joining. You may now disconnect.\"}"
            ]
          },
          "metadata": {
            "tags": []
          },
          "execution_count": 36
        }
      ]
    },
    {
      "metadata": {
        "id": "Q2O7wqETUrSP",
        "colab_type": "code",
        "colab": {}
      },
      "cell_type": "code",
      "source": [
        "## Dict to json\n",
        "with open('GEJsonPart1.txt', 'w') as outfile:  \n",
        "    json.dump(JsonDict, outfile)\n"
      ],
      "execution_count": 0,
      "outputs": []
    },
    {
      "metadata": {
        "id": "t6oFFxul64sr",
        "colab_type": "code",
        "colab": {}
      },
      "cell_type": "code",
      "source": [
        "with open(\"JGEPart1.txt\", \"w\") as outfile:\n",
        "    json.dump(JsonDict, outfile, indent=4)"
      ],
      "execution_count": 0,
      "outputs": []
    },
    {
      "metadata": {
        "id": "8nwoUv7hU3NI",
        "colab_type": "code",
        "colab": {}
      },
      "cell_type": "code",
      "source": [
        "files.download(\"JGEPart1.txt\")"
      ],
      "execution_count": 0,
      "outputs": []
    },
    {
      "metadata": {
        "id": "NpA_9x58U5NX",
        "colab_type": "code",
        "colab": {}
      },
      "cell_type": "code",
      "source": [
        "files.download(\"JPart1.txt\")"
      ],
      "execution_count": 0,
      "outputs": []
    },
    {
      "metadata": {
        "id": "ZmpHykwr7H9S",
        "colab_type": "code",
        "colab": {}
      },
      "cell_type": "code",
      "source": [
        "with open(\"Part1-GE.json\", \"w\") as outfile:\n",
        "    json.dump(JsonDict, outfile, indent=4)"
      ],
      "execution_count": 0,
      "outputs": []
    },
    {
      "metadata": {
        "id": "GtQvd6Q87u4Z",
        "colab_type": "code",
        "colab": {}
      },
      "cell_type": "code",
      "source": [
        "files.download(\"Part1-GE.json\")"
      ],
      "execution_count": 0,
      "outputs": []
    },
    {
      "metadata": {
        "id": "JmYDQoqc8RXX",
        "colab_type": "code",
        "colab": {}
      },
      "cell_type": "code",
      "source": [
        "nlist = JsonDict[29:]"
      ],
      "execution_count": 0,
      "outputs": []
    },
    {
      "metadata": {
        "id": "VEL2yS9I9GX4",
        "colab_type": "code",
        "colab": {}
      },
      "cell_type": "code",
      "source": [
        "type(JsonDict)"
      ],
      "execution_count": 0,
      "outputs": []
    },
    {
      "metadata": {
        "id": "oBS9mynK9Jf7",
        "colab_type": "code",
        "colab": {}
      },
      "cell_type": "code",
      "source": [
        "JsonDict"
      ],
      "execution_count": 0,
      "outputs": []
    },
    {
      "metadata": {
        "id": "pT-zBq927w0h",
        "colab_type": "code",
        "colab": {}
      },
      "cell_type": "code",
      "source": [
        "dictEditted = JsonDict"
      ],
      "execution_count": 0,
      "outputs": []
    }
  ]
}