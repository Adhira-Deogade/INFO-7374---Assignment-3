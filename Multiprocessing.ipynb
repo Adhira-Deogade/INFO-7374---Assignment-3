{
  "nbformat": 4,
  "nbformat_minor": 0,
  "metadata": {
    "colab": {
      "name": "Multiprocessing.ipynb",
      "version": "0.3.2",
      "provenance": [],
      "include_colab_link": true
    },
    "kernelspec": {
      "name": "python3",
      "display_name": "Python 3"
    },
    "accelerator": "GPU"
  },
  "cells": [
    {
      "cell_type": "markdown",
      "metadata": {
        "id": "view-in-github",
        "colab_type": "text"
      },
      "source": [
        "<a href=\"https://colab.research.google.com/github/Adhira-Deogade/INFO-7374---Assignment-3/blob/master/Multiprocessing.ipynb\" target=\"_parent\"><img src=\"https://colab.research.google.com/assets/colab-badge.svg\" alt=\"Open In Colab\"/></a>"
      ]
    },
    {
      "metadata": {
        "id": "V9HWRjRS20ic",
        "colab_type": "code",
        "colab": {
          "base_uri": "https://localhost:8080/",
          "height": 34
        },
        "outputId": "e74fb482-b008-4166-fdaa-b518de49c6df"
      },
      "cell_type": "code",
      "source": [
        "import multiprocessing as mp\n",
        "print(\"Number of processors: \", mp.cpu_count())"
      ],
      "execution_count": 1,
      "outputs": [
        {
          "output_type": "stream",
          "text": [
            "Number of processors:  2\n"
          ],
          "name": "stdout"
        }
      ]
    },
    {
      "metadata": {
        "id": "mWEVX_ASv7Uw",
        "colab_type": "code",
        "colab": {
          "base_uri": "https://localhost:8080/",
          "height": 102
        },
        "outputId": "4a7e724b-d716-49d7-97f2-c204055711ad"
      },
      "cell_type": "code",
      "source": [
        "import numpy as np\n",
        "from time import time\n",
        "\n",
        "# Prepare data\n",
        "np.random.RandomState(100)\n",
        "arr = np.random.randint(0, 10, size=[200000, 5])\n",
        "data = arr.tolist()\n",
        "data[:5]\n"
      ],
      "execution_count": 2,
      "outputs": [
        {
          "output_type": "execute_result",
          "data": {
            "text/plain": [
              "[[4, 4, 2, 4, 5],\n",
              " [8, 0, 5, 7, 7],\n",
              " [2, 5, 7, 2, 4],\n",
              " [9, 0, 7, 8, 9],\n",
              " [3, 7, 8, 8, 8]]"
            ]
          },
          "metadata": {
            "tags": []
          },
          "execution_count": 2
        }
      ]
    },
    {
      "metadata": {
        "id": "lGEmAphpwjK2",
        "colab_type": "code",
        "colab": {
          "base_uri": "https://localhost:8080/",
          "height": 34
        },
        "outputId": "6665748c-86e6-43d9-e2e2-de30ea9f7eb2"
      },
      "cell_type": "code",
      "source": [
        "# Solution Without Paralleization\n",
        "\n",
        "def howmany_within_range(row, minimum, maximum):\n",
        "    \"\"\"Returns how many numbers lie within `maximum` and `minimum` in a given `row`\"\"\"\n",
        "    count = 0\n",
        "    for n in row:\n",
        "        if minimum <= n <= maximum:\n",
        "            count = count + 1\n",
        "    return count\n",
        "\n",
        "results = []\n",
        "for row in data:\n",
        "    results.append(howmany_within_range(row, minimum=4, maximum=8))\n",
        "\n",
        "print(results[:10])"
      ],
      "execution_count": 3,
      "outputs": [
        {
          "output_type": "stream",
          "text": [
            "[4, 4, 3, 2, 4, 4, 5, 2, 5, 1]\n"
          ],
          "name": "stdout"
        }
      ]
    },
    {
      "metadata": {
        "id": "QTbZo9UtxIaO",
        "colab_type": "code",
        "colab": {}
      },
      "cell_type": "code",
      "source": [
        "# import multiprocessing as mp\n",
        "\n",
        "# Step 1: Init multiprocessing.Pool()\n",
        "pool = mp.Pool(mp.cpu_count())\n",
        "\n",
        "# Step 2: `pool.apply` the `howmany_within_range()`\n",
        "results = [pool.apply(howmany_within_range, args=(row, 4, 8)) for row in data]\n",
        "\n",
        "# Step 3: Don't forget to close\n",
        "pool.close()    \n",
        "\n",
        "# print(results[:10])"
      ],
      "execution_count": 0,
      "outputs": []
    },
    {
      "metadata": {
        "id": "0nDY_fW0x8e8",
        "colab_type": "code",
        "colab": {
          "base_uri": "https://localhost:8080/",
          "height": 34
        },
        "outputId": "8b6972fd-5368-4db8-9cd8-2b765fd0d4fb"
      },
      "cell_type": "code",
      "source": [
        "print(results[:10])"
      ],
      "execution_count": 5,
      "outputs": [
        {
          "output_type": "stream",
          "text": [
            "[4, 4, 3, 2, 4, 4, 5, 2, 5, 1]\n"
          ],
          "name": "stdout"
        }
      ]
    },
    {
      "metadata": {
        "id": "_cX8hTTyyeaz",
        "colab_type": "code",
        "colab": {
          "base_uri": "https://localhost:8080/",
          "height": 34
        },
        "outputId": "a6e0f922-c8a6-4077-c885-2b695d6db8d4"
      },
      "cell_type": "code",
      "source": [
        "# Redefine, with only 1 mandatory argument.\n",
        "def howmany_within_range_rowonly(row, minimum=4, maximum=8):\n",
        "    count = 0\n",
        "    for n in row:\n",
        "        if minimum <= n <= maximum:\n",
        "            count = count + 1\n",
        "    return count\n",
        "\n",
        "pool = mp.Pool(mp.cpu_count())\n",
        "\n",
        "results = pool.map(howmany_within_range_rowonly, [row for row in data])\n",
        "\n",
        "pool.close()\n",
        "\n",
        "print(results[:10])"
      ],
      "execution_count": 6,
      "outputs": [
        {
          "output_type": "stream",
          "text": [
            "[4, 4, 3, 2, 4, 4, 5, 2, 5, 1]\n"
          ],
          "name": "stdout"
        }
      ]
    },
    {
      "metadata": {
        "id": "-AUgv35TytQj",
        "colab_type": "code",
        "colab": {}
      },
      "cell_type": "code",
      "source": [
        ""
      ],
      "execution_count": 0,
      "outputs": []
    }
  ]
}